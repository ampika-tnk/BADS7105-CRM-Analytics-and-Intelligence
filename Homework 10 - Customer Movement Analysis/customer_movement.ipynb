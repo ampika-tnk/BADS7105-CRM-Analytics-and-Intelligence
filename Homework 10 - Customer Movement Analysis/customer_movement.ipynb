{
  "nbformat": 4,
  "nbformat_minor": 0,
  "metadata": {
    "colab": {
      "name": "customer_movement.ipynb",
      "provenance": [],
      "collapsed_sections": []
    },
    "kernelspec": {
      "name": "python3",
      "display_name": "Python 3"
    },
    "language_info": {
      "name": "python"
    }
  },
  "cells": [
    {
      "cell_type": "markdown",
      "metadata": {
        "id": "PR3WLBKFPKk-"
      },
      "source": [
        "# **Customer Movement**\n",
        "\n",
        "Ampika Thanakaew ID: 6210422049"
      ]
    },
    {
      "cell_type": "code",
      "metadata": {
        "id": "PdK3azC5LJOY"
      },
      "source": [
        "import pandas as pd\n",
        "import matplotlib.pyplot as plt"
      ],
      "execution_count": 1,
      "outputs": []
    },
    {
      "cell_type": "code",
      "metadata": {
        "colab": {
          "base_uri": "https://localhost:8080/"
        },
        "id": "qpdvX9ZjPuSJ",
        "outputId": "03cf409a-94a7-4a79-9302-9064743762f3"
      },
      "source": [
        "%cd '/content/drive/MyDrive/BADS 7105 CRM/Customer_Movement/'\n",
        "%ls"
      ],
      "execution_count": 28,
      "outputs": [
        {
          "output_type": "stream",
          "text": [
            "/content/drive/MyDrive/BADS 7105 CRM/Customer_Movement\n",
            "customer_data.csv\n"
          ],
          "name": "stdout"
        }
      ]
    },
    {
      "cell_type": "code",
      "metadata": {
        "colab": {
          "base_uri": "https://localhost:8080/",
          "height": 204
        },
        "id": "v87ByEiYP1BD",
        "outputId": "c8a75466-bca7-4891-ce05-1857ab3426cc"
      },
      "source": [
        "df = pd.read_csv('customer_data.csv')\n",
        "df.head()"
      ],
      "execution_count": 29,
      "outputs": [
        {
          "output_type": "execute_result",
          "data": {
            "text/html": [
              "<div>\n",
              "<style scoped>\n",
              "    .dataframe tbody tr th:only-of-type {\n",
              "        vertical-align: middle;\n",
              "    }\n",
              "\n",
              "    .dataframe tbody tr th {\n",
              "        vertical-align: top;\n",
              "    }\n",
              "\n",
              "    .dataframe thead th {\n",
              "        text-align: right;\n",
              "    }\n",
              "</style>\n",
              "<table border=\"1\" class=\"dataframe\">\n",
              "  <thead>\n",
              "    <tr style=\"text-align: right;\">\n",
              "      <th></th>\n",
              "      <th>Current_Period</th>\n",
              "      <th>New_Customer</th>\n",
              "      <th>Repeat_Customer</th>\n",
              "      <th>Reactivate_Customer</th>\n",
              "      <th>Churn_Customer</th>\n",
              "    </tr>\n",
              "  </thead>\n",
              "  <tbody>\n",
              "    <tr>\n",
              "      <th>0</th>\n",
              "      <td>200604</td>\n",
              "      <td>1003</td>\n",
              "      <td>0</td>\n",
              "      <td>0</td>\n",
              "      <td>NaN</td>\n",
              "    </tr>\n",
              "    <tr>\n",
              "      <th>1</th>\n",
              "      <td>200605</td>\n",
              "      <td>544</td>\n",
              "      <td>675</td>\n",
              "      <td>0</td>\n",
              "      <td>-328.0</td>\n",
              "    </tr>\n",
              "    <tr>\n",
              "      <th>2</th>\n",
              "      <td>200606</td>\n",
              "      <td>382</td>\n",
              "      <td>787</td>\n",
              "      <td>82</td>\n",
              "      <td>-432.0</td>\n",
              "    </tr>\n",
              "    <tr>\n",
              "      <th>3</th>\n",
              "      <td>200607</td>\n",
              "      <td>385</td>\n",
              "      <td>843</td>\n",
              "      <td>181</td>\n",
              "      <td>-408.0</td>\n",
              "    </tr>\n",
              "    <tr>\n",
              "      <th>4</th>\n",
              "      <td>200608</td>\n",
              "      <td>366</td>\n",
              "      <td>887</td>\n",
              "      <td>197</td>\n",
              "      <td>-522.0</td>\n",
              "    </tr>\n",
              "  </tbody>\n",
              "</table>\n",
              "</div>"
            ],
            "text/plain": [
              "   Current_Period  New_Customer  ...  Reactivate_Customer  Churn_Customer\n",
              "0          200604          1003  ...                    0             NaN\n",
              "1          200605           544  ...                    0          -328.0\n",
              "2          200606           382  ...                   82          -432.0\n",
              "3          200607           385  ...                  181          -408.0\n",
              "4          200608           366  ...                  197          -522.0\n",
              "\n",
              "[5 rows x 5 columns]"
            ]
          },
          "metadata": {
            "tags": []
          },
          "execution_count": 29
        }
      ]
    },
    {
      "cell_type": "code",
      "metadata": {
        "colab": {
          "base_uri": "https://localhost:8080/",
          "height": 529
        },
        "id": "8O4VFK4LQVko",
        "outputId": "7abc7d1d-b70d-4418-b8be-685845401bb9"
      },
      "source": [
        "fig, ax = plt.subplots(1, figsize=(16, 8))\n",
        "plt.bar(df.index, df['New_Customer'], bottom=[i+j for i,j in zip(df['Reactivate_Customer'], df['Repeat_Customer'])], color = '#008080', width =0.5)\n",
        "plt.bar(df.index, df['Reactivate_Customer'], bottom=df['Repeat_Customer'], color = '#06C2AC', width =0.5)\n",
        "plt.bar(df.index, df['Repeat_Customer'], color = '#ADD8E6', width =0.5)    \n",
        "plt.bar(df.index, df['Churn_Customer'], color = '#FC5A50', width =0.5)\n",
        "\n",
        "# x and y limits\n",
        "plt.ylim(-1300, 1800)\n",
        "\n",
        "# remove spines\n",
        "ax.spines['right'].set_visible(False)\n",
        "ax.spines['left'].set_visible(False)\n",
        "ax.spines['top'].set_visible(False)\n",
        "ax.spines['bottom'].set_visible(False)\n",
        "\n",
        "#grid\n",
        "ax.set_axisbelow(True)\n",
        "ax.yaxis.grid(color='gray', linestyle='dashed', alpha=0.7)\n",
        "\n",
        "# x ticks\n",
        "xticks_labels = df['Current_Period'].tolist()\n",
        "plt.xticks(df.index, labels = xticks_labels, rotation=75)\n",
        "\n",
        "# title and legend\n",
        "legend_label = ['New_Customer', 'Reactivate_Customer', 'Repeat_Customer', 'Churn_Customer']\n",
        "plt.legend(legend_label, bbox_to_anchor=([1, 1.05, 0, 0]), frameon = False)\n",
        "plt.show()"
      ],
      "execution_count": 30,
      "outputs": [
        {
          "output_type": "display_data",
          "data": {
            "image/png": "[encoded data removed]",
            "text/plain": [
              "<Figure size 1152x576 with 1 Axes>"
            ]
          },
          "metadata": {
            "tags": [],
            "needs_background": "light"
          }
        }
      ]
    }
  ]
}