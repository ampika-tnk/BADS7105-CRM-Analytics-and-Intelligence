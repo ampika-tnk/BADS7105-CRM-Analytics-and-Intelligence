{
  "nbformat": 4,
  "nbformat_minor": 0,
  "metadata": {
    "colab": {
      "name": "voice_of_customer.ipynb",
      "provenance": [],
      "collapsed_sections": []
    },
    "kernelspec": {
      "name": "python3",
      "display_name": "Python 3"
    },
    "language_info": {
      "name": "python"
    }
  },
  "cells": [
    {
      "cell_type": "markdown",
      "metadata": {
        "id": "Vo_Erj0WgtSt"
      },
      "source": [
        "# **Voice of Customer**\n",
        "\n",
        "Ampika Thanakaew ID: 6210422049"
      ]
    },
    {
      "cell_type": "markdown",
      "metadata": {
        "id": "wTTofbCWg399"
      },
      "source": [
        "## **Initialize**"
      ]
    },
    {
      "cell_type": "code",
      "metadata": {
        "colab": {
          "base_uri": "https://localhost:8080/"
        },
        "id": "yQlPZNZyeKBk",
        "outputId": "cfb52ca8-d4bd-4e7a-c20e-0bb02b403953"
      },
      "source": [
        "# !pip install mlxtend\n",
        "!pip install --upgrade pythainlp\n",
        "!pip install pyLDAvis"
      ],
      "execution_count": 1,
      "outputs": [
        {
          "output_type": "stream",
          "text": [
            "Requirement already satisfied: pythainlp in /usr/local/lib/python3.7/dist-packages (2.3.1)\n",
            "Requirement already satisfied: python-crfsuite>=0.9.6 in /usr/local/lib/python3.7/dist-packages (from pythainlp) (0.9.7)\n",
            "Requirement already satisfied: requests>=2.22.0 in /usr/local/lib/python3.7/dist-packages (from pythainlp) (2.23.0)\n",
            "Requirement already satisfied: tinydb>=3.0 in /usr/local/lib/python3.7/dist-packages (from pythainlp) (4.5.1)\n",
            "Requirement already satisfied: idna<3,>=2.5 in /usr/local/lib/python3.7/dist-packages (from requests>=2.22.0->pythainlp) (2.10)\n",
            "Requirement already satisfied: urllib3!=1.25.0,!=1.25.1,<1.26,>=1.21.1 in /usr/local/lib/python3.7/dist-packages (from requests>=2.22.0->pythainlp) (1.24.3)\n",
            "Requirement already satisfied: certifi>=2017.4.17 in /usr/local/lib/python3.7/dist-packages (from requests>=2.22.0->pythainlp) (2021.5.30)\n",
            "Requirement already satisfied: chardet<4,>=3.0.2 in /usr/local/lib/python3.7/dist-packages (from requests>=2.22.0->pythainlp) (3.0.4)\n",
            "Requirement already satisfied: typing-extensions<4.0.0,>=3.10.0 in /usr/local/lib/python3.7/dist-packages (from tinydb>=3.0->pythainlp) (3.10.0.0)\n",
            "Requirement already satisfied: pyLDAvis in /usr/local/lib/python3.7/dist-packages (3.3.1)\n",
            "Requirement already satisfied: setuptools in /usr/local/lib/python3.7/dist-packages (from pyLDAvis) (57.2.0)\n",
            "Requirement already satisfied: pandas>=1.2.0 in /usr/local/lib/python3.7/dist-packages (from pyLDAvis) (1.3.0)\n",
            "Requirement already satisfied: joblib in /usr/local/lib/python3.7/dist-packages (from pyLDAvis) (1.0.1)\n",
            "Requirement already satisfied: sklearn in /usr/local/lib/python3.7/dist-packages (from pyLDAvis) (0.0)\n",
            "Requirement already satisfied: scipy in /usr/local/lib/python3.7/dist-packages (from pyLDAvis) (1.4.1)\n",
            "Requirement already satisfied: jinja2 in /usr/local/lib/python3.7/dist-packages (from pyLDAvis) (2.11.3)\n",
            "Requirement already satisfied: future in /usr/local/lib/python3.7/dist-packages (from pyLDAvis) (0.16.0)\n",
            "Requirement already satisfied: funcy in /usr/local/lib/python3.7/dist-packages (from pyLDAvis) (1.16)\n",
            "Requirement already satisfied: numexpr in /usr/local/lib/python3.7/dist-packages (from pyLDAvis) (2.7.3)\n",
            "Requirement already satisfied: scikit-learn in /usr/local/lib/python3.7/dist-packages (from pyLDAvis) (0.22.2.post1)\n",
            "Requirement already satisfied: gensim in /usr/local/lib/python3.7/dist-packages (from pyLDAvis) (3.6.0)\n",
            "Requirement already satisfied: numpy>=1.20.0 in /usr/local/lib/python3.7/dist-packages (from pyLDAvis) (1.21.1)\n",
            "Requirement already satisfied: pytz>=2017.3 in /usr/local/lib/python3.7/dist-packages (from pandas>=1.2.0->pyLDAvis) (2018.9)\n",
            "Requirement already satisfied: python-dateutil>=2.7.3 in /usr/local/lib/python3.7/dist-packages (from pandas>=1.2.0->pyLDAvis) (2.8.1)\n",
            "Requirement already satisfied: six>=1.5 in /usr/local/lib/python3.7/dist-packages (from python-dateutil>=2.7.3->pandas>=1.2.0->pyLDAvis) (1.15.0)\n",
            "Requirement already satisfied: smart-open>=1.2.1 in /usr/local/lib/python3.7/dist-packages (from gensim->pyLDAvis) (5.1.0)\n",
            "Requirement already satisfied: MarkupSafe>=0.23 in /usr/local/lib/python3.7/dist-packages (from jinja2->pyLDAvis) (2.0.1)\n"
          ],
          "name": "stdout"
        }
      ]
    },
    {
      "cell_type": "code",
      "metadata": {
        "id": "NpKkhvd5ce_5"
      },
      "source": [
        "import pandas as pd\n",
        "import numpy as np\n",
        "import re\n",
        "import gensim\n",
        "import pythainlp\n",
        "from pythainlp.tokenize import sent_tokenize, word_tokenize\n",
        "import pyLDAvis.gensim_models\n",
        "pyLDAvis.enable_notebook()\n",
        "import warnings\n",
        "warnings.filterwarnings(\"ignore\", category=DeprecationWarning) \n",
        "warnings.filterwarnings(\"ignore\", category=FutureWarning) "
      ],
      "execution_count": 4,
      "outputs": []
    },
    {
      "cell_type": "code",
      "metadata": {
        "colab": {
          "base_uri": "https://localhost:8080/"
        },
        "id": "CvKtlXJqd93U",
        "outputId": "20175b69-6467-4d42-dbdb-218179f7612b"
      },
      "source": [
        "%cd '/content/drive/MyDrive/BADS 7105 CRM/Voice of Customer/'\n",
        "%ls"
      ],
      "execution_count": 6,
      "outputs": [
        {
          "output_type": "stream",
          "text": [
            "/content/drive/MyDrive/BADS 7105 CRM/Voice of Customer\n",
            "CustomerReviews.csv\n"
          ],
          "name": "stdout"
        }
      ]
    },
    {
      "cell_type": "code",
      "metadata": {
        "id": "5tA8nUbCeBzz"
      },
      "source": [
        "import matplotlib as mpl\n",
        "mpl.font_manager.fontManager.addfont('/content/drive/MyDrive/BADS 7105 CRM/font/Cordia New Bold.ttf')\n",
        "mpl.rc('font', family='Cordia New', size=12, weight=200)"
      ],
      "execution_count": 7,
      "outputs": []
    },
    {
      "cell_type": "markdown",
      "metadata": {
        "id": "INL2kJSgg91M"
      },
      "source": [
        "**Load Data**"
      ]
    },
    {
      "cell_type": "code",
      "metadata": {
        "colab": {
          "base_uri": "https://localhost:8080/",
          "height": 204
        },
        "id": "6NAna_7zeDY7",
        "outputId": "a44db75d-eeb3-449d-ad9c-8c547589e969"
      },
      "source": [
        "df = pd.read_csv('CustomerReviews.csv')\n",
        "df.head()"
      ],
      "execution_count": 30,
      "outputs": [
        {
          "output_type": "execute_result",
          "data": {
            "text/html": [
              "<div>\n",
              "<style scoped>\n",
              "    .dataframe tbody tr th:only-of-type {\n",
              "        vertical-align: middle;\n",
              "    }\n",
              "\n",
              "    .dataframe tbody tr th {\n",
              "        vertical-align: top;\n",
              "    }\n",
              "\n",
              "    .dataframe thead th {\n",
              "        text-align: right;\n",
              "    }\n",
              "</style>\n",
              "<table border=\"1\" class=\"dataframe\">\n",
              "  <thead>\n",
              "    <tr style=\"text-align: right;\">\n",
              "      <th></th>\n",
              "      <th>Review ID</th>\n",
              "      <th>Restaurant_ID</th>\n",
              "      <th>Restaurant</th>\n",
              "      <th>User</th>\n",
              "      <th>Headline</th>\n",
              "      <th>Review</th>\n",
              "      <th>Rating</th>\n",
              "    </tr>\n",
              "  </thead>\n",
              "  <tbody>\n",
              "    <tr>\n",
              "      <th>0</th>\n",
              "      <td>1</td>\n",
              "      <td>352696Px-mo-mo-paradise-เดอะมอลล์-บางกะปิ</td>\n",
              "      <td>Mo-Mo-Paradise (โม โม พาราไดซ์) เดอะมอลล์ บางกะปิ</td>\n",
              "      <td>7b16469831074f7abc7824745ee75212</td>\n",
              "      <td>ที่สำคัญของร้านนี้คือบริการดีมากพนักงานน่ารักส...</td>\n",
              "      <td>ที่สำคัญของร้านนี้คือบริการดีมากพนักงานน่ารักส...</td>\n",
              "      <td>5.0</td>\n",
              "    </tr>\n",
              "    <tr>\n",
              "      <th>1</th>\n",
              "      <td>2</td>\n",
              "      <td>352696Px-mo-mo-paradise-เดอะมอลล์-บางกะปิ</td>\n",
              "      <td>Mo-Mo-Paradise (โม โม พาราไดซ์) เดอะมอลล์ บางกะปิ</td>\n",
              "      <td>pakkaramonpondej</td>\n",
              "      <td>รสชาติเหมือนทุกสาขา แต่สาขานี้ บริการดี ที่นั่งดี</td>\n",
              "      <td>นึกถึงชาบูญี่ปุ่นยังไงก็ต้อง คิดถึงโมโม่ พาราไ...</td>\n",
              "      <td>5.0</td>\n",
              "    </tr>\n",
              "    <tr>\n",
              "      <th>2</th>\n",
              "      <td>3</td>\n",
              "      <td>352696Px-mo-mo-paradise-เดอะมอลล์-บางกะปิ</td>\n",
              "      <td>Mo-Mo-Paradise (โม โม พาราไดซ์) เดอะมอลล์ บางกะปิ</td>\n",
              "      <td>saanowy</td>\n",
              "      <td>ชาบูพรีเมี่ยมสไตล์ญี่ปุ่น เนื้อดีมากกก</td>\n",
              "      <td>มาทานช่วงนี้ สามารถนั่งโต๊ะเดียวกัน หม้อเดียวก...</td>\n",
              "      <td>4.0</td>\n",
              "    </tr>\n",
              "    <tr>\n",
              "      <th>3</th>\n",
              "      <td>4</td>\n",
              "      <td>352696Px-mo-mo-paradise-เดอะมอลล์-บางกะปิ</td>\n",
              "      <td>Mo-Mo-Paradise (โม โม พาราไดซ์) เดอะมอลล์ บางกะปิ</td>\n",
              "      <td>ployynp</td>\n",
              "      <td>เนื้อดี ไอติมดี คุ้มค่าดี</td>\n",
              "      <td>ถ้านึกถึงชาบูที่มีเนื้อเน้นๆ ในราคาไม่โหดจนเกิ...</td>\n",
              "      <td>4.0</td>\n",
              "    </tr>\n",
              "    <tr>\n",
              "      <th>4</th>\n",
              "      <td>5</td>\n",
              "      <td>352696Px-mo-mo-paradise-เดอะมอลล์-บางกะปิ</td>\n",
              "      <td>Mo-Mo-Paradise (โม โม พาราไดซ์) เดอะมอลล์ บางกะปิ</td>\n",
              "      <td>665a902b335b434ab489f00f2fbb477e</td>\n",
              "      <td>อาหารมีคุณภาพ บริการดีค่ะ</td>\n",
              "      <td>เดินมาหน้าร้านแล้วได้กลิ่นชาบูหอมมาก ๆ  ประกอบ...</td>\n",
              "      <td>5.0</td>\n",
              "    </tr>\n",
              "  </tbody>\n",
              "</table>\n",
              "</div>"
            ],
            "text/plain": [
              "   Review ID  ... Rating\n",
              "0          1  ...    5.0\n",
              "1          2  ...    5.0\n",
              "2          3  ...    4.0\n",
              "3          4  ...    4.0\n",
              "4          5  ...    5.0\n",
              "\n",
              "[5 rows x 7 columns]"
            ]
          },
          "metadata": {
            "tags": []
          },
          "execution_count": 30
        }
      ]
    },
    {
      "cell_type": "markdown",
      "metadata": {
        "id": "3W7Lj7s_n1Y9"
      },
      "source": [
        "**Tokenize Words**"
      ]
    },
    {
      "cell_type": "code",
      "metadata": {
        "id": "8W4YJ30GoVdS",
        "colab": {
          "base_uri": "https://localhost:8080/",
          "height": 306
        },
        "outputId": "081f3637-9fb2-4044-ce3d-73397516bbdd"
      },
      "source": [
        "# Word Correction\n",
        "word_correction_dict = {\n",
        "    'โมโม่' : 'momo', 'มากก' : 'มาก', 'กกก' : 'ก', 'แวท' : 'vat', 'พิซเซอเรีย' : 'pizzeria', 'พิซซ่า' : 'pizza', \n",
        "    'เก้บ' : 'เก็บ', 'ชูชิ' : 'ซูชิ', 'ซึป' : 'ซุป', 'ชาบูชิ' : 'shabushi', 'อารามณ์' : 'อารมณ์', 'ส่งน' : 'ส่วน', 'สไลต์' : 'สไลด์', 'ประยุคก์' : 'ประยุกต์',\n",
        "    'ไอติม' : 'icecream', 'พาราไดส์' : 'paradise', 'พาราไดซ์' : 'paradise', 'อัพเดท' : 'update', 'นาราย' : 'narai ', 'พรีเมี่ยม' : 'พรีเมียม',\n",
        "    'บ๋วย' : 'บ๊วย', 'เฟรนไชส์' : 'แฟรนไชส์', 'บุพเฟ่' : 'บุฟเฟ่ต์', 'บุฟเฟ่' : 'บุฟเฟ่ต์', 'บุฟเฟ' : 'บุฟเฟ่ต์', 'บุฟเฟต' : 'บุฟเฟ่ต์', 'รสชาต' : 'รสชาติ', 'รสชาติิ' : 'รสชาติ'\n",
        "}\n",
        "\n",
        "# Cleansing\n",
        "def cleansing_text(text):\n",
        "\n",
        "    text = text.strip().lower()\n",
        "\n",
        "    # for old,new in word_correction_dict.items():\n",
        "    #     text = text.replace(old, new)\n",
        "\n",
        "    # Remove empty spaces\n",
        "    text = re.sub(r'\\u200b', '', text)\n",
        "    text = re.sub(r'[\\r\\n]', '', text)\n",
        "\n",
        "    # Replace punctuations and emoji\n",
        "    text = re.sub(r'[🤣😆ๆฯ!#$&%\\\"\\'()*+,-./:;<=>?@\\[\\]\\\\^_`{}|~]',' ', text)\n",
        "\n",
        "    # Replace numbers\n",
        "    text = re.sub(r'\\d',' ', text)\n",
        "    text = re.sub(r'[0-9]','',text)\n",
        "    text = re.sub(r'[๐-๙]','',text)\n",
        "\n",
        "    return text\n",
        "\n",
        "df['clean_text'] = df.apply(lambda x: cleansing_text(x['Headline'] + ' ' + x['Review']), axis=1)\n",
        "df.head()"
      ],
      "execution_count": 31,
      "outputs": [
        {
          "output_type": "execute_result",
          "data": {
            "text/html": [
              "<div>\n",
              "<style scoped>\n",
              "    .dataframe tbody tr th:only-of-type {\n",
              "        vertical-align: middle;\n",
              "    }\n",
              "\n",
              "    .dataframe tbody tr th {\n",
              "        vertical-align: top;\n",
              "    }\n",
              "\n",
              "    .dataframe thead th {\n",
              "        text-align: right;\n",
              "    }\n",
              "</style>\n",
              "<table border=\"1\" class=\"dataframe\">\n",
              "  <thead>\n",
              "    <tr style=\"text-align: right;\">\n",
              "      <th></th>\n",
              "      <th>Review ID</th>\n",
              "      <th>Restaurant_ID</th>\n",
              "      <th>Restaurant</th>\n",
              "      <th>User</th>\n",
              "      <th>Headline</th>\n",
              "      <th>Review</th>\n",
              "      <th>Rating</th>\n",
              "      <th>clean_text</th>\n",
              "    </tr>\n",
              "  </thead>\n",
              "  <tbody>\n",
              "    <tr>\n",
              "      <th>0</th>\n",
              "      <td>1</td>\n",
              "      <td>352696Px-mo-mo-paradise-เดอะมอลล์-บางกะปิ</td>\n",
              "      <td>Mo-Mo-Paradise (โม โม พาราไดซ์) เดอะมอลล์ บางกะปิ</td>\n",
              "      <td>7b16469831074f7abc7824745ee75212</td>\n",
              "      <td>ที่สำคัญของร้านนี้คือบริการดีมากพนักงานน่ารักส...</td>\n",
              "      <td>ที่สำคัญของร้านนี้คือบริการดีมากพนักงานน่ารักส...</td>\n",
              "      <td>5.0</td>\n",
              "      <td>ที่สำคัญของร้านนี้คือบริการดีมากพนักงานน่ารักส...</td>\n",
              "    </tr>\n",
              "    <tr>\n",
              "      <th>1</th>\n",
              "      <td>2</td>\n",
              "      <td>352696Px-mo-mo-paradise-เดอะมอลล์-บางกะปิ</td>\n",
              "      <td>Mo-Mo-Paradise (โม โม พาราไดซ์) เดอะมอลล์ บางกะปิ</td>\n",
              "      <td>pakkaramonpondej</td>\n",
              "      <td>รสชาติเหมือนทุกสาขา แต่สาขานี้ บริการดี ที่นั่งดี</td>\n",
              "      <td>นึกถึงชาบูญี่ปุ่นยังไงก็ต้อง คิดถึงโมโม่ พาราไ...</td>\n",
              "      <td>5.0</td>\n",
              "      <td>รสชาติเหมือนทุกสาขา แต่สาขานี้ บริการดี ที่นั่...</td>\n",
              "    </tr>\n",
              "    <tr>\n",
              "      <th>2</th>\n",
              "      <td>3</td>\n",
              "      <td>352696Px-mo-mo-paradise-เดอะมอลล์-บางกะปิ</td>\n",
              "      <td>Mo-Mo-Paradise (โม โม พาราไดซ์) เดอะมอลล์ บางกะปิ</td>\n",
              "      <td>saanowy</td>\n",
              "      <td>ชาบูพรีเมี่ยมสไตล์ญี่ปุ่น เนื้อดีมากกก</td>\n",
              "      <td>มาทานช่วงนี้ สามารถนั่งโต๊ะเดียวกัน หม้อเดียวก...</td>\n",
              "      <td>4.0</td>\n",
              "      <td>ชาบูพรีเมี่ยมสไตล์ญี่ปุ่น เนื้อดีมากกก มาทานช่...</td>\n",
              "    </tr>\n",
              "    <tr>\n",
              "      <th>3</th>\n",
              "      <td>4</td>\n",
              "      <td>352696Px-mo-mo-paradise-เดอะมอลล์-บางกะปิ</td>\n",
              "      <td>Mo-Mo-Paradise (โม โม พาราไดซ์) เดอะมอลล์ บางกะปิ</td>\n",
              "      <td>ployynp</td>\n",
              "      <td>เนื้อดี ไอติมดี คุ้มค่าดี</td>\n",
              "      <td>ถ้านึกถึงชาบูที่มีเนื้อเน้นๆ ในราคาไม่โหดจนเกิ...</td>\n",
              "      <td>4.0</td>\n",
              "      <td>เนื้อดี ไอติมดี คุ้มค่าดี ถ้านึกถึงชาบูที่มีเน...</td>\n",
              "    </tr>\n",
              "    <tr>\n",
              "      <th>4</th>\n",
              "      <td>5</td>\n",
              "      <td>352696Px-mo-mo-paradise-เดอะมอลล์-บางกะปิ</td>\n",
              "      <td>Mo-Mo-Paradise (โม โม พาราไดซ์) เดอะมอลล์ บางกะปิ</td>\n",
              "      <td>665a902b335b434ab489f00f2fbb477e</td>\n",
              "      <td>อาหารมีคุณภาพ บริการดีค่ะ</td>\n",
              "      <td>เดินมาหน้าร้านแล้วได้กลิ่นชาบูหอมมาก ๆ  ประกอบ...</td>\n",
              "      <td>5.0</td>\n",
              "      <td>อาหารมีคุณภาพ บริการดีค่ะ เดินมาหน้าร้านแล้วได...</td>\n",
              "    </tr>\n",
              "  </tbody>\n",
              "</table>\n",
              "</div>"
            ],
            "text/plain": [
              "   Review ID  ...                                         clean_text\n",
              "0          1  ...  ที่สำคัญของร้านนี้คือบริการดีมากพนักงานน่ารักส...\n",
              "1          2  ...  รสชาติเหมือนทุกสาขา แต่สาขานี้ บริการดี ที่นั่...\n",
              "2          3  ...  ชาบูพรีเมี่ยมสไตล์ญี่ปุ่น เนื้อดีมากกก มาทานช่...\n",
              "3          4  ...  เนื้อดี ไอติมดี คุ้มค่าดี ถ้านึกถึงชาบูที่มีเน...\n",
              "4          5  ...  อาหารมีคุณภาพ บริการดีค่ะ เดินมาหน้าร้านแล้วได...\n",
              "\n",
              "[5 rows x 8 columns]"
            ]
          },
          "metadata": {
            "tags": []
          },
          "execution_count": 31
        }
      ]
    },
    {
      "cell_type": "code",
      "metadata": {
        "colab": {
          "base_uri": "https://localhost:8080/",
          "height": 306
        },
        "id": "LIESaLyKn88X",
        "outputId": "1f057e43-b967-46cb-9dcc-e0de2fc485ad"
      },
      "source": [
        "stopwords = list(pythainlp.corpus.thai_stopwords())\n",
        "removed = [' ', '  ','    ', '       ','   ','\\n', 'ร้าน', 'ที่', 'นะคะ', 'เค้า', 'ผม', 'คน', 'คุ', 'กก', 'ววว', 'เ']\n",
        "screening = stopwords + removed\n",
        "\n",
        "def tokenize_with_space(sentence):\n",
        "  merged = ''\n",
        "  words = pythainlp.word_tokenize(str(sentence), engine='newmm')\n",
        "  for word in words:\n",
        "    if word not in screening:\n",
        "      merged = merged + ',' + word\n",
        "  return merged[1:]\n",
        "\n",
        "df['review_tokenized'] = df['clean_text'].apply(lambda x: tokenize_with_space(x))\n",
        "df.head()"
      ],
      "execution_count": 42,
      "outputs": [
        {
          "output_type": "execute_result",
          "data": {
            "text/html": [
              "<div>\n",
              "<style scoped>\n",
              "    .dataframe tbody tr th:only-of-type {\n",
              "        vertical-align: middle;\n",
              "    }\n",
              "\n",
              "    .dataframe tbody tr th {\n",
              "        vertical-align: top;\n",
              "    }\n",
              "\n",
              "    .dataframe thead th {\n",
              "        text-align: right;\n",
              "    }\n",
              "</style>\n",
              "<table border=\"1\" class=\"dataframe\">\n",
              "  <thead>\n",
              "    <tr style=\"text-align: right;\">\n",
              "      <th></th>\n",
              "      <th>Review ID</th>\n",
              "      <th>Restaurant_ID</th>\n",
              "      <th>Restaurant</th>\n",
              "      <th>User</th>\n",
              "      <th>Headline</th>\n",
              "      <th>Review</th>\n",
              "      <th>Rating</th>\n",
              "      <th>clean_text</th>\n",
              "      <th>review_tokenized</th>\n",
              "      <th>topics</th>\n",
              "      <th>score</th>\n",
              "    </tr>\n",
              "  </thead>\n",
              "  <tbody>\n",
              "    <tr>\n",
              "      <th>0</th>\n",
              "      <td>1</td>\n",
              "      <td>352696Px-mo-mo-paradise-เดอะมอลล์-บางกะปิ</td>\n",
              "      <td>Mo-Mo-Paradise (โม โม พาราไดซ์) เดอะมอลล์ บางกะปิ</td>\n",
              "      <td>7b16469831074f7abc7824745ee75212</td>\n",
              "      <td>ที่สำคัญของร้านนี้คือบริการดีมากพนักงานน่ารักส...</td>\n",
              "      <td>ที่สำคัญของร้านนี้คือบริการดีมากพนักงานน่ารักส...</td>\n",
              "      <td>5.0</td>\n",
              "      <td>ที่สำคัญของร้านนี้คือบริการดีมากพนักงานน่ารักส...</td>\n",
              "      <td>บริการ,ดีมาก,พนักงาน,น่ารัก,สะอาดสะอ้าน,ใส่ใจ,...</td>\n",
              "      <td>2</td>\n",
              "      <td>0.998406</td>\n",
              "    </tr>\n",
              "    <tr>\n",
              "      <th>1</th>\n",
              "      <td>2</td>\n",
              "      <td>352696Px-mo-mo-paradise-เดอะมอลล์-บางกะปิ</td>\n",
              "      <td>Mo-Mo-Paradise (โม โม พาราไดซ์) เดอะมอลล์ บางกะปิ</td>\n",
              "      <td>pakkaramonpondej</td>\n",
              "      <td>รสชาติเหมือนทุกสาขา แต่สาขานี้ บริการดี ที่นั่งดี</td>\n",
              "      <td>นึกถึงชาบูญี่ปุ่นยังไงก็ต้อง คิดถึงโมโม่ พาราไ...</td>\n",
              "      <td>5.0</td>\n",
              "      <td>รสชาติเหมือนทุกสาขา แต่สาขานี้ บริการดี ที่นั่...</td>\n",
              "      <td>รสชาติ,เหมือน,สาขา,สาขา,บริการ,ดี,ที่นั่ง,ดี,น...</td>\n",
              "      <td>4</td>\n",
              "      <td>0.997859</td>\n",
              "    </tr>\n",
              "    <tr>\n",
              "      <th>2</th>\n",
              "      <td>3</td>\n",
              "      <td>352696Px-mo-mo-paradise-เดอะมอลล์-บางกะปิ</td>\n",
              "      <td>Mo-Mo-Paradise (โม โม พาราไดซ์) เดอะมอลล์ บางกะปิ</td>\n",
              "      <td>saanowy</td>\n",
              "      <td>ชาบูพรีเมี่ยมสไตล์ญี่ปุ่น เนื้อดีมากกก</td>\n",
              "      <td>มาทานช่วงนี้ สามารถนั่งโต๊ะเดียวกัน หม้อเดียวก...</td>\n",
              "      <td>4.0</td>\n",
              "      <td>ชาบูพรีเมี่ยมสไตล์ญี่ปุ่น เนื้อดีมากกก มาทานช่...</td>\n",
              "      <td>ชาบู,พรีเมี่ยม,สไตล์,ญี่ปุ่น,เนื้อ,ดีมาก,ทาน,น...</td>\n",
              "      <td>1</td>\n",
              "      <td>0.999294</td>\n",
              "    </tr>\n",
              "    <tr>\n",
              "      <th>3</th>\n",
              "      <td>4</td>\n",
              "      <td>352696Px-mo-mo-paradise-เดอะมอลล์-บางกะปิ</td>\n",
              "      <td>Mo-Mo-Paradise (โม โม พาราไดซ์) เดอะมอลล์ บางกะปิ</td>\n",
              "      <td>ployynp</td>\n",
              "      <td>เนื้อดี ไอติมดี คุ้มค่าดี</td>\n",
              "      <td>ถ้านึกถึงชาบูที่มีเนื้อเน้นๆ ในราคาไม่โหดจนเกิ...</td>\n",
              "      <td>4.0</td>\n",
              "      <td>เนื้อดี ไอติมดี คุ้มค่าดี ถ้านึกถึงชาบูที่มีเน...</td>\n",
              "      <td>เนื้อ,ดี,ไอติม,ดี,คุ้มค่า,ดี,นึกถึง,ชาบู,เนื้อ...</td>\n",
              "      <td>0</td>\n",
              "      <td>0.997409</td>\n",
              "    </tr>\n",
              "    <tr>\n",
              "      <th>4</th>\n",
              "      <td>5</td>\n",
              "      <td>352696Px-mo-mo-paradise-เดอะมอลล์-บางกะปิ</td>\n",
              "      <td>Mo-Mo-Paradise (โม โม พาราไดซ์) เดอะมอลล์ บางกะปิ</td>\n",
              "      <td>665a902b335b434ab489f00f2fbb477e</td>\n",
              "      <td>อาหารมีคุณภาพ บริการดีค่ะ</td>\n",
              "      <td>เดินมาหน้าร้านแล้วได้กลิ่นชาบูหอมมาก ๆ  ประกอบ...</td>\n",
              "      <td>5.0</td>\n",
              "      <td>อาหารมีคุณภาพ บริการดีค่ะ เดินมาหน้าร้านแล้วได...</td>\n",
              "      <td>อาหาร,คุณภาพ,บริการ,ดี,เดิน,หน้า,ได้กลิ่น,ชาบู...</td>\n",
              "      <td>1</td>\n",
              "      <td>0.997459</td>\n",
              "    </tr>\n",
              "  </tbody>\n",
              "</table>\n",
              "</div>"
            ],
            "text/plain": [
              "   Review ID                              Restaurant_ID  ... topics     score\n",
              "0          1  352696Px-mo-mo-paradise-เดอะมอลล์-บางกะปิ  ...      2  0.998406\n",
              "1          2  352696Px-mo-mo-paradise-เดอะมอลล์-บางกะปิ  ...      4  0.997859\n",
              "2          3  352696Px-mo-mo-paradise-เดอะมอลล์-บางกะปิ  ...      1  0.999294\n",
              "3          4  352696Px-mo-mo-paradise-เดอะมอลล์-บางกะปิ  ...      0  0.997409\n",
              "4          5  352696Px-mo-mo-paradise-เดอะมอลล์-บางกะปิ  ...      1  0.997459\n",
              "\n",
              "[5 rows x 11 columns]"
            ]
          },
          "metadata": {
            "tags": []
          },
          "execution_count": 42
        }
      ]
    },
    {
      "cell_type": "code",
      "metadata": {
        "id": "uhnXnHStn682"
      },
      "source": [
        "documents = df['review_tokenized'].to_list()\n",
        "texts = [[text for text in doc.split(',')] for doc in documents]\n",
        "dictionary = gensim.corpora.Dictionary(texts)"
      ],
      "execution_count": 43,
      "outputs": []
    },
    {
      "cell_type": "code",
      "metadata": {
        "colab": {
          "base_uri": "https://localhost:8080/"
        },
        "id": "Hyz_TLDDoD6r",
        "outputId": "f605db42-bcaa-4634-d0fc-0a0a23fd7e73"
      },
      "source": [
        "print(dictionary.token2id.keys())"
      ],
      "execution_count": 44,
      "outputs": [
        {
          "output_type": "stream",
          "text": [
            "dict_keys(['กิน', 'ข้างนอก', 'ความต้องการ', 'คอ', 'คุณภาพ', 'คุณภาพดี', 'คุ้ม', 'จำกัด', 'ซุป', 'ดำ', 'ดี', 'ดีมาก', 'ถาด', 'ถาม', 'น่ารัก', 'น้ำ', 'น้ำจิ้ม', 'บริการ', 'บาท', 'ประทับใจ', 'พนักงาน', 'พอกับ', 'รสชาติ', 'ราคา', 'สรุป', 'สะอาดสะอ้าน', 'สัน', 'หลากหลาย', 'อร่อย', 'อันนี้', 'อาหาร', 'เคลม', 'เซ็ท', 'เต้าเจี้ยว', 'เนื้อ', 'เป็ด', 'เผ็ด', 'แบบนี้', 'แปลกใหม่', 'แฟน', 'โดยรวม', 'โมจิ', 'ใส่ใจ', 'ไม่ต้อง', 'ไอติม', '            ', 'ctw', 'terminal', 'กา', 'การงด', 'คิดถึง', 'ชาบู', 'ญี่ปุ่น', 'ฐาน', 'ทะยอย', 'ทำงาน', 'ที่ทาง', 'ที่นั่ง', 'นาที', 'นึกถึง', 'พนักงานบริการ', 'พระราม', 'พรีเมียม', 'พาราไดซ์', 'มาตรา', 'มีโอ', 'รายละเอียด', 'ลูกค้า', 'สมาทาน', 'สาขา', 'สู้', 'ออร์เดอร์', 'เครื่องดื่ม', 'เจอ', 'เป็นกันเอง', 'เหมือน', 'เหวี่ยง', 'แจ้ง', 'โม', 'โม่', 'โอเค', 'กรุบ', 'กั้น', 'ของหวาน', 'คนละ', 'คาว', 'คุ้มค่า', 'จาน', 'จิ้ม', 'จืด', 'ฉาก', 'ชอบ', 'ชาเขียว', 'ชิ้น', 'ซอย', 'ซอส', 'ตก', 'ตะ', 'ตัก', 'ตามน้ำ', 'ต่างกัน', 'ถั่ว', 'ถ่ายรูป', 'ทาน', 'นั่ง', 'นุ่ม', 'บด', 'บาร์', 'บู', 'ผัก', 'พรีเมี่ยม', 'ภาษา', 'มีชื่อ', 'ยังมี', 'รส', 'รี่', 'รู้สึก', 'ลอง', 'ลิ้น', 'ลืม', 'สด', 'สตอ', 'สั่ง', 'สามรส', 'สไตล์', 'ส่วนตัว', 'หนึบ', 'หม้อ', 'หวาน', 'อยากได้', 'เข้มข้น', 'เข้ากัน', 'เค็ม', 'เนื้อวัว', 'เนื้อสัตว์', 'เนื้อหมู', 'เบอ', 'เป็นผู้ใหญ่', 'เลือก', 'เสิร์ฟ', 'เหนียว', 'เห็ด', 'แดง', 'แตก', 'แตา', 'แนว', 'แย้', 'โควิด', 'โต๊ะ', 'โร', 'ใส', 'ไก่', 'ไข่', 'ไดฟูกุ', 'ไผ่', 'ไม้', 'ไหว', 'ข้าว', 'จ่าย', 'ถ้วย', 'ธรรมดา', 'ส', 'ออ', 'เกินไป', 'เลี่ยน', 'โปร', 'โหด', 'ไว', 'ไอศกรีม', 'ขนม', 'ตัดสินใจ', 'ที่จะ', 'บัตรเครดิต', 'มมาก', 'ลูกชิ้น', 'สบายดี', 'หน้า', 'หอ', 'เดิน', 'เด็ก', 'เส้น', 'เหมือนกับ', 'แคบ', 'ได้กลิ่น', 'momo', 'คามี', 'ซึ', 'บุ', 'บ๋วย', 'พอน', 'ฟเฟ่', 'รา', 'สาย', 'หยิบ', 'อิ่ม', 'โซน', 'โปรโมชั่น', '      ', '        ', 'menu', 'number', 'กรรมวิธี', 'กะปิ', 'กี้', 'ก์', 'คะแนน', 'ชุด', 'ดังเดิม', 'ทรู', 'บุฟเฟ่ต์', 'ประ', 'พารา', 'มอ', 'ยุค', 'ร้านอาหาร', 'ล', 'สุก', 'สุกี้', 'สไลต์', 'ส์', 'หมู', 'หลาก', 'หลายชนิด', 'เดอะ', 'เมนู', 'แบบฉบับ', 'แบ่ง', 'ได', 'ไทย', '–', 'กาแฟ', 'งวด', 'ชนิด', 'ตอนที่', 'ตำ', 'ติด', 'ทั่วไป', 'น', 'บ๊วย', 'ยุ', 'ร้อน', 'ลุย', 'สุกี้ยากี้', 'อยู่แล้ว', 'ออสเตรเลีย', 'เป็นปกติ', 'เฟรนไชส์', 'เรื่อง', 'เหมาะสม', 'แนะนำ', 'โช', 'ไข่ไก่', 'ไอศครีม', '     ', 'กุ้ง', 'ของกิน', 'ขา', 'ชิ', 'ซูชิ', 'ซ่า', 'ตอน', 'ตอนนี้', 'นิดนึง', 'ปุระ', 'ปูอัด', 'ม', 'ละลานตา', 'สายพาน', 'หิว', 'ฮ่า', 'าน', 'เกี๊ยว', 'เท', 'เทียบ', 'เล่น', 'แพง', 'แล้วก็', 'ไม่งั้น', 'กลาย', 'กี่', 'ชั่วคราว', 'ชื่นใจ', 'ซะงั้น', 'ญี่', 'ดึก', 'ตบท้าย', 'ตัว', 'ทอด', 'ทานอาหาร', 'นพ', 'นึก', 'น้ะ', 'ปลา', 'ปุ', 'ผิดหวัง', 'วก', 'สมใจ', 'อย่า', 'อาหารเสริม', 'เติม', 'เป็นมา', 'เป็นหลัก', 'เย็น', 'net', 'กลับมา', 'ของคาว', 'ชม', 'ตรงนั้น', 'ยืน', 'ลายตา', 'สไลด์', 'ห้าง', 'อัพเดท', 'เบ', 'เพลิน', 'ไลน์', 'g', 'shabushi', 'กด', 'กรอ', 'ขาดสารอาหาร', 'ขึ้นราคา', 'ข่าว', 'คนเดียว', 'ครึ่ง', 'คิว', 'งาน', 'จุ', 'ชั่วโมง', 'ชั้น', 'ชื่น', 'ดู', 'ตลับ', 'ตับ', 'ตั้งอยู่', 'ติง', 'ถนนใหญ่', 'ถูกใจ', 'ทำ', 'ทิ้ง', 'น้ำมัน', 'บดี', 'ปลาดิบ', 'ปอกเปลือก', 'ฝรั่ง', 'ฝั่ง', 'มอลล์', 'มื้อ', 'รอ', 'ระดับ', 'รายการ', 'รู้', 'ลด', 'ลา', 'ลูก', 'วันหยุด', 'วาง', 'วานิลา', 'สะอาด', 'สาเหตุ', 'สำหรับ', 'สไปรท์', 'หนา', 'หอม', 'หอย', 'หาไม่', 'ห่างหาย', 'อม', 'ออกมา', 'อาทิตย์', 'อีกครั้ง', 'เช็คบิล', 'เด่น', 'เด้ง', 'เบคอน', 'เปรี้ยวหวาน', 'เพื่อน', 'เลิก', 'เวลา', 'เสาร์', 'เหมือนกัน', 'แก้ว', 'แถม', 'แน่น', 'แป้ง', 'แย่', 'แออัด', 'โดน', 'โดยประมาณ', 'โฟลต', 'โอ', 'ใจดี', 'ใจมา', 'ใช้ได้', 'ใส่', 'ได้ยิน', 'ชอค', 'ต', 'นัด', 'นิ', 'ฝุดฝุด', 'มะนาว', 'มุ', 'ลงเอย', 'ว', 'วันก่อน', 'ห', 'หา', 'อยุ่', 'อาหารสด', 'เบอร์', 'แกงค์', 'แล', 'โก', 'กินที่', 'ขยัน', 'จอง', 'ชู', 'ณ์', 'บุฟเฟต์', 'ป', 'ประตู', 'พลาด', 'พอได้', 'พี่', 'รอบ', 'ร้อย', 'สาม', 'สุดท้าย', 'หลายครั้ง', 'หล่ะ', 'อาราม', 'เข้าหน้า', 'เต็ม', 'เต็มคราบ', 'โชคดี', 'ขวัญใจ', 'ข้อดี', 'ต้องการ', 'ทั่วถึง', 'นํ้า', 'บ', 'ฟเฟ', 'มี่', 'ระบบ', 'รีวิว', 'สวัสดี', 'เก้', 'ใช้แล้ว', 'xx', 'กลยุทธ์', 'ขนาด', 'ข้น', 'ข้าวปั้น', 'ค่า', 'ชอป', 'ซุ้ม', 'ดีขึ้น', 'ตรงข้าม', 'ตรงนี้', 'ต้ม', 'ต้มยำ', 'ท่าน', 'นัล', 'บริเวณ', 'บัตรสมาชิก', 'ปรับปรุง', 'มันดี', 'มากขึ้น', 'ยอด', 'ร่อน', 'ลาน', 'สลัด', 'หมู่คณะ', 'ออกร้าน', 'อิอิ', 'เครือ', 'เคลื่อนตัว', 'เคาน์เตอร์', 'เดือด', 'เบา', 'เป็นแนว', 'แมค', 'โชคชะตา', 'โด', 'โน้น', 'โออิชิ', 'hall', 'mcc', 'ค่ายมวย', 'ด้านใน', 'ตอนแรก', 'ตัวเลือก', 'ติดกับ', 'ที่ไหนได้', 'นม', 'นา', 'น้ำดื่ม', 'พิซ', 'พิซซ่า', 'ฟี', 'ยู', 'รี', 'หลังจากที่', 'อลล์', 'อั้น', 'อเรีย', 'เซ', 'แกงเขียวหวาน', 'แน่นอน', 'แวะ', 'vat', 'กำ', 'ค่าน้ำ', 'ช่อง', 'ซี', 'ซึป', 'ถูกหวย', 'ทอน', 'นึง', 'ฟรี', 'ฟู้ด', 'มิตรภาพ', 'รับประกัน', 'ลอตเตอรี่', 'สัปดาห์', 'หวย', 'หัว', 'ฮัน', 'เงิน', 'แลก', 'โทส', 'โรงหนัง', 'ได้เวลา', 'mall', 'narai', 'pizza', 'pizzeria', 'union', 'ของสด', 'ขึ้นใจ', 'ข้าวมันไก่', 'งง', 'จำได้', 'ชื่อ', 'ตตี้', 'ตัดกำลัง', 'ตู้', 'นิว', 'บางส่วน', 'ปน', 'ปรุง', 'รู้จัก', 'ลี', 'สปา', 'เก', 'ครีม', 'จบ', 'จุก', 'ชาต', 'บรา', 'บุพ', 'ปิดท้าย', 'ย', 'วิป', 'สมราคา', 'สวย', 'เซต', 'เด็ด', 'เป้ง', 'เฟ่', 'เรย', 'เริส', 'เเบบ', 'โชค', 'ทดแทน', 'บางอย่าง', 'ปรกติ', 'อยู่ในเกณฑ์', 'เงินสด', 'แปลก', 'แวท', 'โดยเฉพาะ'])\n"
          ],
          "name": "stdout"
        }
      ]
    },
    {
      "cell_type": "code",
      "metadata": {
        "id": "te8F2STzoBex"
      },
      "source": [
        "gensim_corpus = [dictionary.doc2bow(text, allow_update=True) for text in texts]\n",
        "word_frequencies = [[(dictionary[id], frequence) for id, frequence in couple] for couple in gensim_corpus]"
      ],
      "execution_count": 45,
      "outputs": []
    },
    {
      "cell_type": "markdown",
      "metadata": {
        "id": "EV9MfYFozNb7"
      },
      "source": [
        "**Topic Modeling**"
      ]
    },
    {
      "cell_type": "code",
      "metadata": {
        "colab": {
          "base_uri": "https://localhost:8080/"
        },
        "id": "MupIco71hEs0",
        "outputId": "be3e922f-0131-489f-9c0e-98ee272387de"
      },
      "source": [
        "num_topics = 5\n",
        "chunksize = 4000   # size of the doc looked at every pass\n",
        "passes = 20         # number of passes through documents\n",
        "iterations = 100    \n",
        "eval_every = 1     # Don't evaluate model perplexity, takes too much time.\n",
        "\n",
        "# Make a index to word dictionary.\n",
        "temp = dictionary[0]  # This is only to \"load\" the dictionary.\n",
        "id2word = dictionary.id2token\n",
        "\n",
        "%time model = gensim.models.LdaModel(corpus=gensim_corpus, id2word=id2word, chunksize=chunksize, \\\n",
        "                       alpha='auto', eta='auto', \\\n",
        "                       iterations=iterations, num_topics=num_topics, \\\n",
        "                       passes=passes, eval_every=eval_every)"
      ],
      "execution_count": 55,
      "outputs": [
        {
          "output_type": "stream",
          "text": [
            "CPU times: user 363 ms, sys: 4.45 ms, total: 367 ms\n",
            "Wall time: 366 ms\n"
          ],
          "name": "stdout"
        }
      ]
    },
    {
      "cell_type": "code",
      "metadata": {
        "colab": {
          "base_uri": "https://localhost:8080/",
          "height": 860
        },
        "id": "xtO5KXljisBp",
        "outputId": "bf6b9dc5-8c6d-43d8-9944-734cb6225064"
      },
      "source": [
        "pyLDAvis.gensim_models.prepare(model, gensim_corpus, dictionary)"
      ],
      "execution_count": 56,
      "outputs": [
        {
          "output_type": "execute_result",
          "data": {
            "text/html": [
              "\n",
              "<link rel=\"stylesheet\" type=\"text/css\" href=\"https://cdn.jsdelivr.net/gh/bmabey/pyLDAvis@3.3.1/pyLDAvis/js/ldavis.v1.0.0.css\">\n",
              "\n",
              "\n",
              "<div id=\"ldavis_el2811405119548182562320391112\"></div>\n",
              "<script type=\"text/javascript\">\n",
              "\n",
              "var ldavis_el2811405119548182562320391112_data = {\"mdsDat\": {\"x\": [0.06266552429703973, -0.034943604912016084, -0.010203782555257555, -0.009399904984874795, -0.008118231844891351], \"y\": [0.01281978095434548, 0.035894573715626765, -0.0005915398077472203, -0.04230360626593022, -0.005819208596294806], \"topics\": [1, 2, 3, 4, 5], \"cluster\": [1, 1, 1, 1, 1], \"Freq\": [41.18784103532159, 19.64405045815071, 14.300168601588933, 14.018292175680235, 10.849647729258539]}, \"tinfo\": {\"Term\": [\"\\u0e1a\\u0e32\\u0e17\", \"\\u0e19\\u0e49\\u0e33\", \"\\u0e23\\u0e32\\u0e04\\u0e32\", \"\\u0e1a\\u0e38\\u0e1f\\u0e40\\u0e1f\\u0e48\\u0e15\\u0e4c\", \"\\u0e01\\u0e34\\u0e19\", \"\\u0e2d\\u0e32\\u0e2b\\u0e32\\u0e23\", \"\\u0e0b\\u0e38\\u0e1b\", \"\\u0e0a\\u0e32\\u0e1a\\u0e39\", \"\\u0e40\\u0e25\\u0e37\\u0e2d\\u0e01\", \"\\u0e1a\\u0e23\\u0e34\\u0e01\\u0e32\\u0e23\", \"\\u0e17\\u0e32\\u0e19\", \"\\u0e2d\\u0e23\\u0e48\\u0e2d\\u0e22\", \"\\u0e23\\u0e2a\\u0e0a\\u0e32\\u0e15\\u0e34\", \"     \", \"\\u0e04\\u0e19\\u0e25\\u0e30\", \"\\u0e14\\u0e35\\u0e21\\u0e32\\u0e01\", \"\\u0e40\\u0e19\\u0e37\\u0e49\\u0e2d\", \"\\u0e1e\\u0e34\\u0e0b\\u0e0b\\u0e48\\u0e32\", \"\\u0e04\\u0e38\\u0e49\\u0e21\", \"\\u0e1c\\u0e31\\u0e01\", \"\\u0e2b\\u0e25\\u0e32\\u0e01\\u0e2b\\u0e25\\u0e32\\u0e22\", \"\\u0e14\\u0e35\", \"\\u0e42\\u0e21\", \"\\u0e2a\\u0e32\\u0e22\\u0e1e\\u0e32\\u0e19\", \"\\u0e2a\\u0e32\\u0e02\\u0e32\", \"\\u0e23\\u0e2d\", \"\\u0e19\\u0e49\\u0e33\\u0e08\\u0e34\\u0e49\\u0e21\", \"\\u0e0a\\u0e34\", \"\\u0e04\\u0e38\\u0e13\\u0e20\\u0e32\\u0e1e\", \"\\u0e1b\\u0e23\\u0e30\\u0e17\\u0e31\\u0e1a\\u0e43\\u0e08\", \"\\u0e40\\u0e27\\u0e25\\u0e32\", \"\\u0e15\\u0e31\\u0e27\", \"\\u0e19\\u0e36\\u0e01\\u0e16\\u0e36\\u0e07\", \"\\u0e44\\u0e2d\\u0e28\\u0e01\\u0e23\\u0e35\\u0e21\", \"\\u0e1b\\u0e2d\\u0e01\\u0e40\\u0e1b\\u0e25\\u0e37\\u0e2d\\u0e01\", \"\\u0e43\\u0e0a\\u0e49\\u0e44\\u0e14\\u0e49\", \"\\u0e19\\u0e32\\u0e17\\u0e35\", \"\\u0e2a\\u0e48\\u0e27\\u0e19\\u0e15\\u0e31\\u0e27\", \"\\u0e40\\u0e19\\u0e37\\u0e49\\u0e2d\\u0e2b\\u0e21\\u0e39\", \"\\u0e40\\u0e2b\\u0e47\\u0e14\", \"\\u0e40\\u0e01\\u0e34\\u0e19\\u0e44\\u0e1b\", \"\\u0e02\\u0e49\\u0e32\\u0e27\", \"\\u0e1c\\u0e34\\u0e14\\u0e2b\\u0e27\\u0e31\\u0e07\", \"\\u0e2d\\u0e22\\u0e48\\u0e32\", \"\\u0e42\\u0e21\\u0e48\", \"\\u0e2d\\u0e35\\u0e01\\u0e04\\u0e23\\u0e31\\u0e49\\u0e07\", \"\\u0e27\\u0e32\\u0e19\\u0e34\\u0e25\\u0e32\", \"\\u0e25\\u0e32\", \"\\u0e2b\\u0e2d\\u0e21\", \"\\u0e40\\u0e0a\\u0e47\\u0e04\\u0e1a\\u0e34\\u0e25\", \"\\u0e40\\u0e2b\\u0e21\\u0e37\\u0e2d\\u0e19\", \"\\u0e01\\u0e38\\u0e49\\u0e07\", \"\\u0e43\\u0e08\\u0e14\\u0e35\", \"\\u0e40\\u0e14\\u0e49\\u0e07\", \"\\u0e0a\\u0e37\\u0e48\\u0e19\", \"\\u0e02\\u0e32\\u0e14\\u0e2a\\u0e32\\u0e23\\u0e2d\\u0e32\\u0e2b\\u0e32\\u0e23\", \"\\u0e25\\u0e37\\u0e21\", \"\\u0e44\\u0e02\\u0e48\", \"\\u0e2a\\u0e15\\u0e2d\", \"\\u0e23\\u0e35\\u0e48\", \"\\u0e19\\u0e38\\u0e48\\u0e21\", \"\\u0e0a\\u0e2d\\u0e1a\", \"\\u0e2a\\u0e14\", \"\\u0e40\\u0e17\", \"\\u0e21\", \"\\u0e1b\\u0e38\\u0e23\\u0e30\", \"\\u0e2a\\u0e33\\u0e2b\\u0e23\\u0e31\\u0e1a\", \"\\u0e2b\\u0e27\\u0e32\\u0e19\", \"\\u0e14\\u0e35\", \"\\u0e40\\u0e19\\u0e37\\u0e49\\u0e2d\\u0e27\\u0e31\\u0e27\", \"\\u0e40\\u0e19\\u0e37\\u0e49\\u0e2d\", \"\\u0e44\\u0e2d\\u0e15\\u0e34\\u0e21\", \"\\u0e01\\u0e34\\u0e19\", \"\\u0e2a\\u0e32\\u0e02\\u0e32\", \"\\u0e17\\u0e32\\u0e19\", \"\\u0e23\\u0e2a\\u0e0a\\u0e32\\u0e15\\u0e34\", \"\\u0e0a\\u0e32\\u0e1a\\u0e39\", \"\\u0e0d\\u0e35\\u0e48\\u0e1b\\u0e38\\u0e48\\u0e19\", \"\\u0e2d\\u0e23\\u0e48\\u0e2d\\u0e22\", \"\\u0e19\\u0e49\\u0e33\", \"\\u0e2a\\u0e31\\u0e48\\u0e07\", \"\\u0e23\\u0e2a\", \"\\u0e40\\u0e25\\u0e37\\u0e2d\\u0e01\", \"\\u0e17\\u0e2d\\u0e14\", \"\\u0e2d\\u0e32\\u0e2b\\u0e32\\u0e23\", \"\\u0e0b\\u0e38\\u0e1b\", \"\\u0e1e\\u0e19\\u0e31\\u0e01\\u0e07\\u0e32\\u0e19\", \"\\u0e23\\u0e32\\u0e04\\u0e32\", \"\\u0e04\\u0e38\\u0e49\\u0e21\", \"\\u0e1a\\u0e23\\u0e34\\u0e01\\u0e32\\u0e23\", \"\\u0e40\\u0e25\\u0e48\\u0e19\", \"\\u0e17\\u0e48\\u0e32\\u0e19\", \"\\u0e04\\u0e48\\u0e32\", \"\\u0e41\\u0e1b\\u0e25\\u0e01\", \"\\u0e19\\u0e4d\\u0e49\\u0e32\", \"\\u0e2a\\u0e21\\u0e23\\u0e32\\u0e04\\u0e32\", \"\\u0e08\\u0e1a\", \"\\u0e44\\u0e21\\u0e48\\u0e07\\u0e31\\u0e49\\u0e19\", \"\\u0e32\\u0e19\", \"\\u0e1b\\u0e39\\u0e2d\\u0e31\\u0e14\", \"\\u0e02\\u0e32\", \"\\u0e25\\u0e30\\u0e25\\u0e32\\u0e19\\u0e15\\u0e32\", \"\\u0e2e\\u0e48\\u0e32\", \"\\u0e0b\\u0e48\\u0e32\", \"\\u0e40\\u0e01\\u0e35\\u0e4a\\u0e22\\u0e27\", \"\\u0e02\\u0e2d\\u0e07\\u0e01\\u0e34\\u0e19\", \"\\u0e42\\u0e0a\\u0e04\\u0e0a\\u0e30\\u0e15\\u0e32\", \"\\u0e42\\u0e2d\\u0e2d\\u0e34\\u0e0a\\u0e34\", \"\\u0e40\\u0e1b\\u0e47\\u0e19\\u0e41\\u0e19\\u0e27\", \"\\u0e21\\u0e32\\u0e01\\u0e02\\u0e36\\u0e49\\u0e19\", \"xx\", \"\\u0e40\\u0e04\\u0e25\\u0e37\\u0e48\\u0e2d\\u0e19\\u0e15\\u0e31\\u0e27\", \"\\u0e1a\\u0e31\\u0e15\\u0e23\\u0e2a\\u0e21\\u0e32\\u0e0a\\u0e34\\u0e01\", \"\\u0e2b\\u0e21\\u0e39\\u0e48\\u0e04\\u0e13\\u0e30\", \"\\u0e42\\u0e19\\u0e49\\u0e19\", \"\\u0e23\\u0e48\\u0e2d\\u0e19\", \"\\u0e15\\u0e23\\u0e07\\u0e19\\u0e35\\u0e49\", \"\\u0e01\\u0e25\\u0e22\\u0e38\\u0e17\\u0e18\\u0e4c\", \"\\u0e21\\u0e31\\u0e19\\u0e14\\u0e35\", \"\\u0e2a\\u0e25\\u0e31\\u0e14\", \"\\u0e2a\\u0e32\\u0e22\\u0e1e\\u0e32\\u0e19\", \"\\u0e2b\\u0e19\\u0e49\\u0e32\", \"\\u0e1a\\u0e38\", \"     \", \"\\u0e0a\\u0e34\", \"\\u0e02\\u0e2d\\u0e07\\u0e2b\\u0e27\\u0e32\\u0e19\", \"\\u0e1f\\u0e40\\u0e1f\\u0e48\", \"\\u0e2d\\u0e23\\u0e48\\u0e2d\\u0e22\", \"\\u0e2b\\u0e21\\u0e49\\u0e2d\", \"\\u0e2d\\u0e32\\u0e2b\\u0e32\\u0e23\", \"\\u0e23\\u0e32\\u0e04\\u0e32\", \"\\u0e04\\u0e38\\u0e49\\u0e21\\u0e04\\u0e48\\u0e32\", \"\\u0e15\\u0e2d\\u0e19\", \"\\u0e40\\u0e25\\u0e37\\u0e2d\\u0e01\", \"\\u0e19\\u0e49\\u0e33\", \"\\u0e17\\u0e32\\u0e19\", \"\\u0e40\\u0e21\\u0e19\\u0e39\", \"\\u0e04\\u0e38\\u0e49\\u0e21\", \"      \", \"\\u0e0b\\u0e39\\u0e0a\\u0e34\", \"\\u0e0a\\u0e32\\u0e1a\\u0e39\", \"\\u0e14\\u0e35\", \"\\u0e1a\\u0e32\\u0e17\", \"\\u0e2a\\u0e31\\u0e48\\u0e07\", \"\\u0e0b\\u0e38\\u0e1b\", \"\\u0e01\\u0e34\\u0e19\", \"\\u0e1c\\u0e31\\u0e01\", \"\\u0e40\\u0e19\\u0e37\\u0e49\\u0e2d\", \"\\u0e2b\\u0e21\\u0e39\", \"\\u0e2b\\u0e49\\u0e32\\u0e07\", \"\\u0e25\\u0e2d\\u0e07\", \"\\u0e2a\\u0e32\\u0e02\\u0e32\", \"\\u0e1a\\u0e23\\u0e34\\u0e01\\u0e32\\u0e23\", \"\\u0e44\\u0e2d\\u0e15\\u0e34\\u0e21\", \"\\u0e40\\u0e1a\", \"\\u0e1e\\u0e34\\u0e0b\", \"\\u0e2d\\u0e40\\u0e23\\u0e35\\u0e22\", \"\\u0e40\\u0e0b\", \"\\u0e19\\u0e32\", \"\\u0e41\\u0e19\\u0e48\\u0e19\\u0e2d\\u0e19\", \"\\u0e25\\u0e32\\u0e22\\u0e15\\u0e32\", \"\\u0e2d\\u0e31\\u0e1e\\u0e40\\u0e14\\u0e17\", \"\\u0e22\\u0e37\\u0e19\", \"\\u0e15\\u0e23\\u0e07\\u0e19\\u0e31\\u0e49\\u0e19\", \"\\u0e02\\u0e2d\\u0e07\\u0e04\\u0e32\\u0e27\", \"\\u0e0a\\u0e48\\u0e2d\\u0e07\", \"\\u0e21\\u0e34\\u0e15\\u0e23\\u0e20\\u0e32\\u0e1e\", \"\\u0e0b\\u0e35\", \"\\u0e17\\u0e2d\\u0e19\", \"\\u0e25\\u0e2d\\u0e15\\u0e40\\u0e15\\u0e2d\\u0e23\\u0e35\\u0e48\", \"\\u0e16\\u0e39\\u0e01\\u0e2b\\u0e27\\u0e22\", \"\\u0e2a\\u0e31\\u0e1b\\u0e14\\u0e32\\u0e2b\\u0e4c\", \"\\u0e2b\\u0e27\\u0e22\", \"\\u0e44\\u0e14\\u0e49\\u0e40\\u0e27\\u0e25\\u0e32\", \"\\u0e04\\u0e48\\u0e32\\u0e19\\u0e49\\u0e33\", \"\\u0e01\\u0e33\", \"\\u0e2e\\u0e31\\u0e19\", \"\\u0e19\\u0e36\\u0e07\", \"\\u0e42\\u0e17\\u0e2a\", \"\\u0e41\\u0e25\\u0e01\", \"\\u0e2b\\u0e31\\u0e27\", \"\\u0e0b\\u0e36\\u0e1b\", \"\\u0e1f\\u0e23\\u0e35\", \"\\u0e40\\u0e07\\u0e34\\u0e19\", \"\\u0e04\\u0e19\\u0e25\\u0e30\", \"\\u0e1a\\u0e38\\u0e1f\\u0e40\\u0e1f\\u0e48\\u0e15\\u0e4c\", \"\\u0e1e\\u0e34\\u0e0b\\u0e0b\\u0e48\\u0e32\", \"\\u0e1a\\u0e32\\u0e17\", \"\\u0e0a\\u0e38\\u0e14\", \"\\u0e0b\\u0e38\\u0e1b\", \"\\u0e17\\u0e32\\u0e19\", \"\\u0e2d\\u0e34\\u0e48\\u0e21\", \"\\u0e23\\u0e32\\u0e04\\u0e32\", \"\\u0e19\\u0e49\\u0e33\", \"\\u0e0a\\u0e21\", \"\\u0e18\\u0e23\\u0e23\\u0e21\\u0e14\\u0e32\", \"     \", \"\\u0e04\\u0e38\\u0e49\\u0e21\", \"\\u0e41\\u0e19\\u0e30\\u0e19\\u0e33\", \"\\u0e40\\u0e25\\u0e37\\u0e2d\\u0e01\", \"\\u0e0a\\u0e32\\u0e1a\\u0e39\", \"\\u0e14\\u0e35\", \"\\u0e08\\u0e48\\u0e32\\u0e22\", \"\\u0e0a\\u0e31\\u0e49\\u0e19\", \"\\u0e2d\\u0e23\\u0e48\\u0e2d\\u0e22\", \"\\u0e40\\u0e19\\u0e37\\u0e49\\u0e2d\", \"\\u0e2a\\u0e32\\u0e02\\u0e32\", \"\\u0e0b\\u0e39\\u0e0a\\u0e34\", \"\\u0e2d\\u0e32\\u0e2b\\u0e32\\u0e23\", \"\\u0e01\\u0e34\\u0e19\", \"\\u0e23\\u0e2a\\u0e0a\\u0e32\\u0e15\\u0e34\", \"\\u0e2a\\u0e31\\u0e48\\u0e07\", \"\\u0e0a\\u0e34\", \"\\u0e2a\\u0e14\", \"\\u0e40\\u0e21\\u0e19\\u0e39\", \"\\u0e40\\u0e14\\u0e2d\\u0e30\", \"\\u0e01\\u0e38\\u0e49\\u0e07\", \"\\u0e02\\u0e2d\\u0e07\\u0e2b\\u0e27\\u0e32\\u0e19\", \"\\u0e1b\\u0e23\\u0e30\\u0e17\\u0e31\\u0e1a\\u0e43\\u0e08\", \"\\u0e2a\\u0e38\\u0e01\\u0e35\\u0e49\", \"        \", \"\\u0e40\\u0e0b\\u0e47\\u0e17\", \"\\u0e41\\u0e1b\\u0e25\\u0e01\\u0e43\\u0e2b\\u0e21\\u0e48\", \"\\u0e2a\\u0e30\\u0e2d\\u0e32\\u0e14\\u0e2a\\u0e30\\u0e2d\\u0e49\\u0e32\\u0e19\", \"\\u0e43\\u0e2a\\u0e48\\u0e43\\u0e08\", \"\\u0e40\\u0e1f\\u0e23\\u0e19\\u0e44\\u0e0a\\u0e2a\\u0e4c\", \"\\u0e2a\\u0e31\\u0e19\", \"\\u0e44\\u0e17\\u0e22\", \"\\u0e22\\u0e38\\u0e04\", \"\\u0e23\\u0e49\\u0e32\\u0e19\\u0e2d\\u0e32\\u0e2b\\u0e32\\u0e23\", \"\\u0e01\\u0e23\\u0e23\\u0e21\\u0e27\\u0e34\\u0e18\\u0e35\", \"\\u2013\", \"\\u0e44\\u0e14\", \"\\u0e21\\u0e2d\", \"\\u0e01\\u0e35\\u0e49\", \"\\u0e41\\u0e1a\\u0e1a\\u0e09\\u0e1a\\u0e31\\u0e1a\", \"\\u0e01\\u0e4c\", \"number\", \"\\u0e04\\u0e30\\u0e41\\u0e19\\u0e19\", \"\\u0e17\\u0e23\\u0e39\", \"\\u0e1e\\u0e32\\u0e23\\u0e32\", \"\\u0e2a\\u0e44\\u0e25\\u0e15\\u0e4c\", \"\\u0e14\\u0e31\\u0e07\\u0e40\\u0e14\\u0e34\\u0e21\", \"\\u0e2a\\u0e4c\", \"\\u0e2b\\u0e25\\u0e32\\u0e22\\u0e0a\\u0e19\\u0e34\\u0e14\", \"\\u0e1b\\u0e23\\u0e30\", \"menu\", \"\\u0e40\\u0e15\\u0e49\\u0e32\\u0e40\\u0e08\\u0e35\\u0e49\\u0e22\\u0e27\", \"\\u0e42\\u0e21\", \"\\u0e14\\u0e35\\u0e21\\u0e32\\u0e01\", \"\\u0e19\\u0e49\\u0e33\\u0e08\\u0e34\\u0e49\\u0e21\", \"\\u0e23\\u0e2a\\u0e0a\\u0e32\\u0e15\\u0e34\", \"\\u0e40\\u0e2b\\u0e21\\u0e32\\u0e30\\u0e2a\\u0e21\", \"\\u0e2d\\u0e31\\u0e19\\u0e19\\u0e35\\u0e49\", \"\\u0e1a\\u0e23\\u0e34\\u0e01\\u0e32\\u0e23\", \"\\u0e19\\u0e49\\u0e33\", \"\\u0e04\\u0e2d\", \"\\u0e0a\\u0e32\\u0e1a\\u0e39\", \"\\u0e01\\u0e34\\u0e19\", \"\\u0e19\\u0e48\\u0e32\\u0e23\\u0e31\\u0e01\", \"\\u0e2d\\u0e32\\u0e2b\\u0e32\\u0e23\", \"\\u0e14\\u0e33\", \"\\u0e41\\u0e19\\u0e30\\u0e19\\u0e33\", \"\\u0e23\\u0e32\\u0e04\\u0e32\", \"\\u0e0b\\u0e38\\u0e1b\", \"\\u0e2d\\u0e23\\u0e48\\u0e2d\\u0e22\", \"\\u0e40\\u0e19\\u0e37\\u0e49\\u0e2d\", \"\\u0e1a\\u0e32\\u0e17\", \"\\u0e2b\\u0e21\\u0e39\", \"\\u0e40\\u0e25\\u0e37\\u0e2d\\u0e01\", \"\\u0e14\\u0e35\", \"\\u0e04\\u0e38\\u0e49\\u0e21\", \"\\u0e17\\u0e32\\u0e19\", \"\\u0e04\\u0e38\\u0e13\\u0e20\\u0e32\\u0e1e\", \"\\u0e1e\\u0e19\\u0e31\\u0e01\\u0e07\\u0e32\\u0e19\", \"\\u0e2a\\u0e32\\u0e02\\u0e32\", \"\\u0e0d\\u0e35\\u0e48\\u0e1b\\u0e38\\u0e48\\u0e19\", \"\\u0e1c\\u0e31\\u0e01\", \"\\u0e40\\u0e21\\u0e19\\u0e39\", \"\\u0e1a\\u0e38\\u0e1f\\u0e40\\u0e1f\\u0e48\\u0e15\\u0e4c\", \"\\u0e40\\u0e14\\u0e2d\\u0e30\", \"\\u0e1a\\u0e32\\u0e07\\u0e2a\\u0e48\\u0e27\\u0e19\", \"\\u0e0a\\u0e37\\u0e48\\u0e2d\", \"\\u0e40\\u0e14\\u0e34\\u0e19\", \"\\u0e02\\u0e22\\u0e31\\u0e19\", \"\\u0e1a\\u0e31\\u0e15\\u0e23\\u0e40\\u0e04\\u0e23\\u0e14\\u0e34\\u0e15\", \"\\u0e44\\u0e14\\u0e49\\u0e01\\u0e25\\u0e34\\u0e48\\u0e19\", \"\\u0e15\\u0e31\\u0e14\\u0e2a\\u0e34\\u0e19\\u0e43\\u0e08\", \"\\u0e02\\u0e19\\u0e21\", \"\\u0e2a\\u0e1a\\u0e32\\u0e22\\u0e14\\u0e35\", \"\\u0e40\\u0e2a\\u0e49\\u0e19\", \"\\u0e41\\u0e04\\u0e1a\", \"\\u0e40\\u0e14\\u0e47\\u0e01\", \"\\u0e40\\u0e2b\\u0e21\\u0e37\\u0e2d\\u0e19\\u0e01\\u0e31\\u0e1a\", \"\\u0e17\\u0e35\\u0e48\\u0e08\\u0e30\", \"pizzeria\", \"\\u0e07\\u0e07\", \"\\u0e08\\u0e33\\u0e44\\u0e14\\u0e49\", \"\\u0e15\\u0e39\\u0e49\", \"\\u0e40\\u0e01\", \"union\", \"\\u0e1b\\u0e23\\u0e38\\u0e07\", \"mall\", \"\\u0e02\\u0e49\\u0e32\\u0e27\\u0e21\\u0e31\\u0e19\\u0e44\\u0e01\\u0e48\", \"pizza\", \"\\u0e19\\u0e34\\u0e27\", \"\\u0e23\\u0e39\\u0e49\\u0e08\\u0e31\\u0e01\", \"\\u0e25\\u0e35\", \"\\u0e1b\\u0e19\", \"\\u0e2a\\u0e1b\\u0e32\", \"\\u0e15\\u0e15\\u0e35\\u0e49\", \"\\u0e2b\\u0e25\\u0e32\\u0e01\\u0e2b\\u0e25\\u0e32\\u0e22\", \"\\u0e1a\\u0e38\\u0e1f\\u0e40\\u0e1f\\u0e15\\u0e4c\", \"\\u0e19\\u0e31\\u0e48\\u0e07\", \"\\u0e17\\u0e35\\u0e48\\u0e19\\u0e31\\u0e48\\u0e07\", \"shabushi\", \"\\u0e04\\u0e23\\u0e36\\u0e48\\u0e07\", \"\\u0e23\\u0e2d\", \"\\u0e01\\u0e34\\u0e19\", \"\\u0e1c\\u0e31\\u0e01\", \"\\u0e1a\\u0e23\\u0e34\\u0e01\\u0e32\\u0e23\", \"\\u0e40\\u0e25\\u0e37\\u0e2d\\u0e01\", \"\\u0e2d\\u0e32\\u0e2b\\u0e32\\u0e23\", \"\\u0e0a\\u0e32\\u0e1a\\u0e39\", \"\\u0e2a\\u0e32\\u0e02\\u0e32\", \"\\u0e40\\u0e19\\u0e37\\u0e49\\u0e2d\", \"\\u0e14\\u0e35\", \"\\u0e23\\u0e32\\u0e04\\u0e32\", \"\\u0e2b\\u0e22\\u0e34\\u0e1a\", \"\\u0e0a\\u0e31\\u0e48\\u0e27\\u0e42\\u0e21\\u0e07\", \"\\u0e2d\\u0e23\\u0e48\\u0e2d\\u0e22\", \"\\u0e04\\u0e34\\u0e27\", \"\\u0e04\\u0e38\\u0e13\\u0e20\\u0e32\\u0e1e\", \"\\u0e19\\u0e49\\u0e33\", \"\\u0e14\\u0e39\", \"\\u0e2a\\u0e31\\u0e48\\u0e07\", \"\\u0e1e\\u0e19\\u0e31\\u0e01\\u0e07\\u0e32\\u0e19\", \"\\u0e1a\\u0e32\\u0e17\", \"\\u0e17\\u0e32\\u0e19\", \"\\u0e0b\\u0e38\\u0e1b\", \"\\u0e04\\u0e38\\u0e49\\u0e21\", \"\\u0e0a\\u0e34\", \"\\u0e23\\u0e2a\\u0e0a\\u0e32\\u0e15\\u0e34\", \"\\u0e2a\\u0e14\", \"\\u0e40\\u0e14\\u0e2d\\u0e30\", \"\\u0e25\\u0e2d\\u0e07\"], \"Freq\": [14.0, 29.0, 21.0, 8.0, 22.0, 20.0, 16.0, 25.0, 18.0, 11.0, 25.0, 25.0, 15.0, 10.0, 4.0, 6.0, 20.0, 4.0, 13.0, 7.0, 2.0, 25.0, 4.0, 6.0, 14.0, 5.0, 6.0, 8.0, 7.0, 2.0, 4.082692220853102, 2.7888528509643806, 2.1263006798681183, 2.126640708944848, 2.1329393492792645, 2.1338985662662413, 2.1396462423858216, 2.157590299854295, 2.1808620696167047, 2.183684024985973, 1.4604020071456556, 1.4620160899035541, 1.4710910669685908, 1.4719737535826716, 1.4729034205858078, 1.473961228302281, 1.4749602084011542, 1.4755781707360351, 1.4765868192628009, 1.4778680902211294, 1.4794865305803317, 9.951678513726709, 1.4795686441298983, 1.4809423779408897, 1.4812834964179449, 1.4847129286439569, 1.4888670844367902, 1.49207182784558, 1.49317498185062, 1.4938069702146972, 4.373235015427214, 6.032074423966043, 6.326061630020649, 4.653649655171202, 4.653693775884402, 4.654463981914831, 3.073425731752424, 3.0895556653281506, 12.323398890494085, 3.0722731462075954, 9.811597972817644, 4.847801491857227, 10.140801678508263, 7.153424682649757, 10.987245033145784, 7.012260733116561, 10.180252132510985, 3.195861527932563, 9.38678522632287, 10.195650806117934, 4.722275884002683, 3.307639993074259, 6.198587629683188, 3.359654228685792, 6.329394650317816, 5.751588156150626, 3.6433158261011993, 6.113657980274077, 4.664831804816659, 3.6507305570695263, 1.5120271548305282, 1.5384160564264882, 1.0555732748105133, 1.0607435157801812, 1.061106375029965, 1.0611286518731144, 1.063457263926407, 0.5683637773077999, 0.5683675442375453, 0.5683680638140619, 0.5683716359026135, 0.5683736492616154, 0.5683737791557445, 0.5683761821971338, 0.5683874180393054, 0.5683880675099512, 0.5785865751661244, 0.5786599653490949, 0.5789117651184544, 0.5789709968413473, 0.5791169978425132, 0.5791586289109062, 0.5791847376308655, 0.5792181204220573, 0.579256893819609, 0.5793962702201881, 0.5796252735698817, 0.5796261828287858, 0.5797031451003077, 0.5797126273717358, 2.857520683711984, 2.375976388758069, 2.3568471401462374, 3.790350696022313, 3.170112724032033, 3.05281910477332, 1.868557443065503, 6.656402826136945, 1.8770816153969179, 5.377006444450568, 5.223775016479606, 1.963005672571499, 1.1963789654398111, 4.398048948572599, 5.900563956325389, 5.129309251266174, 2.1737303204108254, 3.3091441258041905, 1.3859425606991238, 2.1506130622457955, 4.556348845463038, 4.298496529261609, 3.0662109297005453, 2.4613370950945215, 2.748444167063373, 2.751655409724248, 1.8249483468738459, 2.518969821257595, 1.6569719868322919, 1.649122484607688, 1.7119855277751614, 1.9652540100529763, 1.7010549368070924, 1.662040845434157, 0.8820997394912677, 0.8833455450473435, 0.8845581606413561, 0.885915544987274, 0.8876265773620133, 0.8883635647247499, 0.4708555430987928, 0.47085842712683534, 0.4708602237344684, 0.47086041285106134, 0.47086788295648296, 0.4736766425950162, 0.4737690733298218, 0.47380103403403084, 0.4738455237125229, 0.4738497788358644, 0.4740777116095206, 0.47410305323297625, 0.4742498077091075, 0.47440256663706504, 0.4744387824646155, 0.4745330570862024, 0.47457674301917446, 0.47462997934009066, 0.47463806407443937, 0.47465919785370186, 0.4746707812450202, 0.4749477424953994, 0.47504329365398873, 0.47505109471344803, 2.220907540716576, 3.6481646051160737, 1.9129867693714637, 4.7450540824031275, 0.9927805091917133, 4.114681577176791, 5.352594541362286, 1.4829527520487307, 4.693036807045121, 5.25505501091464, 0.9885628309356828, 1.5188123784963425, 2.402668065553176, 2.7404410802124617, 1.0541882744144888, 3.27521911914967, 3.4046062620837336, 3.19293713718826, 1.2307447834045135, 1.2087247092291786, 2.939657633928373, 2.4533634159264435, 1.9929032809882217, 1.413526726959651, 2.2472543188637784, 2.2797309331383566, 1.9110976837244595, 1.3012358185868063, 1.1546772672458252, 1.1420011602533928, 1.0640114630439335, 1.0524855631698393, 1.0650175633184418, 1.0567474001503245, 1.2552986037605287, 0.847042717956328, 0.8470540266755101, 0.8609187017816055, 0.866257436874172, 0.8664685947618509, 0.8669680322942539, 0.8736526903583296, 0.876421472669554, 0.464768846209054, 0.46476907794510286, 0.4647701439309274, 0.4647702366253469, 0.4647709318334934, 0.4647718587776886, 0.4647720905137374, 0.46477283206909364, 0.4647729247635132, 0.46477329554119123, 0.464774129790967, 0.464775103082372, 0.4647759836793575, 0.46477603002656726, 0.46477603002656726, 0.46477653984587464, 0.4647770960123918, 0.4647790425952018, 0.4647807110947533, 0.46479058305043275, 0.4746772307953848, 1.8205072761489183, 2.4347346114707404, 1.914187222742733, 3.70408235223222, 1.0012815973256517, 0.9943755849877493, 2.8437096205816195, 5.551034975494063, 0.9965004191665305, 4.452379558956508, 4.065682170467852, 0.994766662743727, 3.670935940142964, 1.6675913315350612, 1.0402970492815793, 3.545542266408078, 2.9734046861601633, 3.6279765260250687, 3.1490719198800172, 2.507475630249119, 1.3551643270525335, 2.506912604344922, 2.789171561131965, 1.9795028623506083, 2.3787990909523207, 1.4318186261400168, 1.386843571869541, 1.607223720041453, 1.1276036983665045, 1.1291898852734235, 1.051531891011319, 1.05893622854859, 1.0405669754312374, 0.7313258962043632, 0.7315058971474424, 0.7327891481912279, 0.7361303932777274, 0.39380285639654383, 0.39399810253707396, 0.3941267720035596, 0.394387195847074, 0.39494409394219243, 0.3950919902929927, 0.39559343174044265, 0.3959154820527115, 0.3959389417212595, 0.3960027204531835, 0.4005523895672742, 0.40057570575161083, 0.40074067672355607, 0.40076054928682153, 0.40091730578766965, 0.4011206587861384, 0.4011636681784764, 0.40119720761286837, 0.40121410287874926, 0.40121926831035615, 0.40121951940772593, 0.40125137290263513, 0.4012782044501487, 0.4012797110343674, 0.40131195911085765, 0.401370536540122, 1.1668859223557906, 0.8379357413338301, 0.8336251169157697, 0.8353138543406965, 0.8378807868809012, 0.8381751447403886, 1.3600832518327048, 3.1209026965073625, 1.5638747380511517, 1.7848976736575697, 2.418758977908264, 2.4818464029022436, 2.836253839661946, 1.9695941375516461, 2.3493773310170707, 2.6577761249699385, 2.378634479122741, 1.0107204329739816, 1.0086782939366166, 2.445775907022866, 1.0093402583454614, 1.206835657371947, 2.5371532530541248, 1.0751769843122114, 1.3919697481104967, 1.1689785678355342, 1.5036618757464097, 1.6989503441188492, 1.2832963847961805, 1.0572235941150707, 0.9605979543448886, 0.981461706541987, 0.9499626176347122, 0.8782780491521108, 0.8751345253087863], \"Total\": [14.0, 29.0, 21.0, 8.0, 22.0, 20.0, 16.0, 25.0, 18.0, 11.0, 25.0, 25.0, 15.0, 10.0, 4.0, 6.0, 20.0, 4.0, 13.0, 7.0, 2.0, 25.0, 4.0, 6.0, 14.0, 5.0, 6.0, 8.0, 7.0, 2.0, 4.854019296217138, 3.461780813830436, 2.7128785660765544, 2.714014541259093, 2.735309158164418, 2.7385390480278318, 2.758015582970219, 2.8186659309968536, 2.897622058458052, 2.9076464151961683, 1.9527658886843098, 1.9582102122700549, 1.9888423063551361, 1.9918252830729917, 1.9949766076250364, 1.998535988463847, 2.0019173741198872, 2.0040111814510166, 2.0074194349625216, 2.0117546519402487, 2.017247635776902, 13.569804159733293, 2.0175084979052973, 2.022162276886364, 2.0233189057546825, 2.034927453661348, 2.0489208777066206, 2.059792734187443, 2.0635006860394927, 2.0656838394890458, 6.2753530472734695, 9.183925845872269, 10.560333588712512, 7.587460601006447, 7.587629524424518, 7.590262915198135, 4.7873846866074645, 4.838347057342723, 25.26178024304586, 4.8613378221826835, 20.28238046089877, 8.680499108876617, 22.35877288834608, 14.688399831284054, 25.546898260845413, 15.030139089722526, 25.42984063867621, 5.5588640081524945, 25.056598119436124, 29.43945800190615, 10.800027990191616, 6.019162938812103, 18.79752727965864, 6.1946373311306075, 20.10643775667737, 16.871414971347132, 7.676359575604327, 21.954646549329624, 13.75114346729899, 11.021861269604893, 2.1850320411406248, 2.311437688935697, 1.6827696160249106, 1.7079527941794723, 1.7095792161564716, 1.7098364819201968, 1.721302211324876, 1.03362816301369, 1.0336459307392807, 1.0336484708100548, 1.0336651611799552, 1.0336748205236563, 1.0336755304031602, 1.0336868691303938, 1.0337405197488427, 1.0337434705056856, 1.0824236647578858, 1.0827761814774446, 1.0839848922660922, 1.0842693762596474, 1.0849703699648041, 1.0851706895762083, 1.085295949255687, 1.0854568814910373, 1.0856428946151073, 1.0863129023682414, 1.0874140404002497, 1.0874186390089777, 1.0877884093126093, 1.0878338870871267, 6.175825045246171, 5.555069118132471, 5.522074436876843, 10.731979282447277, 8.653304987279382, 8.417861411270275, 4.8684728510021085, 25.056598119436124, 4.91067328750776, 20.10643775667737, 21.954646549329624, 5.942413242364047, 2.9770964116995, 18.79752727965864, 29.43945800190615, 25.546898260845413, 7.3088748874587335, 13.75114346729899, 3.9826505105833823, 7.830525448186425, 25.42984063867621, 25.26178024304586, 14.893398887124814, 10.800027990191616, 16.871414971347132, 22.35877288834608, 7.86708182756084, 20.28238046089877, 6.257963445107474, 6.425340847371146, 7.348967756130868, 14.688399831284054, 11.021861269604893, 8.680499108876617, 1.575283533084648, 1.5821389343916747, 1.5893141237005266, 1.597291292264, 1.6074037146509172, 1.6116432517246955, 0.9574401408342729, 0.9574566628146794, 0.9574670562885814, 0.9574680945660647, 0.9575112896205747, 0.9736602872342397, 0.9741923808120821, 0.9743760513551507, 0.9746320979758911, 0.9746568191616239, 0.975968400566726, 0.9761146731043391, 0.9769591665592374, 0.9778387571205829, 0.9780472018774825, 0.9785900050893828, 0.9788415421922303, 0.9791480385042401, 0.97919485753893, 0.9793165440911968, 0.9793832210252429, 0.9809783731238383, 0.981528683801791, 0.9815736759925568, 4.653246016867854, 8.596193054215265, 4.899164747254134, 14.893398887124814, 2.570781560215739, 16.871414971347132, 25.546898260845413, 4.534400580570743, 21.954646549329624, 29.43945800190615, 2.8094383469753947, 5.360841652637744, 10.731979282447277, 13.75114346729899, 3.2849847121740265, 18.79752727965864, 25.42984063867621, 25.26178024304586, 5.100314764835223, 5.00668389864002, 25.056598119436124, 20.28238046089877, 14.688399831284054, 7.830525448186425, 20.10643775667737, 22.35877288834608, 15.030139089722526, 10.800027990191616, 8.653304987279382, 10.560333588712512, 7.3088748874587335, 6.663678706312385, 13.569804159733293, 8.417861411270275, 2.052557818965345, 1.4265074633175923, 1.4265728145412255, 1.507377488120511, 1.5386585364880272, 1.5399022305329506, 1.5428009755143186, 1.5820078377414573, 1.5979657084428165, 0.9526038158431548, 0.9526051398262386, 0.9526113154933477, 0.9526119754244895, 0.9526160867221368, 0.952621185120788, 0.9526227630980881, 0.9526270458572185, 0.9526274517941438, 0.952629673885216, 0.9526349640545526, 0.9526404026067039, 0.9526456508404951, 0.9526458719954616, 0.9526459357945352, 0.9526485005071218, 0.9526519196320075, 0.9526631242129386, 0.9526728512848294, 0.9527304378529868, 1.0104065893937353, 4.8388843686396505, 6.9233742733728985, 6.009383821990508, 15.030139089722526, 2.628800726529316, 2.6500861390670285, 11.021861269604893, 29.43945800190615, 2.738266229747228, 25.42984063867621, 22.35877288834608, 2.9106897134824514, 20.10643775667737, 6.76594456602191, 3.2849847121740265, 21.954646549329624, 16.871414971347132, 25.056598119436124, 20.28238046089877, 14.893398887124814, 6.257963445107474, 18.79752727965864, 25.26178024304586, 13.75114346729899, 25.546898260845413, 7.128895805293628, 7.676359575604327, 14.688399831284054, 5.5588640081524945, 7.86708182756084, 7.3088748874587335, 8.596193054215265, 6.663678706312385, 1.4334255504194595, 1.4347140286081457, 1.4427878407357415, 1.4661006554803282, 0.9098080421495709, 0.9111586467921926, 0.9120491146682844, 0.9138516180643488, 0.9177073908732919, 0.9187317621752952, 0.9222063484959382, 0.9244390938912304, 0.9246018670031597, 0.9250445358367885, 0.9567704645275359, 0.9569350823514282, 0.9580979437178662, 0.9582379576766027, 0.9593459230648513, 0.9607852924232665, 0.9610908858299326, 0.9613286813747717, 0.9614490416248903, 0.9614861063942088, 0.9614874362633058, 0.9617136522207593, 0.9619041729331226, 0.9619157373869469, 0.9621450960331461, 0.9625626383314885, 2.9932990321870703, 2.6111737868674267, 2.762643921016743, 2.7746279127113818, 2.7925724696712892, 2.794608111805283, 5.6571383717769095, 22.35877288834608, 7.86708182756084, 11.021861269604893, 18.79752727965864, 20.10643775667737, 25.42984063867621, 14.688399831284054, 20.28238046089877, 25.26178024304586, 21.954646549329624, 4.870866131088858, 4.9628754268200685, 25.056598119436124, 5.043333321052864, 7.128895805293628, 29.43945800190615, 5.941076906199486, 10.800027990191616, 7.676359575604327, 14.893398887124814, 25.546898260845413, 16.871414971347132, 13.75114346729899, 8.653304987279382, 15.030139089722526, 10.560333588712512, 6.663678706312385, 7.348967756130868], \"Category\": [\"Default\", \"Default\", \"Default\", \"Default\", \"Default\", \"Default\", \"Default\", \"Default\", \"Default\", \"Default\", \"Default\", \"Default\", \"Default\", \"Default\", \"Default\", \"Default\", \"Default\", \"Default\", \"Default\", \"Default\", \"Default\", \"Default\", \"Default\", \"Default\", \"Default\", \"Default\", \"Default\", \"Default\", \"Default\", \"Default\", \"Topic1\", \"Topic1\", \"Topic1\", \"Topic1\", \"Topic1\", \"Topic1\", \"Topic1\", \"Topic1\", \"Topic1\", \"Topic1\", \"Topic1\", \"Topic1\", \"Topic1\", \"Topic1\", \"Topic1\", \"Topic1\", \"Topic1\", \"Topic1\", \"Topic1\", \"Topic1\", \"Topic1\", \"Topic1\", \"Topic1\", \"Topic1\", \"Topic1\", \"Topic1\", \"Topic1\", \"Topic1\", \"Topic1\", \"Topic1\", \"Topic1\", \"Topic1\", \"Topic1\", \"Topic1\", \"Topic1\", \"Topic1\", \"Topic1\", \"Topic1\", \"Topic1\", \"Topic1\", \"Topic1\", \"Topic1\", \"Topic1\", \"Topic1\", \"Topic1\", \"Topic1\", \"Topic1\", \"Topic1\", \"Topic1\", \"Topic1\", \"Topic1\", \"Topic1\", \"Topic1\", \"Topic1\", \"Topic1\", \"Topic1\", \"Topic1\", \"Topic1\", \"Topic1\", \"Topic1\", \"Topic2\", \"Topic2\", \"Topic2\", \"Topic2\", \"Topic2\", \"Topic2\", \"Topic2\", \"Topic2\", \"Topic2\", \"Topic2\", \"Topic2\", \"Topic2\", \"Topic2\", \"Topic2\", \"Topic2\", \"Topic2\", \"Topic2\", \"Topic2\", \"Topic2\", \"Topic2\", \"Topic2\", \"Topic2\", \"Topic2\", \"Topic2\", \"Topic2\", \"Topic2\", \"Topic2\", \"Topic2\", \"Topic2\", \"Topic2\", \"Topic2\", \"Topic2\", \"Topic2\", \"Topic2\", \"Topic2\", \"Topic2\", \"Topic2\", \"Topic2\", \"Topic2\", \"Topic2\", \"Topic2\", \"Topic2\", \"Topic2\", \"Topic2\", \"Topic2\", \"Topic2\", \"Topic2\", \"Topic2\", \"Topic2\", \"Topic2\", \"Topic2\", \"Topic2\", \"Topic2\", \"Topic2\", \"Topic2\", \"Topic2\", \"Topic2\", \"Topic2\", \"Topic2\", \"Topic2\", \"Topic2\", \"Topic2\", \"Topic2\", \"Topic2\", \"Topic3\", \"Topic3\", \"Topic3\", \"Topic3\", \"Topic3\", \"Topic3\", \"Topic3\", \"Topic3\", \"Topic3\", \"Topic3\", \"Topic3\", \"Topic3\", \"Topic3\", \"Topic3\", \"Topic3\", \"Topic3\", \"Topic3\", \"Topic3\", \"Topic3\", \"Topic3\", \"Topic3\", \"Topic3\", \"Topic3\", \"Topic3\", \"Topic3\", \"Topic3\", \"Topic3\", \"Topic3\", \"Topic3\", \"Topic3\", \"Topic3\", \"Topic3\", \"Topic3\", \"Topic3\", \"Topic3\", \"Topic3\", \"Topic3\", \"Topic3\", \"Topic3\", \"Topic3\", \"Topic3\", \"Topic3\", \"Topic3\", \"Topic3\", \"Topic3\", \"Topic3\", \"Topic3\", \"Topic3\", \"Topic3\", \"Topic3\", \"Topic3\", \"Topic3\", \"Topic3\", \"Topic3\", \"Topic3\", \"Topic3\", \"Topic3\", \"Topic3\", \"Topic3\", \"Topic3\", \"Topic3\", \"Topic3\", \"Topic3\", \"Topic3\", \"Topic4\", \"Topic4\", \"Topic4\", \"Topic4\", \"Topic4\", \"Topic4\", \"Topic4\", \"Topic4\", \"Topic4\", \"Topic4\", \"Topic4\", \"Topic4\", \"Topic4\", \"Topic4\", \"Topic4\", \"Topic4\", \"Topic4\", \"Topic4\", \"Topic4\", \"Topic4\", \"Topic4\", \"Topic4\", \"Topic4\", \"Topic4\", \"Topic4\", \"Topic4\", \"Topic4\", \"Topic4\", \"Topic4\", \"Topic4\", \"Topic4\", \"Topic4\", \"Topic4\", \"Topic4\", \"Topic4\", \"Topic4\", \"Topic4\", \"Topic4\", \"Topic4\", \"Topic4\", \"Topic4\", \"Topic4\", \"Topic4\", \"Topic4\", \"Topic4\", \"Topic4\", \"Topic4\", \"Topic4\", \"Topic4\", \"Topic4\", \"Topic4\", \"Topic4\", \"Topic4\", \"Topic4\", \"Topic4\", \"Topic4\", \"Topic4\", \"Topic4\", \"Topic4\", \"Topic4\", \"Topic4\", \"Topic4\", \"Topic4\", \"Topic5\", \"Topic5\", \"Topic5\", \"Topic5\", \"Topic5\", \"Topic5\", \"Topic5\", \"Topic5\", \"Topic5\", \"Topic5\", \"Topic5\", \"Topic5\", \"Topic5\", \"Topic5\", \"Topic5\", \"Topic5\", \"Topic5\", \"Topic5\", \"Topic5\", \"Topic5\", \"Topic5\", \"Topic5\", \"Topic5\", \"Topic5\", \"Topic5\", \"Topic5\", \"Topic5\", \"Topic5\", \"Topic5\", \"Topic5\", \"Topic5\", \"Topic5\", \"Topic5\", \"Topic5\", \"Topic5\", \"Topic5\", \"Topic5\", \"Topic5\", \"Topic5\", \"Topic5\", \"Topic5\", \"Topic5\", \"Topic5\", \"Topic5\", \"Topic5\", \"Topic5\", \"Topic5\", \"Topic5\", \"Topic5\", \"Topic5\", \"Topic5\", \"Topic5\", \"Topic5\", \"Topic5\", \"Topic5\", \"Topic5\", \"Topic5\", \"Topic5\", \"Topic5\", \"Topic5\", \"Topic5\", \"Topic5\", \"Topic5\", \"Topic5\", \"Topic5\"], \"logprob\": [30.0, 29.0, 28.0, 27.0, 26.0, 25.0, 24.0, 23.0, 22.0, 21.0, 20.0, 19.0, 18.0, 17.0, 16.0, 15.0, 14.0, 13.0, 12.0, 11.0, 10.0, 9.0, 8.0, 7.0, 6.0, 5.0, 4.0, 3.0, 2.0, 1.0, -4.9646, -5.3458, -5.617, -5.6168, -5.6139, -5.6134, -5.6107, -5.6024, -5.5917, -5.5904, -5.9927, -5.9916, -5.9854, -5.9848, -5.9841, -5.9834, -5.9828, -5.9823, -5.9817, -5.9808, -5.9797, -4.0736, -5.9796, -5.9787, -5.9785, -5.9762, -5.9734, -5.9712, -5.9705, -5.9701, -4.8959, -4.5743, -4.5267, -4.8337, -4.8337, -4.8336, -5.2486, -5.2434, -3.8599, -5.249, -4.0878, -4.7929, -4.0548, -4.4038, -3.9747, -4.4237, -4.0509, -5.2095, -4.1321, -4.0494, -4.8191, -5.1752, -4.5471, -5.1595, -4.5262, -4.6219, -5.0785, -4.5609, -4.8313, -5.0765, -5.2176, -5.2003, -5.5769, -5.572, -5.5717, -5.5717, -5.5695, -6.196, -6.196, -6.196, -6.196, -6.196, -6.196, -6.196, -6.196, -6.196, -6.1782, -6.1781, -6.1776, -6.1775, -6.1773, -6.1772, -6.1772, -6.1771, -6.177, -6.1768, -6.1764, -6.1764, -6.1763, -6.1762, -4.5811, -4.7656, -4.7737, -4.2986, -4.4772, -4.515, -5.0058, -3.7354, -5.0013, -3.9489, -3.9778, -4.9565, -5.4517, -4.1499, -3.856, -3.996, -4.8546, -4.4343, -5.3046, -4.8653, -4.1145, -4.1728, -4.5106, -4.7303, -4.62, -4.6188, -5.0295, -4.7072, -5.126, -5.1308, -5.0934, -4.9554, -5.0998, -5.123, -5.439, -5.4376, -5.4362, -5.4346, -5.4327, -5.4319, -6.0667, -6.0667, -6.0667, -6.0667, -6.0667, -6.0607, -6.0605, -6.0605, -6.0604, -6.0604, -6.0599, -6.0598, -6.0595, -6.0592, -6.0591, -6.0589, -6.0588, -6.0587, -6.0587, -6.0587, -6.0586, -6.0581, -6.0579, -6.0578, -4.5156, -4.0193, -4.6648, -3.7564, -5.3208, -3.899, -3.6359, -4.9195, -3.7674, -3.6543, -5.325, -4.8956, -4.4369, -4.3054, -5.2607, -4.1271, -4.0884, -4.1526, -5.1059, -5.1239, -4.2352, -4.4161, -4.6239, -4.9674, -4.5038, -4.4895, -4.6658, -5.0502, -5.1697, -5.1807, -5.2515, -5.2624, -5.2505, -5.2583, -5.0662, -5.4596, -5.4596, -5.4434, -5.4372, -5.4369, -5.4364, -5.4287, -5.4255, -6.0598, -6.0598, -6.0598, -6.0598, -6.0598, -6.0598, -6.0598, -6.0598, -6.0598, -6.0598, -6.0598, -6.0598, -6.0598, -6.0598, -6.0598, -6.0598, -6.0598, -6.0598, -6.0598, -6.0598, -6.0387, -4.6945, -4.4038, -4.6443, -3.9842, -5.2923, -5.2992, -4.2485, -3.5796, -5.2971, -3.8002, -3.891, -5.2989, -3.9932, -4.7822, -5.2541, -4.0279, -4.2039, -4.0049, -4.1465, -4.3743, -4.9897, -4.3746, -4.2679, -4.6108, -4.427, -4.9347, -4.9666, -4.8191, -5.1735, -5.1721, -5.2434, -5.2363, -5.2538, -5.3503, -5.35, -5.3483, -5.3437, -5.9693, -5.9688, -5.9685, -5.9678, -5.9664, -5.966, -5.9647, -5.9639, -5.9639, -5.9637, -5.9523, -5.9522, -5.9518, -5.9518, -5.9514, -5.9509, -5.9508, -5.9507, -5.9506, -5.9506, -5.9506, -5.9505, -5.9505, -5.9505, -5.9504, -5.9502, -4.883, -5.2142, -5.2193, -5.2173, -5.2143, -5.2139, -4.7298, -3.8993, -4.5902, -4.458, -4.1541, -4.1284, -3.9949, -4.3595, -4.1832, -4.0599, -4.1708, -5.0267, -5.0287, -4.143, -5.0281, -4.8494, -4.1063, -4.9649, -4.7067, -4.8812, -4.6295, -4.5074, -4.7879, -4.9817, -5.0776, -5.0561, -5.0887, -5.1672, -5.1708], \"loglift\": [30.0, 29.0, 28.0, 27.0, 26.0, 25.0, 24.0, 23.0, 22.0, 21.0, 20.0, 19.0, 18.0, 17.0, 16.0, 15.0, 14.0, 13.0, 12.0, 11.0, 10.0, 9.0, 8.0, 7.0, 6.0, 5.0, 4.0, 3.0, 2.0, 1.0, 0.714, 0.6709, 0.6434, 0.6431, 0.6383, 0.6376, 0.6332, 0.6198, 0.6029, 0.6007, 0.5965, 0.5948, 0.5855, 0.5846, 0.5836, 0.5826, 0.5816, 0.5809, 0.5799, 0.5786, 0.577, 0.5769, 0.5769, 0.5755, 0.5752, 0.5718, 0.5677, 0.5646, 0.5635, 0.5629, 0.5259, 0.4667, 0.3746, 0.3982, 0.3982, 0.398, 0.4438, 0.4385, 0.1692, 0.4281, 0.1608, 0.3045, 0.0964, 0.1676, 0.0432, 0.1246, -0.0284, 0.3335, -0.0948, -0.1733, 0.0598, 0.2883, -0.2224, 0.2752, -0.2688, -0.1891, 0.1418, -0.3914, -0.194, -0.2179, 1.2592, 1.2203, 1.161, 1.1511, 1.1505, 1.1503, 1.1458, 1.0293, 1.0293, 1.0293, 1.0293, 1.0293, 1.0293, 1.0293, 1.0293, 1.0293, 1.001, 1.0008, 1.0001, 1.0, 0.9996, 0.9995, 0.9994, 0.9993, 0.9992, 0.9988, 0.9982, 0.9982, 0.998, 0.998, 0.8567, 0.7781, 0.776, 0.5866, 0.6232, 0.6131, 0.6698, 0.3018, 0.6657, 0.3085, 0.1916, 0.5198, 0.7157, 0.1748, 0.0201, 0.0219, 0.4148, 0.203, 0.5718, 0.3351, -0.092, -0.1436, 0.0469, 0.1486, -0.1872, -0.4676, 0.1663, -0.4585, 0.2985, 0.2674, 0.1705, -0.384, -0.2412, -0.0256, 1.365, 1.3621, 1.3589, 1.3555, 1.3511, 1.3493, 1.2352, 1.2352, 1.2352, 1.2352, 1.2351, 1.2244, 1.224, 1.2239, 1.2237, 1.2237, 1.2228, 1.2227, 1.2222, 1.2216, 1.2215, 1.2211, 1.221, 1.2208, 1.2207, 1.2206, 1.2206, 1.2196, 1.2192, 1.2192, 1.2052, 1.0878, 1.0045, 0.8011, 0.9934, 0.5338, 0.382, 0.8272, 0.402, 0.2218, 0.9004, 0.6837, 0.4483, 0.3319, 0.8083, 0.1976, -0.0659, -0.1235, 0.5232, 0.5237, -0.1979, -0.1674, -0.0526, 0.233, -0.2464, -0.3383, -0.1175, -0.1713, -0.0692, -0.2794, 0.0179, 0.0994, -0.6, -0.1303, 1.4731, 1.4436, 1.4435, 1.4047, 1.3903, 1.3898, 1.3885, 1.371, 1.3642, 1.2471, 1.2471, 1.2471, 1.2471, 1.2471, 1.2471, 1.2471, 1.2471, 1.2471, 1.2471, 1.2471, 1.2471, 1.2471, 1.2471, 1.2471, 1.2471, 1.2471, 1.2471, 1.2471, 1.2471, 1.2093, 0.9872, 0.9197, 0.8208, 0.5642, 0.9996, 0.9846, 0.61, 0.2965, 0.954, 0.2223, 0.2602, 0.8912, 0.2642, 0.5643, 0.815, 0.1415, 0.2289, 0.0323, 0.1022, 0.1832, 0.4349, -0.0499, -0.2387, 0.0265, -0.4091, 0.3596, 0.2537, -0.2477, 0.3695, 0.0236, 0.026, -0.1292, 0.1079, 1.5481, 1.5474, 1.5436, 1.5321, 1.3837, 1.3827, 1.382, 1.3807, 1.3779, 1.3772, 1.3747, 1.3731, 1.3729, 1.3726, 1.3503, 1.3502, 1.3494, 1.3493, 1.3485, 1.3475, 1.3473, 1.3472, 1.3471, 1.3471, 1.3471, 1.3469, 1.3468, 1.3468, 1.3466, 1.3463, 1.279, 1.0844, 1.0229, 1.0206, 1.0172, 1.0168, 0.7957, 0.2519, 0.6055, 0.4005, 0.1706, 0.129, 0.0276, 0.2118, 0.0654, -0.0308, -0.0014, 0.6484, 0.6277, -0.1057, 0.6123, 0.4449, -0.2303, 0.5116, 0.1722, 0.339, -0.072, -0.4895, -0.3552, -0.3444, 0.0229, -0.5077, -0.1874, 0.1946, 0.0931]}, \"token.table\": {\"Topic\": [1, 2, 3, 4, 5, 1, 2, 3, 4, 4, 1, 5, 2, 2, 1, 2, 3, 4, 5, 1, 2, 3, 4, 5, 5, 2, 1, 2, 3, 4, 5, 2, 1, 1, 1, 3, 1, 5, 2, 4, 1, 2, 5, 1, 2, 3, 4, 5, 1, 2, 3, 4, 5, 1, 2, 3, 4, 2, 2, 1, 2, 3, 1, 3, 1, 2, 3, 4, 5, 1, 2, 3, 5, 1, 2, 3, 5, 1, 2, 3, 4, 5, 1, 2, 3, 4, 5, 1, 5, 3, 4, 1, 2, 3, 4, 5, 1, 2, 3, 4, 5, 2, 1, 4, 1, 2, 3, 4, 1, 2, 3, 4, 5, 1, 2, 3, 4, 5, 1, 2, 3, 4, 5, 2, 1, 2, 1, 1, 2, 3, 1, 2, 3, 4, 5, 1, 5, 2, 1, 2, 3, 1, 5, 3, 1, 1, 1, 2, 1, 4, 1, 2, 3, 4, 5, 1, 2, 4, 2, 1, 2, 3, 4, 5, 2, 5, 1, 2, 3, 4, 5, 1, 2, 4, 2, 5, 1, 2, 3, 4, 5, 4, 1, 1, 2, 3, 4, 2, 1, 2, 3, 4, 5, 1, 1, 2, 3, 4, 5, 3, 1, 2, 3, 1, 2, 4, 1, 2, 3, 4, 2, 2, 1, 2, 3, 1, 2, 3, 4, 5, 1, 2, 3, 4, 5, 1, 2, 3, 4, 5, 1, 2, 1, 2, 3, 4, 5, 2, 1, 1, 1, 1, 2, 3, 4, 5, 1, 2, 2, 4, 4, 1, 2, 3, 4, 5, 1, 2, 3, 4, 5, 1, 2, 3, 4, 5, 1, 3, 4, 1, 1, 2, 5, 1, 2, 3, 4, 5, 2, 1, 2, 3, 1, 2, 5, 1, 4, 5, 1, 4, 1, 1, 2, 3, 4, 5, 1, 1, 2, 3, 4, 5, 3, 4, 1, 2, 3, 4, 5, 1, 3, 1, 3, 2, 2, 1, 2, 2, 1, 3, 4, 1, 2, 3, 4, 5, 5, 1, 1, 2, 3, 4, 1, 2, 3, 4, 5, 1, 2, 1, 3, 2, 4, 1, 2, 3, 4, 5, 1, 2, 3, 4, 5, 2, 1, 4, 5, 1, 1, 1, 3, 4, 3, 2, 4, 2, 2, 1, 4, 1, 2, 1, 1, 4, 1, 2, 1, 2, 3, 4, 5, 1], \"Freq\": [0.2795383704203249, 0.3727178272270999, 0.18635891361354995, 0.09317945680677497, 0.09317945680677497, 0.25108906677666754, 0.25108906677666754, 0.25108906677666754, 0.25108906677666754, 0.7009806928934027, 0.358092766028632, 0.358092766028632, 0.9216841562525246, 0.9196090301628019, 0.44725173648560274, 0.1341755209456808, 0.08945034729712055, 0.1789006945942411, 0.1341755209456808, 0.73693031102643, 0.07369303110264301, 0.07369303110264301, 0.07369303110264301, 0.07369303110264301, 0.682081408436706, 0.9673579843854501, 0.35638505475790355, 0.35638505475790355, 0.11879501825263451, 0.11879501825263451, 0.11879501825263451, 0.9674312703530362, 0.4914180101117352, 0.5106704038892486, 0.21490374598184472, 0.42980749196368945, 0.35783192490413696, 0.35783192490413696, 0.3651945852220187, 0.3651945852220187, 0.3965631205955019, 0.19828156029775096, 0.19828156029775096, 0.2805483562426149, 0.14027417812130746, 0.14027417812130746, 0.14027417812130746, 0.14027417812130746, 0.36360612569349504, 0.21816367541609705, 0.21816367541609705, 0.14544245027739802, 0.07272122513869901, 0.33656360108748473, 0.33656360108748473, 0.16828180054374237, 0.16828180054374237, 0.5942584121302537, 0.5809555076504004, 0.19606633043408003, 0.19606633043408003, 0.19606633043408003, 0.35594303077573747, 0.35594303077573747, 0.6533153795766666, 0.1088858965961111, 0.1088858965961111, 0.1088858965961111, 0.1088858965961111, 0.4029921825544365, 0.20149609127721824, 0.20149609127721824, 0.20149609127721824, 0.399466001946571, 0.1997330009732855, 0.1997330009732855, 0.1997330009732855, 0.39323879933368566, 0.19661939966684283, 0.11797163980010571, 0.15729551973347428, 0.11797163980010571, 0.34668834675422744, 0.34668834675422744, 0.11556278225140915, 0.11556278225140915, 0.11556278225140915, 0.4942374616061859, 0.6970030124889255, 0.38898676397697535, 0.38898676397697535, 0.3556311080125675, 0.17781555400628374, 0.23708740534171166, 0.17781555400628374, 0.059271851335427915, 0.3831160526647429, 0.2554107017764953, 0.12770535088824764, 0.12770535088824764, 0.12770535088824764, 0.9674109538038986, 0.5396786098023396, 0.17989286993411321, 0.4433970705385003, 0.14779902351283344, 0.14779902351283344, 0.2955980470256669, 0.47502590413450363, 0.15834196804483455, 0.11875647603362591, 0.11875647603362591, 0.11875647603362591, 0.28887648147117273, 0.28887648147117273, 0.14443824073558637, 0.28887648147117273, 0.14443824073558637, 0.3366393048898272, 0.3366393048898272, 0.1683196524449136, 0.1683196524449136, 0.1683196524449136, 0.9196129191342106, 0.33589775462768495, 0.33589775462768495, 0.8666059930814977, 0.4842898525994028, 0.1614299508664676, 0.1614299508664676, 0.4305806477046651, 0.19571847622939323, 0.19571847622939323, 0.07828739049175729, 0.07828739049175729, 0.3604086859426115, 0.3604086859426115, 0.8652623471415755, 0.559613619350962, 0.1865378731169873, 0.3730757462339746, 0.3619720921659594, 0.3619720921659594, 0.622121244890349, 0.7251590644916222, 0.7372242993140896, 0.6374143366703375, 0.15935358416758438, 0.3435611825499479, 0.3435611825499479, 0.3396801666441182, 0.20380809998647093, 0.1698400833220591, 0.20380809998647093, 0.10190404999323546, 0.49921923592597217, 0.16640641197532408, 0.33281282395064815, 0.584939259058279, 0.36291511044789176, 0.18145755522394588, 0.09072877761197294, 0.2721863328359188, 0.18145755522394588, 0.9214076590683081, 0.6976295348630925, 0.20143152162489036, 0.20143152162489036, 0.3357192027081506, 0.20143152162489036, 0.13428768108326025, 0.1810913654698173, 0.3621827309396346, 0.1810913654698173, 0.3829695308023447, 0.3829695308023447, 0.23266113119915005, 0.11633056559957503, 0.4653222623983001, 0.11633056559957503, 0.11633056559957503, 0.48719699428690433, 0.7311787751780638, 0.658738709826296, 0.1317477419652592, 0.1317477419652592, 0.1317477419652592, 0.9674468915107232, 0.3813358073243963, 0.2542238715495975, 0.12711193577479876, 0.12711193577479876, 0.2542238715495975, 0.5028050724809128, 0.5210803324940777, 0.13027008312351943, 0.13027008312351943, 0.13027008312351943, 0.13027008312351943, 0.6320557431857243, 0.20411642628684334, 0.20411642628684334, 0.4082328525736867, 0.20540321998389366, 0.4108064399677873, 0.20540321998389366, 0.65896733411997, 0.13179346682399398, 0.13179346682399398, 0.13179346682399398, 0.9192964288265544, 0.9222800365806259, 0.49840817244798785, 0.1661360574826626, 0.1661360574826626, 0.4657308863353458, 0.06653298376219226, 0.13306596752438452, 0.26613193504876903, 0.06653298376219226, 0.35353563384234477, 0.17676781692117238, 0.17676781692117238, 0.17676781692117238, 0.17676781692117238, 0.27329066703573085, 0.22774222252977572, 0.22774222252977572, 0.18219377802382059, 0.09109688901191029, 0.48410118764706683, 0.9205450821949431, 0.40822059635480823, 0.27214706423653884, 0.13607353211826942, 0.13607353211826942, 0.13607353211826942, 0.967422230033042, 0.4989992118087604, 0.4880617943233176, 0.49952111557033413, 0.5681638699759582, 0.09469397832932637, 0.09469397832932637, 0.09469397832932637, 0.09469397832932637, 0.48461335960072527, 0.5848512478087791, 0.9192579968966421, 0.6493918770764467, 0.6257956567631722, 0.4629617631121796, 0.18518470524487185, 0.09259235262243593, 0.09259235262243593, 0.09259235262243593, 0.47656654777949786, 0.13616187079414224, 0.13616187079414224, 0.13616187079414224, 0.13616187079414224, 0.3238433707799893, 0.48576505616998394, 0.16192168538999466, 0.16192168538999466, 0.16192168538999466, 0.626646947422544, 0.20888231580751465, 0.7010128062522192, 0.7095555305103777, 0.18001576195260457, 0.36003152390520915, 0.18001576195260457, 0.31959279045703215, 0.31959279045703215, 0.15979639522851607, 0.15979639522851607, 0.15979639522851607, 0.9212710491331084, 0.20363806375469848, 0.40727612750939696, 0.20363806375469848, 0.20530229595459132, 0.20530229595459132, 0.20530229595459132, 0.3340795521085458, 0.3340795521085458, 0.3340795521085458, 0.6200464672014734, 0.20668215573382445, 0.4981519968290383, 0.31126753389561845, 0.31126753389561845, 0.15563376694780923, 0.15563376694780923, 0.15563376694780923, 0.5020520667642084, 0.35918682804026775, 0.2793675329202083, 0.11972894268008925, 0.159638590240119, 0.0798192951200595, 0.37734622481065966, 0.37734622481065966, 0.2984118854175148, 0.24867657118126232, 0.09947062847250493, 0.19894125694500986, 0.09947062847250493, 0.4410726323055165, 0.22053631615275826, 0.5003662709965204, 0.6292022357868565, 0.9674215656531737, 0.9674492689046659, 0.5120941561887673, 0.9673607456569079, 0.9215140158185897, 0.49707850757821986, 0.626059883280651, 0.663403830746378, 0.30013451850633727, 0.15006725925316863, 0.15006725925316863, 0.15006725925316863, 0.15006725925316863, 0.6931025974616307, 0.4945201537137543, 0.6589820050382561, 0.13179640100765122, 0.13179640100765122, 0.13179640100765122, 0.49303877418523046, 0.14791163225556914, 0.09860775483704609, 0.14791163225556914, 0.09860775483704609, 0.6171140763579017, 0.20570469211930056, 0.6902211398350153, 0.6348063564416533, 0.9225220823045605, 0.6321081199114937, 0.27363992827839906, 0.27363992827839906, 0.13681996413919953, 0.13681996413919953, 0.13681996413919953, 0.3191909186104907, 0.21279394574032712, 0.15959545930524535, 0.15959545930524535, 0.10639697287016356, 0.9153183854255817, 0.8240593528578065, 0.3804015990669075, 0.3804015990669075, 0.49572495823740065, 0.6878415441256696, 0.3044154197412361, 0.3044154197412361, 0.3044154197412361, 0.620484712686789, 0.585496275662827, 0.6499167789901521, 0.923852676690765, 0.9211131993403132, 0.4133184113598188, 0.4133184113598188, 0.501259010345225, 0.9235519002971632, 0.49566086142301863, 0.7303164077358352, 0.6481717446844583, 0.48548574009534257, 0.9674658990369976, 0.5760037455550263, 0.23040149822201053, 0.11520074911100527, 0.11520074911100527, 0.11520074911100527, 0.7369157274566976], \"Term\": [\"     \", \"     \", \"     \", \"     \", \"     \", \"      \", \"      \", \"      \", \"      \", \"        \", \"shabushi\", \"shabushi\", \"xx\", \"\\u0e01\\u0e25\\u0e22\\u0e38\\u0e17\\u0e18\\u0e4c\", \"\\u0e01\\u0e34\\u0e19\", \"\\u0e01\\u0e34\\u0e19\", \"\\u0e01\\u0e34\\u0e19\", \"\\u0e01\\u0e34\\u0e19\", \"\\u0e01\\u0e34\\u0e19\", \"\\u0e01\\u0e38\\u0e49\\u0e07\", \"\\u0e01\\u0e38\\u0e49\\u0e07\", \"\\u0e01\\u0e38\\u0e49\\u0e07\", \"\\u0e01\\u0e38\\u0e49\\u0e07\", \"\\u0e01\\u0e38\\u0e49\\u0e07\", \"\\u0e02\\u0e22\\u0e31\\u0e19\", \"\\u0e02\\u0e2d\\u0e07\\u0e01\\u0e34\\u0e19\", \"\\u0e02\\u0e2d\\u0e07\\u0e2b\\u0e27\\u0e32\\u0e19\", \"\\u0e02\\u0e2d\\u0e07\\u0e2b\\u0e27\\u0e32\\u0e19\", \"\\u0e02\\u0e2d\\u0e07\\u0e2b\\u0e27\\u0e32\\u0e19\", \"\\u0e02\\u0e2d\\u0e07\\u0e2b\\u0e27\\u0e32\\u0e19\", \"\\u0e02\\u0e2d\\u0e07\\u0e2b\\u0e27\\u0e32\\u0e19\", \"\\u0e02\\u0e32\", \"\\u0e02\\u0e32\\u0e14\\u0e2a\\u0e32\\u0e23\\u0e2d\\u0e32\\u0e2b\\u0e32\\u0e23\", \"\\u0e02\\u0e49\\u0e32\\u0e27\", \"\\u0e04\\u0e19\\u0e25\\u0e30\", \"\\u0e04\\u0e19\\u0e25\\u0e30\", \"\\u0e04\\u0e23\\u0e36\\u0e48\\u0e07\", \"\\u0e04\\u0e23\\u0e36\\u0e48\\u0e07\", \"\\u0e04\\u0e2d\", \"\\u0e04\\u0e2d\", \"\\u0e04\\u0e34\\u0e27\", \"\\u0e04\\u0e34\\u0e27\", \"\\u0e04\\u0e34\\u0e27\", \"\\u0e04\\u0e38\\u0e13\\u0e20\\u0e32\\u0e1e\", \"\\u0e04\\u0e38\\u0e13\\u0e20\\u0e32\\u0e1e\", \"\\u0e04\\u0e38\\u0e13\\u0e20\\u0e32\\u0e1e\", \"\\u0e04\\u0e38\\u0e13\\u0e20\\u0e32\\u0e1e\", \"\\u0e04\\u0e38\\u0e13\\u0e20\\u0e32\\u0e1e\", \"\\u0e04\\u0e38\\u0e49\\u0e21\", \"\\u0e04\\u0e38\\u0e49\\u0e21\", \"\\u0e04\\u0e38\\u0e49\\u0e21\", \"\\u0e04\\u0e38\\u0e49\\u0e21\", \"\\u0e04\\u0e38\\u0e49\\u0e21\", \"\\u0e04\\u0e38\\u0e49\\u0e21\\u0e04\\u0e48\\u0e32\", \"\\u0e04\\u0e38\\u0e49\\u0e21\\u0e04\\u0e48\\u0e32\", \"\\u0e04\\u0e38\\u0e49\\u0e21\\u0e04\\u0e48\\u0e32\", \"\\u0e04\\u0e38\\u0e49\\u0e21\\u0e04\\u0e48\\u0e32\", \"\\u0e04\\u0e48\\u0e32\", \"\\u0e08\\u0e1a\", \"\\u0e08\\u0e48\\u0e32\\u0e22\", \"\\u0e08\\u0e48\\u0e32\\u0e22\", \"\\u0e08\\u0e48\\u0e32\\u0e22\", \"\\u0e0a\\u0e21\", \"\\u0e0a\\u0e21\", \"\\u0e0a\\u0e2d\\u0e1a\", \"\\u0e0a\\u0e2d\\u0e1a\", \"\\u0e0a\\u0e2d\\u0e1a\", \"\\u0e0a\\u0e2d\\u0e1a\", \"\\u0e0a\\u0e2d\\u0e1a\", \"\\u0e0a\\u0e31\\u0e48\\u0e27\\u0e42\\u0e21\\u0e07\", \"\\u0e0a\\u0e31\\u0e48\\u0e27\\u0e42\\u0e21\\u0e07\", \"\\u0e0a\\u0e31\\u0e48\\u0e27\\u0e42\\u0e21\\u0e07\", \"\\u0e0a\\u0e31\\u0e48\\u0e27\\u0e42\\u0e21\\u0e07\", \"\\u0e0a\\u0e31\\u0e49\\u0e19\", \"\\u0e0a\\u0e31\\u0e49\\u0e19\", \"\\u0e0a\\u0e31\\u0e49\\u0e19\", \"\\u0e0a\\u0e31\\u0e49\\u0e19\", \"\\u0e0a\\u0e32\\u0e1a\\u0e39\", \"\\u0e0a\\u0e32\\u0e1a\\u0e39\", \"\\u0e0a\\u0e32\\u0e1a\\u0e39\", \"\\u0e0a\\u0e32\\u0e1a\\u0e39\", \"\\u0e0a\\u0e32\\u0e1a\\u0e39\", \"\\u0e0a\\u0e34\", \"\\u0e0a\\u0e34\", \"\\u0e0a\\u0e34\", \"\\u0e0a\\u0e34\", \"\\u0e0a\\u0e34\", \"\\u0e0a\\u0e37\\u0e48\\u0e19\", \"\\u0e0a\\u0e37\\u0e48\\u0e2d\", \"\\u0e0a\\u0e38\\u0e14\", \"\\u0e0a\\u0e38\\u0e14\", \"\\u0e0b\\u0e38\\u0e1b\", \"\\u0e0b\\u0e38\\u0e1b\", \"\\u0e0b\\u0e38\\u0e1b\", \"\\u0e0b\\u0e38\\u0e1b\", \"\\u0e0b\\u0e38\\u0e1b\", \"\\u0e0b\\u0e39\\u0e0a\\u0e34\", \"\\u0e0b\\u0e39\\u0e0a\\u0e34\", \"\\u0e0b\\u0e39\\u0e0a\\u0e34\", \"\\u0e0b\\u0e39\\u0e0a\\u0e34\", \"\\u0e0b\\u0e39\\u0e0a\\u0e34\", \"\\u0e0b\\u0e48\\u0e32\", \"\\u0e0d\\u0e35\\u0e48\\u0e1b\\u0e38\\u0e48\\u0e19\", \"\\u0e0d\\u0e35\\u0e48\\u0e1b\\u0e38\\u0e48\\u0e19\", \"\\u0e14\\u0e33\", \"\\u0e14\\u0e33\", \"\\u0e14\\u0e33\", \"\\u0e14\\u0e33\", \"\\u0e14\\u0e35\", \"\\u0e14\\u0e35\", \"\\u0e14\\u0e35\", \"\\u0e14\\u0e35\", \"\\u0e14\\u0e35\", \"\\u0e14\\u0e35\\u0e21\\u0e32\\u0e01\", \"\\u0e14\\u0e35\\u0e21\\u0e32\\u0e01\", \"\\u0e14\\u0e35\\u0e21\\u0e32\\u0e01\", \"\\u0e14\\u0e35\\u0e21\\u0e32\\u0e01\", \"\\u0e14\\u0e35\\u0e21\\u0e32\\u0e01\", \"\\u0e14\\u0e39\", \"\\u0e14\\u0e39\", \"\\u0e14\\u0e39\", \"\\u0e14\\u0e39\", \"\\u0e14\\u0e39\", \"\\u0e15\\u0e23\\u0e07\\u0e19\\u0e35\\u0e49\", \"\\u0e15\\u0e2d\\u0e19\", \"\\u0e15\\u0e2d\\u0e19\", \"\\u0e15\\u0e31\\u0e27\", \"\\u0e17\\u0e2d\\u0e14\", \"\\u0e17\\u0e2d\\u0e14\", \"\\u0e17\\u0e2d\\u0e14\", \"\\u0e17\\u0e32\\u0e19\", \"\\u0e17\\u0e32\\u0e19\", \"\\u0e17\\u0e32\\u0e19\", \"\\u0e17\\u0e32\\u0e19\", \"\\u0e17\\u0e32\\u0e19\", \"\\u0e17\\u0e35\\u0e48\\u0e19\\u0e31\\u0e48\\u0e07\", \"\\u0e17\\u0e35\\u0e48\\u0e19\\u0e31\\u0e48\\u0e07\", \"\\u0e17\\u0e48\\u0e32\\u0e19\", \"\\u0e18\\u0e23\\u0e23\\u0e21\\u0e14\\u0e32\", \"\\u0e18\\u0e23\\u0e23\\u0e21\\u0e14\\u0e32\", \"\\u0e18\\u0e23\\u0e23\\u0e21\\u0e14\\u0e32\", \"\\u0e19\\u0e31\\u0e48\\u0e07\", \"\\u0e19\\u0e31\\u0e48\\u0e07\", \"\\u0e19\\u0e32\", \"\\u0e19\\u0e32\\u0e17\\u0e35\", \"\\u0e19\\u0e36\\u0e01\\u0e16\\u0e36\\u0e07\", \"\\u0e19\\u0e38\\u0e48\\u0e21\", \"\\u0e19\\u0e38\\u0e48\\u0e21\", \"\\u0e19\\u0e48\\u0e32\\u0e23\\u0e31\\u0e01\", \"\\u0e19\\u0e48\\u0e32\\u0e23\\u0e31\\u0e01\", \"\\u0e19\\u0e49\\u0e33\", \"\\u0e19\\u0e49\\u0e33\", \"\\u0e19\\u0e49\\u0e33\", \"\\u0e19\\u0e49\\u0e33\", \"\\u0e19\\u0e49\\u0e33\", \"\\u0e19\\u0e49\\u0e33\\u0e08\\u0e34\\u0e49\\u0e21\", \"\\u0e19\\u0e49\\u0e33\\u0e08\\u0e34\\u0e49\\u0e21\", \"\\u0e19\\u0e49\\u0e33\\u0e08\\u0e34\\u0e49\\u0e21\", \"\\u0e19\\u0e4d\\u0e49\\u0e32\", \"\\u0e1a\\u0e23\\u0e34\\u0e01\\u0e32\\u0e23\", \"\\u0e1a\\u0e23\\u0e34\\u0e01\\u0e32\\u0e23\", \"\\u0e1a\\u0e23\\u0e34\\u0e01\\u0e32\\u0e23\", \"\\u0e1a\\u0e23\\u0e34\\u0e01\\u0e32\\u0e23\", \"\\u0e1a\\u0e23\\u0e34\\u0e01\\u0e32\\u0e23\", \"\\u0e1a\\u0e31\\u0e15\\u0e23\\u0e2a\\u0e21\\u0e32\\u0e0a\\u0e34\\u0e01\", \"\\u0e1a\\u0e32\\u0e07\\u0e2a\\u0e48\\u0e27\\u0e19\", \"\\u0e1a\\u0e32\\u0e17\", \"\\u0e1a\\u0e32\\u0e17\", \"\\u0e1a\\u0e32\\u0e17\", \"\\u0e1a\\u0e32\\u0e17\", \"\\u0e1a\\u0e32\\u0e17\", \"\\u0e1a\\u0e38\", \"\\u0e1a\\u0e38\", \"\\u0e1a\\u0e38\", \"\\u0e1a\\u0e38\\u0e1f\\u0e40\\u0e1f\\u0e15\\u0e4c\", \"\\u0e1a\\u0e38\\u0e1f\\u0e40\\u0e1f\\u0e15\\u0e4c\", \"\\u0e1a\\u0e38\\u0e1f\\u0e40\\u0e1f\\u0e48\\u0e15\\u0e4c\", \"\\u0e1a\\u0e38\\u0e1f\\u0e40\\u0e1f\\u0e48\\u0e15\\u0e4c\", \"\\u0e1a\\u0e38\\u0e1f\\u0e40\\u0e1f\\u0e48\\u0e15\\u0e4c\", \"\\u0e1a\\u0e38\\u0e1f\\u0e40\\u0e1f\\u0e48\\u0e15\\u0e4c\", \"\\u0e1a\\u0e38\\u0e1f\\u0e40\\u0e1f\\u0e48\\u0e15\\u0e4c\", \"\\u0e1b\\u0e23\\u0e30\\u0e17\\u0e31\\u0e1a\\u0e43\\u0e08\", \"\\u0e1b\\u0e2d\\u0e01\\u0e40\\u0e1b\\u0e25\\u0e37\\u0e2d\\u0e01\", \"\\u0e1b\\u0e38\\u0e23\\u0e30\", \"\\u0e1b\\u0e38\\u0e23\\u0e30\", \"\\u0e1b\\u0e38\\u0e23\\u0e30\", \"\\u0e1b\\u0e38\\u0e23\\u0e30\", \"\\u0e1b\\u0e39\\u0e2d\\u0e31\\u0e14\", \"\\u0e1c\\u0e31\\u0e01\", \"\\u0e1c\\u0e31\\u0e01\", \"\\u0e1c\\u0e31\\u0e01\", \"\\u0e1c\\u0e31\\u0e01\", \"\\u0e1c\\u0e31\\u0e01\", \"\\u0e1c\\u0e34\\u0e14\\u0e2b\\u0e27\\u0e31\\u0e07\", \"\\u0e1e\\u0e19\\u0e31\\u0e01\\u0e07\\u0e32\\u0e19\", \"\\u0e1e\\u0e19\\u0e31\\u0e01\\u0e07\\u0e32\\u0e19\", \"\\u0e1e\\u0e19\\u0e31\\u0e01\\u0e07\\u0e32\\u0e19\", \"\\u0e1e\\u0e19\\u0e31\\u0e01\\u0e07\\u0e32\\u0e19\", \"\\u0e1e\\u0e19\\u0e31\\u0e01\\u0e07\\u0e32\\u0e19\", \"\\u0e1e\\u0e34\\u0e0b\", \"\\u0e1e\\u0e34\\u0e0b\\u0e0b\\u0e48\\u0e32\", \"\\u0e1e\\u0e34\\u0e0b\\u0e0b\\u0e48\\u0e32\", \"\\u0e1e\\u0e34\\u0e0b\\u0e0b\\u0e48\\u0e32\", \"\\u0e1f\\u0e40\\u0e1f\\u0e48\", \"\\u0e1f\\u0e40\\u0e1f\\u0e48\", \"\\u0e1f\\u0e40\\u0e1f\\u0e48\", \"\\u0e21\", \"\\u0e21\", \"\\u0e21\", \"\\u0e21\", \"\\u0e21\\u0e31\\u0e19\\u0e14\\u0e35\", \"\\u0e21\\u0e32\\u0e01\\u0e02\\u0e36\\u0e49\\u0e19\", \"\\u0e23\\u0e2a\", \"\\u0e23\\u0e2a\", \"\\u0e23\\u0e2a\", \"\\u0e23\\u0e2a\\u0e0a\\u0e32\\u0e15\\u0e34\", \"\\u0e23\\u0e2a\\u0e0a\\u0e32\\u0e15\\u0e34\", \"\\u0e23\\u0e2a\\u0e0a\\u0e32\\u0e15\\u0e34\", \"\\u0e23\\u0e2a\\u0e0a\\u0e32\\u0e15\\u0e34\", \"\\u0e23\\u0e2a\\u0e0a\\u0e32\\u0e15\\u0e34\", \"\\u0e23\\u0e2d\", \"\\u0e23\\u0e2d\", \"\\u0e23\\u0e2d\", \"\\u0e23\\u0e2d\", \"\\u0e23\\u0e2d\", \"\\u0e23\\u0e32\\u0e04\\u0e32\", \"\\u0e23\\u0e32\\u0e04\\u0e32\", \"\\u0e23\\u0e32\\u0e04\\u0e32\", \"\\u0e23\\u0e32\\u0e04\\u0e32\", \"\\u0e23\\u0e32\\u0e04\\u0e32\", \"\\u0e23\\u0e35\\u0e48\", \"\\u0e23\\u0e48\\u0e2d\\u0e19\", \"\\u0e25\\u0e2d\\u0e07\", \"\\u0e25\\u0e2d\\u0e07\", \"\\u0e25\\u0e2d\\u0e07\", \"\\u0e25\\u0e2d\\u0e07\", \"\\u0e25\\u0e2d\\u0e07\", \"\\u0e25\\u0e30\\u0e25\\u0e32\\u0e19\\u0e15\\u0e32\", \"\\u0e25\\u0e32\", \"\\u0e25\\u0e37\\u0e21\", \"\\u0e27\\u0e32\\u0e19\\u0e34\\u0e25\\u0e32\", \"\\u0e2a\\u0e14\", \"\\u0e2a\\u0e14\", \"\\u0e2a\\u0e14\", \"\\u0e2a\\u0e14\", \"\\u0e2a\\u0e14\", \"\\u0e2a\\u0e15\\u0e2d\", \"\\u0e2a\\u0e21\\u0e23\\u0e32\\u0e04\\u0e32\", \"\\u0e2a\\u0e25\\u0e31\\u0e14\", \"\\u0e2a\\u0e30\\u0e2d\\u0e32\\u0e14\\u0e2a\\u0e30\\u0e2d\\u0e49\\u0e32\\u0e19\", \"\\u0e2a\\u0e31\\u0e19\", \"\\u0e2a\\u0e31\\u0e48\\u0e07\", \"\\u0e2a\\u0e31\\u0e48\\u0e07\", \"\\u0e2a\\u0e31\\u0e48\\u0e07\", \"\\u0e2a\\u0e31\\u0e48\\u0e07\", \"\\u0e2a\\u0e31\\u0e48\\u0e07\", \"\\u0e2a\\u0e32\\u0e02\\u0e32\", \"\\u0e2a\\u0e32\\u0e02\\u0e32\", \"\\u0e2a\\u0e32\\u0e02\\u0e32\", \"\\u0e2a\\u0e32\\u0e02\\u0e32\", \"\\u0e2a\\u0e32\\u0e02\\u0e32\", \"\\u0e2a\\u0e32\\u0e22\\u0e1e\\u0e32\\u0e19\", \"\\u0e2a\\u0e32\\u0e22\\u0e1e\\u0e32\\u0e19\", \"\\u0e2a\\u0e32\\u0e22\\u0e1e\\u0e32\\u0e19\", \"\\u0e2a\\u0e32\\u0e22\\u0e1e\\u0e32\\u0e19\", \"\\u0e2a\\u0e32\\u0e22\\u0e1e\\u0e32\\u0e19\", \"\\u0e2a\\u0e33\\u0e2b\\u0e23\\u0e31\\u0e1a\", \"\\u0e2a\\u0e33\\u0e2b\\u0e23\\u0e31\\u0e1a\", \"\\u0e2a\\u0e38\\u0e01\\u0e35\\u0e49\", \"\\u0e2a\\u0e48\\u0e27\\u0e19\\u0e15\\u0e31\\u0e27\", \"\\u0e2b\\u0e19\\u0e49\\u0e32\", \"\\u0e2b\\u0e19\\u0e49\\u0e32\", \"\\u0e2b\\u0e19\\u0e49\\u0e32\", \"\\u0e2b\\u0e21\\u0e39\", \"\\u0e2b\\u0e21\\u0e39\", \"\\u0e2b\\u0e21\\u0e39\", \"\\u0e2b\\u0e21\\u0e39\", \"\\u0e2b\\u0e21\\u0e39\", \"\\u0e2b\\u0e21\\u0e39\\u0e48\\u0e04\\u0e13\\u0e30\", \"\\u0e2b\\u0e21\\u0e49\\u0e2d\", \"\\u0e2b\\u0e21\\u0e49\\u0e2d\", \"\\u0e2b\\u0e21\\u0e49\\u0e2d\", \"\\u0e2b\\u0e22\\u0e34\\u0e1a\", \"\\u0e2b\\u0e22\\u0e34\\u0e1a\", \"\\u0e2b\\u0e22\\u0e34\\u0e1a\", \"\\u0e2b\\u0e25\\u0e32\\u0e01\\u0e2b\\u0e25\\u0e32\\u0e22\", \"\\u0e2b\\u0e25\\u0e32\\u0e01\\u0e2b\\u0e25\\u0e32\\u0e22\", \"\\u0e2b\\u0e25\\u0e32\\u0e01\\u0e2b\\u0e25\\u0e32\\u0e22\", \"\\u0e2b\\u0e27\\u0e32\\u0e19\", \"\\u0e2b\\u0e27\\u0e32\\u0e19\", \"\\u0e2b\\u0e2d\\u0e21\", \"\\u0e2b\\u0e49\\u0e32\\u0e07\", \"\\u0e2b\\u0e49\\u0e32\\u0e07\", \"\\u0e2b\\u0e49\\u0e32\\u0e07\", \"\\u0e2b\\u0e49\\u0e32\\u0e07\", \"\\u0e2b\\u0e49\\u0e32\\u0e07\", \"\\u0e2d\\u0e22\\u0e48\\u0e32\", \"\\u0e2d\\u0e23\\u0e48\\u0e2d\\u0e22\", \"\\u0e2d\\u0e23\\u0e48\\u0e2d\\u0e22\", \"\\u0e2d\\u0e23\\u0e48\\u0e2d\\u0e22\", \"\\u0e2d\\u0e23\\u0e48\\u0e2d\\u0e22\", \"\\u0e2d\\u0e23\\u0e48\\u0e2d\\u0e22\", \"\\u0e2d\\u0e31\\u0e19\\u0e19\\u0e35\\u0e49\", \"\\u0e2d\\u0e31\\u0e19\\u0e19\\u0e35\\u0e49\", \"\\u0e2d\\u0e32\\u0e2b\\u0e32\\u0e23\", \"\\u0e2d\\u0e32\\u0e2b\\u0e32\\u0e23\", \"\\u0e2d\\u0e32\\u0e2b\\u0e32\\u0e23\", \"\\u0e2d\\u0e32\\u0e2b\\u0e32\\u0e23\", \"\\u0e2d\\u0e32\\u0e2b\\u0e32\\u0e23\", \"\\u0e2d\\u0e34\\u0e48\\u0e21\", \"\\u0e2d\\u0e34\\u0e48\\u0e21\", \"\\u0e2d\\u0e35\\u0e01\\u0e04\\u0e23\\u0e31\\u0e49\\u0e07\", \"\\u0e2d\\u0e40\\u0e23\\u0e35\\u0e22\", \"\\u0e2e\\u0e48\\u0e32\", \"\\u0e32\\u0e19\", \"\\u0e40\\u0e01\\u0e34\\u0e19\\u0e44\\u0e1b\", \"\\u0e40\\u0e01\\u0e35\\u0e4a\\u0e22\\u0e27\", \"\\u0e40\\u0e04\\u0e25\\u0e37\\u0e48\\u0e2d\\u0e19\\u0e15\\u0e31\\u0e27\", \"\\u0e40\\u0e0a\\u0e47\\u0e04\\u0e1a\\u0e34\\u0e25\", \"\\u0e40\\u0e0b\", \"\\u0e40\\u0e0b\\u0e47\\u0e17\", \"\\u0e40\\u0e14\\u0e2d\\u0e30\", \"\\u0e40\\u0e14\\u0e2d\\u0e30\", \"\\u0e40\\u0e14\\u0e2d\\u0e30\", \"\\u0e40\\u0e14\\u0e2d\\u0e30\", \"\\u0e40\\u0e14\\u0e2d\\u0e30\", \"\\u0e40\\u0e14\\u0e34\\u0e19\", \"\\u0e40\\u0e14\\u0e49\\u0e07\", \"\\u0e40\\u0e17\", \"\\u0e40\\u0e17\", \"\\u0e40\\u0e17\", \"\\u0e40\\u0e17\", \"\\u0e40\\u0e19\\u0e37\\u0e49\\u0e2d\", \"\\u0e40\\u0e19\\u0e37\\u0e49\\u0e2d\", \"\\u0e40\\u0e19\\u0e37\\u0e49\\u0e2d\", \"\\u0e40\\u0e19\\u0e37\\u0e49\\u0e2d\", \"\\u0e40\\u0e19\\u0e37\\u0e49\\u0e2d\", \"\\u0e40\\u0e19\\u0e37\\u0e49\\u0e2d\\u0e27\\u0e31\\u0e27\", \"\\u0e40\\u0e19\\u0e37\\u0e49\\u0e2d\\u0e27\\u0e31\\u0e27\", \"\\u0e40\\u0e19\\u0e37\\u0e49\\u0e2d\\u0e2b\\u0e21\\u0e39\", \"\\u0e40\\u0e1a\", \"\\u0e40\\u0e1b\\u0e47\\u0e19\\u0e41\\u0e19\\u0e27\", \"\\u0e40\\u0e1f\\u0e23\\u0e19\\u0e44\\u0e0a\\u0e2a\\u0e4c\", \"\\u0e40\\u0e21\\u0e19\\u0e39\", \"\\u0e40\\u0e21\\u0e19\\u0e39\", \"\\u0e40\\u0e21\\u0e19\\u0e39\", \"\\u0e40\\u0e21\\u0e19\\u0e39\", \"\\u0e40\\u0e21\\u0e19\\u0e39\", \"\\u0e40\\u0e25\\u0e37\\u0e2d\\u0e01\", \"\\u0e40\\u0e25\\u0e37\\u0e2d\\u0e01\", \"\\u0e40\\u0e25\\u0e37\\u0e2d\\u0e01\", \"\\u0e40\\u0e25\\u0e37\\u0e2d\\u0e01\", \"\\u0e40\\u0e25\\u0e37\\u0e2d\\u0e01\", \"\\u0e40\\u0e25\\u0e48\\u0e19\", \"\\u0e40\\u0e27\\u0e25\\u0e32\", \"\\u0e40\\u0e2b\\u0e21\\u0e32\\u0e30\\u0e2a\\u0e21\", \"\\u0e40\\u0e2b\\u0e21\\u0e32\\u0e30\\u0e2a\\u0e21\", \"\\u0e40\\u0e2b\\u0e21\\u0e37\\u0e2d\\u0e19\", \"\\u0e40\\u0e2b\\u0e47\\u0e14\", \"\\u0e41\\u0e19\\u0e30\\u0e19\\u0e33\", \"\\u0e41\\u0e19\\u0e30\\u0e19\\u0e33\", \"\\u0e41\\u0e19\\u0e30\\u0e19\\u0e33\", \"\\u0e41\\u0e19\\u0e48\\u0e19\\u0e2d\\u0e19\", \"\\u0e41\\u0e1b\\u0e25\\u0e01\", \"\\u0e41\\u0e1b\\u0e25\\u0e01\\u0e43\\u0e2b\\u0e21\\u0e48\", \"\\u0e42\\u0e0a\\u0e04\\u0e0a\\u0e30\\u0e15\\u0e32\", \"\\u0e42\\u0e19\\u0e49\\u0e19\", \"\\u0e42\\u0e21\", \"\\u0e42\\u0e21\", \"\\u0e42\\u0e21\\u0e48\", \"\\u0e42\\u0e2d\\u0e2d\\u0e34\\u0e0a\\u0e34\", \"\\u0e43\\u0e08\\u0e14\\u0e35\", \"\\u0e43\\u0e0a\\u0e49\\u0e44\\u0e14\\u0e49\", \"\\u0e43\\u0e2a\\u0e48\\u0e43\\u0e08\", \"\\u0e44\\u0e02\\u0e48\", \"\\u0e44\\u0e21\\u0e48\\u0e07\\u0e31\\u0e49\\u0e19\", \"\\u0e44\\u0e2d\\u0e15\\u0e34\\u0e21\", \"\\u0e44\\u0e2d\\u0e15\\u0e34\\u0e21\", \"\\u0e44\\u0e2d\\u0e15\\u0e34\\u0e21\", \"\\u0e44\\u0e2d\\u0e15\\u0e34\\u0e21\", \"\\u0e44\\u0e2d\\u0e15\\u0e34\\u0e21\", \"\\u0e44\\u0e2d\\u0e28\\u0e01\\u0e23\\u0e35\\u0e21\"]}, \"R\": 30, \"lambda.step\": 0.01, \"plot.opts\": {\"xlab\": \"PC1\", \"ylab\": \"PC2\"}, \"topic.order\": [1, 3, 5, 4, 2]};\n",
              "\n",
              "function LDAvis_load_lib(url, callback){\n",
              "  var s = document.createElement('script');\n",
              "  s.src = url;\n",
              "  s.async = true;\n",
              "  s.onreadystatechange = s.onload = callback;\n",
              "  s.onerror = function(){console.warn(\"failed to load library \" + url);};\n",
              "  document.getElementsByTagName(\"head\")[0].appendChild(s);\n",
              "}\n",
              "\n",
              "if(typeof(LDAvis) !== \"undefined\"){\n",
              "   // already loaded: just create the visualization\n",
              "   !function(LDAvis){\n",
              "       new LDAvis(\"#\" + \"ldavis_el2811405119548182562320391112\", ldavis_el2811405119548182562320391112_data);\n",
              "   }(LDAvis);\n",
              "}else if(typeof define === \"function\" && define.amd){\n",
              "   // require.js is available: use it to load d3/LDAvis\n",
              "   require.config({paths: {d3: \"https://d3js.org/d3.v5\"}});\n",
              "   require([\"d3\"], function(d3){\n",
              "      window.d3 = d3;\n",
              "      LDAvis_load_lib(\"https://cdn.jsdelivr.net/gh/bmabey/pyLDAvis@3.3.1/pyLDAvis/js/ldavis.v3.0.0.js\", function(){\n",
              "        new LDAvis(\"#\" + \"ldavis_el2811405119548182562320391112\", ldavis_el2811405119548182562320391112_data);\n",
              "      });\n",
              "    });\n",
              "}else{\n",
              "    // require.js not available: dynamically load d3 & LDAvis\n",
              "    LDAvis_load_lib(\"https://d3js.org/d3.v5.js\", function(){\n",
              "         LDAvis_load_lib(\"https://cdn.jsdelivr.net/gh/bmabey/pyLDAvis@3.3.1/pyLDAvis/js/ldavis.v3.0.0.js\", function(){\n",
              "                 new LDAvis(\"#\" + \"ldavis_el2811405119548182562320391112\", ldavis_el2811405119548182562320391112_data);\n",
              "            })\n",
              "         });\n",
              "}\n",
              "</script>"
            ],
            "text/plain": [
              "PreparedData(topic_coordinates=              x         y  topics  cluster       Freq\n",
              "topic                                                \n",
              "0      0.062666  0.012820       1        1  41.187841\n",
              "2     -0.034944  0.035895       2        1  19.644050\n",
              "4     -0.010204 -0.000592       3        1  14.300169\n",
              "3     -0.009400 -0.042304       4        1  14.018292\n",
              "1     -0.008118 -0.005819       5        1  10.849648, topic_info=         Term       Freq      Total Category  logprob  loglift\n",
              "18        บาท  14.000000  14.000000  Default  30.0000  30.0000\n",
              "15        น้ำ  29.000000  29.000000  Default  29.0000  29.0000\n",
              "23       ราคา  21.000000  21.000000  Default  28.0000  28.0000\n",
              "209  บุฟเฟ่ต์   8.000000   8.000000  Default  27.0000  27.0000\n",
              "0         กิน  22.000000  22.000000  Default  26.0000  26.0000\n",
              "..        ...        ...        ...      ...      ...      ...\n",
              "257        ชิ   0.960598   8.653305   Topic5  -5.0776   0.0229\n",
              "22     รสชาติ   0.981462  15.030139   Topic5  -5.0561  -0.5077\n",
              "120        สด   0.949963  10.560334   Topic5  -5.0887  -0.1874\n",
              "223      เดอะ   0.878278   6.663679   Topic5  -5.1672   0.1946\n",
              "117       ลอง   0.875135   7.348968   Topic5  -5.1708   0.0931\n",
              "\n",
              "[346 rows x 6 columns], token_table=      Topic      Freq     Term\n",
              "term                          \n",
              "253       1  0.279538         \n",
              "253       2  0.372718         \n",
              "253       3  0.186359         \n",
              "253       4  0.093179         \n",
              "253       5  0.093179         \n",
              "...     ...       ...      ...\n",
              "44        2  0.230401    ไอติม\n",
              "44        3  0.115201    ไอติม\n",
              "44        4  0.115201    ไอติม\n",
              "44        5  0.115201    ไอติม\n",
              "168       1  0.736916  ไอศกรีม\n",
              "\n",
              "[382 rows x 3 columns], R=30, lambda_step=0.01, plot_opts={'xlab': 'PC1', 'ylab': 'PC2'}, topic_order=[1, 3, 5, 4, 2])"
            ]
          },
          "metadata": {
            "tags": []
          },
          "execution_count": 56
        }
      ]
    },
    {
      "cell_type": "code",
      "metadata": {
        "colab": {
          "base_uri": "https://localhost:8080/"
        },
        "id": "Uc0kSNGEsaMT",
        "outputId": "65beef5e-3b03-4510-adb2-609c891a0f3b"
      },
      "source": [
        "model.show_topic(3)"
      ],
      "execution_count": 62,
      "outputs": [
        {
          "output_type": "execute_result",
          "data": {
            "text/plain": [
              "[('น้ำ', 0.027886277),\n",
              " ('ชาบู', 0.022367053),\n",
              " ('กิน', 0.020424433),\n",
              " ('รสชาติ', 0.018607894),\n",
              " ('อาหาร', 0.01844138),\n",
              " ('อร่อย', 0.018225567),\n",
              " ('ราคา', 0.01781145),\n",
              " ('เนื้อ', 0.015819734),\n",
              " ('ซุป', 0.014937248),\n",
              " ('บริการ', 0.01428571)]"
            ]
          },
          "metadata": {
            "tags": []
          },
          "execution_count": 62
        }
      ]
    },
    {
      "cell_type": "code",
      "metadata": {
        "id": "LdWByRsuseii"
      },
      "source": [
        "df['topics'] = df['review_tokenized'].apply(lambda x: model.get_document_topics(dictionary.doc2bow(x.split(',')))[0][0])\n",
        "df['score'] = df['review_tokenized'].apply(lambda x: model.get_document_topics(dictionary.doc2bow(x.split(',')))[0][1])"
      ],
      "execution_count": 58,
      "outputs": []
    },
    {
      "cell_type": "code",
      "metadata": {
        "colab": {
          "base_uri": "https://localhost:8080/",
          "height": 700
        },
        "id": "LFOPBHpUsgSV",
        "outputId": "0d2cd249-e6e1-4e19-a05a-18b6805d9a04"
      },
      "source": [
        "df[['Restaurant', 'review_tokenized', 'topics', 'score']]"
      ],
      "execution_count": 59,
      "outputs": [
        {
          "output_type": "execute_result",
          "data": {
            "text/html": [
              "<div>\n",
              "<style scoped>\n",
              "    .dataframe tbody tr th:only-of-type {\n",
              "        vertical-align: middle;\n",
              "    }\n",
              "\n",
              "    .dataframe tbody tr th {\n",
              "        vertical-align: top;\n",
              "    }\n",
              "\n",
              "    .dataframe thead th {\n",
              "        text-align: right;\n",
              "    }\n",
              "</style>\n",
              "<table border=\"1\" class=\"dataframe\">\n",
              "  <thead>\n",
              "    <tr style=\"text-align: right;\">\n",
              "      <th></th>\n",
              "      <th>Restaurant</th>\n",
              "      <th>review_tokenized</th>\n",
              "      <th>topics</th>\n",
              "      <th>score</th>\n",
              "    </tr>\n",
              "  </thead>\n",
              "  <tbody>\n",
              "    <tr>\n",
              "      <th>0</th>\n",
              "      <td>Mo-Mo-Paradise (โม โม พาราไดซ์) เดอะมอลล์ บางกะปิ</td>\n",
              "      <td>บริการ,ดีมาก,พนักงาน,น่ารัก,สะอาดสะอ้าน,ใส่ใจ,...</td>\n",
              "      <td>3</td>\n",
              "      <td>0.998311</td>\n",
              "    </tr>\n",
              "    <tr>\n",
              "      <th>1</th>\n",
              "      <td>Mo-Mo-Paradise (โม โม พาราไดซ์) เดอะมอลล์ บางกะปิ</td>\n",
              "      <td>รสชาติ,เหมือน,สาขา,สาขา,บริการ,ดี,ที่นั่ง,ดี,น...</td>\n",
              "      <td>0</td>\n",
              "      <td>0.998044</td>\n",
              "    </tr>\n",
              "    <tr>\n",
              "      <th>2</th>\n",
              "      <td>Mo-Mo-Paradise (โม โม พาราไดซ์) เดอะมอลล์ บางกะปิ</td>\n",
              "      <td>ชาบู,พรีเมี่ยม,สไตล์,ญี่ปุ่น,เนื้อ,ดีมาก,ทาน,น...</td>\n",
              "      <td>0</td>\n",
              "      <td>0.999297</td>\n",
              "    </tr>\n",
              "    <tr>\n",
              "      <th>3</th>\n",
              "      <td>Mo-Mo-Paradise (โม โม พาราไดซ์) เดอะมอลล์ บางกะปิ</td>\n",
              "      <td>เนื้อ,ดี,ไอติม,ดี,คุ้มค่า,ดี,นึกถึง,ชาบู,เนื้อ...</td>\n",
              "      <td>0</td>\n",
              "      <td>0.997178</td>\n",
              "    </tr>\n",
              "    <tr>\n",
              "      <th>4</th>\n",
              "      <td>Mo-Mo-Paradise (โม โม พาราไดซ์) เดอะมอลล์ บางกะปิ</td>\n",
              "      <td>อาหาร,คุณภาพ,บริการ,ดี,เดิน,หน้า,ได้กลิ่น,ชาบู...</td>\n",
              "      <td>1</td>\n",
              "      <td>0.997086</td>\n",
              "    </tr>\n",
              "    <tr>\n",
              "      <th>5</th>\n",
              "      <td>Mo-Mo-Paradise (โม โม พาราไดซ์) เดอะมอลล์ บางกะปิ</td>\n",
              "      <td>กิน,อิ่ม,momo,บุ,ฟเฟ่,ชาบู,แนว,ญี่ปุ่น,สาย,เนื...</td>\n",
              "      <td>0</td>\n",
              "      <td>0.996923</td>\n",
              "    </tr>\n",
              "    <tr>\n",
              "      <th>6</th>\n",
              "      <td>Mo-Mo-Paradise (โม โม พาราไดซ์) เดอะมอลล์ บางกะปิ</td>\n",
              "      <td>ชาบู,สุก,กี้,สไลต์,ญี่ปุ่น,ทรู,number,      ,โ...</td>\n",
              "      <td>3</td>\n",
              "      <td>0.998237</td>\n",
              "    </tr>\n",
              "    <tr>\n",
              "      <th>7</th>\n",
              "      <td>Mo-Mo-Paradise (โม โม พาราไดซ์) เดอะมอลล์ บางกะปิ</td>\n",
              "      <td>ชาบู,เฟรนไชส์,ราคา,เหมาะสม,คุณภาพ,คุ้ม,น้ำ,ซุป...</td>\n",
              "      <td>3</td>\n",
              "      <td>0.998003</td>\n",
              "    </tr>\n",
              "    <tr>\n",
              "      <th>8</th>\n",
              "      <td>Shabushi (ชาบูชิ) เดอะมอลล์บางกะปิ ชั้น G</td>\n",
              "      <td>อร่อย,คุ้ม,ทาน,เล่น,าน,ขา,บู,ชิ,ตอน,หิว,ไม่งั้...</td>\n",
              "      <td>2</td>\n",
              "      <td>0.997140</td>\n",
              "    </tr>\n",
              "    <tr>\n",
              "      <th>9</th>\n",
              "      <td>Shabushi (ชาบูชิ) เดอะมอลล์บางกะปิ ชั้น G</td>\n",
              "      <td>ทาน,ชอบ,กุ้ง,ทอด,เท,ม,ปุระ,ชอบ,กุ้ง,ทอด,เท,ม,ป...</td>\n",
              "      <td>0</td>\n",
              "      <td>0.998359</td>\n",
              "    </tr>\n",
              "    <tr>\n",
              "      <th>10</th>\n",
              "      <td>Shabushi (ชาบูชิ) เดอะมอลล์บางกะปิ ชั้น G</td>\n",
              "      <td>บุฟเฟ่ต์,คุ้ม,ห้าง,กลับมา,อัพเดท,ราคา,ชาบู,ชิ,...</td>\n",
              "      <td>4</td>\n",
              "      <td>0.997083</td>\n",
              "    </tr>\n",
              "    <tr>\n",
              "      <th>11</th>\n",
              "      <td>Shabushi (ชาบูชิ) เดอะมอลล์บางกะปิ ชั้น G</td>\n",
              "      <td>กุ้ง,ขาดสารอาหาร,กุ้ง,ปอกเปลือก,รู้,ห่างหาย,สำ...</td>\n",
              "      <td>0</td>\n",
              "      <td>0.999517</td>\n",
              "    </tr>\n",
              "    <tr>\n",
              "      <th>12</th>\n",
              "      <td>Shabushi (ชาบูชิ) เดอะมอลล์บางกะปิ ชั้น G</td>\n",
              "      <td>อิ่ม,อร่อย,ฝุดฝุด,วันก่อน,นัด,หา,ข้าว,ทาน,เดอะ...</td>\n",
              "      <td>0</td>\n",
              "      <td>0.997790</td>\n",
              "    </tr>\n",
              "    <tr>\n",
              "      <th>13</th>\n",
              "      <td>Shabushi (ชาบูชิ) เดอะมอลล์บางกะปิ ชั้น G</td>\n",
              "      <td>เต็มคราบ,ชั่วโมง,ครึ่ง,shabushi,หลายครั้ง,เลือ...</td>\n",
              "      <td>1</td>\n",
              "      <td>0.998131</td>\n",
              "    </tr>\n",
              "    <tr>\n",
              "      <th>14</th>\n",
              "      <td>Shabushi (ชาบูชิ) เดอะมอลล์บางกะปิ ชั้น G</td>\n",
              "      <td>ชาบู,ชาบู,ชิ,สวัสดี,รีวิว,ชาบู,ชิ,บุ,ฟเฟ,ขวัญใ...</td>\n",
              "      <td>2</td>\n",
              "      <td>0.997065</td>\n",
              "    </tr>\n",
              "    <tr>\n",
              "      <th>15</th>\n",
              "      <td>Shabushi (ชาบูชิ) เดอะมอลล์บางกะปิ ชั้น G</td>\n",
              "      <td>บุฟเฟต์,น้ำ,เดือด,สายพาน,ร่อน,ชาบู,ชิ,สาขา,เดอ...</td>\n",
              "      <td>2</td>\n",
              "      <td>0.998848</td>\n",
              "    </tr>\n",
              "    <tr>\n",
              "      <th>16</th>\n",
              "      <td>ข้าน้อยขอชาบู</td>\n",
              "      <td>บุฟเฟ่ต์,ชาบู,พิซซ่า,อั้น,ราคา,     ,บาท,อิ่ม,...</td>\n",
              "      <td>4</td>\n",
              "      <td>0.998607</td>\n",
              "    </tr>\n",
              "    <tr>\n",
              "      <th>17</th>\n",
              "      <td>ข้าน้อยขอชาบู</td>\n",
              "      <td>บุฟเฟ่ต์,ราคา,มิตรภาพ,ชั้น,ติด,โรงหนัง,ธรรมดา,...</td>\n",
              "      <td>4</td>\n",
              "      <td>0.998424</td>\n",
              "    </tr>\n",
              "    <tr>\n",
              "      <th>18</th>\n",
              "      <td>ข้าน้อยขอชาบู</td>\n",
              "      <td>หลากหลาย,ปน,งง,รู้จัก,union,mall,ลอง,กิน,จำได้...</td>\n",
              "      <td>1</td>\n",
              "      <td>0.997560</td>\n",
              "    </tr>\n",
              "    <tr>\n",
              "      <th>19</th>\n",
              "      <td>ข้าน้อยขอชาบู</td>\n",
              "      <td>อร่อย,คุ้มค่า,สมราคา,บุ,ฟเฟ่,หมู,ผัก,น้ำ,จบ,  ...</td>\n",
              "      <td>2</td>\n",
              "      <td>0.998227</td>\n",
              "    </tr>\n",
              "    <tr>\n",
              "      <th>20</th>\n",
              "      <td>ข้าน้อยขอชาบู</td>\n",
              "      <td>แปลก,อยู่ในเกณฑ์,ดี,อาหาร,บางอย่าง,สั่ง,ราคา, ...</td>\n",
              "      <td>2</td>\n",
              "      <td>0.997344</td>\n",
              "    </tr>\n",
              "  </tbody>\n",
              "</table>\n",
              "</div>"
            ],
            "text/plain": [
              "                                           Restaurant  ...     score\n",
              "0   Mo-Mo-Paradise (โม โม พาราไดซ์) เดอะมอลล์ บางกะปิ  ...  0.998311\n",
              "1   Mo-Mo-Paradise (โม โม พาราไดซ์) เดอะมอลล์ บางกะปิ  ...  0.998044\n",
              "2   Mo-Mo-Paradise (โม โม พาราไดซ์) เดอะมอลล์ บางกะปิ  ...  0.999297\n",
              "3   Mo-Mo-Paradise (โม โม พาราไดซ์) เดอะมอลล์ บางกะปิ  ...  0.997178\n",
              "4   Mo-Mo-Paradise (โม โม พาราไดซ์) เดอะมอลล์ บางกะปิ  ...  0.997086\n",
              "5   Mo-Mo-Paradise (โม โม พาราไดซ์) เดอะมอลล์ บางกะปิ  ...  0.996923\n",
              "6   Mo-Mo-Paradise (โม โม พาราไดซ์) เดอะมอลล์ บางกะปิ  ...  0.998237\n",
              "7   Mo-Mo-Paradise (โม โม พาราไดซ์) เดอะมอลล์ บางกะปิ  ...  0.998003\n",
              "8           Shabushi (ชาบูชิ) เดอะมอลล์บางกะปิ ชั้น G  ...  0.997140\n",
              "9           Shabushi (ชาบูชิ) เดอะมอลล์บางกะปิ ชั้น G  ...  0.998359\n",
              "10          Shabushi (ชาบูชิ) เดอะมอลล์บางกะปิ ชั้น G  ...  0.997083\n",
              "11          Shabushi (ชาบูชิ) เดอะมอลล์บางกะปิ ชั้น G  ...  0.999517\n",
              "12          Shabushi (ชาบูชิ) เดอะมอลล์บางกะปิ ชั้น G  ...  0.997790\n",
              "13          Shabushi (ชาบูชิ) เดอะมอลล์บางกะปิ ชั้น G  ...  0.998131\n",
              "14          Shabushi (ชาบูชิ) เดอะมอลล์บางกะปิ ชั้น G  ...  0.997065\n",
              "15          Shabushi (ชาบูชิ) เดอะมอลล์บางกะปิ ชั้น G  ...  0.998848\n",
              "16                                      ข้าน้อยขอชาบู  ...  0.998607\n",
              "17                                      ข้าน้อยขอชาบู  ...  0.998424\n",
              "18                                      ข้าน้อยขอชาบู  ...  0.997560\n",
              "19                                      ข้าน้อยขอชาบู  ...  0.998227\n",
              "20                                      ข้าน้อยขอชาบู  ...  0.997344\n",
              "\n",
              "[21 rows x 4 columns]"
            ]
          },
          "metadata": {
            "tags": []
          },
          "execution_count": 59
        }
      ]
    }
  ]
}