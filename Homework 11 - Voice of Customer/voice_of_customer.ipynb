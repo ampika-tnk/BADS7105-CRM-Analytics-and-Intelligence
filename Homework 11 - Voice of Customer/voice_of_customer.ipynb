{
  "nbformat": 4,
  "nbformat_minor": 0,
  "metadata": {
    "colab": {
      "name": "voice_of_customer.ipynb",
      "provenance": [],
      "collapsed_sections": []
    },
    "kernelspec": {
      "name": "python3",
      "display_name": "Python 3"
    },
    "language_info": {
      "name": "python"
    }
  },
  "cells": [
    {
      "cell_type": "markdown",
      "metadata": {
        "id": "Vo_Erj0WgtSt"
      },
      "source": [
        "# **Voice of Customer**\n",
        "\n",
        "Ampika Thanakaew ID: 6210422049"
      ]
    },
    {
      "cell_type": "markdown",
      "metadata": {
        "id": "wTTofbCWg399"
      },
      "source": [
        "## **Initialize**"
      ]
    },
    {
      "cell_type": "code",
      "metadata": {
        "colab": {
          "base_uri": "https://localhost:8080/"
        },
        "id": "yQlPZNZyeKBk",
        "outputId": "af070c47-4aaa-4ee7-db88-bb4f7badacc8"
      },
      "source": [
        "!pip install mlxtend\n",
        "!pip install --upgrade pythainlp\n",
        "!pip install pyLDAvis\n",
        "!pip install sefr_cut"
      ],
      "execution_count": 19,
      "outputs": [
        {
          "output_type": "stream",
          "text": [
            "Requirement already satisfied: mlxtend in /usr/local/lib/python3.7/dist-packages (0.14.0)\n",
            "Requirement already satisfied: scikit-learn>=0.18 in /usr/local/lib/python3.7/dist-packages (from mlxtend) (0.22.2.post1)\n",
            "Requirement already satisfied: matplotlib>=1.5.1 in /usr/local/lib/python3.7/dist-packages (from mlxtend) (3.2.2)\n",
            "Requirement already satisfied: scipy>=0.17 in /usr/local/lib/python3.7/dist-packages (from mlxtend) (1.4.1)\n",
            "Requirement already satisfied: setuptools in /usr/local/lib/python3.7/dist-packages (from mlxtend) (57.0.0)\n",
            "Requirement already satisfied: pandas>=0.17.1 in /usr/local/lib/python3.7/dist-packages (from mlxtend) (1.2.4)\n",
            "Requirement already satisfied: numpy>=1.10.4 in /usr/local/lib/python3.7/dist-packages (from mlxtend) (1.20.3)\n",
            "Requirement already satisfied: joblib>=0.11 in /usr/local/lib/python3.7/dist-packages (from scikit-learn>=0.18->mlxtend) (1.0.1)\n",
            "Requirement already satisfied: kiwisolver>=1.0.1 in /usr/local/lib/python3.7/dist-packages (from matplotlib>=1.5.1->mlxtend) (1.3.1)\n",
            "Requirement already satisfied: cycler>=0.10 in /usr/local/lib/python3.7/dist-packages (from matplotlib>=1.5.1->mlxtend) (0.10.0)\n",
            "Requirement already satisfied: pyparsing!=2.0.4,!=2.1.2,!=2.1.6,>=2.0.1 in /usr/local/lib/python3.7/dist-packages (from matplotlib>=1.5.1->mlxtend) (2.4.7)\n",
            "Requirement already satisfied: python-dateutil>=2.1 in /usr/local/lib/python3.7/dist-packages (from matplotlib>=1.5.1->mlxtend) (2.8.1)\n",
            "Requirement already satisfied: pytz>=2017.3 in /usr/local/lib/python3.7/dist-packages (from pandas>=0.17.1->mlxtend) (2018.9)\n",
            "Requirement already satisfied: six in /usr/local/lib/python3.7/dist-packages (from cycler>=0.10->matplotlib>=1.5.1->mlxtend) (1.15.0)\n",
            "Requirement already up-to-date: pythainlp in /usr/local/lib/python3.7/dist-packages (2.3.1)\n",
            "Requirement already satisfied, skipping upgrade: tinydb>=3.0 in /usr/local/lib/python3.7/dist-packages (from pythainlp) (4.4.0)\n",
            "Requirement already satisfied, skipping upgrade: requests>=2.22.0 in /usr/local/lib/python3.7/dist-packages (from pythainlp) (2.23.0)\n",
            "Requirement already satisfied, skipping upgrade: python-crfsuite>=0.9.6 in /usr/local/lib/python3.7/dist-packages (from pythainlp) (0.9.7)\n",
            "Requirement already satisfied, skipping upgrade: certifi>=2017.4.17 in /usr/local/lib/python3.7/dist-packages (from requests>=2.22.0->pythainlp) (2021.5.30)\n",
            "Requirement already satisfied, skipping upgrade: chardet<4,>=3.0.2 in /usr/local/lib/python3.7/dist-packages (from requests>=2.22.0->pythainlp) (3.0.4)\n",
            "Requirement already satisfied, skipping upgrade: idna<3,>=2.5 in /usr/local/lib/python3.7/dist-packages (from requests>=2.22.0->pythainlp) (2.10)\n",
            "Requirement already satisfied, skipping upgrade: urllib3!=1.25.0,!=1.25.1,<1.26,>=1.21.1 in /usr/local/lib/python3.7/dist-packages (from requests>=2.22.0->pythainlp) (1.24.3)\n",
            "Requirement already satisfied: pyLDAvis in /usr/local/lib/python3.7/dist-packages (3.3.1)\n",
            "Requirement already satisfied: joblib in /usr/local/lib/python3.7/dist-packages (from pyLDAvis) (1.0.1)\n",
            "Requirement already satisfied: numexpr in /usr/local/lib/python3.7/dist-packages (from pyLDAvis) (2.7.3)\n",
            "Requirement already satisfied: scipy in /usr/local/lib/python3.7/dist-packages (from pyLDAvis) (1.4.1)\n",
            "Requirement already satisfied: setuptools in /usr/local/lib/python3.7/dist-packages (from pyLDAvis) (57.0.0)\n",
            "Requirement already satisfied: pandas>=1.2.0 in /usr/local/lib/python3.7/dist-packages (from pyLDAvis) (1.2.4)\n",
            "Requirement already satisfied: funcy in /usr/local/lib/python3.7/dist-packages (from pyLDAvis) (1.16)\n",
            "Requirement already satisfied: scikit-learn in /usr/local/lib/python3.7/dist-packages (from pyLDAvis) (0.22.2.post1)\n",
            "Requirement already satisfied: sklearn in /usr/local/lib/python3.7/dist-packages (from pyLDAvis) (0.0)\n",
            "Requirement already satisfied: gensim in /usr/local/lib/python3.7/dist-packages (from pyLDAvis) (3.6.0)\n",
            "Requirement already satisfied: future in /usr/local/lib/python3.7/dist-packages (from pyLDAvis) (0.16.0)\n",
            "Requirement already satisfied: numpy>=1.20.0 in /usr/local/lib/python3.7/dist-packages (from pyLDAvis) (1.20.3)\n",
            "Requirement already satisfied: jinja2 in /usr/local/lib/python3.7/dist-packages (from pyLDAvis) (2.11.3)\n",
            "Requirement already satisfied: python-dateutil>=2.7.3 in /usr/local/lib/python3.7/dist-packages (from pandas>=1.2.0->pyLDAvis) (2.8.1)\n",
            "Requirement already satisfied: pytz>=2017.3 in /usr/local/lib/python3.7/dist-packages (from pandas>=1.2.0->pyLDAvis) (2018.9)\n",
            "Requirement already satisfied: smart-open>=1.2.1 in /usr/local/lib/python3.7/dist-packages (from gensim->pyLDAvis) (5.1.0)\n",
            "Requirement already satisfied: six>=1.5.0 in /usr/local/lib/python3.7/dist-packages (from gensim->pyLDAvis) (1.15.0)\n",
            "Requirement already satisfied: MarkupSafe>=0.23 in /usr/local/lib/python3.7/dist-packages (from jinja2->pyLDAvis) (2.0.1)\n",
            "Collecting sefr_cut\n",
            "\u001b[?25l  Downloading https://files.pythonhosted.org/packages/7b/34/9d8e8e917baebabe350f387b84d1658ac16af19b284bda347373739a3726/SEFR_CUT-1.1-py3-none-any.whl (8.7MB)\n",
            "\u001b[K     |████████████████████████████████| 8.7MB 4.2MB/s \n",
            "\u001b[?25hRequirement already satisfied: python-crfsuite in /usr/local/lib/python3.7/dist-packages (from sefr_cut) (0.9.7)\n",
            "Collecting pyahocorasick\n",
            "\u001b[?25l  Downloading https://files.pythonhosted.org/packages/7f/c2/eae730037ae1cbbfaa229d27030d1d5e34a1e41114b21447d1202ae9c220/pyahocorasick-1.4.2.tar.gz (321kB)\n",
            "\u001b[K     |████████████████████████████████| 327kB 37.0MB/s \n",
            "\u001b[?25hRequirement already satisfied: scipy in /usr/local/lib/python3.7/dist-packages (from sefr_cut) (1.4.1)\n",
            "Requirement already satisfied: tensorflow>=2.0.0 in /usr/local/lib/python3.7/dist-packages (from sefr_cut) (2.5.0)\n",
            "Requirement already satisfied: scikit-learn in /usr/local/lib/python3.7/dist-packages (from sefr_cut) (0.22.2.post1)\n",
            "Requirement already satisfied: pandas in /usr/local/lib/python3.7/dist-packages (from sefr_cut) (1.2.4)\n",
            "Requirement already satisfied: numpy in /usr/local/lib/python3.7/dist-packages (from sefr_cut) (1.20.3)\n",
            "Requirement already satisfied: google-pasta~=0.2 in /usr/local/lib/python3.7/dist-packages (from tensorflow>=2.0.0->sefr_cut) (0.2.0)\n",
            "Requirement already satisfied: absl-py~=0.10 in /usr/local/lib/python3.7/dist-packages (from tensorflow>=2.0.0->sefr_cut) (0.12.0)\n",
            "Requirement already satisfied: tensorflow-estimator<2.6.0,>=2.5.0rc0 in /usr/local/lib/python3.7/dist-packages (from tensorflow>=2.0.0->sefr_cut) (2.5.0)\n",
            "Requirement already satisfied: astunparse~=1.6.3 in /usr/local/lib/python3.7/dist-packages (from tensorflow>=2.0.0->sefr_cut) (1.6.3)\n",
            "Requirement already satisfied: tensorboard~=2.5 in /usr/local/lib/python3.7/dist-packages (from tensorflow>=2.0.0->sefr_cut) (2.5.0)\n",
            "Requirement already satisfied: opt-einsum~=3.3.0 in /usr/local/lib/python3.7/dist-packages (from tensorflow>=2.0.0->sefr_cut) (3.3.0)\n",
            "Requirement already satisfied: grpcio~=1.34.0 in /usr/local/lib/python3.7/dist-packages (from tensorflow>=2.0.0->sefr_cut) (1.34.1)\n",
            "Requirement already satisfied: termcolor~=1.1.0 in /usr/local/lib/python3.7/dist-packages (from tensorflow>=2.0.0->sefr_cut) (1.1.0)\n",
            "Requirement already satisfied: typing-extensions~=3.7.4 in /usr/local/lib/python3.7/dist-packages (from tensorflow>=2.0.0->sefr_cut) (3.7.4.3)\n",
            "Requirement already satisfied: protobuf>=3.9.2 in /usr/local/lib/python3.7/dist-packages (from tensorflow>=2.0.0->sefr_cut) (3.12.4)\n",
            "Requirement already satisfied: keras-nightly~=2.5.0.dev in /usr/local/lib/python3.7/dist-packages (from tensorflow>=2.0.0->sefr_cut) (2.5.0.dev2021032900)\n",
            "Requirement already satisfied: keras-preprocessing~=1.1.2 in /usr/local/lib/python3.7/dist-packages (from tensorflow>=2.0.0->sefr_cut) (1.1.2)\n",
            "Requirement already satisfied: wrapt~=1.12.1 in /usr/local/lib/python3.7/dist-packages (from tensorflow>=2.0.0->sefr_cut) (1.12.1)\n",
            "Requirement already satisfied: six~=1.15.0 in /usr/local/lib/python3.7/dist-packages (from tensorflow>=2.0.0->sefr_cut) (1.15.0)\n",
            "Requirement already satisfied: flatbuffers~=1.12.0 in /usr/local/lib/python3.7/dist-packages (from tensorflow>=2.0.0->sefr_cut) (1.12)\n",
            "Requirement already satisfied: h5py~=3.1.0 in /usr/local/lib/python3.7/dist-packages (from tensorflow>=2.0.0->sefr_cut) (3.1.0)\n",
            "Requirement already satisfied: wheel~=0.35 in /usr/local/lib/python3.7/dist-packages (from tensorflow>=2.0.0->sefr_cut) (0.36.2)\n",
            "Requirement already satisfied: gast==0.4.0 in /usr/local/lib/python3.7/dist-packages (from tensorflow>=2.0.0->sefr_cut) (0.4.0)\n",
            "Requirement already satisfied: joblib>=0.11 in /usr/local/lib/python3.7/dist-packages (from scikit-learn->sefr_cut) (1.0.1)\n",
            "Requirement already satisfied: pytz>=2017.3 in /usr/local/lib/python3.7/dist-packages (from pandas->sefr_cut) (2018.9)\n",
            "Requirement already satisfied: python-dateutil>=2.7.3 in /usr/local/lib/python3.7/dist-packages (from pandas->sefr_cut) (2.8.1)\n",
            "Requirement already satisfied: tensorboard-data-server<0.7.0,>=0.6.0 in /usr/local/lib/python3.7/dist-packages (from tensorboard~=2.5->tensorflow>=2.0.0->sefr_cut) (0.6.1)\n",
            "Requirement already satisfied: setuptools>=41.0.0 in /usr/local/lib/python3.7/dist-packages (from tensorboard~=2.5->tensorflow>=2.0.0->sefr_cut) (57.0.0)\n",
            "Requirement already satisfied: google-auth<2,>=1.6.3 in /usr/local/lib/python3.7/dist-packages (from tensorboard~=2.5->tensorflow>=2.0.0->sefr_cut) (1.31.0)\n",
            "Requirement already satisfied: google-auth-oauthlib<0.5,>=0.4.1 in /usr/local/lib/python3.7/dist-packages (from tensorboard~=2.5->tensorflow>=2.0.0->sefr_cut) (0.4.4)\n",
            "Requirement already satisfied: werkzeug>=0.11.15 in /usr/local/lib/python3.7/dist-packages (from tensorboard~=2.5->tensorflow>=2.0.0->sefr_cut) (1.0.1)\n",
            "Requirement already satisfied: markdown>=2.6.8 in /usr/local/lib/python3.7/dist-packages (from tensorboard~=2.5->tensorflow>=2.0.0->sefr_cut) (3.3.4)\n",
            "Requirement already satisfied: requests<3,>=2.21.0 in /usr/local/lib/python3.7/dist-packages (from tensorboard~=2.5->tensorflow>=2.0.0->sefr_cut) (2.23.0)\n",
            "Requirement already satisfied: tensorboard-plugin-wit>=1.6.0 in /usr/local/lib/python3.7/dist-packages (from tensorboard~=2.5->tensorflow>=2.0.0->sefr_cut) (1.8.0)\n",
            "Requirement already satisfied: cached-property; python_version < \"3.8\" in /usr/local/lib/python3.7/dist-packages (from h5py~=3.1.0->tensorflow>=2.0.0->sefr_cut) (1.5.2)\n",
            "Requirement already satisfied: cachetools<5.0,>=2.0.0 in /usr/local/lib/python3.7/dist-packages (from google-auth<2,>=1.6.3->tensorboard~=2.5->tensorflow>=2.0.0->sefr_cut) (4.2.2)\n",
            "Requirement already satisfied: pyasn1-modules>=0.2.1 in /usr/local/lib/python3.7/dist-packages (from google-auth<2,>=1.6.3->tensorboard~=2.5->tensorflow>=2.0.0->sefr_cut) (0.2.8)\n",
            "Requirement already satisfied: rsa<5,>=3.1.4; python_version >= \"3.6\" in /usr/local/lib/python3.7/dist-packages (from google-auth<2,>=1.6.3->tensorboard~=2.5->tensorflow>=2.0.0->sefr_cut) (4.7.2)\n",
            "Requirement already satisfied: requests-oauthlib>=0.7.0 in /usr/local/lib/python3.7/dist-packages (from google-auth-oauthlib<0.5,>=0.4.1->tensorboard~=2.5->tensorflow>=2.0.0->sefr_cut) (1.3.0)\n",
            "Requirement already satisfied: importlib-metadata; python_version < \"3.8\" in /usr/local/lib/python3.7/dist-packages (from markdown>=2.6.8->tensorboard~=2.5->tensorflow>=2.0.0->sefr_cut) (4.5.0)\n",
            "Requirement already satisfied: chardet<4,>=3.0.2 in /usr/local/lib/python3.7/dist-packages (from requests<3,>=2.21.0->tensorboard~=2.5->tensorflow>=2.0.0->sefr_cut) (3.0.4)\n",
            "Requirement already satisfied: certifi>=2017.4.17 in /usr/local/lib/python3.7/dist-packages (from requests<3,>=2.21.0->tensorboard~=2.5->tensorflow>=2.0.0->sefr_cut) (2021.5.30)\n",
            "Requirement already satisfied: idna<3,>=2.5 in /usr/local/lib/python3.7/dist-packages (from requests<3,>=2.21.0->tensorboard~=2.5->tensorflow>=2.0.0->sefr_cut) (2.10)\n",
            "Requirement already satisfied: urllib3!=1.25.0,!=1.25.1,<1.26,>=1.21.1 in /usr/local/lib/python3.7/dist-packages (from requests<3,>=2.21.0->tensorboard~=2.5->tensorflow>=2.0.0->sefr_cut) (1.24.3)\n",
            "Requirement already satisfied: pyasn1<0.5.0,>=0.4.6 in /usr/local/lib/python3.7/dist-packages (from pyasn1-modules>=0.2.1->google-auth<2,>=1.6.3->tensorboard~=2.5->tensorflow>=2.0.0->sefr_cut) (0.4.8)\n",
            "Requirement already satisfied: oauthlib>=3.0.0 in /usr/local/lib/python3.7/dist-packages (from requests-oauthlib>=0.7.0->google-auth-oauthlib<0.5,>=0.4.1->tensorboard~=2.5->tensorflow>=2.0.0->sefr_cut) (3.1.1)\n",
            "Requirement already satisfied: zipp>=0.5 in /usr/local/lib/python3.7/dist-packages (from importlib-metadata; python_version < \"3.8\"->markdown>=2.6.8->tensorboard~=2.5->tensorflow>=2.0.0->sefr_cut) (3.4.1)\n",
            "Building wheels for collected packages: pyahocorasick\n",
            "  Building wheel for pyahocorasick (setup.py) ... \u001b[?25l\u001b[?25hdone\n",
            "  Created wheel for pyahocorasick: filename=pyahocorasick-1.4.2-cp37-cp37m-linux_x86_64.whl size=85393 sha256=8c27b92dc62a5267592f9785207d335f5334c7284b400bd4a5f715325868c85a\n",
            "  Stored in directory: /root/.cache/pip/wheels/3a/03/34/77e3ece0bba8b86bfac88a79f923b36d805cad63caeba38842\n",
            "Successfully built pyahocorasick\n",
            "Installing collected packages: pyahocorasick, sefr-cut\n",
            "Successfully installed pyahocorasick-1.4.2 sefr-cut-1.1\n"
          ],
          "name": "stdout"
        }
      ]
    },
    {
      "cell_type": "code",
      "metadata": {
        "id": "NpKkhvd5ce_5",
        "colab": {
          "base_uri": "https://localhost:8080/"
        },
        "outputId": "8974b5fc-99d6-472d-c184-67c64e87af76"
      },
      "source": [
        "import pandas as pd\n",
        "import numpy as np\n",
        "import gensim\n",
        "import pythainlp\n",
        "from pythainlp.tokenize import sent_tokenize, word_tokenize\n",
        "import pyLDAvis.gensim_models\n",
        "pyLDAvis.enable_notebook()\n",
        "import warnings\n",
        "warnings.filterwarnings(\"ignore\", category=DeprecationWarning) \n",
        "warnings.filterwarnings(\"ignore\", category=FutureWarning) \n",
        "\n",
        "import re\n",
        "import seaborn as sns\n",
        "import matplotlib.pyplot as plt\n",
        "import sefr_cut\n",
        "sefr_cut.load_model(engine='tl-deepcut-ws1000')"
      ],
      "execution_count": 20,
      "outputs": [
        {
          "output_type": "stream",
          "text": [
            "loading model.....\n",
            "Success\n"
          ],
          "name": "stdout"
        }
      ]
    },
    {
      "cell_type": "code",
      "metadata": {
        "colab": {
          "base_uri": "https://localhost:8080/"
        },
        "id": "CvKtlXJqd93U",
        "outputId": "1250591c-efa4-45db-8a41-2c325c6325c5"
      },
      "source": [
        "%cd '/content/drive/MyDrive/BADS 7105 CRM/Voice of Customer/'\n",
        "%ls"
      ],
      "execution_count": 21,
      "outputs": [
        {
          "output_type": "stream",
          "text": [
            "/content/drive/MyDrive/BADS 7105 CRM/Voice of Customer\n",
            "CustomerReviews.csv\n"
          ],
          "name": "stdout"
        }
      ]
    },
    {
      "cell_type": "code",
      "metadata": {
        "id": "5tA8nUbCeBzz"
      },
      "source": [
        "import matplotlib as mpl\n",
        "mpl.font_manager.fontManager.addfont('/content/drive/MyDrive/BADS 7105 CRM/font/Cordia New Bold.ttf')\n",
        "mpl.rc('font', family='Cordia New', size=12, weight=200)"
      ],
      "execution_count": 22,
      "outputs": []
    },
    {
      "cell_type": "markdown",
      "metadata": {
        "id": "INL2kJSgg91M"
      },
      "source": [
        "**Load Data**"
      ]
    },
    {
      "cell_type": "code",
      "metadata": {
        "colab": {
          "base_uri": "https://localhost:8080/",
          "height": 306
        },
        "id": "6NAna_7zeDY7",
        "outputId": "73e0e52c-0080-4581-8069-61d8cf0121f5"
      },
      "source": [
        "df = pd.read_csv('CustomerReviews.csv')\n",
        "df.head()"
      ],
      "execution_count": 23,
      "outputs": [
        {
          "output_type": "execute_result",
          "data": {
            "text/html": [
              "<div>\n",
              "<style scoped>\n",
              "    .dataframe tbody tr th:only-of-type {\n",
              "        vertical-align: middle;\n",
              "    }\n",
              "\n",
              "    .dataframe tbody tr th {\n",
              "        vertical-align: top;\n",
              "    }\n",
              "\n",
              "    .dataframe thead th {\n",
              "        text-align: right;\n",
              "    }\n",
              "</style>\n",
              "<table border=\"1\" class=\"dataframe\">\n",
              "  <thead>\n",
              "    <tr style=\"text-align: right;\">\n",
              "      <th></th>\n",
              "      <th>Review ID</th>\n",
              "      <th>Restaurant_ID</th>\n",
              "      <th>Restaurant</th>\n",
              "      <th>User</th>\n",
              "      <th>Headline</th>\n",
              "      <th>Review</th>\n",
              "      <th>Rating</th>\n",
              "    </tr>\n",
              "  </thead>\n",
              "  <tbody>\n",
              "    <tr>\n",
              "      <th>0</th>\n",
              "      <td>1</td>\n",
              "      <td>352696Px-mo-mo-paradise-เดอะมอลล์-บางกะปิ</td>\n",
              "      <td>Mo-Mo-Paradise (โม โม พาราไดซ์) เดอะมอลล์ บางกะปิ</td>\n",
              "      <td>7b16469831074f7abc7824745ee75212</td>\n",
              "      <td>ที่สำคัญของร้านนี้คือบริการดีมากพนักงานน่ารักส...</td>\n",
              "      <td>ที่สำคัญของร้านนี้คือบริการดีมากพนักงานน่ารักส...</td>\n",
              "      <td>5.0</td>\n",
              "    </tr>\n",
              "    <tr>\n",
              "      <th>1</th>\n",
              "      <td>2</td>\n",
              "      <td>352696Px-mo-mo-paradise-เดอะมอลล์-บางกะปิ</td>\n",
              "      <td>Mo-Mo-Paradise (โม โม พาราไดซ์) เดอะมอลล์ บางกะปิ</td>\n",
              "      <td>pakkaramonpondej</td>\n",
              "      <td>รสชาติเหมือนทุกสาขา แต่สาขานี้ บริการดี ที่นั่งดี</td>\n",
              "      <td>นึกถึงชาบูญี่ปุ่นยังไงก็ต้อง คิดถึงโมโม่ พาราไ...</td>\n",
              "      <td>5.0</td>\n",
              "    </tr>\n",
              "    <tr>\n",
              "      <th>2</th>\n",
              "      <td>3</td>\n",
              "      <td>352696Px-mo-mo-paradise-เดอะมอลล์-บางกะปิ</td>\n",
              "      <td>Mo-Mo-Paradise (โม โม พาราไดซ์) เดอะมอลล์ บางกะปิ</td>\n",
              "      <td>saanowy</td>\n",
              "      <td>ชาบูพรีเมี่ยมสไตล์ญี่ปุ่น เนื้อดีมากกก</td>\n",
              "      <td>มาทานช่วงนี้ สามารถนั่งโต๊ะเดียวกัน หม้อเดียวก...</td>\n",
              "      <td>4.0</td>\n",
              "    </tr>\n",
              "    <tr>\n",
              "      <th>3</th>\n",
              "      <td>4</td>\n",
              "      <td>352696Px-mo-mo-paradise-เดอะมอลล์-บางกะปิ</td>\n",
              "      <td>Mo-Mo-Paradise (โม โม พาราไดซ์) เดอะมอลล์ บางกะปิ</td>\n",
              "      <td>ployynp</td>\n",
              "      <td>เนื้อดี ไอติมดี คุ้มค่าดี</td>\n",
              "      <td>ถ้านึกถึงชาบูที่มีเนื้อเน้นๆ ในราคาไม่โหดจนเกิ...</td>\n",
              "      <td>4.0</td>\n",
              "    </tr>\n",
              "    <tr>\n",
              "      <th>4</th>\n",
              "      <td>5</td>\n",
              "      <td>352696Px-mo-mo-paradise-เดอะมอลล์-บางกะปิ</td>\n",
              "      <td>Mo-Mo-Paradise (โม โม พาราไดซ์) เดอะมอลล์ บางกะปิ</td>\n",
              "      <td>665a902b335b434ab489f00f2fbb477e</td>\n",
              "      <td>อาหารมีคุณภาพ บริการดีค่ะ</td>\n",
              "      <td>เดินมาหน้าร้านแล้วได้กลิ่นชาบูหอมมาก ๆ  ประกอบ...</td>\n",
              "      <td>5.0</td>\n",
              "    </tr>\n",
              "  </tbody>\n",
              "</table>\n",
              "</div>"
            ],
            "text/plain": [
              "   Review ID  ... Rating\n",
              "0          1  ...    5.0\n",
              "1          2  ...    5.0\n",
              "2          3  ...    4.0\n",
              "3          4  ...    4.0\n",
              "4          5  ...    5.0\n",
              "\n",
              "[5 rows x 7 columns]"
            ]
          },
          "metadata": {
            "tags": []
          },
          "execution_count": 23
        }
      ]
    },
    {
      "cell_type": "markdown",
      "metadata": {
        "id": "3W7Lj7s_n1Y9"
      },
      "source": [
        "**Tokenize Words**"
      ]
    },
    {
      "cell_type": "code",
      "metadata": {
        "id": "8W4YJ30GoVdS"
      },
      "source": [
        "# Word Correction\n",
        "word_correction_dict = {\n",
        "    'โมโม่' : 'momo', 'มากก' : 'มาก', 'กกก' : 'ก', 'แวท' : 'vat', 'พิซเซอเรีย' : 'pizzeria', 'พิซซ่า' : 'pizza', \n",
        "    'เก้บ' : 'เก็บ', 'ชูชิ' : 'ซูชิ', 'ซึป' : 'ซุป', 'ชาบูชิ' : 'shabushi', 'อารามณ์' : 'อารมณ์', 'ส่งน' : 'ส่วน', 'สไลต์' : 'สไลด์', 'ประยุคก์' : 'ประยุกต์',\n",
        "    'ไอติม' : 'icecream', 'พาราไดส์' : 'paradise', 'พาราไดซ์' : 'paradise', 'อัพเดท' : 'update', 'นาราย' : 'narai ', 'พรีเมี่ยม' : 'พรีเมียม',\n",
        "    'บ๋วย' : 'บ๊วย', 'เฟรนไชส์' : 'แฟรนไชส์', 'บุพเฟ่' : 'บุฟเฟ่ต์', 'บุฟเฟ่' : 'บุฟเฟ่ต์', 'บุฟเฟ' : 'บุฟเฟ่ต์', 'บุฟเฟต' : 'บุฟเฟ่ต์', 'รสชาต' : 'รสชาติ', 'รสชาติิ' : 'รสชาติ'\n",
        "}\n",
        "\n",
        "# Cleansing\n",
        "def cleanse_text(text):\n",
        "\n",
        "    text = text.strip().lower()\n",
        "\n",
        "    for old,new in word_correction_dict.items():\n",
        "        text = text.replace(old, new)\n",
        "\n",
        "    # Remove empty spaces\n",
        "    text = re.sub(r'\\u200b', '', text)\n",
        "    text = re.sub(r'[\\r\\n]', '', text)\n",
        "\n",
        "    # Replace punctuations\n",
        "    text = re.sub(r'[ๆฯ!#$&%\\\"\\'()*+,-./:;<=>?@\\[\\]\\\\^_`{}|~]',' ', text)\n",
        "\n",
        "    # Replace numbers\n",
        "    text = re.sub(r'\\d',' ', text)\n",
        "    text = re.sub(r'[0-9]','',text)\n",
        "    text = re.sub(r'[๐-๙]','',text)\n",
        "\n",
        "    return text\n",
        "\n",
        "df['cleansed_text'] = df.apply(lambda x: cleanse_text(x['Headline'] + ' ' + x['Review']), axis=1)\n",
        "\n",
        "# Sentence and Word Tokenization\n",
        "df['tokens'] = df['cleansed_text'].apply(lambda x: [ w for st in sent_tokenize(x, engine='whitespace+newline') for w in sefr_cut.tokenize(st,k=100)])\n",
        "\n",
        "stopwords = list(pythainlp.corpus.thai_stopwords())\n",
        "removed = [' ', '  ', '\\n', 'ร้าน', 'ที่' '(', ')', 'นะคะ', 'เค้า', 'ผม', 'คน']\n",
        "screening = stopwords + removed\n",
        "\n",
        "def tokenize_with_space(sentence):\n",
        "  merged = ''\n",
        "  words = pythainlp.word_tokenize(str(sentence), engine='newmm')\n",
        "  for word in words:\n",
        "    if word not in screening:\n",
        "      merged = merged + ',' + word\n",
        "  return merged[1:]"
      ],
      "execution_count": 24,
      "outputs": []
    },
    {
      "cell_type": "code",
      "metadata": {
        "colab": {
          "base_uri": "https://localhost:8080/",
          "height": 425
        },
        "id": "LIESaLyKn88X",
        "outputId": "5eae23e7-4963-4fba-fc41-b8146584766b"
      },
      "source": [
        "df['review_tokenized'] = df['Review'].apply(lambda x: tokenize_with_space(x))\n",
        "df.head()"
      ],
      "execution_count": 25,
      "outputs": [
        {
          "output_type": "execute_result",
          "data": {
            "text/html": [
              "<div>\n",
              "<style scoped>\n",
              "    .dataframe tbody tr th:only-of-type {\n",
              "        vertical-align: middle;\n",
              "    }\n",
              "\n",
              "    .dataframe tbody tr th {\n",
              "        vertical-align: top;\n",
              "    }\n",
              "\n",
              "    .dataframe thead th {\n",
              "        text-align: right;\n",
              "    }\n",
              "</style>\n",
              "<table border=\"1\" class=\"dataframe\">\n",
              "  <thead>\n",
              "    <tr style=\"text-align: right;\">\n",
              "      <th></th>\n",
              "      <th>Review ID</th>\n",
              "      <th>Restaurant_ID</th>\n",
              "      <th>Restaurant</th>\n",
              "      <th>User</th>\n",
              "      <th>Headline</th>\n",
              "      <th>Review</th>\n",
              "      <th>Rating</th>\n",
              "      <th>cleansed_text</th>\n",
              "      <th>tokens</th>\n",
              "      <th>review_tokenized</th>\n",
              "    </tr>\n",
              "  </thead>\n",
              "  <tbody>\n",
              "    <tr>\n",
              "      <th>0</th>\n",
              "      <td>1</td>\n",
              "      <td>352696Px-mo-mo-paradise-เดอะมอลล์-บางกะปิ</td>\n",
              "      <td>Mo-Mo-Paradise (โม โม พาราไดซ์) เดอะมอลล์ บางกะปิ</td>\n",
              "      <td>7b16469831074f7abc7824745ee75212</td>\n",
              "      <td>ที่สำคัญของร้านนี้คือบริการดีมากพนักงานน่ารักส...</td>\n",
              "      <td>ที่สำคัญของร้านนี้คือบริการดีมากพนักงานน่ารักส...</td>\n",
              "      <td>5.0</td>\n",
              "      <td>ที่สำคัญของร้านนี้คือบริการดีมากพนักงานน่ารักส...</td>\n",
              "      <td>[[ที่, สำคัญ, ของ, ร้าน, นี้, คือ, บริการ, ดี,...</td>\n",
              "      <td>บริการ,ดีมาก,พนักงาน,น่ารัก,สะอาดสะอ้าน,ใส่ใจ,...</td>\n",
              "    </tr>\n",
              "    <tr>\n",
              "      <th>1</th>\n",
              "      <td>2</td>\n",
              "      <td>352696Px-mo-mo-paradise-เดอะมอลล์-บางกะปิ</td>\n",
              "      <td>Mo-Mo-Paradise (โม โม พาราไดซ์) เดอะมอลล์ บางกะปิ</td>\n",
              "      <td>pakkaramonpondej</td>\n",
              "      <td>รสชาติเหมือนทุกสาขา แต่สาขานี้ บริการดี ที่นั่งดี</td>\n",
              "      <td>นึกถึงชาบูญี่ปุ่นยังไงก็ต้อง คิดถึงโมโม่ พาราไ...</td>\n",
              "      <td>5.0</td>\n",
              "      <td>รสชาติเหมือนทุกสาขา แต่สาขานี้ บริการดี ที่นั่...</td>\n",
              "      <td>[[รสชาติ, เหมือน, ทุก, สาขา], [แต่, สาขา, นี้]...</td>\n",
              "      <td>นึกถึง,ชาบู,ญี่ปุ่น,คิดถึง,โม,โม่,พาราไดซ์,คุณ...</td>\n",
              "    </tr>\n",
              "    <tr>\n",
              "      <th>2</th>\n",
              "      <td>3</td>\n",
              "      <td>352696Px-mo-mo-paradise-เดอะมอลล์-บางกะปิ</td>\n",
              "      <td>Mo-Mo-Paradise (โม โม พาราไดซ์) เดอะมอลล์ บางกะปิ</td>\n",
              "      <td>saanowy</td>\n",
              "      <td>ชาบูพรีเมี่ยมสไตล์ญี่ปุ่น เนื้อดีมากกก</td>\n",
              "      <td>มาทานช่วงนี้ สามารถนั่งโต๊ะเดียวกัน หม้อเดียวก...</td>\n",
              "      <td>4.0</td>\n",
              "      <td>ชาบูพรีเมียมสไตล์ญี่ปุ่น เนื้อดีมากก มาทานช่วง...</td>\n",
              "      <td>[[ชาบูพรีเมียม, สไตล์, ญี่ปุ่น], [เนื้อ, ดี, ม...</td>\n",
              "      <td>ทาน,นั่ง,โต๊ะ,หม้อ,โต๊ะ,ยังมี,ฉาก,กั้น,น้ำ,ซุป...</td>\n",
              "    </tr>\n",
              "    <tr>\n",
              "      <th>3</th>\n",
              "      <td>4</td>\n",
              "      <td>352696Px-mo-mo-paradise-เดอะมอลล์-บางกะปิ</td>\n",
              "      <td>Mo-Mo-Paradise (โม โม พาราไดซ์) เดอะมอลล์ บางกะปิ</td>\n",
              "      <td>ployynp</td>\n",
              "      <td>เนื้อดี ไอติมดี คุ้มค่าดี</td>\n",
              "      <td>ถ้านึกถึงชาบูที่มีเนื้อเน้นๆ ในราคาไม่โหดจนเกิ...</td>\n",
              "      <td>4.0</td>\n",
              "      <td>เนื้อดี icecreamดี คุ้มค่าดี ถ้านึกถึงชาบูที่ม...</td>\n",
              "      <td>[[เนื้อ, ดี], [icecream, ดี], [คุ้ม, ค่า, ดี],...</td>\n",
              "      <td>นึกถึง,ชาบู,เนื้อ,ราคา,โหด,เกินไป,นึกถึง,โม,โม...</td>\n",
              "    </tr>\n",
              "    <tr>\n",
              "      <th>4</th>\n",
              "      <td>5</td>\n",
              "      <td>352696Px-mo-mo-paradise-เดอะมอลล์-บางกะปิ</td>\n",
              "      <td>Mo-Mo-Paradise (โม โม พาราไดซ์) เดอะมอลล์ บางกะปิ</td>\n",
              "      <td>665a902b335b434ab489f00f2fbb477e</td>\n",
              "      <td>อาหารมีคุณภาพ บริการดีค่ะ</td>\n",
              "      <td>เดินมาหน้าร้านแล้วได้กลิ่นชาบูหอมมาก ๆ  ประกอบ...</td>\n",
              "      <td>5.0</td>\n",
              "      <td>อาหารมีคุณภาพ บริการดีค่ะ เดินมาหน้าร้านแล้วได...</td>\n",
              "      <td>[[อาหาร, มี, คุณ, ภาพ], [บริการ, ดี, ค่ะ], [เด...</td>\n",
              "      <td>เดิน,หน้า,ได้กลิ่น,ชาบู,หอ,มมาก,โปร,บัตรเครดิต...</td>\n",
              "    </tr>\n",
              "  </tbody>\n",
              "</table>\n",
              "</div>"
            ],
            "text/plain": [
              "   Review ID  ...                                   review_tokenized\n",
              "0          1  ...  บริการ,ดีมาก,พนักงาน,น่ารัก,สะอาดสะอ้าน,ใส่ใจ,...\n",
              "1          2  ...  นึกถึง,ชาบู,ญี่ปุ่น,คิดถึง,โม,โม่,พาราไดซ์,คุณ...\n",
              "2          3  ...  ทาน,นั่ง,โต๊ะ,หม้อ,โต๊ะ,ยังมี,ฉาก,กั้น,น้ำ,ซุป...\n",
              "3          4  ...  นึกถึง,ชาบู,เนื้อ,ราคา,โหด,เกินไป,นึกถึง,โม,โม...\n",
              "4          5  ...  เดิน,หน้า,ได้กลิ่น,ชาบู,หอ,มมาก,โปร,บัตรเครดิต...\n",
              "\n",
              "[5 rows x 10 columns]"
            ]
          },
          "metadata": {
            "tags": []
          },
          "execution_count": 25
        }
      ]
    },
    {
      "cell_type": "code",
      "metadata": {
        "id": "uhnXnHStn682"
      },
      "source": [
        "documents = df['review_tokenized'].to_list()\n",
        "texts = [[text for text in doc.split(',')] for doc in documents]\n",
        "dictionary = gensim.corpora.Dictionary(texts)"
      ],
      "execution_count": 26,
      "outputs": []
    },
    {
      "cell_type": "code",
      "metadata": {
        "colab": {
          "base_uri": "https://localhost:8080/"
        },
        "id": "Hyz_TLDDoD6r",
        "outputId": "8f6c5538-42dc-46fe-e698-bba85eb3c416"
      },
      "source": [
        "print(dictionary.token2id.keys())"
      ],
      "execution_count": 27,
      "outputs": [
        {
          "output_type": "stream",
          "text": [
            "dict_keys(['1', '4', '560', 'กิน', 'ข้างนอก', 'ความต้องการ', 'คอ', 'คุณภาพ', 'คุ้ม', 'จำกัด', 'ซุป', 'ดำ', 'ดี', 'ดีมาก', 'ถาด', 'ถาม', 'น่ารัก', 'น้ำ', 'น้ำจิ้ม', 'บริการ', 'บาท', 'ประทับใจ', 'พนักงาน', 'พอกับ', 'ภาพ', 'รสชาติ', 'ราคา', 'สรุป', 'สะอาดสะอ้าน', 'สัน', 'หลากหลาย', 'อร่อย', 'อันนี้', 'อาหาร', 'เคลม', 'เซ็ท', 'เต้าเจี้ยว', 'เนื้อ', 'เป็ด', 'เผ็ด', 'แบบนี้', 'แปลก', 'แฟน', 'โดยรวม', 'โมจิ', 'ใส่ใจ', 'ไม่ต้อง', 'ไอติม', '\\u200b', '           ', '21', '30', '9', 'CTW', 'Terminal', 'กา', 'การงด', 'คิดถึง', 'ชาบู', 'ญี่ปุ่น', 'ฐาน', 'ทะยอย', 'ทำงาน', 'ที่ทาง', 'นาที', 'นึกถึง', 'พนักงานบริการ', 'พระราม', 'พรีเมียม', 'พาราไดซ์', 'มาตรา', 'มีโอ', 'รายละเอียด', 'ลูกค้า', 'สมาทาน', 'สาขา', 'สู้', 'ออร์เดอร์', 'เครื่องดื่ม', 'เจอ', 'เป็นกันเอง', 'เหวี่ยง', 'แจ้ง', 'โม', 'โม่', 'โอเค', '', '++', '2', '555', '600', ':', '::', 'กก', 'กรุบ', 'กั้น', 'ของหวาน', 'คนละ', 'คาว', 'คุ', 'คุ้มค่า', 'จาน', 'จิ้ม', 'จืด', 'ฉาก', 'ชอบ', 'ชาเขียว', 'ชิ้น', 'ซอย', 'ซอส', 'ตก', 'ตะ', 'ตัก', 'ตามน้ำ', 'ต่างกัน', 'ถั่ว', 'ถ่ายรูป', 'ทาน', 'นั่ง', 'นุ่ม', 'บด', 'บาร์', 'บู', 'ผัก', 'ภาษา', 'มีชื่อ', 'ยังมี', 'รส', 'รี่', 'รู้สึก', 'ลอง', 'ลิ้น', 'ลืม', 'ววว', 'สด', 'สตอ', 'สั่ง', 'สามรส', 'ส่วนตัว', 'หนึบ', 'หม้อ', 'หวาน', 'อยากได้', 'เข้มข้น', 'เข้ากัน', 'เค็ม', 'เนื้อวัว', 'เนื้อสัตว์', 'เนื้อหมู', 'เบอ', 'เป็นผู้ใหญ่', 'เลือก', 'เสิร์ฟ', 'เหนียว', 'เห็ด', 'แดง', 'แตก', 'แตา', 'แนว', 'แย้', 'โควิด', 'โต๊ะ', 'โร', 'ใส', 'ไก่', 'ไข่', 'ไดฟูกุ', 'ไผ่', 'ไม้', 'ไหว', '(', '3', 'ข้าว', 'จ่าย', 'ถ้วย', 'ธรรมดา', 'ส', 'ออ', 'เกินไป', 'เลี่ยน', 'โปร', 'โหด', 'ไว', 'ไอศกรีม', 'ขนม', 'คุณภาพดี', 'ตัดสินใจ', 'ต่าง ๆ', 'ที่จะ', 'ที่นั่ง', 'บัตรเครดิต', 'มมาก', 'ลูกชิ้น', 'สบายดี', 'หน้า', 'หอ', 'เดิน', 'เด็ก', 'เส้น', 'เหมือนกับ', 'แคบ', 'ได้กลิ่น', 'คามี', 'ซึ', 'บุ', 'บ๋วย', 'พอน', 'ฟเฟ่', 'รา', 'สาย', 'หยิบ', 'โซน', 'โปรโมชั่น', '+', '/', '20', '4.0', '5', 'Menu', 'Number', 'กรรมวิธี', 'กะปิ', 'ก์', 'คะแนน', 'ชุด', 'ดังเดิม', 'บุฟเฟ่ต์', 'ประ', 'พารา', 'มอ', 'ยุค', 'ร้านอาหาร', 'ล', 'สุกี้', 'สไตล์', 'ส์', 'หมู', 'หลาก', 'หลายชนิด', 'เดอะ', 'เมนู', 'แบบฉบับ', 'แบ่ง', 'ได', 'ไทย', '–', '!!!!', '500', 'กาแฟ', 'งวด', 'ตอนที่', 'ตำ', 'ติด', 'ทั่วไป', 'น', 'บ๊วย', 'ยุ', 'ร้อน', 'ลุย', 'สุกี้ยากี้', 'อยู่แล้ว', 'ออสเตรเลีย', 'เป็นปกติ', 'เฟรนไชส์', 'เรื่อง', 'เหมาะสม', 'แนะนำ', 'โช', 'ไข่ไก่', 'ไอศครีม', '..', '399', 'กุ้ง', 'ของกิน', 'ขา', 'ชิ', 'ซูชิ', 'ซ่า', 'ตอน', 'ตอนนี้', 'นิดนึง', 'ปุระ', 'ปูอัด', 'ม', 'ละลานตา', 'สายพาน', 'หิว', 'ฮ่า', 'าน', 'เกี๊ยว', 'เท', 'เทียบ', 'เล่น', 'แพง', 'แล้วก็', 'ไม่งั้น', 'กลาย', 'กี่', 'ชั่วคราว', 'ชื่นใจ', 'ซะงั้น', 'ญี่', 'ดึก', 'ตบท้าย', 'ตัว', 'ทอด', 'ทานอาหาร', 'นพ', 'นึก', 'น้ะ', 'ปลา', 'ปุ', 'ผิดหวัง', 'วก', 'สมใจ', 'อย่า', 'อาหารเสริม', 'เติม', 'เป็นมา', 'เป็นหลัก', 'เย็น', '1.15', 'net', 'กลับมา', 'ของคาว', 'ชม.', 'ตรงนั้น', 'ยืน', 'ลายตา', 'สไลด์', 'อัพเดท', 'อิ่ม', 'เบ', 'เพลิน', 'ไลน์', '\"', '-', '/คน', '15', '359', 'G', 'Net', 'Shabushi', 'กด', 'กรอ', 'ขาดสารอาหาร', 'ขึ้นราคา', 'ข่าว', 'คนเดียว', 'ครึ่ง', 'คิว', 'งาน', 'จุ', 'ชั่วโมง', 'ชั้น', 'ชื่น', 'ดู', 'ตลับ', 'ตับ', 'ตั้งอยู่', 'ติง', 'ถนนใหญ่', 'ถูกใจ', 'ทำ', 'ทิ้ง', 'น้ำมัน', 'บดี', 'ปลาดิบ', 'ปอกเปลือก', 'ฝรั่ง', 'ฝั่ง', 'มอลล์', 'มื้อ', 'รอ', 'ระดับ', 'รายการ', 'ลด', 'ลา', 'ลูก', 'วันหยุด', 'วาง', 'วานิลา', 'สะอาด', 'สาเหตุ', 'สำหรับ', 'สไปรท์', 'หนา', 'หอม', 'หอย', 'หาไม่', 'ห่างหาย', 'ห้าง', 'อม', 'ออกมา', 'อาทิตย์', 'อีกครั้ง', 'เช็คบิล', 'เด่น', 'เด้ง', 'เบคอน', 'เปรี้ยวหวาน', 'เพื่อน', 'เลิก', 'เวลา', 'เสาร์', 'เหมือน', 'เหมือนกัน', 'แก้ว', 'แถม', 'แน่น', 'แป้ง', 'แย่', 'แออัด', 'โดน', 'โดยประมาณ', 'โฟลต', 'โอ', 'ใจดี', 'ใจมา', 'ใช้ได้', 'ใส่', 'ได้ยิน', 'ชอค', 'ต', 'นัด', 'นิ', 'มะนาว', 'มุ', 'ลงเอย', 'ว', 'วันก่อน', 'ห', 'หา', 'อยุ่', 'อาหารสด', 'เบอร์', 'แกงค์', 'แล', 'โก', 'กินที่', 'ขยัน', 'จอง', 'ชู', 'ณ์', 'บุฟเฟต์', 'ป', 'ประตู', 'พลาด', 'พอได้', 'พี่', 'รอบ', 'ร้อย', 'สาม', 'สุดท้าย', 'หลายครั้ง', 'หล่ะ', 'อาราม', 'เข้าหน้า', 'เต็ม', 'โชคดี', 'ขวัญใจ', 'ข้อดี', 'ต้องการ', 'ทั่วถึง', 'นํ้า', 'บ', 'ฟเฟ', 'มี่', 'ระบบ', 'รีวิว', 'สวัสดี', 'เก้', 'ใช้แล้ว', '^^', 'xx', 'กลยุทธ์', 'ขนาด', 'ข้น', 'ข้าวปั้น', 'ค่า', 'ชอป', 'ซุ้ม', 'ดีขึ้น', 'ตรงข้าม', 'ตรงนี้', 'ต้ม', 'ต้มยำ', 'ท่าน', 'นัล', 'บริเวณ', 'บัตรสมาชิก', 'ปรับปรุง', 'มันดี', 'มากขึ้น', 'ยอด', 'ลาน', 'สลัด', 'หมู่คณะ', 'ออกร้าน', 'อิอิ', 'เครือ', 'เคลื่อนตัว', 'เคาน์เตอร์', 'เบา', 'เป็นแนว', 'แมค', 'โชคชะตา', 'โด', 'โน้น', 'โออิชิ', '199', '39', '40', '49', 'HALL', 'MCC', 'ค่ายมวย', 'ด้านใน', 'ตอนแรก', 'ตัวเลือก', 'ติดกับ', 'ที่ไหนได้', 'นม', 'นา', 'น้ำดื่ม', 'พิซ', 'พิซซ่า', 'ฟี', 'ยู', 'รี', 'หลังจากที่', 'อลล์', 'อเรีย', 'เซ', 'แกงเขียวหวาน', 'แน่นอน', 'แวะ', '10', '300', '6', 'VAT', 'กำ', 'ค่าน้ำ', 'ช่อง', 'ซี', 'ซึป', 'ถูกหวย', 'ทอน', 'นึง', 'ฟรี', 'ฟู้ด', 'รับประกัน', 'ลอตเตอรี่', 'สัปดาห์', 'หวย', 'หัว', 'ฮัน', 'เงิน', 'แลก', 'โทส', 'ได้เวลา', 'Narai', 'mall', 'pizza', 'pizzeria', 'union', 'ของสด', 'ขึ้นใจ', 'ข้าวมันไก่', 'จำได้', 'ชื่อ', 'ตตี้', 'ตัดกำลัง', 'ตู้', 'นิว', 'บางส่วน', 'ปรุง', 'รู้จัก', 'ลี', 'สปา', 'สุก', 'เก', '😆', '🤣', '128', '255', '29', 'ครีม', 'จบ', 'จุก', 'ชาต', 'บรา', 'บุพ', 'ปิดท้าย', 'ย', 'วิป', 'สมราคา', 'สวย', 'เ', 'เซต', 'เด็ด', 'เป้ง', 'เฟ่', 'เรย', 'เริส', 'เเบบ', 'โชค', '%', '7', 'ทดแทน', 'ปรกติ', 'สดๆ ร้อนๆ', 'เงินสด', 'โดยเฉพาะ'])\n"
          ],
          "name": "stdout"
        }
      ]
    },
    {
      "cell_type": "code",
      "metadata": {
        "id": "te8F2STzoBex"
      },
      "source": [
        "gensim_corpus = [dictionary.doc2bow(text, allow_update=True) for text in texts]\n",
        "word_frequencies = [[(dictionary[id], frequence) for id, frequence in couple] for couple in gensim_corpus]"
      ],
      "execution_count": 28,
      "outputs": []
    },
    {
      "cell_type": "markdown",
      "metadata": {
        "id": "EV9MfYFozNb7"
      },
      "source": [
        "**Topic Modeling**"
      ]
    },
    {
      "cell_type": "code",
      "metadata": {
        "colab": {
          "base_uri": "https://localhost:8080/"
        },
        "id": "MupIco71hEs0",
        "outputId": "525ad8f6-a1f2-4d88-c380-2f3d0cd941f1"
      },
      "source": [
        "num_topics = 5\n",
        "chunksize = 100   # size of the doc looked at every pass\n",
        "passes = 20         # number of passes through documents\n",
        "iterations = 100    \n",
        "eval_every = 1     # Don't evaluate model perplexity, takes too much time.\n",
        "\n",
        "# Make a index to word dictionary.\n",
        "temp = dictionary[0]  # This is only to \"load\" the dictionary.\n",
        "id2word = dictionary.id2token\n",
        "\n",
        "%time model = gensim.models.LdaModel(corpus=gensim_corpus, id2word=id2word, chunksize=chunksize, \\\n",
        "                       alpha='auto', eta='auto', \\\n",
        "                       iterations=iterations, num_topics=num_topics, \\\n",
        "                       passes=passes, eval_every=eval_every)"
      ],
      "execution_count": 29,
      "outputs": [
        {
          "output_type": "stream",
          "text": [
            "CPU times: user 336 ms, sys: 9.73 ms, total: 345 ms\n",
            "Wall time: 343 ms\n"
          ],
          "name": "stdout"
        }
      ]
    },
    {
      "cell_type": "code",
      "metadata": {
        "colab": {
          "base_uri": "https://localhost:8080/",
          "height": 860
        },
        "id": "xtO5KXljisBp",
        "outputId": "78e47c79-546a-46bc-ef62-9f9afe3200e9"
      },
      "source": [
        "pyLDAvis.gensim_models.prepare(model, gensim_corpus, dictionary)"
      ],
      "execution_count": 30,
      "outputs": [
        {
          "output_type": "execute_result",
          "data": {
            "text/html": [
              "\n",
              "<link rel=\"stylesheet\" type=\"text/css\" href=\"https://cdn.jsdelivr.net/gh/bmabey/pyLDAvis@3.3.1/pyLDAvis/js/ldavis.v1.0.0.css\">\n",
              "\n",
              "\n",
              "<div id=\"ldavis_el6931396286026847522508858397\"></div>\n",
              "<script type=\"text/javascript\">\n",
              "\n",
              "var ldavis_el6931396286026847522508858397_data = {\"mdsDat\": {\"x\": [-0.06156424941780715, 0.006504827829674765, 0.03936931398982913, -0.0013090809539089668, 0.01699918855221212], \"y\": [0.007572844465513409, 0.03852530166752239, 0.013443102235000727, -0.0381534270928937, -0.02138782127514283], \"topics\": [1, 2, 3, 4, 5], \"cluster\": [1, 1, 1, 1, 1], \"Freq\": [34.67251854810266, 19.188023917805104, 18.988379839102098, 13.611067839105958, 13.540009855884177]}, \"tinfo\": {\"Term\": [\"\\u200b\", \":\", \"-\", \"\\u0e40\\u0e25\\u0e37\\u0e2d\\u0e01\", \"\\u0e17\\u0e32\\u0e19\", \"\\u0e19\\u0e49\\u0e33\", \"\\u0e2d\\u0e32\\u0e2b\\u0e32\\u0e23\", \"\\u0e1a\\u0e23\\u0e34\\u0e01\\u0e32\\u0e23\", \"\\u0e2d\\u0e23\\u0e48\\u0e2d\\u0e22\", \"\\u0e01\\u0e34\\u0e19\", \"\\u0e23\\u0e2d\", \"\\u0e2a\\u0e32\\u0e22\\u0e1e\\u0e32\\u0e19\", \"\\u0e0b\\u0e38\\u0e1b\", \"\\u0e23\\u0e2a\", \"\\u0e1a\\u0e38\\u0e1f\\u0e40\\u0e1f\\u0e48\\u0e15\\u0e4c\", \"\\u0e14\\u0e35\", \"\\u0e2b\\u0e21\\u0e49\\u0e2d\", \"\\u0e14\\u0e35\\u0e21\\u0e32\\u0e01\", \"\\u0e0a\\u0e34\", \"\", \"\\u0e42\\u0e21\", \"\\u0e2b\\u0e22\\u0e34\\u0e1a\", \"\\u0e2b\\u0e49\\u0e32\\u0e07\", \"\\u0e04\\u0e34\\u0e27\", \"\\u0e14\\u0e33\", \"\\u0e40\\u0e2b\\u0e47\\u0e14\", \"+\", \"\\u0e2b\\u0e19\\u0e49\\u0e32\", \"\\u0e14\\u0e39\", \"/\", \"-\", \"\\u0e2a\\u0e33\\u0e2b\\u0e23\\u0e31\\u0e1a\", \"\\u0e40\\u0e27\\u0e25\\u0e32\", \"\\u0e15\\u0e31\\u0e27\", \"\\u0e42\\u0e0b\\u0e19\", \"\\u0e43\\u0e0a\\u0e49\\u0e44\\u0e14\\u0e49\", \"\\u0e15\\u0e48\\u0e32\\u0e07 \\u0e46\", \"\\u0e19\\u0e36\\u0e01\", \"\\u0e25\\u0e39\\u0e01\\u0e0a\\u0e34\\u0e49\\u0e19\", \"\\u0e40\\u0e0a\\u0e47\\u0e04\\u0e1a\\u0e34\\u0e25\", \"\\u0e0a\\u0e37\\u0e48\\u0e19\", \"\\u0e1b\\u0e2d\\u0e01\\u0e40\\u0e1b\\u0e25\\u0e37\\u0e2d\\u0e01\", \"\\u0e2d\\u0e35\\u0e01\\u0e04\\u0e23\\u0e31\\u0e49\\u0e07\", \"\\u0e1c\\u0e34\\u0e14\\u0e2b\\u0e27\\u0e31\\u0e07\", \"15\", \"\\u0e2b\\u0e2d\\u0e21\", \"\\u0e27\\u0e32\\u0e19\\u0e34\\u0e25\\u0e32\", \"\\u0e2d\\u0e22\\u0e48\\u0e32\", \"\\u0e43\\u0e08\\u0e14\\u0e35\", \"\\u0e42\\u0e14\\u0e19\", \"\\u0e40\\u0e14\\u0e49\\u0e07\", \"\\u0e01\\u0e38\\u0e49\\u0e07\", \"\\u0e04\\u0e38\\u0e13\\u0e20\\u0e32\\u0e1e\\u0e14\\u0e35\", \"7\", \"\\u0e17\\u0e35\\u0e48\\u0e08\\u0e30\", \"\\u0e40\\u0e2b\\u0e21\\u0e37\\u0e2d\\u0e19\\u0e01\\u0e31\\u0e1a\", \"\\u0e02\\u0e19\\u0e21\", \"\\u0e40\\u0e14\\u0e47\\u0e01\", \"\\u0e2a\\u0e1a\\u0e32\\u0e22\\u0e14\\u0e35\", \"\\u0e2a\\u0e14\\u0e46 \\u0e23\\u0e49\\u0e2d\\u0e19\\u0e46\", \"359\", \"1\", \"\\u0e17\\u0e2d\\u0e14\", \"\\u0e08\\u0e48\\u0e32\\u0e22\", \"\\u0e25\\u0e32\", \"\\u0e2a\\u0e14\", \"199\", \"\\u0e0b\\u0e39\\u0e0a\\u0e34\", \"\\u0e1b\\u0e38\\u0e23\\u0e30\", \"\\u0e21\", \"\\u0e40\\u0e17\", \"\\u0e01\\u0e34\\u0e19\", \"\\u0e2a\\u0e32\\u0e02\\u0e32\", \"\\u0e14\\u0e35\", \"\\u0e40\\u0e19\\u0e37\\u0e49\\u0e2d\", \"\\u0e0a\\u0e32\\u0e1a\\u0e39\", \"\\u0e2a\\u0e31\\u0e48\\u0e07\", \"\\u0e01\\u0e25\\u0e31\\u0e1a\\u0e21\\u0e32\", \"\\u0e23\\u0e32\\u0e04\\u0e32\", \"\\u0e1a\\u0e32\\u0e17\", \"\\u0e17\\u0e32\\u0e19\", \"\\u0e19\\u0e49\\u0e33\", \"\\u0e2d\\u0e23\\u0e48\\u0e2d\\u0e22\", \"\\u0e23\\u0e2a\\u0e0a\\u0e32\\u0e15\\u0e34\", \"\\u0e2d\\u0e32\\u0e2b\\u0e32\\u0e23\", \"\\u0e02\\u0e2d\\u0e07\\u0e2b\\u0e27\\u0e32\\u0e19\", \"\\u0e04\\u0e38\\u0e49\\u0e21\", \"\\u0e0b\\u0e38\\u0e1b\", \"\\u0e40\\u0e25\\u0e37\\u0e2d\\u0e01\", \"\", \"\\u0e44\\u0e2d\\u0e15\\u0e34\\u0e21\", \"\\u0e0a\\u0e2d\\u0e1a\", \"\\u0e40\\u0e2b\\u0e47\\u0e14\", \"\\u0e40\\u0e01\\u0e34\\u0e19\\u0e44\\u0e1b\", \"::\", \"\\u0e44\\u0e14\\u0e1f\\u0e39\\u0e01\\u0e38\", \"\\u0e44\\u0e21\\u0e49\", \"\\u0e44\\u0e1c\\u0e48\", \"\\u0e02\\u0e49\\u0e32\\u0e27\", \"\\u0e23\\u0e35\\u0e48\", \"\\u0e2a\\u0e15\\u0e2d\", \"\\u0e2d\\u0e31\\u0e1e\\u0e40\\u0e14\\u0e17\", \"net\", \"\\u0e23\\u0e2a\", \"\\u0e15\\u0e23\\u0e07\\u0e19\\u0e31\\u0e49\\u0e19\", \"\\u0e25\\u0e32\\u0e22\\u0e15\\u0e32\", \"\\u0e02\\u0e2d\\u0e07\\u0e04\\u0e32\\u0e27\", \"1.15\", \"\\u0e22\\u0e37\\u0e19\", \"\\u0e40\\u0e25\\u0e35\\u0e48\\u0e22\\u0e19\", \"\\u0e41\\u0e15\\u0e32\", \"\\u0e42\\u0e2b\\u0e14\", \"\\u0e2a\", \"\\u0e16\\u0e49\\u0e27\\u0e22\", \"\\u0e1a\\u0e14\", \"\\u0e44\\u0e27\", \"\\u0e40\\u0e02\\u0e49\\u0e32\\u0e01\\u0e31\\u0e19\", \"\\u0e01\\u0e23\\u0e38\\u0e1a\", \"\\u0e40\\u0e19\\u0e37\\u0e49\\u0e2d\\u0e2a\\u0e31\\u0e15\\u0e27\\u0e4c\", \"\\u0e2a\\u0e32\\u0e21\\u0e23\\u0e2a\", \"\\u0e15\\u0e32\\u0e21\\u0e19\\u0e49\\u0e33\", \"\\u0e20\\u0e32\\u0e29\\u0e32\", \":\", \"\", \"\\u0e44\\u0e01\\u0e48\", \"2\", \"\\u0e17\\u0e32\\u0e19\", \"\\u0e19\\u0e36\\u0e01\\u0e16\\u0e36\\u0e07\", \"\\u0e42\\u0e15\\u0e4a\\u0e30\", \"\\u0e40\\u0e1b\\u0e47\\u0e14\", \"\\u0e40\\u0e19\\u0e37\\u0e49\\u0e2d\\u0e27\\u0e31\\u0e27\", \"\\u0e19\\u0e49\\u0e33\", \"\\u0e0a\\u0e32\\u0e40\\u0e02\\u0e35\\u0e22\\u0e27\", \"\\u0e40\\u0e2a\\u0e34\\u0e23\\u0e4c\\u0e1f\", \"\\u0e0b\\u0e38\\u0e1b\", \"\\u0e0a\\u0e2d\\u0e1a\", \"\\u0e40\\u0e19\\u0e37\\u0e49\\u0e2d\", \"\\u0e2d\\u0e23\\u0e48\\u0e2d\\u0e22\", \"\\u0e40\\u0e19\\u0e37\\u0e49\\u0e2d\\u0e2b\\u0e21\\u0e39\", \"\\u0e2a\\u0e48\\u0e27\\u0e19\\u0e15\\u0e31\\u0e27\", \"\\u0e40\\u0e25\\u0e37\\u0e2d\\u0e01\", \"\\u0e14\\u0e33\", \"\\u0e2a\\u0e31\\u0e48\\u0e07\", \"\\u0e0a\\u0e32\\u0e1a\\u0e39\", \"\\u0e23\\u0e2a\\u0e0a\\u0e32\\u0e15\\u0e34\", \"\\u0e23\\u0e32\\u0e04\\u0e32\", \"\\u0e19\\u0e38\\u0e48\\u0e21\", \"\\u0e14\\u0e35\", \"\\u0e04\\u0e38\\u0e49\\u0e21\", \"\\u0e01\\u0e34\\u0e19\", \"\\u0e44\\u0e2d\\u0e15\\u0e34\\u0e21\", \"\\u0e1a\\u0e32\\u0e17\", \"\\u0e19\\u0e49\\u0e33\\u0e08\\u0e34\\u0e49\\u0e21\", \"\\u0e25\\u0e2d\\u0e07\", \"\\u0e2d\\u0e32\\u0e2b\\u0e32\\u0e23\", \"4\", \"\\u0e2a\\u0e14\", \"\\u0e1a\\u0e38\\u0e1f\\u0e40\\u0e1f\\u0e48\\u0e15\\u0e4c\", \"+\", \"/\", \"\\u0e1a\\u0e32\\u0e07\\u0e2a\\u0e48\\u0e27\\u0e19\", \"\\u0e0a\\u0e37\\u0e48\\u0e2d\", \"\\u0e40\\u0e2b\\u0e21\\u0e32\\u0e30\\u0e2a\\u0e21\", \"\\u0e2d\\u0e22\\u0e39\\u0e48\\u0e41\\u0e25\\u0e49\\u0e27\", \"\\u0e19\", \"\\u0e2a\\u0e38\\u0e01\\u0e35\\u0e49\", \"\\u0e02\\u0e49\\u0e32\\u0e27\\u0e21\\u0e31\\u0e19\\u0e44\\u0e01\\u0e48\", \"\\u0e02\\u0e36\\u0e49\\u0e19\\u0e43\\u0e08\", \"\\u0e02\\u0e2d\\u0e07\\u0e2a\\u0e14\", \"mall\", \"\\u0e1b\\u0e23\\u0e38\\u0e07\", \"pizza\", \"\\u0e2a\\u0e38\\u0e01\", \"\\u0e15\\u0e39\\u0e49\", \"\\u0e15\\u0e15\\u0e35\\u0e49\", \"\\u0e19\\u0e34\\u0e27\", \"\\ud83e\\udd23\", \"\\u0e15\\u0e31\\u0e14\\u0e01\\u0e33\\u0e25\\u0e31\\u0e07\", \"\\ud83d\\ude06\", \"\\u0e2a\\u0e1b\\u0e32\", \"\\u0e25\\u0e35\", \"pizzeria\", \"\\u0e08\\u0e33\\u0e44\\u0e14\\u0e49\", \"\\u0e40\\u0e01\", \"Narai\", \"union\", \"\\u0e23\\u0e39\\u0e49\\u0e08\\u0e31\\u0e01\", \"\\u0e1b\\u0e34\\u0e14\\u0e17\\u0e49\\u0e32\\u0e22\", \"\\u0e1f\\u0e40\\u0e1f\\u0e48\", \"\\u0e14\\u0e35\\u0e21\\u0e32\\u0e01\", \"\\u0e42\\u0e21\", \"\\u0e1a\\u0e38\", \"\\u0e2b\\u0e21\\u0e39\", \"\\u0e2d\\u0e32\\u0e2b\\u0e32\\u0e23\", \"\\u0e19\\u0e49\\u0e33\", \":\", \"\\u0e23\\u0e32\\u0e04\\u0e32\", \"\\u0e19\\u0e49\\u0e33\\u0e08\\u0e34\\u0e49\\u0e21\", \"\\u0e0a\\u0e32\\u0e1a\\u0e39\", \"\\u0e41\\u0e19\\u0e30\\u0e19\\u0e33\", \"\\u0e2d\\u0e23\\u0e48\\u0e2d\\u0e22\", \"\\u0e14\\u0e35\", \"\\u0e04\\u0e38\\u0e49\\u0e21\\u0e04\\u0e48\\u0e32\", \"\\u0e02\\u0e2d\\u0e07\\u0e2b\\u0e27\\u0e32\\u0e19\", \"\\u0e1a\\u0e32\\u0e17\", \"\\u0e23\\u0e2a\\u0e0a\\u0e32\\u0e15\\u0e34\", \"\\\"\", \"\\u0e44\\u0e01\\u0e48\", \"\\u0e40\\u0e25\\u0e37\\u0e2d\\u0e01\", \"\\u0e14\\u0e33\", \"\\u0e17\\u0e32\\u0e19\", \"\\u0e0b\\u0e38\\u0e1b\", \"\\u0e40\\u0e19\\u0e37\\u0e49\\u0e2d\", \"\\u0e01\\u0e34\\u0e19\", \"\\u0e04\\u0e38\\u0e49\\u0e21\", \"\\u0e1c\\u0e31\\u0e01\", \"\\u0e40\\u0e21\\u0e19\\u0e39\", \"\\u0e2a\\u0e32\\u0e02\\u0e32\", \"\\u0e44\\u0e2d\\u0e15\\u0e34\\u0e21\", \"\\u0e0a\\u0e2d\\u0e1a\", \"\\u0e04\\u0e48\\u0e32\", \"\\u0e19\\u0e4d\\u0e49\\u0e32\", \"\\u0e0a\\u0e39\", \"\\u0e1b\\u0e23\\u0e30\\u0e15\\u0e39\", \"\\u0e1a\\u0e38\\u0e1f\\u0e40\\u0e1f\\u0e15\\u0e4c\", \"\\u0e42\\u0e14\", \"\\u0e2b\\u0e21\\u0e39\\u0e48\\u0e04\\u0e13\\u0e30\", \"\\u0e02\\u0e49\\u0e19\", \"\\u0e42\\u0e2d\\u0e2d\\u0e34\\u0e0a\\u0e34\", \"\\u0e0a\\u0e2d\\u0e1b\", \"\\u0e2d\\u0e34\\u0e2d\\u0e34\", \"\\u0e19\\u0e31\\u0e25\", \"\\u0e0b\\u0e38\\u0e49\\u0e21\", \"^^\", \"\\u0e40\\u0e1a\\u0e32\", \"\\u0e02\\u0e49\\u0e32\\u0e27\\u0e1b\\u0e31\\u0e49\\u0e19\", \"\\u0e15\\u0e49\\u0e21\", \"\\u0e21\\u0e31\\u0e19\\u0e14\\u0e35\", \"\\u0e41\\u0e21\\u0e04\", \"\\u0e42\\u0e19\\u0e49\\u0e19\", \"\\u0e42\\u0e0a\\u0e04\\u0e0a\\u0e30\\u0e15\\u0e32\", \"\\u0e1a\\u0e31\\u0e15\\u0e23\\u0e2a\\u0e21\\u0e32\\u0e0a\\u0e34\\u0e01\", \"\\u0e25\\u0e32\\u0e19\", \"\\u0e2d\\u0e2d\\u0e01\\u0e23\\u0e49\\u0e32\\u0e19\", \"xx\", \"\\u0e02\\u0e19\\u0e32\\u0e14\", \"\\u0e14\\u0e35\\u0e02\\u0e36\\u0e49\\u0e19\", \"\\u0e15\\u0e23\\u0e07\\u0e02\\u0e49\\u0e32\\u0e21\", \"\\u0e40\\u0e1b\\u0e47\\u0e19\\u0e41\\u0e19\\u0e27\", \"\\u0e2a\\u0e25\\u0e31\\u0e14\", \"\\u0e23\\u0e2d\", \"\\u0e2a\\u0e32\\u0e22\\u0e1e\\u0e32\\u0e19\", \"\\u0e2b\\u0e21\\u0e49\\u0e2d\", \"\\u0e2b\\u0e22\\u0e34\\u0e1a\", \"\\u0e2b\\u0e49\\u0e32\\u0e07\", \"\\u0e04\\u0e34\\u0e27\", \"\\u0e0a\\u0e34\", \"555\", \"\\u0e40\\u0e25\\u0e37\\u0e2d\\u0e01\", \"\\u0e2b\\u0e19\\u0e49\\u0e32\", \"\\u0e14\\u0e39\", \"\\u0e17\\u0e32\\u0e19\", \"\\u0e08\\u0e32\\u0e19\", \"\\u0e21\\u0e2d\\u0e25\\u0e25\\u0e4c\", \"\\u0e01\\u0e34\\u0e19\", \"3\", \"\\u0e2d\\u0e23\\u0e48\\u0e2d\\u0e22\", \"\\u0e01\\u0e30\\u0e1b\\u0e34\", \"\\u0e0b\\u0e38\\u0e1b\", \"(\", \"\\u0e14\\u0e35\", \"\\u0e1c\\u0e31\\u0e01\", \"\\u0e0a\\u0e32\\u0e1a\\u0e39\", \"\\u0e2d\\u0e32\\u0e2b\\u0e32\\u0e23\", \"\\u0e40\\u0e19\\u0e37\\u0e49\\u0e2d\", \"\\u0e1a\\u0e32\\u0e17\", \"\\u0e23\\u0e32\\u0e04\\u0e32\", \"\\u0e19\\u0e49\\u0e33\", \"\\u0e2a\\u0e32\\u0e02\\u0e32\", \"\\u0e40\\u0e21\\u0e19\\u0e39\", \"\\u0e40\\u0e14\\u0e2d\\u0e30\", \"\\u0e04\\u0e38\\u0e49\\u0e21\", \"\\u0e23\\u0e2a\\u0e0a\\u0e32\\u0e15\\u0e34\", \"\\u200b\", \"\\u0e1b\\u0e23\\u0e30\\u0e17\\u0e31\\u0e1a\\u0e43\\u0e08\", \"\\u0e2d\\u0e31\\u0e19\\u0e19\\u0e35\\u0e49\", \"\\u0e19\\u0e48\\u0e32\\u0e23\\u0e31\\u0e01\", \"\\u0e42\\u0e21\\u0e08\\u0e34\", \"560\", \"\\u0e41\\u0e1a\\u0e1a\\u0e19\\u0e35\\u0e49\", \"\\u0e02\\u0e49\\u0e32\\u0e07\\u0e19\\u0e2d\\u0e01\", \"\\u0e40\\u0e15\\u0e49\\u0e32\\u0e40\\u0e08\\u0e35\\u0e49\\u0e22\\u0e27\", \"\\u0e16\\u0e32\\u0e14\", \"\\u0e20\\u0e32\\u0e1e\", \"\\u0e2a\\u0e30\\u0e2d\\u0e32\\u0e14\\u0e2a\\u0e30\\u0e2d\\u0e49\\u0e32\\u0e19\", \"\\u0e1e\\u0e2d\\u0e01\\u0e31\\u0e1a\", \"\\u0e41\\u0e1f\\u0e19\", \"\\u0e40\\u0e1c\\u0e47\\u0e14\", \"\\u0e44\\u0e21\\u0e48\\u0e15\\u0e49\\u0e2d\\u0e07\", \"\\u0e43\\u0e2a\\u0e48\\u0e43\\u0e08\", \"\\u0e16\\u0e32\\u0e21\", \"\\u0e08\\u0e33\\u0e01\\u0e31\\u0e14\", \"\\u0e04\\u0e27\\u0e32\\u0e21\\u0e15\\u0e49\\u0e2d\\u0e07\\u0e01\\u0e32\\u0e23\", \"\\u0e40\\u0e04\\u0e25\\u0e21\", \"\\u0e41\\u0e25\\u0e01\", \"\\u0e44\\u0e14\\u0e49\\u0e40\\u0e27\\u0e25\\u0e32\", \"\\u0e42\\u0e17\\u0e2a\", \"\\u0e19\\u0e36\\u0e07\", \"6\", \"\\u0e1f\\u0e39\\u0e49\\u0e14\", \"\\u0e0b\\u0e35\", \"\\u0e2b\\u0e31\\u0e27\", \"\\u0e2a\\u0e21\\u0e32\\u0e17\\u0e32\\u0e19\", \"\\u0e1a\\u0e23\\u0e34\\u0e01\\u0e32\\u0e23\", \"\\u0e1a\\u0e38\\u0e1f\\u0e40\\u0e1f\\u0e48\\u0e15\\u0e4c\", \"\\u0e0a\\u0e38\\u0e14\", \"\\u0e01\\u0e34\\u0e19\", \"\\u0e2d\\u0e32\\u0e2b\\u0e32\\u0e23\", \"\\u0e2d\\u0e23\\u0e48\\u0e2d\\u0e22\", \"\\u0e14\\u0e35\", \"\\u0e41\\u0e19\\u0e30\\u0e19\\u0e33\", \"\\u0e19\\u0e49\\u0e33\", \"\\u0e40\\u0e25\\u0e37\\u0e2d\\u0e01\", \"\\u0e0b\\u0e38\\u0e1b\", \"\\u0e1a\\u0e32\\u0e17\", \"\\u0e17\\u0e32\\u0e19\", \"\\u0e23\\u0e2a\\u0e0a\\u0e32\\u0e15\\u0e34\", \"\\u0e2a\\u0e32\\u0e02\\u0e32\", \"\\u0e04\\u0e38\\u0e13\\u0e20\\u0e32\\u0e1e\", \"\\u0e04\\u0e19\\u0e25\\u0e30\", \"\\u0e1e\\u0e19\\u0e31\\u0e01\\u0e07\\u0e32\\u0e19\", \"\\u0e40\\u0e19\\u0e37\\u0e49\\u0e2d\", \"\\u0e0a\\u0e32\\u0e1a\\u0e39\", \"\\u0e23\\u0e32\\u0e04\\u0e32\", \"\\u0e04\\u0e38\\u0e49\\u0e21\", \"\\u0e44\\u0e2d\\u0e15\\u0e34\\u0e21\", \"\\u0e14\\u0e33\", \"\\u0e0a\\u0e2d\\u0e1a\", \"\\u0e19\\u0e49\\u0e33\\u0e08\\u0e34\\u0e49\\u0e21\", \"2\", \"3\"], \"Freq\": [5.0, 11.0, 10.0, 18.0, 23.0, 25.0, 16.0, 7.0, 21.0, 21.0, 4.0, 5.0, 16.0, 4.0, 7.0, 19.0, 4.0, 5.0, 7.0, 8.0, 5.0, 4.0, 4.0, 4.0, 6.0, 2.0, 2.0, 5.0, 5.0, 2.0, 9.20844172575643, 3.2092198587505907, 3.8005422300213065, 2.604245894731454, 1.9823211195174875, 1.9891608126135063, 1.3369909614588575, 1.3678220917741695, 1.3680270114670672, 1.3775846527522095, 1.3776714503097347, 1.3780279809594123, 1.3784284799256317, 1.3785512722707922, 1.9758981002606126, 1.3790255833331746, 1.3791782194579567, 1.38029371615198, 1.3805379339516313, 1.380687152849739, 1.3811382267707368, 7.36650870717527, 0.7334338935264108, 0.7334357730010816, 0.7334365703539723, 0.7334369690304176, 0.7334418670553173, 0.73344613858866, 0.733446765080217, 0.7334470498491066, 1.3469143599056979, 3.398425548694461, 2.8123456587722306, 2.784346270294294, 1.3466187697983774, 5.071904328033655, 2.156801751907007, 4.140889121984846, 3.6794664717268115, 3.6813828524457173, 3.6863273516282105, 9.209554374761558, 5.658764712528279, 7.1066901286805315, 6.633384642200656, 6.7412591982223935, 3.9765619813048976, 2.1795994379414374, 6.220735384818511, 5.386007602584475, 7.2395437004304135, 7.035300162783945, 6.262280659833079, 4.848640051088222, 5.058625440807837, 3.5362366050881984, 3.835861545850547, 4.76916538251064, 4.471025112830687, 3.152402542098684, 3.0216270997969548, 2.9641154026848455, 1.5189343273981268, 1.0467255435784273, 1.0476440596362173, 1.0508587082453074, 1.05204273728336, 1.05354277215476, 1.061205078369603, 1.0640209532101406, 1.0651780653340024, 0.5639870772539469, 0.5639897248192771, 2.6314812448011526, 0.5639935070554633, 0.563994137428161, 0.5639945786890493, 0.5639958394344446, 0.5640052950249098, 0.5731920945718226, 0.5739926678978765, 0.5740139114577884, 0.5741261808352451, 0.5741467309851895, 0.5742986508053305, 0.5746671036471246, 0.5749861352694206, 0.575072685440812, 0.5751233043684357, 0.5753356769302842, 0.5754057113369965, 0.5754456139287597, 5.252827105219923, 3.305738220352178, 1.7400850812108757, 2.4421651947430325, 6.712734467878128, 1.1936739924763795, 1.2016555194253276, 1.2023772961641714, 1.7480570264948192, 6.732611379781382, 1.1948515286756463, 1.1951886519943655, 4.54917534647791, 2.7200488609743054, 4.659662534243879, 4.9088518874258265, 1.1940087203788476, 1.1961136608909415, 4.31973683065968, 2.1410197673710427, 2.616430466271339, 4.301939644360614, 3.4121408451862583, 3.469338342282972, 1.8053736640313949, 2.732607650155649, 2.067705783661817, 2.672465556113531, 1.8824845085732882, 2.3141947462814416, 1.6924097419362403, 1.6968920700403654, 2.038138152277125, 1.3528775169899332, 1.695944619875752, 1.5973279803797995, 1.4785646026253572, 1.4851487089189699, 1.0049498611567733, 1.00497606134099, 1.012620838425635, 1.013148647374816, 1.0133347310641443, 1.0311613987864587, 0.5513018434098663, 0.5513026543679492, 0.5513037772329871, 0.5513065220141907, 0.5513072705908826, 0.5513075824978375, 0.5513077696420106, 0.5513082063117475, 0.5513093915581763, 0.5513110134743421, 0.551311574906861, 0.5513118868138159, 0.5513125106277259, 0.5513126977718988, 0.5513156920786665, 0.5513164406553583, 0.5513179378087422, 0.5513183744784791, 0.5513192478179529, 0.5513220549805476, 0.5513384612863784, 0.5543218513105577, 1.6331844907280504, 2.287183508118384, 2.291801727256283, 1.8136423766911705, 1.718266594664447, 4.406370935989282, 5.719351996282369, 3.14743536617248, 4.0337416855137445, 2.0854213790293334, 4.205003306816864, 1.2347117528296778, 4.106433722334146, 3.791215812667241, 1.3305247036444712, 2.227147906953511, 2.9396791339858166, 2.84366718653376, 1.231572721234974, 1.2700455707896472, 2.9293847073187984, 1.6618340178804742, 3.4153901397172866, 2.7228456608331655, 2.8306858685939456, 3.0433527638794775, 2.021222319066891, 1.6871054679479143, 1.5812461188766855, 1.6672396149354713, 1.4092626201170093, 1.3657575885138158, 0.8207061797101932, 0.8207789767539042, 0.8335731913330073, 0.8337239724333719, 0.8427709278865086, 0.4502362559485554, 0.4502363900954418, 0.4502368819673588, 0.4502371055455029, 0.4502372396923893, 0.45023732912364695, 0.45023737383927576, 0.4502377315643063, 0.4502377762799351, 0.45023799985807916, 0.4502381787205944, 0.4502384470143673, 0.45023849172999614, 0.45023853644562495, 0.45023880473939787, 0.4502390283175419, 0.45023907303317073, 0.45023907303317073, 0.45023920718005717, 0.45023938604257246, 0.45023965433634533, 0.4502401462082623, 0.45024059336455047, 0.4502408169426945, 0.4502410405208386, 1.7990474713698223, 1.8696643598823588, 1.4843508595573913, 1.4755796206715286, 1.4083408190534608, 1.4101368670004495, 2.1012158371633425, 0.9499300542855807, 3.8007905304336425, 1.439143805981573, 1.4524212176456526, 3.493915755276071, 1.0882099168711257, 1.019845086288235, 2.8371606806541942, 1.220517470640863, 2.6494539506015466, 1.1631695872541887, 2.223623619007181, 1.294022631049827, 2.391940042642947, 1.3778260690686908, 2.3780712220721583, 2.190285971375311, 2.3116259440030436, 2.0488338032191047, 2.238057645126193, 2.558290051785938, 1.713615758443284, 1.2914741979323947, 1.243999525388103, 1.2986823572973951, 1.266154151978337, 4.402836832386448, 0.817950540174393, 0.8283161350750862, 0.8306637269373472, 0.4487219717657722, 0.4487238400175953, 0.44872392898196783, 0.44872432932164424, 0.44872566378723217, 0.44872575275160465, 0.44872699825282003, 0.4487273541103102, 0.448727487556869, 0.44872788789654533, 0.4487286440937118, 0.44872895546901564, 0.4487290444333882, 0.44873042338116237, 0.4487310016495838, 0.44873291438359314, 0.4487331367945245, 0.45540372992883815, 0.45645266436312604, 0.4565981211122088, 0.4566095085518924, 0.45664006781385563, 0.4569118539719278, 0.4570307103736248, 0.4571263470740921, 0.457125146055063, 2.4077654066226515, 2.108426982378679, 0.9595892942457933, 3.8805504878706336, 3.235475516392079, 3.6931132306794603, 3.43648873683098, 1.0049705544584113, 3.6024218817522464, 2.7351736917578204, 2.5671797761113226, 2.3929567530291798, 3.1308626665942394, 2.314618996871163, 2.0587665358474783, 1.2251721445503234, 1.143444489941511, 1.4350632086881367, 2.3039411370228975, 2.01898736217293, 1.8796981571799862, 1.2942933696432146, 1.1469657887705302, 1.0017319844052852, 1.1115612601862868, 0.9956513585073891, 0.8905597914209781, 0.8654493303819154], \"Total\": [5.0, 11.0, 10.0, 18.0, 23.0, 25.0, 16.0, 7.0, 21.0, 21.0, 4.0, 5.0, 16.0, 4.0, 7.0, 19.0, 4.0, 5.0, 7.0, 8.0, 5.0, 4.0, 4.0, 4.0, 6.0, 2.0, 2.0, 5.0, 5.0, 2.0, 10.876374214976963, 4.148961978562103, 4.9398658765124415, 3.457281043109431, 2.701609258380427, 2.7277912112266063, 1.8584170077496027, 1.9744352963714134, 1.975243476887107, 2.0113885928122603, 2.0117158884059956, 2.0130740595178116, 2.014611791280363, 2.014806549920717, 2.889098210588125, 2.016894545708959, 2.0174966680559856, 2.0213820507495046, 2.02266951841264, 2.0231752773013576, 2.0249003670827226, 11.146849337861365, 1.1724916511950494, 1.1724987881782136, 1.1725018353954575, 1.1725034957806764, 1.1725216103013065, 1.1725375669531282, 1.1725401527389898, 1.172541080263739, 2.154187268261899, 5.529930031173102, 4.588550642132765, 4.571448171442193, 2.190066032212866, 9.212266367757032, 3.7059764163252176, 7.610688659289964, 6.7818079020348145, 6.78915041575401, 6.807892698635478, 21.643083863279394, 12.363281382360201, 19.458942370977347, 18.73930012606442, 19.645260733644957, 9.216439780317186, 3.882522424309365, 17.84157121492141, 15.081672039100019, 23.992446729896137, 25.64797547238588, 21.62013345087406, 14.68522123165774, 16.928896016841634, 9.034252038319961, 10.517765375519865, 16.83198978494022, 18.25611087300063, 8.155004791380255, 8.611234001795866, 8.924794993860061, 2.2777407824731917, 1.684775687763418, 1.6890123098561738, 1.7047836493086306, 1.7105909543492166, 1.7179497338829668, 1.8549462635533693, 1.8700688686343958, 1.879263567866709, 1.039993727237803, 1.0400066174904146, 4.852533723786375, 1.0400249642708224, 1.040028245438402, 1.0400302531491263, 1.0400364345761592, 1.040082656815908, 1.0851135940869308, 1.0889475995325462, 1.0891641825979888, 1.0897176021480521, 1.0898192452067268, 1.0904448578715076, 1.0923887651803517, 1.0938190010326152, 1.0942412646116386, 1.094494247081841, 1.0955340757579326, 1.0958798836488566, 1.096075839574861, 11.561666172593423, 8.155004791380255, 4.217390644380582, 6.566591089682371, 23.992446729896137, 2.751036393137804, 2.791711975473921, 2.7939856106842775, 4.541437723012198, 25.64797547238588, 2.8375225081690294, 2.839132215375735, 16.83198978494022, 8.924794993860061, 18.73930012606442, 21.62013345087406, 2.9758059658929508, 2.9858938155208103, 18.25611087300063, 6.873557856666949, 9.216439780317186, 19.645260733644957, 14.68522123165774, 17.84157121492141, 6.877065082148944, 19.458942370977347, 10.517765375519865, 21.643083863279394, 8.611234001795866, 15.081672039100019, 7.0478783656152295, 7.356192632822037, 16.928896016841634, 4.100396892343125, 9.212266367757032, 7.658442597996169, 2.2167006088853105, 2.249825579582266, 1.5733350900796144, 1.573466082368651, 1.6117071959724574, 1.6143519052907374, 1.6152844862529245, 1.7048288958889475, 1.0300193547292775, 1.0300233228429063, 1.0300291161607185, 1.030042618961441, 1.0300463471464405, 1.0300477002537398, 1.0300489095396914, 1.0300511371262764, 1.0300569629444387, 1.0300648987974723, 1.030067740898138, 1.03006925725587, 1.0300724168652193, 1.0300734614382256, 1.0300882612652813, 1.030092135163021, 1.0300995771132255, 1.0301018569970262, 1.0301061045022069, 1.030119934229936, 1.030202173843461, 1.0451245107497924, 3.5609278911811786, 5.232206578138053, 5.3453676002192125, 4.812486318863755, 4.558423580197758, 16.928896016841634, 25.64797547238588, 11.561666172593423, 17.84157121492141, 7.0478783656152295, 19.645260733644957, 3.4206633872189265, 21.62013345087406, 19.458942370977347, 3.9891897087381523, 9.034252038319961, 15.081672039100019, 14.68522123165774, 3.8495288499131366, 4.217390644380582, 18.25611087300063, 6.873557856666949, 23.992446729896137, 16.83198978494022, 18.73930012606442, 21.643083863279394, 10.517765375519865, 7.265942040662124, 6.87057048850232, 12.363281382360201, 8.611234001795866, 8.924794993860061, 1.4150888293163402, 1.4155337670827284, 1.4939404888362295, 1.4948712187015736, 1.5506443037425468, 0.95093544006545, 0.9509365468273845, 0.9509392739384491, 0.9509408564517847, 0.9509416258095578, 0.9509422937380461, 0.9509425638694117, 0.9509446903247838, 0.9509448405880662, 0.9509462401608767, 0.9509472860907862, 0.9509490912583931, 0.9509493613897587, 0.9509495180938119, 0.9509511199637852, 0.9509528315817658, 0.9509530449994751, 0.9509530449994751, 0.950953983059329, 0.950954920241702, 0.9509564511595745, 0.9509594179248204, 0.9509622943813278, 0.9509635629655085, 0.9509648569086805, 4.940545604011563, 5.228180420500533, 4.460350601693402, 4.619946826431827, 4.351919380779753, 4.363269455229343, 7.655373435018261, 2.644727243918303, 18.25611087300063, 5.113137863486207, 5.19483305023072, 23.992446729896137, 4.06210326390831, 3.7777835550003074, 21.643083863279394, 5.220549265542662, 21.62013345087406, 5.083603021651119, 16.83198978494022, 6.322802639517411, 19.458942370977347, 7.265942040662124, 19.645260733644957, 16.928896016841634, 18.73930012606442, 15.081672039100019, 17.84157121492141, 25.64797547238588, 12.363281382360201, 6.87057048850232, 6.106966496279697, 10.517765375519865, 14.68522123165774, 5.385268219490268, 1.412782436291699, 1.4764972116772, 1.4910753671267059, 0.9497701147116994, 0.949781690722391, 0.9497823097932576, 0.949784537444472, 0.9497928653560208, 0.9497932480024815, 0.9498010278536252, 0.9498032647351329, 0.9498041461396912, 0.9498064193020304, 0.94981101323788, 0.9498131234478329, 0.949813701506, 0.9498220583043873, 0.9498257154142964, 0.9498374558919787, 0.9498387809674853, 0.9908730692315938, 0.9973541222549486, 0.9982347745115614, 0.9983056545495713, 0.9984983017183524, 1.0001797614236012, 1.000923049757192, 1.0015045009886683, 1.0015717260862362, 7.111776161709875, 7.658442597996169, 2.7117192593564736, 21.643083863279394, 16.928896016841634, 21.62013345087406, 19.458942370977347, 3.4206633872189265, 25.64797547238588, 18.25611087300063, 16.83198978494022, 15.081672039100019, 23.992446729896137, 14.68522123165774, 12.363281382360201, 5.263536834874907, 4.993821294877021, 7.563321287249058, 18.73930012606442, 19.645260733644957, 17.84157121492141, 10.517765375519865, 8.611234001795866, 6.873557856666949, 8.924794993860061, 7.0478783656152295, 6.566591089682371, 5.220549265542662], \"Category\": [\"Default\", \"Default\", \"Default\", \"Default\", \"Default\", \"Default\", \"Default\", \"Default\", \"Default\", \"Default\", \"Default\", \"Default\", \"Default\", \"Default\", \"Default\", \"Default\", \"Default\", \"Default\", \"Default\", \"Default\", \"Default\", \"Default\", \"Default\", \"Default\", \"Default\", \"Default\", \"Default\", \"Default\", \"Default\", \"Default\", \"Topic1\", \"Topic1\", \"Topic1\", \"Topic1\", \"Topic1\", \"Topic1\", \"Topic1\", \"Topic1\", \"Topic1\", \"Topic1\", \"Topic1\", \"Topic1\", \"Topic1\", \"Topic1\", \"Topic1\", \"Topic1\", \"Topic1\", \"Topic1\", \"Topic1\", \"Topic1\", \"Topic1\", \"Topic1\", \"Topic1\", \"Topic1\", \"Topic1\", \"Topic1\", \"Topic1\", \"Topic1\", \"Topic1\", \"Topic1\", \"Topic1\", \"Topic1\", \"Topic1\", \"Topic1\", \"Topic1\", \"Topic1\", \"Topic1\", \"Topic1\", \"Topic1\", \"Topic1\", \"Topic1\", \"Topic1\", \"Topic1\", \"Topic1\", \"Topic1\", \"Topic1\", \"Topic1\", \"Topic1\", \"Topic1\", \"Topic1\", \"Topic1\", \"Topic1\", \"Topic1\", \"Topic1\", \"Topic1\", \"Topic1\", \"Topic1\", \"Topic1\", \"Topic1\", \"Topic1\", \"Topic1\", \"Topic1\", \"Topic2\", \"Topic2\", \"Topic2\", \"Topic2\", \"Topic2\", \"Topic2\", \"Topic2\", \"Topic2\", \"Topic2\", \"Topic2\", \"Topic2\", \"Topic2\", \"Topic2\", \"Topic2\", \"Topic2\", \"Topic2\", \"Topic2\", \"Topic2\", \"Topic2\", \"Topic2\", \"Topic2\", \"Topic2\", \"Topic2\", \"Topic2\", \"Topic2\", \"Topic2\", \"Topic2\", \"Topic2\", \"Topic2\", \"Topic2\", \"Topic2\", \"Topic2\", \"Topic2\", \"Topic2\", \"Topic2\", \"Topic2\", \"Topic2\", \"Topic2\", \"Topic2\", \"Topic2\", \"Topic2\", \"Topic2\", \"Topic2\", \"Topic2\", \"Topic2\", \"Topic2\", \"Topic2\", \"Topic2\", \"Topic2\", \"Topic2\", \"Topic2\", \"Topic2\", \"Topic2\", \"Topic2\", \"Topic2\", \"Topic2\", \"Topic2\", \"Topic2\", \"Topic2\", \"Topic2\", \"Topic2\", \"Topic2\", \"Topic2\", \"Topic2\", \"Topic2\", \"Topic2\", \"Topic3\", \"Topic3\", \"Topic3\", \"Topic3\", \"Topic3\", \"Topic3\", \"Topic3\", \"Topic3\", \"Topic3\", \"Topic3\", \"Topic3\", \"Topic3\", \"Topic3\", \"Topic3\", \"Topic3\", \"Topic3\", \"Topic3\", \"Topic3\", \"Topic3\", \"Topic3\", \"Topic3\", \"Topic3\", \"Topic3\", \"Topic3\", \"Topic3\", \"Topic3\", \"Topic3\", \"Topic3\", \"Topic3\", \"Topic3\", \"Topic3\", \"Topic3\", \"Topic3\", \"Topic3\", \"Topic3\", \"Topic3\", \"Topic3\", \"Topic3\", \"Topic3\", \"Topic3\", \"Topic3\", \"Topic3\", \"Topic3\", \"Topic3\", \"Topic3\", \"Topic3\", \"Topic3\", \"Topic3\", \"Topic3\", \"Topic3\", \"Topic3\", \"Topic3\", \"Topic3\", \"Topic3\", \"Topic3\", \"Topic3\", \"Topic3\", \"Topic3\", \"Topic3\", \"Topic3\", \"Topic3\", \"Topic3\", \"Topic4\", \"Topic4\", \"Topic4\", \"Topic4\", \"Topic4\", \"Topic4\", \"Topic4\", \"Topic4\", \"Topic4\", \"Topic4\", \"Topic4\", \"Topic4\", \"Topic4\", \"Topic4\", \"Topic4\", \"Topic4\", \"Topic4\", \"Topic4\", \"Topic4\", \"Topic4\", \"Topic4\", \"Topic4\", \"Topic4\", \"Topic4\", \"Topic4\", \"Topic4\", \"Topic4\", \"Topic4\", \"Topic4\", \"Topic4\", \"Topic4\", \"Topic4\", \"Topic4\", \"Topic4\", \"Topic4\", \"Topic4\", \"Topic4\", \"Topic4\", \"Topic4\", \"Topic4\", \"Topic4\", \"Topic4\", \"Topic4\", \"Topic4\", \"Topic4\", \"Topic4\", \"Topic4\", \"Topic4\", \"Topic4\", \"Topic4\", \"Topic4\", \"Topic4\", \"Topic4\", \"Topic4\", \"Topic4\", \"Topic4\", \"Topic4\", \"Topic4\", \"Topic4\", \"Topic4\", \"Topic4\", \"Topic4\", \"Topic4\", \"Topic5\", \"Topic5\", \"Topic5\", \"Topic5\", \"Topic5\", \"Topic5\", \"Topic5\", \"Topic5\", \"Topic5\", \"Topic5\", \"Topic5\", \"Topic5\", \"Topic5\", \"Topic5\", \"Topic5\", \"Topic5\", \"Topic5\", \"Topic5\", \"Topic5\", \"Topic5\", \"Topic5\", \"Topic5\", \"Topic5\", \"Topic5\", \"Topic5\", \"Topic5\", \"Topic5\", \"Topic5\", \"Topic5\", \"Topic5\", \"Topic5\", \"Topic5\", \"Topic5\", \"Topic5\", \"Topic5\", \"Topic5\", \"Topic5\", \"Topic5\", \"Topic5\", \"Topic5\", \"Topic5\", \"Topic5\", \"Topic5\", \"Topic5\", \"Topic5\", \"Topic5\", \"Topic5\", \"Topic5\", \"Topic5\", \"Topic5\", \"Topic5\", \"Topic5\", \"Topic5\", \"Topic5\", \"Topic5\", \"Topic5\", \"Topic5\", \"Topic5\"], \"logprob\": [30.0, 29.0, 28.0, 27.0, 26.0, 25.0, 24.0, 23.0, 22.0, 21.0, 20.0, 19.0, 18.0, 17.0, 16.0, 15.0, 14.0, 13.0, 12.0, 11.0, 10.0, 9.0, 8.0, 7.0, 6.0, 5.0, 4.0, 3.0, 2.0, 1.0, -3.9727, -5.0268, -4.8577, -5.2357, -5.5086, -5.5051, -5.9024, -5.8796, -5.8795, -5.8725, -5.8724, -5.8722, -5.8719, -5.8718, -5.5118, -5.8715, -5.8713, -5.8705, -5.8704, -5.8702, -5.8699, -4.1959, -6.5028, -6.5028, -6.5028, -6.5028, -6.5028, -6.5028, -6.5028, -6.5028, -5.895, -4.9695, -5.1588, -5.1688, -5.8952, -4.5691, -5.4242, -4.7719, -4.8901, -4.8895, -4.8882, -3.9726, -4.4596, -4.2318, -4.3007, -4.2846, -4.8124, -5.4137, -4.3649, -4.509, -4.2133, -4.2419, -4.3583, -4.6141, -4.5717, -4.9298, -4.8484, -4.6307, -4.6952, -5.0447, -5.087, -5.1063, -5.1832, -5.5555, -5.5546, -5.5516, -5.5504, -5.549, -5.5418, -5.5391, -5.538, -6.1739, -6.1739, -4.6336, -6.1739, -6.1739, -6.1739, -6.1739, -6.1739, -6.1577, -6.1563, -6.1563, -6.1561, -6.156, -6.1558, -6.1551, -6.1546, -6.1544, -6.1543, -6.154, -6.1538, -6.1538, -3.9424, -4.4055, -5.0472, -4.7083, -3.6972, -5.4241, -5.4175, -5.4169, -5.0427, -3.6942, -5.4231, -5.4229, -4.0862, -4.6005, -4.0622, -4.0101, -5.4239, -5.4221, -4.138, -4.8399, -4.6394, -4.1421, -4.3738, -4.3572, -5.0104, -4.5959, -4.8747, -4.6182, -4.9686, -4.7621, -5.075, -5.0724, -4.8891, -5.2989, -5.0729, -5.1328, -5.1996, -5.1952, -5.5858, -5.5857, -5.5782, -5.5776, -5.5775, -5.56, -6.1862, -6.1862, -6.1862, -6.1862, -6.1862, -6.1862, -6.1862, -6.1862, -6.1862, -6.1862, -6.1862, -6.1862, -6.1862, -6.1862, -6.1862, -6.1862, -6.1862, -6.1862, -6.1862, -6.1861, -6.1861, -6.1807, -5.1002, -4.7634, -4.7614, -4.9954, -5.0494, -4.1077, -3.8469, -4.4441, -4.196, -4.8557, -4.1544, -5.3799, -4.1782, -4.258, -5.3051, -4.79, -4.5124, -4.5456, -5.3824, -5.3517, -4.5159, -5.0828, -4.3624, -4.589, -4.5502, -4.4778, -4.887, -5.0677, -5.1325, -5.0795, -5.2476, -5.279, -5.4554, -5.4553, -5.4398, -5.4396, -5.4288, -6.0557, -6.0557, -6.0557, -6.0557, -6.0557, -6.0557, -6.0557, -6.0557, -6.0557, -6.0557, -6.0557, -6.0557, -6.0557, -6.0557, -6.0557, -6.0557, -6.0557, -6.0557, -6.0557, -6.0557, -6.0557, -6.0557, -6.0557, -6.0557, -6.0557, -4.6705, -4.632, -4.8628, -4.8687, -4.9154, -4.9141, -4.5153, -5.3091, -3.9226, -4.8937, -4.8845, -4.0067, -5.1732, -5.2381, -4.215, -5.0585, -4.2834, -5.1066, -4.4586, -5.0, -4.3857, -4.9373, -4.3915, -4.4737, -4.4198, -4.5405, -4.4522, -4.3184, -4.7192, -5.002, -5.0394, -4.9964, -5.0218, -3.7703, -5.4535, -5.4409, -5.4381, -6.0539, -6.0539, -6.0539, -6.0539, -6.0539, -6.0539, -6.0539, -6.0539, -6.0539, -6.0539, -6.0539, -6.0539, -6.0539, -6.0539, -6.0539, -6.0539, -6.0539, -6.0391, -6.0368, -6.0365, -6.0365, -6.0364, -6.0358, -6.0355, -6.0353, -6.0353, -4.3738, -4.5066, -5.2938, -3.8966, -4.0784, -3.9461, -4.0181, -5.2476, -3.9709, -4.2463, -4.3097, -4.38, -4.1112, -4.4133, -4.5304, -5.0495, -5.1185, -4.8913, -4.4179, -4.5499, -4.6214, -4.9946, -5.1154, -5.2508, -5.1468, -5.2569, -5.3684, -5.397], \"loglift\": [30.0, 29.0, 28.0, 27.0, 26.0, 25.0, 24.0, 23.0, 22.0, 21.0, 20.0, 19.0, 18.0, 17.0, 16.0, 15.0, 14.0, 13.0, 12.0, 11.0, 10.0, 9.0, 8.0, 7.0, 6.0, 5.0, 4.0, 3.0, 2.0, 1.0, 0.8928, 0.8024, 0.797, 0.7759, 0.7496, 0.7434, 0.7299, 0.6922, 0.6919, 0.6807, 0.6806, 0.6802, 0.6797, 0.6797, 0.6793, 0.679, 0.6789, 0.6777, 0.6773, 0.6771, 0.6766, 0.645, 0.5901, 0.5901, 0.5901, 0.5901, 0.5901, 0.5901, 0.5901, 0.59, 0.5896, 0.5724, 0.5697, 0.5634, 0.5729, 0.4624, 0.5179, 0.4506, 0.4477, 0.4472, 0.4458, 0.2048, 0.2777, 0.052, 0.0207, -0.0104, 0.2187, 0.4819, 0.0056, 0.0295, -0.139, -0.2343, -0.1799, -0.0489, -0.1487, 0.1213, 0.0506, -0.2019, -0.3477, 0.1088, 0.012, -0.043, 1.2457, 1.1749, 1.1733, 1.1671, 1.1648, 1.1619, 1.0924, 1.087, 1.0831, 1.0389, 1.0389, 1.0389, 1.0389, 1.0389, 1.0389, 1.0389, 1.0389, 1.0127, 1.0105, 1.0104, 1.0101, 1.01, 1.0097, 1.0086, 1.0078, 1.0076, 1.0074, 1.0068, 1.0066, 1.0065, 0.862, 0.7479, 0.7656, 0.6618, 0.3772, 0.8159, 0.8079, 0.8077, 0.6961, 0.3134, 0.786, 0.7857, 0.3425, 0.4627, 0.2592, 0.1683, 0.7377, 0.7361, 0.2096, 0.4845, 0.3917, 0.1321, 0.1914, 0.0133, 0.3135, -0.3122, 0.0243, -0.4408, 0.1304, -0.2235, 0.2243, 0.1841, -0.4661, 0.542, -0.0414, 0.0834, 1.2564, 1.246, 1.2131, 1.213, 1.1966, 1.1955, 1.1951, 1.1586, 1.0363, 1.0363, 1.0363, 1.0363, 1.0363, 1.0363, 1.0363, 1.0363, 1.0363, 1.0363, 1.0363, 1.0363, 1.0363, 1.0363, 1.0363, 1.0362, 1.0362, 1.0362, 1.0362, 1.0362, 1.0362, 1.0272, 0.8819, 0.8338, 0.8145, 0.6855, 0.6857, 0.3154, 0.1607, 0.3602, 0.1745, 0.4436, 0.1198, 0.6423, 0.0003, 0.0257, 0.5633, 0.261, 0.0262, 0.0196, 0.5217, 0.4612, -0.1684, 0.2416, -0.2881, -0.1603, -0.2288, -0.3004, 0.012, 0.2012, 0.1923, -0.3422, -0.1487, -0.2158, 1.4495, 1.4493, 1.4108, 1.4104, 1.3846, 1.2466, 1.2466, 1.2466, 1.2466, 1.2466, 1.2466, 1.2466, 1.2466, 1.2466, 1.2466, 1.2466, 1.2466, 1.2466, 1.2466, 1.2466, 1.2466, 1.2466, 1.2466, 1.2466, 1.2466, 1.2466, 1.2466, 1.2466, 1.2466, 1.2466, 0.9841, 0.966, 0.894, 0.853, 0.8661, 0.8648, 0.7014, 0.9704, 0.425, 0.7265, 0.7199, 0.0676, 0.6771, 0.6848, -0.0376, 0.541, -0.105, 0.5194, -0.0299, 0.4079, -0.1019, 0.3316, -0.1173, -0.0507, -0.0984, -0.0019, -0.0816, -0.3108, 0.0182, 0.3228, 0.4032, -0.0974, -0.4566, 1.7981, 1.453, 1.4215, 1.4145, 1.2497, 1.2497, 1.2497, 1.2497, 1.2497, 1.2497, 1.2497, 1.2497, 1.2497, 1.2497, 1.2497, 1.2497, 1.2497, 1.2497, 1.2497, 1.2497, 1.2497, 1.2221, 1.2179, 1.2173, 1.2173, 1.2172, 1.2161, 1.2156, 1.2152, 1.2152, 0.9165, 0.7097, 0.9607, 0.2808, 0.3447, 0.2324, 0.2657, 0.7746, 0.0367, 0.1012, 0.119, 0.1586, -0.0369, 0.1519, 0.2069, 0.5418, 0.5254, 0.3374, -0.0965, -0.2757, -0.2509, -0.0956, -0.0164, 0.0736, -0.0835, 0.0424, 0.0016, 0.2024]}, \"token.table\": {\"Topic\": [1, 2, 3, 4, 5, 1, 3, 1, 2, 3, 4, 5, 3, 1, 3, 1, 2, 5, 2, 1, 1, 5, 1, 2, 3, 4, 5, 1, 2, 3, 4, 5, 1, 1, 2, 5, 2, 4, 1, 1, 2, 3, 4, 5, 2, 3, 3, 2, 3, 3, 3, 2, 1, 2, 1, 2, 3, 4, 1, 2, 3, 4, 5, 1, 2, 3, 4, 5, 1, 2, 3, 1, 2, 3, 4, 5, 3, 2, 3, 1, 2, 3, 5, 1, 4, 1, 2, 3, 4, 5, 1, 1, 2, 3, 4, 5, 1, 2, 3, 4, 4, 1, 2, 4, 3, 1, 2, 1, 2, 3, 4, 5, 1, 2, 3, 4, 5, 2, 3, 1, 2, 3, 4, 5, 1, 3, 3, 5, 4, 1, 2, 3, 4, 5, 1, 2, 3, 4, 5, 1, 2, 3, 4, 5, 1, 2, 3, 4, 5, 1, 2, 3, 4, 5, 1, 4, 3, 2, 3, 1, 2, 3, 1, 2, 1, 4, 1, 2, 3, 4, 5, 1, 3, 3, 1, 2, 5, 1, 2, 3, 4, 5, 5, 1, 2, 3, 4, 5, 1, 2, 3, 4, 5, 4, 2, 1, 2, 3, 4, 5, 3, 1, 2, 3, 4, 5, 1, 2, 3, 4, 4, 1, 2, 3, 4, 5, 4, 5, 3, 1, 3, 1, 2, 3, 1, 2, 3, 4, 5, 1, 1, 2, 3, 4, 5, 1, 3, 2, 1, 2, 3, 1, 4, 2, 1, 2, 3, 1, 2, 3, 4, 5, 1, 4, 1, 2, 3, 4, 5, 2, 3, 1, 2, 3, 4, 5, 1, 2, 3, 1, 1, 2, 1, 2, 3, 4, 5, 1, 2, 1, 3, 1, 2, 3, 4, 5, 1, 2, 3, 4, 5, 2, 1, 2, 3, 4, 1, 3, 3, 1, 2, 1, 4, 1, 3, 1, 2, 3, 4, 5, 1, 2, 3, 4, 1, 1, 4, 3, 1, 1, 2, 3, 4, 5, 5, 2, 1, 2, 3, 4, 5, 1, 3, 2, 2, 1, 1, 2, 3, 4, 5, 1, 1, 1, 2, 3, 4, 5, 1, 2, 3, 4, 5, 1, 2, 2, 1, 2, 2, 5, 1, 2, 3, 4, 5, 2, 1, 2, 3, 4, 5, 1, 2, 3, 3, 1, 2, 2, 3, 5, 1, 1, 2, 4, 1, 2, 3, 5, 2, 1, 1, 1, 2, 3, 2, 2, 2, 2, 1, 2, 3, 4, 5, 5, 3, 3], \"Freq\": [0.3678722547374791, 0.3678722547374791, 0.12262408491249303, 0.12262408491249303, 0.12262408491249303, 0.5195440995448389, 0.25977204977241947, 0.31631542434996046, 0.15815771217498023, 0.15815771217498023, 0.15815771217498023, 0.15815771217498023, 0.4511209118595676, 0.8274816425134434, 0.4444789005313354, 0.5425023432644752, 0.18083411442149172, 0.18083411442149172, 0.9615047769047869, 0.6922575330496868, 0.5396688417092426, 0.2698344208546213, 0.30457203329478844, 0.30457203329478844, 0.15228601664739422, 0.15228601664739422, 0.15228601664739422, 0.19155072562964365, 0.19155072562964365, 0.19155072562964365, 0.19155072562964365, 0.19155072562964365, 0.4642121948881666, 0.24387883081936526, 0.24387883081936526, 0.24387883081936526, 0.3781108249629732, 0.3781108249629732, 0.8528793463008725, 0.17298544778441527, 0.4324636194610382, 0.2594781716766229, 0.08649272389220763, 0.08649272389220763, 0.5920619963303607, 0.9707737830398011, 0.9708336156112337, 0.9615323433355141, 0.9708288264258655, 0.9707869479478565, 0.97076075005533, 0.9138752415400034, 0.515129027324489, 0.2575645136622445, 0.3934217505737523, 0.19671087528687614, 0.19671087528687614, 0.19671087528687614, 0.41583722804261714, 0.13861240934753905, 0.13861240934753905, 0.13861240934753905, 0.18481654579671872, 0.6279801393048181, 0.08971144847211687, 0.08971144847211687, 0.08971144847211687, 0.08971144847211687, 0.8528627457390972, 0.9615104916151064, 0.9708463424095742, 0.4427593986788809, 0.11068984966972023, 0.22137969933944046, 0.11068984966972023, 0.11068984966972023, 0.9708518028892388, 0.539099174810801, 0.9708555430619383, 0.4004949079879424, 0.2002474539939712, 0.2002474539939712, 0.2002474539939712, 0.458371874696626, 0.229185937348313, 0.18998632124586737, 0.18998632124586737, 0.18998632124586737, 0.18998632124586737, 0.18998632124586737, 0.8528845377967177, 0.38030892087686363, 0.19015446043843182, 0.19015446043843182, 0.09507723021921591, 0.09507723021921591, 0.25067747412702435, 0.25067747412702435, 0.25067747412702435, 0.25067747412702435, 0.7066694184018975, 0.24617788742225635, 0.24617788742225635, 0.24617788742225635, 0.9707799345015, 0.6562471863382331, 0.2187490621127444, 0.33614217492546244, 0.33614217492546244, 0.1120473916418208, 0.1120473916418208, 0.1120473916418208, 0.3563200353972207, 0.2036114487984118, 0.2036114487984118, 0.1018057243992059, 0.1018057243992059, 0.3524201119536743, 0.3524201119536743, 0.26125440084363816, 0.13062720042181908, 0.13062720042181908, 0.26125440084363816, 0.13062720042181908, 0.4970880857298197, 0.6355395970751581, 0.3687697377040841, 0.3687697377040841, 0.6693707061778571, 0.2970534122159199, 0.2970534122159199, 0.17823204732955195, 0.11882136488636796, 0.17823204732955195, 0.5255766171852809, 0.13139415429632023, 0.13139415429632023, 0.13139415429632023, 0.13139415429632023, 0.14548506331841793, 0.29097012663683586, 0.29097012663683586, 0.14548506331841793, 0.14548506331841793, 0.3597317812318706, 0.1541707633850874, 0.20556101784678318, 0.10278050892339159, 0.1541707633850874, 0.19112395221135606, 0.19112395221135606, 0.3822479044227121, 0.19112395221135606, 0.19112395221135606, 0.38499793557584555, 0.19249896778792278, 0.9708200963386333, 0.9615153812207917, 0.9708085091909496, 0.867733910721311, 0.9125087657147117, 0.9708255871547159, 0.5380923634630967, 0.9175833555869266, 0.6538012182874363, 0.21793373942914543, 0.29175848877795146, 0.29175848877795146, 0.12503935233340777, 0.12503935233340777, 0.12503935233340777, 0.8528771297511217, 0.6190859929075169, 0.970812616920962, 0.5064739279315886, 0.36349937154390394, 0.36349937154390394, 0.43623260274026093, 0.29082173516017396, 0.14541086758008698, 0.14541086758008698, 0.14541086758008698, 0.6706569111439313, 0.27292602519589165, 0.27292602519589165, 0.23393659302505, 0.116968296512525, 0.15595772868336666, 0.2837733423092943, 0.2837733423092943, 0.2837733423092943, 0.14188667115464715, 0.14188667115464715, 0.7064472944795225, 0.9170569174418858, 0.28122369918897205, 0.14061184959448603, 0.14061184959448603, 0.14061184959448603, 0.28122369918897205, 0.6355925106516233, 0.3315282275756455, 0.13261129103025818, 0.19891693654538728, 0.13261129103025818, 0.13261129103025818, 0.2077927985125376, 0.2077927985125376, 0.4155855970250752, 0.2077927985125376, 0.6448932212155017, 0.2611497017061014, 0.2611497017061014, 0.1305748508530507, 0.1305748508530507, 0.2611497017061014, 0.6689539456573306, 0.7078230690811963, 0.970830101742821, 0.49675271273404037, 0.95682379440377, 0.5898132264701629, 0.14745330661754072, 0.14745330661754072, 0.27525680617977316, 0.13762840308988658, 0.27525680617977316, 0.13762840308988658, 0.13762840308988658, 0.4963255653697126, 0.2644340923836971, 0.13221704619184854, 0.13221704619184854, 0.13221704619184854, 0.13221704619184854, 0.2808256809907753, 0.5616513619815506, 0.9123456278243243, 0.5891753393352614, 0.14729383483381536, 0.14729383483381536, 0.5294109550963507, 0.26470547754817536, 0.9614620467390386, 0.20607790835087939, 0.6182337250526381, 0.20607790835087939, 0.3404783571950026, 0.20428701431700155, 0.20428701431700155, 0.06809567143900051, 0.13619134287800103, 0.40481358949021035, 0.40481358949021035, 0.3362932517390638, 0.1681466258695319, 0.22419550115937587, 0.11209775057968793, 0.11209775057968793, 0.5347396648179287, 0.9706832555683869, 0.407819662934672, 0.2718797752897813, 0.13593988764489065, 0.13593988764489065, 0.13593988764489065, 0.45660723708389256, 0.9615123477521238, 0.9707905988285672, 0.5062667016503475, 0.4956637677937667, 0.9176689428791452, 0.542754605696164, 0.21710184227846557, 0.10855092113923279, 0.10855092113923279, 0.10855092113923279, 0.8528485840129972, 0.5321233365552731, 0.8528492586493133, 0.970804546894902, 0.43400706729972677, 0.3255053004747951, 0.10850176682493169, 0.10850176682493169, 0.10850176682493169, 0.48530805167637264, 0.08088467527939544, 0.16176935055879088, 0.16176935055879088, 0.16176935055879088, 0.9127968012388492, 0.1912711344235252, 0.1912711344235252, 0.1912711344235252, 0.3825422688470504, 0.7230724252237432, 0.970827686664782, 0.5865691286740954, 0.33490809177538566, 0.33490809177538566, 0.39114924208915675, 0.19557462104457837, 0.4387481691451838, 0.4387481691451838, 0.2241976224067102, 0.2241976224067102, 0.2241976224067102, 0.2241976224067102, 0.2241976224067102, 0.2164527076975777, 0.2164527076975777, 0.2164527076975777, 0.2164527076975777, 0.49581174292307373, 0.45956733684750634, 0.22978366842375317, 0.6194436273297578, 0.49471103180579434, 0.27751910105612376, 0.23126591754676978, 0.18501273403741583, 0.13875955052806188, 0.18501273403741583, 0.6772786240917233, 0.9615442610947036, 0.2953529866936257, 0.11814119467745028, 0.23628238935490056, 0.11814119467745028, 0.1772117920161754, 0.49637354666948597, 0.9707777859125701, 0.5935508253490559, 0.9142280386937457, 0.4971689725066161, 0.3274948374480816, 0.1637474187240408, 0.1637474187240408, 0.1637474187240408, 0.1637474187240408, 0.8528511394296118, 0.4938514586970527, 0.5875533262740362, 0.14688833156850906, 0.14688833156850906, 0.14688833156850906, 0.14688833156850906, 0.37354650135859274, 0.26681892954185193, 0.16009135772511116, 0.10672757181674078, 0.10672757181674078, 0.4403891723243671, 0.4403891723243671, 0.9136640075233075, 0.336043415283607, 0.336043415283607, 0.35791165000133596, 0.35791165000133596, 0.4366449634743438, 0.14554832115811459, 0.29109664231622917, 0.14554832115811459, 0.14554832115811459, 0.9215625031787114, 0.2191047166522027, 0.2191047166522027, 0.16432853748915202, 0.2191047166522027, 0.16432853748915202, 0.8097385840005864, 0.3522202997748235, 0.3522202997748235, 0.6204600950463766, 0.8528759219896227, 0.8780630418481518, 0.9183178331347359, 0.2923409546044288, 0.2923409546044288, 0.7402995062279913, 0.4942725483151736, 0.35820314157954636, 0.35820314157954636, 0.18707787280317076, 0.18707787280317076, 0.3741557456063415, 0.18707787280317076, 0.9181352233000308, 0.49439613881400885, 0.7331939452582442, 0.23711343916704505, 0.4742268783340901, 0.23711343916704505, 0.5865846967769469, 0.5820892080117891, 0.5845932935968574, 0.9154250133970405, 0.34838212495147064, 0.23225474996764708, 0.11612737498382354, 0.11612737498382354, 0.11612737498382354, 0.7427670892089034, 0.9708055313657096, 0.9708099383134537], \"Term\": [\"\", \"\", \"\", \"\", \"\", \"\\\"\", \"\\\"\", \"(\", \"(\", \"(\", \"(\", \"(\", \"+\", \"-\", \"/\", \"1\", \"1\", \"1\", \"1.15\", \"15\", \"199\", \"199\", \"2\", \"2\", \"2\", \"2\", \"2\", \"3\", \"3\", \"3\", \"3\", \"3\", \"359\", \"4\", \"4\", \"4\", \"555\", \"555\", \"7\", \":\", \":\", \":\", \":\", \":\", \"::\", \"Narai\", \"mall\", \"net\", \"pizza\", \"pizzeria\", \"union\", \"\\u0e01\\u0e23\\u0e38\\u0e1a\", \"\\u0e01\\u0e25\\u0e31\\u0e1a\\u0e21\\u0e32\", \"\\u0e01\\u0e25\\u0e31\\u0e1a\\u0e21\\u0e32\", \"\\u0e01\\u0e30\\u0e1b\\u0e34\", \"\\u0e01\\u0e30\\u0e1b\\u0e34\", \"\\u0e01\\u0e30\\u0e1b\\u0e34\", \"\\u0e01\\u0e30\\u0e1b\\u0e34\", \"\\u0e01\\u0e34\\u0e19\", \"\\u0e01\\u0e34\\u0e19\", \"\\u0e01\\u0e34\\u0e19\", \"\\u0e01\\u0e34\\u0e19\", \"\\u0e01\\u0e34\\u0e19\", \"\\u0e01\\u0e38\\u0e49\\u0e07\", \"\\u0e01\\u0e38\\u0e49\\u0e07\", \"\\u0e01\\u0e38\\u0e49\\u0e07\", \"\\u0e01\\u0e38\\u0e49\\u0e07\", \"\\u0e01\\u0e38\\u0e49\\u0e07\", \"\\u0e02\\u0e19\\u0e21\", \"\\u0e02\\u0e2d\\u0e07\\u0e04\\u0e32\\u0e27\", \"\\u0e02\\u0e2d\\u0e07\\u0e2a\\u0e14\", \"\\u0e02\\u0e2d\\u0e07\\u0e2b\\u0e27\\u0e32\\u0e19\", \"\\u0e02\\u0e2d\\u0e07\\u0e2b\\u0e27\\u0e32\\u0e19\", \"\\u0e02\\u0e2d\\u0e07\\u0e2b\\u0e27\\u0e32\\u0e19\", \"\\u0e02\\u0e2d\\u0e07\\u0e2b\\u0e27\\u0e32\\u0e19\", \"\\u0e02\\u0e2d\\u0e07\\u0e2b\\u0e27\\u0e32\\u0e19\", \"\\u0e02\\u0e36\\u0e49\\u0e19\\u0e43\\u0e08\", \"\\u0e02\\u0e49\\u0e32\\u0e27\", \"\\u0e02\\u0e49\\u0e32\\u0e27\\u0e21\\u0e31\\u0e19\\u0e44\\u0e01\\u0e48\", \"\\u0e04\\u0e19\\u0e25\\u0e30\", \"\\u0e04\\u0e19\\u0e25\\u0e30\", \"\\u0e04\\u0e19\\u0e25\\u0e30\", \"\\u0e04\\u0e19\\u0e25\\u0e30\", \"\\u0e04\\u0e34\\u0e27\", \"\\u0e04\\u0e34\\u0e27\", \"\\u0e04\\u0e38\\u0e13\\u0e20\\u0e32\\u0e1e\", \"\\u0e04\\u0e38\\u0e13\\u0e20\\u0e32\\u0e1e\", \"\\u0e04\\u0e38\\u0e13\\u0e20\\u0e32\\u0e1e\", \"\\u0e04\\u0e38\\u0e13\\u0e20\\u0e32\\u0e1e\", \"\\u0e04\\u0e38\\u0e13\\u0e20\\u0e32\\u0e1e\", \"\\u0e04\\u0e38\\u0e13\\u0e20\\u0e32\\u0e1e\\u0e14\\u0e35\", \"\\u0e04\\u0e38\\u0e49\\u0e21\", \"\\u0e04\\u0e38\\u0e49\\u0e21\", \"\\u0e04\\u0e38\\u0e49\\u0e21\", \"\\u0e04\\u0e38\\u0e49\\u0e21\", \"\\u0e04\\u0e38\\u0e49\\u0e21\", \"\\u0e04\\u0e38\\u0e49\\u0e21\\u0e04\\u0e48\\u0e32\", \"\\u0e04\\u0e38\\u0e49\\u0e21\\u0e04\\u0e48\\u0e32\", \"\\u0e04\\u0e38\\u0e49\\u0e21\\u0e04\\u0e48\\u0e32\", \"\\u0e04\\u0e38\\u0e49\\u0e21\\u0e04\\u0e48\\u0e32\", \"\\u0e04\\u0e48\\u0e32\", \"\\u0e08\\u0e32\\u0e19\", \"\\u0e08\\u0e32\\u0e19\", \"\\u0e08\\u0e32\\u0e19\", \"\\u0e08\\u0e33\\u0e44\\u0e14\\u0e49\", \"\\u0e08\\u0e48\\u0e32\\u0e22\", \"\\u0e08\\u0e48\\u0e32\\u0e22\", \"\\u0e0a\\u0e2d\\u0e1a\", \"\\u0e0a\\u0e2d\\u0e1a\", \"\\u0e0a\\u0e2d\\u0e1a\", \"\\u0e0a\\u0e2d\\u0e1a\", \"\\u0e0a\\u0e2d\\u0e1a\", \"\\u0e0a\\u0e32\\u0e1a\\u0e39\", \"\\u0e0a\\u0e32\\u0e1a\\u0e39\", \"\\u0e0a\\u0e32\\u0e1a\\u0e39\", \"\\u0e0a\\u0e32\\u0e1a\\u0e39\", \"\\u0e0a\\u0e32\\u0e1a\\u0e39\", \"\\u0e0a\\u0e32\\u0e40\\u0e02\\u0e35\\u0e22\\u0e27\", \"\\u0e0a\\u0e32\\u0e40\\u0e02\\u0e35\\u0e22\\u0e27\", \"\\u0e0a\\u0e34\", \"\\u0e0a\\u0e34\", \"\\u0e0a\\u0e34\", \"\\u0e0a\\u0e34\", \"\\u0e0a\\u0e34\", \"\\u0e0a\\u0e37\\u0e48\\u0e19\", \"\\u0e0a\\u0e37\\u0e48\\u0e2d\", \"\\u0e0a\\u0e38\\u0e14\", \"\\u0e0a\\u0e38\\u0e14\", \"\\u0e0a\\u0e39\", \"\\u0e0b\\u0e38\\u0e1b\", \"\\u0e0b\\u0e38\\u0e1b\", \"\\u0e0b\\u0e38\\u0e1b\", \"\\u0e0b\\u0e38\\u0e1b\", \"\\u0e0b\\u0e38\\u0e1b\", \"\\u0e0b\\u0e39\\u0e0a\\u0e34\", \"\\u0e0b\\u0e39\\u0e0a\\u0e34\", \"\\u0e0b\\u0e39\\u0e0a\\u0e34\", \"\\u0e0b\\u0e39\\u0e0a\\u0e34\", \"\\u0e0b\\u0e39\\u0e0a\\u0e34\", \"\\u0e14\\u0e33\", \"\\u0e14\\u0e33\", \"\\u0e14\\u0e33\", \"\\u0e14\\u0e33\", \"\\u0e14\\u0e33\", \"\\u0e14\\u0e35\", \"\\u0e14\\u0e35\", \"\\u0e14\\u0e35\", \"\\u0e14\\u0e35\", \"\\u0e14\\u0e35\", \"\\u0e14\\u0e35\\u0e21\\u0e32\\u0e01\", \"\\u0e14\\u0e35\\u0e21\\u0e32\\u0e01\", \"\\u0e14\\u0e35\\u0e21\\u0e32\\u0e01\", \"\\u0e14\\u0e35\\u0e21\\u0e32\\u0e01\", \"\\u0e14\\u0e35\\u0e21\\u0e32\\u0e01\", \"\\u0e14\\u0e39\", \"\\u0e14\\u0e39\", \"\\u0e15\\u0e15\\u0e35\\u0e49\", \"\\u0e15\\u0e23\\u0e07\\u0e19\\u0e31\\u0e49\\u0e19\", \"\\u0e15\\u0e31\\u0e14\\u0e01\\u0e33\\u0e25\\u0e31\\u0e07\", \"\\u0e15\\u0e31\\u0e27\", \"\\u0e15\\u0e32\\u0e21\\u0e19\\u0e49\\u0e33\", \"\\u0e15\\u0e39\\u0e49\", \"\\u0e15\\u0e48\\u0e32\\u0e07 \\u0e46\", \"\\u0e16\\u0e49\\u0e27\\u0e22\", \"\\u0e17\\u0e2d\\u0e14\", \"\\u0e17\\u0e2d\\u0e14\", \"\\u0e17\\u0e32\\u0e19\", \"\\u0e17\\u0e32\\u0e19\", \"\\u0e17\\u0e32\\u0e19\", \"\\u0e17\\u0e32\\u0e19\", \"\\u0e17\\u0e32\\u0e19\", \"\\u0e17\\u0e35\\u0e48\\u0e08\\u0e30\", \"\\u0e19\", \"\\u0e19\\u0e34\\u0e27\", \"\\u0e19\\u0e36\\u0e01\", \"\\u0e19\\u0e36\\u0e01\\u0e16\\u0e36\\u0e07\", \"\\u0e19\\u0e36\\u0e01\\u0e16\\u0e36\\u0e07\", \"\\u0e19\\u0e38\\u0e48\\u0e21\", \"\\u0e19\\u0e38\\u0e48\\u0e21\", \"\\u0e19\\u0e38\\u0e48\\u0e21\", \"\\u0e19\\u0e38\\u0e48\\u0e21\", \"\\u0e19\\u0e38\\u0e48\\u0e21\", \"\\u0e19\\u0e48\\u0e32\\u0e23\\u0e31\\u0e01\", \"\\u0e19\\u0e49\\u0e33\", \"\\u0e19\\u0e49\\u0e33\", \"\\u0e19\\u0e49\\u0e33\", \"\\u0e19\\u0e49\\u0e33\", \"\\u0e19\\u0e49\\u0e33\", \"\\u0e19\\u0e49\\u0e33\\u0e08\\u0e34\\u0e49\\u0e21\", \"\\u0e19\\u0e49\\u0e33\\u0e08\\u0e34\\u0e49\\u0e21\", \"\\u0e19\\u0e49\\u0e33\\u0e08\\u0e34\\u0e49\\u0e21\", \"\\u0e19\\u0e49\\u0e33\\u0e08\\u0e34\\u0e49\\u0e21\", \"\\u0e19\\u0e49\\u0e33\\u0e08\\u0e34\\u0e49\\u0e21\", \"\\u0e19\\u0e4d\\u0e49\\u0e32\", \"\\u0e1a\\u0e14\", \"\\u0e1a\\u0e23\\u0e34\\u0e01\\u0e32\\u0e23\", \"\\u0e1a\\u0e23\\u0e34\\u0e01\\u0e32\\u0e23\", \"\\u0e1a\\u0e23\\u0e34\\u0e01\\u0e32\\u0e23\", \"\\u0e1a\\u0e23\\u0e34\\u0e01\\u0e32\\u0e23\", \"\\u0e1a\\u0e23\\u0e34\\u0e01\\u0e32\\u0e23\", \"\\u0e1a\\u0e32\\u0e07\\u0e2a\\u0e48\\u0e27\\u0e19\", \"\\u0e1a\\u0e32\\u0e17\", \"\\u0e1a\\u0e32\\u0e17\", \"\\u0e1a\\u0e32\\u0e17\", \"\\u0e1a\\u0e32\\u0e17\", \"\\u0e1a\\u0e32\\u0e17\", \"\\u0e1a\\u0e38\", \"\\u0e1a\\u0e38\", \"\\u0e1a\\u0e38\", \"\\u0e1a\\u0e38\", \"\\u0e1a\\u0e38\\u0e1f\\u0e40\\u0e1f\\u0e15\\u0e4c\", \"\\u0e1a\\u0e38\\u0e1f\\u0e40\\u0e1f\\u0e48\\u0e15\\u0e4c\", \"\\u0e1a\\u0e38\\u0e1f\\u0e40\\u0e1f\\u0e48\\u0e15\\u0e4c\", \"\\u0e1a\\u0e38\\u0e1f\\u0e40\\u0e1f\\u0e48\\u0e15\\u0e4c\", \"\\u0e1a\\u0e38\\u0e1f\\u0e40\\u0e1f\\u0e48\\u0e15\\u0e4c\", \"\\u0e1a\\u0e38\\u0e1f\\u0e40\\u0e1f\\u0e48\\u0e15\\u0e4c\", \"\\u0e1b\\u0e23\\u0e30\\u0e15\\u0e39\", \"\\u0e1b\\u0e23\\u0e30\\u0e17\\u0e31\\u0e1a\\u0e43\\u0e08\", \"\\u0e1b\\u0e23\\u0e38\\u0e07\", \"\\u0e1b\\u0e2d\\u0e01\\u0e40\\u0e1b\\u0e25\\u0e37\\u0e2d\\u0e01\", \"\\u0e1b\\u0e34\\u0e14\\u0e17\\u0e49\\u0e32\\u0e22\", \"\\u0e1b\\u0e38\\u0e23\\u0e30\", \"\\u0e1b\\u0e38\\u0e23\\u0e30\", \"\\u0e1b\\u0e38\\u0e23\\u0e30\", \"\\u0e1c\\u0e31\\u0e01\", \"\\u0e1c\\u0e31\\u0e01\", \"\\u0e1c\\u0e31\\u0e01\", \"\\u0e1c\\u0e31\\u0e01\", \"\\u0e1c\\u0e31\\u0e01\", \"\\u0e1c\\u0e34\\u0e14\\u0e2b\\u0e27\\u0e31\\u0e07\", \"\\u0e1e\\u0e19\\u0e31\\u0e01\\u0e07\\u0e32\\u0e19\", \"\\u0e1e\\u0e19\\u0e31\\u0e01\\u0e07\\u0e32\\u0e19\", \"\\u0e1e\\u0e19\\u0e31\\u0e01\\u0e07\\u0e32\\u0e19\", \"\\u0e1e\\u0e19\\u0e31\\u0e01\\u0e07\\u0e32\\u0e19\", \"\\u0e1e\\u0e19\\u0e31\\u0e01\\u0e07\\u0e32\\u0e19\", \"\\u0e1f\\u0e40\\u0e1f\\u0e48\", \"\\u0e1f\\u0e40\\u0e1f\\u0e48\", \"\\u0e20\\u0e32\\u0e29\\u0e32\", \"\\u0e21\", \"\\u0e21\", \"\\u0e21\", \"\\u0e21\\u0e2d\\u0e25\\u0e25\\u0e4c\", \"\\u0e21\\u0e2d\\u0e25\\u0e25\\u0e4c\", \"\\u0e22\\u0e37\\u0e19\", \"\\u0e23\\u0e2a\", \"\\u0e23\\u0e2a\", \"\\u0e23\\u0e2a\", \"\\u0e23\\u0e2a\\u0e0a\\u0e32\\u0e15\\u0e34\", \"\\u0e23\\u0e2a\\u0e0a\\u0e32\\u0e15\\u0e34\", \"\\u0e23\\u0e2a\\u0e0a\\u0e32\\u0e15\\u0e34\", \"\\u0e23\\u0e2a\\u0e0a\\u0e32\\u0e15\\u0e34\", \"\\u0e23\\u0e2a\\u0e0a\\u0e32\\u0e15\\u0e34\", \"\\u0e23\\u0e2d\", \"\\u0e23\\u0e2d\", \"\\u0e23\\u0e32\\u0e04\\u0e32\", \"\\u0e23\\u0e32\\u0e04\\u0e32\", \"\\u0e23\\u0e32\\u0e04\\u0e32\", \"\\u0e23\\u0e32\\u0e04\\u0e32\", \"\\u0e23\\u0e32\\u0e04\\u0e32\", \"\\u0e23\\u0e35\\u0e48\", \"\\u0e23\\u0e39\\u0e49\\u0e08\\u0e31\\u0e01\", \"\\u0e25\\u0e2d\\u0e07\", \"\\u0e25\\u0e2d\\u0e07\", \"\\u0e25\\u0e2d\\u0e07\", \"\\u0e25\\u0e2d\\u0e07\", \"\\u0e25\\u0e2d\\u0e07\", \"\\u0e25\\u0e32\", \"\\u0e25\\u0e32\\u0e22\\u0e15\\u0e32\", \"\\u0e25\\u0e35\", \"\\u0e25\\u0e39\\u0e01\\u0e0a\\u0e34\\u0e49\\u0e19\", \"\\u0e27\\u0e32\\u0e19\\u0e34\\u0e25\\u0e32\", \"\\u0e2a\", \"\\u0e2a\\u0e14\", \"\\u0e2a\\u0e14\", \"\\u0e2a\\u0e14\", \"\\u0e2a\\u0e14\", \"\\u0e2a\\u0e14\", \"\\u0e2a\\u0e14\\u0e46 \\u0e23\\u0e49\\u0e2d\\u0e19\\u0e46\", \"\\u0e2a\\u0e15\\u0e2d\", \"\\u0e2a\\u0e1a\\u0e32\\u0e22\\u0e14\\u0e35\", \"\\u0e2a\\u0e1b\\u0e32\", \"\\u0e2a\\u0e31\\u0e48\\u0e07\", \"\\u0e2a\\u0e31\\u0e48\\u0e07\", \"\\u0e2a\\u0e31\\u0e48\\u0e07\", \"\\u0e2a\\u0e31\\u0e48\\u0e07\", \"\\u0e2a\\u0e31\\u0e48\\u0e07\", \"\\u0e2a\\u0e32\\u0e02\\u0e32\", \"\\u0e2a\\u0e32\\u0e02\\u0e32\", \"\\u0e2a\\u0e32\\u0e02\\u0e32\", \"\\u0e2a\\u0e32\\u0e02\\u0e32\", \"\\u0e2a\\u0e32\\u0e02\\u0e32\", \"\\u0e2a\\u0e32\\u0e21\\u0e23\\u0e2a\", \"\\u0e2a\\u0e32\\u0e22\\u0e1e\\u0e32\\u0e19\", \"\\u0e2a\\u0e32\\u0e22\\u0e1e\\u0e32\\u0e19\", \"\\u0e2a\\u0e32\\u0e22\\u0e1e\\u0e32\\u0e19\", \"\\u0e2a\\u0e32\\u0e22\\u0e1e\\u0e32\\u0e19\", \"\\u0e2a\\u0e33\\u0e2b\\u0e23\\u0e31\\u0e1a\", \"\\u0e2a\\u0e38\\u0e01\", \"\\u0e2a\\u0e38\\u0e01\\u0e35\\u0e49\", \"\\u0e2a\\u0e48\\u0e27\\u0e19\\u0e15\\u0e31\\u0e27\", \"\\u0e2a\\u0e48\\u0e27\\u0e19\\u0e15\\u0e31\\u0e27\", \"\\u0e2b\\u0e19\\u0e49\\u0e32\", \"\\u0e2b\\u0e19\\u0e49\\u0e32\", \"\\u0e2b\\u0e21\\u0e39\", \"\\u0e2b\\u0e21\\u0e39\", \"\\u0e2b\\u0e21\\u0e49\\u0e2d\", \"\\u0e2b\\u0e21\\u0e49\\u0e2d\", \"\\u0e2b\\u0e21\\u0e49\\u0e2d\", \"\\u0e2b\\u0e21\\u0e49\\u0e2d\", \"\\u0e2b\\u0e21\\u0e49\\u0e2d\", \"\\u0e2b\\u0e22\\u0e34\\u0e1a\", \"\\u0e2b\\u0e22\\u0e34\\u0e1a\", \"\\u0e2b\\u0e22\\u0e34\\u0e1a\", \"\\u0e2b\\u0e22\\u0e34\\u0e1a\", \"\\u0e2b\\u0e2d\\u0e21\", \"\\u0e2b\\u0e49\\u0e32\\u0e07\", \"\\u0e2b\\u0e49\\u0e32\\u0e07\", \"\\u0e2d\\u0e22\\u0e39\\u0e48\\u0e41\\u0e25\\u0e49\\u0e27\", \"\\u0e2d\\u0e22\\u0e48\\u0e32\", \"\\u0e2d\\u0e23\\u0e48\\u0e2d\\u0e22\", \"\\u0e2d\\u0e23\\u0e48\\u0e2d\\u0e22\", \"\\u0e2d\\u0e23\\u0e48\\u0e2d\\u0e22\", \"\\u0e2d\\u0e23\\u0e48\\u0e2d\\u0e22\", \"\\u0e2d\\u0e23\\u0e48\\u0e2d\\u0e22\", \"\\u0e2d\\u0e31\\u0e19\\u0e19\\u0e35\\u0e49\", \"\\u0e2d\\u0e31\\u0e1e\\u0e40\\u0e14\\u0e17\", \"\\u0e2d\\u0e32\\u0e2b\\u0e32\\u0e23\", \"\\u0e2d\\u0e32\\u0e2b\\u0e32\\u0e23\", \"\\u0e2d\\u0e32\\u0e2b\\u0e32\\u0e23\", \"\\u0e2d\\u0e32\\u0e2b\\u0e32\\u0e23\", \"\\u0e2d\\u0e32\\u0e2b\\u0e32\\u0e23\", \"\\u0e2d\\u0e35\\u0e01\\u0e04\\u0e23\\u0e31\\u0e49\\u0e07\", \"\\u0e40\\u0e01\", \"\\u0e40\\u0e01\\u0e34\\u0e19\\u0e44\\u0e1b\", \"\\u0e40\\u0e02\\u0e49\\u0e32\\u0e01\\u0e31\\u0e19\", \"\\u0e40\\u0e0a\\u0e47\\u0e04\\u0e1a\\u0e34\\u0e25\", \"\\u0e40\\u0e14\\u0e2d\\u0e30\", \"\\u0e40\\u0e14\\u0e2d\\u0e30\", \"\\u0e40\\u0e14\\u0e2d\\u0e30\", \"\\u0e40\\u0e14\\u0e2d\\u0e30\", \"\\u0e40\\u0e14\\u0e2d\\u0e30\", \"\\u0e40\\u0e14\\u0e47\\u0e01\", \"\\u0e40\\u0e14\\u0e49\\u0e07\", \"\\u0e40\\u0e17\", \"\\u0e40\\u0e17\", \"\\u0e40\\u0e17\", \"\\u0e40\\u0e17\", \"\\u0e40\\u0e17\", \"\\u0e40\\u0e19\\u0e37\\u0e49\\u0e2d\", \"\\u0e40\\u0e19\\u0e37\\u0e49\\u0e2d\", \"\\u0e40\\u0e19\\u0e37\\u0e49\\u0e2d\", \"\\u0e40\\u0e19\\u0e37\\u0e49\\u0e2d\", \"\\u0e40\\u0e19\\u0e37\\u0e49\\u0e2d\", \"\\u0e40\\u0e19\\u0e37\\u0e49\\u0e2d\\u0e27\\u0e31\\u0e27\", \"\\u0e40\\u0e19\\u0e37\\u0e49\\u0e2d\\u0e27\\u0e31\\u0e27\", \"\\u0e40\\u0e19\\u0e37\\u0e49\\u0e2d\\u0e2a\\u0e31\\u0e15\\u0e27\\u0e4c\", \"\\u0e40\\u0e19\\u0e37\\u0e49\\u0e2d\\u0e2b\\u0e21\\u0e39\", \"\\u0e40\\u0e19\\u0e37\\u0e49\\u0e2d\\u0e2b\\u0e21\\u0e39\", \"\\u0e40\\u0e1b\\u0e47\\u0e14\", \"\\u0e40\\u0e1b\\u0e47\\u0e14\", \"\\u0e40\\u0e21\\u0e19\\u0e39\", \"\\u0e40\\u0e21\\u0e19\\u0e39\", \"\\u0e40\\u0e21\\u0e19\\u0e39\", \"\\u0e40\\u0e21\\u0e19\\u0e39\", \"\\u0e40\\u0e21\\u0e19\\u0e39\", \"\\u0e40\\u0e25\\u0e35\\u0e48\\u0e22\\u0e19\", \"\\u0e40\\u0e25\\u0e37\\u0e2d\\u0e01\", \"\\u0e40\\u0e25\\u0e37\\u0e2d\\u0e01\", \"\\u0e40\\u0e25\\u0e37\\u0e2d\\u0e01\", \"\\u0e40\\u0e25\\u0e37\\u0e2d\\u0e01\", \"\\u0e40\\u0e25\\u0e37\\u0e2d\\u0e01\", \"\\u0e40\\u0e27\\u0e25\\u0e32\", \"\\u0e40\\u0e2a\\u0e34\\u0e23\\u0e4c\\u0e1f\", \"\\u0e40\\u0e2a\\u0e34\\u0e23\\u0e4c\\u0e1f\", \"\\u0e40\\u0e2b\\u0e21\\u0e32\\u0e30\\u0e2a\\u0e21\", \"\\u0e40\\u0e2b\\u0e21\\u0e37\\u0e2d\\u0e19\\u0e01\\u0e31\\u0e1a\", \"\\u0e40\\u0e2b\\u0e47\\u0e14\", \"\\u0e41\\u0e15\\u0e32\", \"\\u0e41\\u0e19\\u0e30\\u0e19\\u0e33\", \"\\u0e41\\u0e19\\u0e30\\u0e19\\u0e33\", \"\\u0e42\\u0e0b\\u0e19\", \"\\u0e42\\u0e14\\u0e19\", \"\\u0e42\\u0e15\\u0e4a\\u0e30\", \"\\u0e42\\u0e15\\u0e4a\\u0e30\", \"\\u0e42\\u0e21\", \"\\u0e42\\u0e21\", \"\\u0e42\\u0e21\", \"\\u0e42\\u0e21\", \"\\u0e42\\u0e2b\\u0e14\", \"\\u0e43\\u0e08\\u0e14\\u0e35\", \"\\u0e43\\u0e0a\\u0e49\\u0e44\\u0e14\\u0e49\", \"\\u0e44\\u0e01\\u0e48\", \"\\u0e44\\u0e01\\u0e48\", \"\\u0e44\\u0e01\\u0e48\", \"\\u0e44\\u0e14\\u0e1f\\u0e39\\u0e01\\u0e38\", \"\\u0e44\\u0e1c\\u0e48\", \"\\u0e44\\u0e21\\u0e49\", \"\\u0e44\\u0e27\", \"\\u0e44\\u0e2d\\u0e15\\u0e34\\u0e21\", \"\\u0e44\\u0e2d\\u0e15\\u0e34\\u0e21\", \"\\u0e44\\u0e2d\\u0e15\\u0e34\\u0e21\", \"\\u0e44\\u0e2d\\u0e15\\u0e34\\u0e21\", \"\\u0e44\\u0e2d\\u0e15\\u0e34\\u0e21\", \"\\u200b\", \"\\ud83d\\ude06\", \"\\ud83e\\udd23\"]}, \"R\": 30, \"lambda.step\": 0.01, \"plot.opts\": {\"xlab\": \"PC1\", \"ylab\": \"PC2\"}, \"topic.order\": [2, 3, 1, 4, 5]};\n",
              "\n",
              "function LDAvis_load_lib(url, callback){\n",
              "  var s = document.createElement('script');\n",
              "  s.src = url;\n",
              "  s.async = true;\n",
              "  s.onreadystatechange = s.onload = callback;\n",
              "  s.onerror = function(){console.warn(\"failed to load library \" + url);};\n",
              "  document.getElementsByTagName(\"head\")[0].appendChild(s);\n",
              "}\n",
              "\n",
              "if(typeof(LDAvis) !== \"undefined\"){\n",
              "   // already loaded: just create the visualization\n",
              "   !function(LDAvis){\n",
              "       new LDAvis(\"#\" + \"ldavis_el6931396286026847522508858397\", ldavis_el6931396286026847522508858397_data);\n",
              "   }(LDAvis);\n",
              "}else if(typeof define === \"function\" && define.amd){\n",
              "   // require.js is available: use it to load d3/LDAvis\n",
              "   require.config({paths: {d3: \"https://d3js.org/d3.v5\"}});\n",
              "   require([\"d3\"], function(d3){\n",
              "      window.d3 = d3;\n",
              "      LDAvis_load_lib(\"https://cdn.jsdelivr.net/gh/bmabey/pyLDAvis@3.3.1/pyLDAvis/js/ldavis.v3.0.0.js\", function(){\n",
              "        new LDAvis(\"#\" + \"ldavis_el6931396286026847522508858397\", ldavis_el6931396286026847522508858397_data);\n",
              "      });\n",
              "    });\n",
              "}else{\n",
              "    // require.js not available: dynamically load d3 & LDAvis\n",
              "    LDAvis_load_lib(\"https://d3js.org/d3.v5.js\", function(){\n",
              "         LDAvis_load_lib(\"https://cdn.jsdelivr.net/gh/bmabey/pyLDAvis@3.3.1/pyLDAvis/js/ldavis.v3.0.0.js\", function(){\n",
              "                 new LDAvis(\"#\" + \"ldavis_el6931396286026847522508858397\", ldavis_el6931396286026847522508858397_data);\n",
              "            })\n",
              "         });\n",
              "}\n",
              "</script>"
            ],
            "text/plain": [
              "PreparedData(topic_coordinates=              x         y  topics  cluster       Freq\n",
              "topic                                                \n",
              "1     -0.061564  0.007573       1        1  34.672519\n",
              "2      0.006505  0.038525       2        1  19.188024\n",
              "0      0.039369  0.013443       3        1  18.988380\n",
              "3     -0.001309 -0.038153       4        1  13.611068\n",
              "4      0.016999 -0.021388       5        1  13.540010, topic_info=        Term       Freq      Total Category  logprob  loglift\n",
              "48         ​   5.000000   5.000000  Default  30.0000  30.0000\n",
              "91         :  11.000000  11.000000  Default  29.0000  29.0000\n",
              "336        -  10.000000  10.000000  Default  28.0000  28.0000\n",
              "151    เลือก  18.000000  18.000000  Default  27.0000  27.0000\n",
              "117      ทาน  23.000000  23.000000  Default  26.0000  26.0000\n",
              "..       ...        ...        ...      ...      ...      ...\n",
              "11        ดำ   1.001732   6.873558   Topic5  -5.2508   0.0736\n",
              "105      ชอบ   1.111561   8.924795   Topic5  -5.1468  -0.0835\n",
              "18   น้ำจิ้ม   0.995651   7.047878   Topic5  -5.2569   0.0424\n",
              "88         2   0.890560   6.566591   Topic5  -5.3684   0.0016\n",
              "171        3   0.865449   5.220549   Topic5  -5.3970   0.2024\n",
              "\n",
              "[341 rows x 6 columns], token_table=      Topic      Freq   Term\n",
              "term                        \n",
              "86        1  0.367872       \n",
              "86        2  0.367872       \n",
              "86        3  0.122624       \n",
              "86        4  0.122624       \n",
              "86        5  0.122624       \n",
              "...     ...       ...    ...\n",
              "47        4  0.116127  ไอติม\n",
              "47        5  0.116127  ไอติม\n",
              "48        5  0.742767      ​\n",
              "582       3  0.970806      😆\n",
              "583       3  0.970810      🤣\n",
              "\n",
              "[406 rows x 3 columns], R=30, lambda_step=0.01, plot_opts={'xlab': 'PC1', 'ylab': 'PC2'}, topic_order=[2, 3, 1, 4, 5])"
            ]
          },
          "metadata": {
            "tags": []
          },
          "execution_count": 30
        }
      ]
    },
    {
      "cell_type": "code",
      "metadata": {
        "colab": {
          "base_uri": "https://localhost:8080/"
        },
        "id": "Uc0kSNGEsaMT",
        "outputId": "fc736195-bc4e-45f0-f1b3-8e8b88e936b0"
      },
      "source": [
        "model.show_topic(4)"
      ],
      "execution_count": 35,
      "outputs": [
        {
          "output_type": "execute_result",
          "data": {
            "text/plain": [
              "[('\\u200b', 0.023045527),\n",
              " ('กิน', 0.020311752),\n",
              " ('อร่อย', 0.01933066),\n",
              " ('น้ำ', 0.01885596),\n",
              " ('ดี', 0.017987425),\n",
              " ('อาหาร', 0.016935272),\n",
              " ('ทาน', 0.016387703),\n",
              " ('เลือก', 0.014316569),\n",
              " ('ซุป', 0.013437248),\n",
              " ('บริการ', 0.012602834)]"
            ]
          },
          "metadata": {
            "tags": []
          },
          "execution_count": 35
        }
      ]
    },
    {
      "cell_type": "code",
      "metadata": {
        "id": "LdWByRsuseii"
      },
      "source": [
        "df['topics'] = df['review_tokenized'].apply(lambda x: model.get_document_topics(dictionary.doc2bow(x.split(',')))[0][0])\n",
        "df['score'] = df['review_tokenized'].apply(lambda x: model.get_document_topics(dictionary.doc2bow(x.split(',')))[0][1])"
      ],
      "execution_count": 36,
      "outputs": []
    },
    {
      "cell_type": "code",
      "metadata": {
        "colab": {
          "base_uri": "https://localhost:8080/",
          "height": 700
        },
        "id": "LFOPBHpUsgSV",
        "outputId": "7cdcbe90-5c05-400a-e94d-c0213463cf5b"
      },
      "source": [
        "df[['Restaurant', 'cleansed_text', 'topics', 'score']]"
      ],
      "execution_count": 37,
      "outputs": [
        {
          "output_type": "execute_result",
          "data": {
            "text/html": [
              "<div>\n",
              "<style scoped>\n",
              "    .dataframe tbody tr th:only-of-type {\n",
              "        vertical-align: middle;\n",
              "    }\n",
              "\n",
              "    .dataframe tbody tr th {\n",
              "        vertical-align: top;\n",
              "    }\n",
              "\n",
              "    .dataframe thead th {\n",
              "        text-align: right;\n",
              "    }\n",
              "</style>\n",
              "<table border=\"1\" class=\"dataframe\">\n",
              "  <thead>\n",
              "    <tr style=\"text-align: right;\">\n",
              "      <th></th>\n",
              "      <th>Restaurant</th>\n",
              "      <th>cleansed_text</th>\n",
              "      <th>topics</th>\n",
              "      <th>score</th>\n",
              "    </tr>\n",
              "  </thead>\n",
              "  <tbody>\n",
              "    <tr>\n",
              "      <th>0</th>\n",
              "      <td>Mo-Mo-Paradise (โม โม พาราไดซ์) เดอะมอลล์ บางกะปิ</td>\n",
              "      <td>ที่สำคัญของร้านนี้คือบริการดีมากพนักงานน่ารักส...</td>\n",
              "      <td>4</td>\n",
              "      <td>0.998319</td>\n",
              "    </tr>\n",
              "    <tr>\n",
              "      <th>1</th>\n",
              "      <td>Mo-Mo-Paradise (โม โม พาราไดซ์) เดอะมอลล์ บางกะปิ</td>\n",
              "      <td>รสชาติเหมือนทุกสาขา แต่สาขานี้ บริการดี ที่นั่...</td>\n",
              "      <td>4</td>\n",
              "      <td>0.997321</td>\n",
              "    </tr>\n",
              "    <tr>\n",
              "      <th>2</th>\n",
              "      <td>Mo-Mo-Paradise (โม โม พาราไดซ์) เดอะมอลล์ บางกะปิ</td>\n",
              "      <td>ชาบูพรีเมียมสไตล์ญี่ปุ่น เนื้อดีมากก มาทานช่วง...</td>\n",
              "      <td>2</td>\n",
              "      <td>0.999246</td>\n",
              "    </tr>\n",
              "    <tr>\n",
              "      <th>3</th>\n",
              "      <td>Mo-Mo-Paradise (โม โม พาราไดซ์) เดอะมอลล์ บางกะปิ</td>\n",
              "      <td>เนื้อดี icecreamดี คุ้มค่าดี ถ้านึกถึงชาบูที่ม...</td>\n",
              "      <td>2</td>\n",
              "      <td>0.996420</td>\n",
              "    </tr>\n",
              "    <tr>\n",
              "      <th>4</th>\n",
              "      <td>Mo-Mo-Paradise (โม โม พาราไดซ์) เดอะมอลล์ บางกะปิ</td>\n",
              "      <td>อาหารมีคุณภาพ บริการดีค่ะ เดินมาหน้าร้านแล้วได...</td>\n",
              "      <td>1</td>\n",
              "      <td>0.997314</td>\n",
              "    </tr>\n",
              "    <tr>\n",
              "      <th>5</th>\n",
              "      <td>Mo-Mo-Paradise (โม โม พาราไดซ์) เดอะมอลล์ บางกะปิ</td>\n",
              "      <td>กินให้อิ่ม ที่ momo ร้านบุฟเฟ่ต์่ต์ ชาบูแนวญี่...</td>\n",
              "      <td>1</td>\n",
              "      <td>0.996423</td>\n",
              "    </tr>\n",
              "    <tr>\n",
              "      <th>6</th>\n",
              "      <td>Mo-Mo-Paradise (โม โม พาราไดซ์) เดอะมอลล์ บางกะปิ</td>\n",
              "      <td>ชาบู   สุกกี้สไลด์ญี่ปุ่นที่แท้ทรู  number    ...</td>\n",
              "      <td>0</td>\n",
              "      <td>0.998366</td>\n",
              "    </tr>\n",
              "    <tr>\n",
              "      <th>7</th>\n",
              "      <td>Mo-Mo-Paradise (โม โม พาราไดซ์) เดอะมอลล์ บางกะปิ</td>\n",
              "      <td>ร้านชาบูแฟรนไชส์ ที่ราคาเหมาะสมกับคุณภาพ ถือว่...</td>\n",
              "      <td>0</td>\n",
              "      <td>0.997739</td>\n",
              "    </tr>\n",
              "    <tr>\n",
              "      <th>8</th>\n",
              "      <td>Shabushi (ชาบูชิ) เดอะมอลล์บางกะปิ ชั้น G</td>\n",
              "      <td>อร่อยคุ้ม ของทานเล่นเยอะมาก มา านที่ขาบูชิต้อง...</td>\n",
              "      <td>0</td>\n",
              "      <td>0.996738</td>\n",
              "    </tr>\n",
              "    <tr>\n",
              "      <th>9</th>\n",
              "      <td>Shabushi (ชาบูชิ) เดอะมอลล์บางกะปิ ชั้น G</td>\n",
              "      <td>ทานอีก ชอบกุ้งทอดเทมปุระ ใครชอบกุ้งทอดเทมปุระ ...</td>\n",
              "      <td>1</td>\n",
              "      <td>0.998045</td>\n",
              "    </tr>\n",
              "    <tr>\n",
              "      <th>10</th>\n",
              "      <td>Shabushi (ชาบูชิ) เดอะมอลล์บางกะปิ ชั้น G</td>\n",
              "      <td>บุฟเฟ่ต์่ต์ต์คุ้ม ในห้าง กลับมาupdateราคาshabu...</td>\n",
              "      <td>2</td>\n",
              "      <td>0.996877</td>\n",
              "    </tr>\n",
              "    <tr>\n",
              "      <th>11</th>\n",
              "      <td>Shabushi (ชาบูชิ) เดอะมอลล์บางกะปิ ชั้น G</td>\n",
              "      <td>เปลี่ยนจากกุ้งขาดสารอาหารเป็นกุ้งปอกเปลือกแล้ว...</td>\n",
              "      <td>1</td>\n",
              "      <td>0.999527</td>\n",
              "    </tr>\n",
              "    <tr>\n",
              "      <th>12</th>\n",
              "      <td>Shabushi (ชาบูชิ) เดอะมอลล์บางกะปิ ชั้น G</td>\n",
              "      <td>อิ่ม อร่อย ฝุดฝุด เมื่อหลายวันก่อนนัดหาข้าวทาน...</td>\n",
              "      <td>1</td>\n",
              "      <td>0.271116</td>\n",
              "    </tr>\n",
              "    <tr>\n",
              "      <th>13</th>\n",
              "      <td>Shabushi (ชาบูชิ) เดอะมอลล์บางกะปิ ชั้น G</td>\n",
              "      <td>จัดให้เต็มคราบกับชั่วโมงครึ่ง shabushi บอกตรง ...</td>\n",
              "      <td>3</td>\n",
              "      <td>0.997902</td>\n",
              "    </tr>\n",
              "    <tr>\n",
              "      <th>14</th>\n",
              "      <td>Shabushi (ชาบูชิ) เดอะมอลล์บางกะปิ ชั้น G</td>\n",
              "      <td>ชาบู shabushi สวัสดีครับวันนี้จะขอมารีวิวร้านs...</td>\n",
              "      <td>3</td>\n",
              "      <td>0.996410</td>\n",
              "    </tr>\n",
              "    <tr>\n",
              "      <th>15</th>\n",
              "      <td>Shabushi (ชาบูชิ) เดอะมอลล์บางกะปิ ชั้น G</td>\n",
              "      <td>บุฟเฟ่ต์ต์น้ำเดือด สายพานร่อน shabushi สาขาเดอ...</td>\n",
              "      <td>3</td>\n",
              "      <td>0.998701</td>\n",
              "    </tr>\n",
              "    <tr>\n",
              "      <th>16</th>\n",
              "      <td>ข้าน้อยขอชาบู</td>\n",
              "      <td>บุฟเฟ่ต์่ต์ต์ชาบูและpizzaไม่อั้นในราคา     บาท...</td>\n",
              "      <td>1</td>\n",
              "      <td>0.998748</td>\n",
              "    </tr>\n",
              "    <tr>\n",
              "      <th>17</th>\n",
              "      <td>ข้าน้อยขอชาบู</td>\n",
              "      <td>ร้านบุฟเฟ่ต์่ต์ต์ ราคามิตรภาพ อยู่ชั้น  ติดโรง...</td>\n",
              "      <td>4</td>\n",
              "      <td>0.998173</td>\n",
              "    </tr>\n",
              "    <tr>\n",
              "      <th>18</th>\n",
              "      <td>ข้าน้อยขอชาบู</td>\n",
              "      <td>ของหลากหลาย ปน  งง  นิดหน่อย เคยรู้จักร้านนี้จ...</td>\n",
              "      <td>0</td>\n",
              "      <td>0.997649</td>\n",
              "    </tr>\n",
              "    <tr>\n",
              "      <th>19</th>\n",
              "      <td>ข้าน้อยขอชาบู</td>\n",
              "      <td>อร่อยมากค่ะ คุ้มค่าสมราคา บุฟเฟ่ต์่ต์หมูผักต่า...</td>\n",
              "      <td>0</td>\n",
              "      <td>0.997972</td>\n",
              "    </tr>\n",
              "    <tr>\n",
              "      <th>20</th>\n",
              "      <td>ข้าน้อยขอชาบู</td>\n",
              "      <td>แม้จะแปลกบ้าง แต่ก็ถือว่าอยู่ในเกณฑ์ที่ดี มีอา...</td>\n",
              "      <td>1</td>\n",
              "      <td>0.997097</td>\n",
              "    </tr>\n",
              "  </tbody>\n",
              "</table>\n",
              "</div>"
            ],
            "text/plain": [
              "                                           Restaurant  ...     score\n",
              "0   Mo-Mo-Paradise (โม โม พาราไดซ์) เดอะมอลล์ บางกะปิ  ...  0.998319\n",
              "1   Mo-Mo-Paradise (โม โม พาราไดซ์) เดอะมอลล์ บางกะปิ  ...  0.997321\n",
              "2   Mo-Mo-Paradise (โม โม พาราไดซ์) เดอะมอลล์ บางกะปิ  ...  0.999246\n",
              "3   Mo-Mo-Paradise (โม โม พาราไดซ์) เดอะมอลล์ บางกะปิ  ...  0.996420\n",
              "4   Mo-Mo-Paradise (โม โม พาราไดซ์) เดอะมอลล์ บางกะปิ  ...  0.997314\n",
              "5   Mo-Mo-Paradise (โม โม พาราไดซ์) เดอะมอลล์ บางกะปิ  ...  0.996423\n",
              "6   Mo-Mo-Paradise (โม โม พาราไดซ์) เดอะมอลล์ บางกะปิ  ...  0.998366\n",
              "7   Mo-Mo-Paradise (โม โม พาราไดซ์) เดอะมอลล์ บางกะปิ  ...  0.997739\n",
              "8           Shabushi (ชาบูชิ) เดอะมอลล์บางกะปิ ชั้น G  ...  0.996738\n",
              "9           Shabushi (ชาบูชิ) เดอะมอลล์บางกะปิ ชั้น G  ...  0.998045\n",
              "10          Shabushi (ชาบูชิ) เดอะมอลล์บางกะปิ ชั้น G  ...  0.996877\n",
              "11          Shabushi (ชาบูชิ) เดอะมอลล์บางกะปิ ชั้น G  ...  0.999527\n",
              "12          Shabushi (ชาบูชิ) เดอะมอลล์บางกะปิ ชั้น G  ...  0.271116\n",
              "13          Shabushi (ชาบูชิ) เดอะมอลล์บางกะปิ ชั้น G  ...  0.997902\n",
              "14          Shabushi (ชาบูชิ) เดอะมอลล์บางกะปิ ชั้น G  ...  0.996410\n",
              "15          Shabushi (ชาบูชิ) เดอะมอลล์บางกะปิ ชั้น G  ...  0.998701\n",
              "16                                      ข้าน้อยขอชาบู  ...  0.998748\n",
              "17                                      ข้าน้อยขอชาบู  ...  0.998173\n",
              "18                                      ข้าน้อยขอชาบู  ...  0.997649\n",
              "19                                      ข้าน้อยขอชาบู  ...  0.997972\n",
              "20                                      ข้าน้อยขอชาบู  ...  0.997097\n",
              "\n",
              "[21 rows x 4 columns]"
            ]
          },
          "metadata": {
            "tags": []
          },
          "execution_count": 37
        }
      ]
    },
    {
      "cell_type": "code",
      "metadata": {
        "colab": {
          "base_uri": "https://localhost:8080/",
          "height": 173
        },
        "id": "ig-lwAKy14iQ",
        "outputId": "fc22e4dc-0c96-486e-bd82-7ee28185bbd5"
      },
      "source": [
        "pd.crosstab(df['Restaurant'], df['topics'])"
      ],
      "execution_count": 38,
      "outputs": [
        {
          "output_type": "execute_result",
          "data": {
            "text/html": [
              "<div>\n",
              "<style scoped>\n",
              "    .dataframe tbody tr th:only-of-type {\n",
              "        vertical-align: middle;\n",
              "    }\n",
              "\n",
              "    .dataframe tbody tr th {\n",
              "        vertical-align: top;\n",
              "    }\n",
              "\n",
              "    .dataframe thead th {\n",
              "        text-align: right;\n",
              "    }\n",
              "</style>\n",
              "<table border=\"1\" class=\"dataframe\">\n",
              "  <thead>\n",
              "    <tr style=\"text-align: right;\">\n",
              "      <th>topics</th>\n",
              "      <th>0</th>\n",
              "      <th>1</th>\n",
              "      <th>2</th>\n",
              "      <th>3</th>\n",
              "      <th>4</th>\n",
              "    </tr>\n",
              "    <tr>\n",
              "      <th>Restaurant</th>\n",
              "      <th></th>\n",
              "      <th></th>\n",
              "      <th></th>\n",
              "      <th></th>\n",
              "      <th></th>\n",
              "    </tr>\n",
              "  </thead>\n",
              "  <tbody>\n",
              "    <tr>\n",
              "      <th>Mo-Mo-Paradise (โม โม พาราไดซ์) เดอะมอลล์ บางกะปิ</th>\n",
              "      <td>2</td>\n",
              "      <td>2</td>\n",
              "      <td>2</td>\n",
              "      <td>0</td>\n",
              "      <td>2</td>\n",
              "    </tr>\n",
              "    <tr>\n",
              "      <th>Shabushi (ชาบูชิ) เดอะมอลล์บางกะปิ ชั้น G</th>\n",
              "      <td>1</td>\n",
              "      <td>3</td>\n",
              "      <td>1</td>\n",
              "      <td>3</td>\n",
              "      <td>0</td>\n",
              "    </tr>\n",
              "    <tr>\n",
              "      <th>ข้าน้อยขอชาบู</th>\n",
              "      <td>2</td>\n",
              "      <td>2</td>\n",
              "      <td>0</td>\n",
              "      <td>0</td>\n",
              "      <td>1</td>\n",
              "    </tr>\n",
              "  </tbody>\n",
              "</table>\n",
              "</div>"
            ],
            "text/plain": [
              "topics                                             0  1  2  3  4\n",
              "Restaurant                                                      \n",
              "Mo-Mo-Paradise (โม โม พาราไดซ์) เดอะมอลล์ บางกะปิ  2  2  2  0  2\n",
              "Shabushi (ชาบูชิ) เดอะมอลล์บางกะปิ ชั้น G          1  3  1  3  0\n",
              "ข้าน้อยขอชาบู                                      2  2  0  0  1"
            ]
          },
          "metadata": {
            "tags": []
          },
          "execution_count": 38
        }
      ]
    },
    {
      "cell_type": "code",
      "metadata": {
        "colab": {
          "base_uri": "https://localhost:8080/",
          "height": 235
        },
        "id": "pnpL-k3J2BAT",
        "outputId": "8117701c-579c-42e8-c170-3c2a8721285e"
      },
      "source": [
        "df.groupby('topics')['Rating'].describe()"
      ],
      "execution_count": null,
      "outputs": [
        {
          "output_type": "execute_result",
          "data": {
            "text/html": [
              "<div>\n",
              "<style scoped>\n",
              "    .dataframe tbody tr th:only-of-type {\n",
              "        vertical-align: middle;\n",
              "    }\n",
              "\n",
              "    .dataframe tbody tr th {\n",
              "        vertical-align: top;\n",
              "    }\n",
              "\n",
              "    .dataframe thead th {\n",
              "        text-align: right;\n",
              "    }\n",
              "</style>\n",
              "<table border=\"1\" class=\"dataframe\">\n",
              "  <thead>\n",
              "    <tr style=\"text-align: right;\">\n",
              "      <th></th>\n",
              "      <th>count</th>\n",
              "      <th>mean</th>\n",
              "      <th>std</th>\n",
              "      <th>min</th>\n",
              "      <th>25%</th>\n",
              "      <th>50%</th>\n",
              "      <th>75%</th>\n",
              "      <th>max</th>\n",
              "    </tr>\n",
              "    <tr>\n",
              "      <th>topics</th>\n",
              "      <th></th>\n",
              "      <th></th>\n",
              "      <th></th>\n",
              "      <th></th>\n",
              "      <th></th>\n",
              "      <th></th>\n",
              "      <th></th>\n",
              "      <th></th>\n",
              "    </tr>\n",
              "  </thead>\n",
              "  <tbody>\n",
              "    <tr>\n",
              "      <th>0</th>\n",
              "      <td>5.0</td>\n",
              "      <td>4.0</td>\n",
              "      <td>0.707107</td>\n",
              "      <td>3.0</td>\n",
              "      <td>4.0</td>\n",
              "      <td>4.0</td>\n",
              "      <td>4.0</td>\n",
              "      <td>5.0</td>\n",
              "    </tr>\n",
              "    <tr>\n",
              "      <th>1</th>\n",
              "      <td>2.0</td>\n",
              "      <td>4.0</td>\n",
              "      <td>0.000000</td>\n",
              "      <td>4.0</td>\n",
              "      <td>4.0</td>\n",
              "      <td>4.0</td>\n",
              "      <td>4.0</td>\n",
              "      <td>4.0</td>\n",
              "    </tr>\n",
              "    <tr>\n",
              "      <th>2</th>\n",
              "      <td>10.0</td>\n",
              "      <td>4.0</td>\n",
              "      <td>0.666667</td>\n",
              "      <td>3.0</td>\n",
              "      <td>4.0</td>\n",
              "      <td>4.0</td>\n",
              "      <td>4.0</td>\n",
              "      <td>5.0</td>\n",
              "    </tr>\n",
              "    <tr>\n",
              "      <th>3</th>\n",
              "      <td>1.0</td>\n",
              "      <td>5.0</td>\n",
              "      <td>NaN</td>\n",
              "      <td>5.0</td>\n",
              "      <td>5.0</td>\n",
              "      <td>5.0</td>\n",
              "      <td>5.0</td>\n",
              "      <td>5.0</td>\n",
              "    </tr>\n",
              "    <tr>\n",
              "      <th>4</th>\n",
              "      <td>2.0</td>\n",
              "      <td>3.0</td>\n",
              "      <td>0.000000</td>\n",
              "      <td>3.0</td>\n",
              "      <td>3.0</td>\n",
              "      <td>3.0</td>\n",
              "      <td>3.0</td>\n",
              "      <td>3.0</td>\n",
              "    </tr>\n",
              "  </tbody>\n",
              "</table>\n",
              "</div>"
            ],
            "text/plain": [
              "        count  mean       std  min  25%  50%  75%  max\n",
              "topics                                                \n",
              "0         5.0   4.0  0.707107  3.0  4.0  4.0  4.0  5.0\n",
              "1         2.0   4.0  0.000000  4.0  4.0  4.0  4.0  4.0\n",
              "2        10.0   4.0  0.666667  3.0  4.0  4.0  4.0  5.0\n",
              "3         1.0   5.0       NaN  5.0  5.0  5.0  5.0  5.0\n",
              "4         2.0   3.0  0.000000  3.0  3.0  3.0  3.0  3.0"
            ]
          },
          "metadata": {
            "tags": []
          },
          "execution_count": 120
        }
      ]
    }
  ]
}