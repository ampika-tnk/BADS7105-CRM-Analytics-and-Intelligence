{
  "nbformat": 4,
  "nbformat_minor": 0,
  "metadata": {
    "colab": {
      "name": "voice_of_customer.ipynb",
      "provenance": [],
      "collapsed_sections": []
    },
    "kernelspec": {
      "name": "python3",
      "display_name": "Python 3"
    },
    "language_info": {
      "name": "python"
    }
  },
  "cells": [
    {
      "cell_type": "markdown",
      "metadata": {
        "id": "Vo_Erj0WgtSt"
      },
      "source": [
        "# **Voice of Customer**\n",
        "\n",
        "Ampika Thanakaew ID: 6210422049"
      ]
    },
    {
      "cell_type": "markdown",
      "metadata": {
        "id": "wTTofbCWg399"
      },
      "source": [
        "## **Initialize**"
      ]
    },
    {
      "cell_type": "code",
      "metadata": {
        "colab": {
          "base_uri": "https://localhost:8080/"
        },
        "id": "yQlPZNZyeKBk",
        "outputId": "f3f1eaf3-2079-4ec9-f08e-f608bf818576"
      },
      "source": [
        "!pip install mlxtend\n",
        "!pip install --upgrade pythainlp\n",
        "!pip install pyLDAvis\n",
        "# !pip install sefr_cut"
      ],
      "execution_count": 21,
      "outputs": [
        {
          "output_type": "stream",
          "text": [
            "Requirement already satisfied: mlxtend in /usr/local/lib/python3.7/dist-packages (0.14.0)\n",
            "Requirement already satisfied: numpy>=1.10.4 in /usr/local/lib/python3.7/dist-packages (from mlxtend) (1.20.3)\n",
            "Requirement already satisfied: scikit-learn>=0.18 in /usr/local/lib/python3.7/dist-packages (from mlxtend) (0.22.2.post1)\n",
            "Requirement already satisfied: matplotlib>=1.5.1 in /usr/local/lib/python3.7/dist-packages (from mlxtend) (3.2.2)\n",
            "Requirement already satisfied: scipy>=0.17 in /usr/local/lib/python3.7/dist-packages (from mlxtend) (1.4.1)\n",
            "Requirement already satisfied: pandas>=0.17.1 in /usr/local/lib/python3.7/dist-packages (from mlxtend) (1.2.4)\n",
            "Requirement already satisfied: setuptools in /usr/local/lib/python3.7/dist-packages (from mlxtend) (57.0.0)\n",
            "Requirement already satisfied: joblib>=0.11 in /usr/local/lib/python3.7/dist-packages (from scikit-learn>=0.18->mlxtend) (1.0.1)\n",
            "Requirement already satisfied: cycler>=0.10 in /usr/local/lib/python3.7/dist-packages (from matplotlib>=1.5.1->mlxtend) (0.10.0)\n",
            "Requirement already satisfied: python-dateutil>=2.1 in /usr/local/lib/python3.7/dist-packages (from matplotlib>=1.5.1->mlxtend) (2.8.1)\n",
            "Requirement already satisfied: kiwisolver>=1.0.1 in /usr/local/lib/python3.7/dist-packages (from matplotlib>=1.5.1->mlxtend) (1.3.1)\n",
            "Requirement already satisfied: pyparsing!=2.0.4,!=2.1.2,!=2.1.6,>=2.0.1 in /usr/local/lib/python3.7/dist-packages (from matplotlib>=1.5.1->mlxtend) (2.4.7)\n",
            "Requirement already satisfied: pytz>=2017.3 in /usr/local/lib/python3.7/dist-packages (from pandas>=0.17.1->mlxtend) (2018.9)\n",
            "Requirement already satisfied: six in /usr/local/lib/python3.7/dist-packages (from cycler>=0.10->matplotlib>=1.5.1->mlxtend) (1.15.0)\n",
            "Requirement already up-to-date: pythainlp in /usr/local/lib/python3.7/dist-packages (2.3.1)\n",
            "Requirement already satisfied, skipping upgrade: python-crfsuite>=0.9.6 in /usr/local/lib/python3.7/dist-packages (from pythainlp) (0.9.7)\n",
            "Requirement already satisfied, skipping upgrade: requests>=2.22.0 in /usr/local/lib/python3.7/dist-packages (from pythainlp) (2.23.0)\n",
            "Requirement already satisfied, skipping upgrade: tinydb>=3.0 in /usr/local/lib/python3.7/dist-packages (from pythainlp) (4.4.0)\n",
            "Requirement already satisfied, skipping upgrade: idna<3,>=2.5 in /usr/local/lib/python3.7/dist-packages (from requests>=2.22.0->pythainlp) (2.10)\n",
            "Requirement already satisfied, skipping upgrade: urllib3!=1.25.0,!=1.25.1,<1.26,>=1.21.1 in /usr/local/lib/python3.7/dist-packages (from requests>=2.22.0->pythainlp) (1.24.3)\n",
            "Requirement already satisfied, skipping upgrade: chardet<4,>=3.0.2 in /usr/local/lib/python3.7/dist-packages (from requests>=2.22.0->pythainlp) (3.0.4)\n",
            "Requirement already satisfied, skipping upgrade: certifi>=2017.4.17 in /usr/local/lib/python3.7/dist-packages (from requests>=2.22.0->pythainlp) (2021.5.30)\n",
            "Requirement already satisfied: pyLDAvis in /usr/local/lib/python3.7/dist-packages (3.3.1)\n",
            "Requirement already satisfied: setuptools in /usr/local/lib/python3.7/dist-packages (from pyLDAvis) (57.0.0)\n",
            "Requirement already satisfied: scikit-learn in /usr/local/lib/python3.7/dist-packages (from pyLDAvis) (0.22.2.post1)\n",
            "Requirement already satisfied: scipy in /usr/local/lib/python3.7/dist-packages (from pyLDAvis) (1.4.1)\n",
            "Requirement already satisfied: future in /usr/local/lib/python3.7/dist-packages (from pyLDAvis) (0.16.0)\n",
            "Requirement already satisfied: gensim in /usr/local/lib/python3.7/dist-packages (from pyLDAvis) (3.6.0)\n",
            "Requirement already satisfied: numpy>=1.20.0 in /usr/local/lib/python3.7/dist-packages (from pyLDAvis) (1.20.3)\n",
            "Requirement already satisfied: funcy in /usr/local/lib/python3.7/dist-packages (from pyLDAvis) (1.16)\n",
            "Requirement already satisfied: numexpr in /usr/local/lib/python3.7/dist-packages (from pyLDAvis) (2.7.3)\n",
            "Requirement already satisfied: sklearn in /usr/local/lib/python3.7/dist-packages (from pyLDAvis) (0.0)\n",
            "Requirement already satisfied: joblib in /usr/local/lib/python3.7/dist-packages (from pyLDAvis) (1.0.1)\n",
            "Requirement already satisfied: pandas>=1.2.0 in /usr/local/lib/python3.7/dist-packages (from pyLDAvis) (1.2.4)\n",
            "Requirement already satisfied: jinja2 in /usr/local/lib/python3.7/dist-packages (from pyLDAvis) (2.11.3)\n",
            "Requirement already satisfied: smart-open>=1.2.1 in /usr/local/lib/python3.7/dist-packages (from gensim->pyLDAvis) (5.1.0)\n",
            "Requirement already satisfied: six>=1.5.0 in /usr/local/lib/python3.7/dist-packages (from gensim->pyLDAvis) (1.15.0)\n",
            "Requirement already satisfied: pytz>=2017.3 in /usr/local/lib/python3.7/dist-packages (from pandas>=1.2.0->pyLDAvis) (2018.9)\n",
            "Requirement already satisfied: python-dateutil>=2.7.3 in /usr/local/lib/python3.7/dist-packages (from pandas>=1.2.0->pyLDAvis) (2.8.1)\n",
            "Requirement already satisfied: MarkupSafe>=0.23 in /usr/local/lib/python3.7/dist-packages (from jinja2->pyLDAvis) (2.0.1)\n"
          ],
          "name": "stdout"
        }
      ]
    },
    {
      "cell_type": "code",
      "metadata": {
        "id": "NpKkhvd5ce_5"
      },
      "source": [
        "import pandas as pd\n",
        "import numpy as np\n",
        "import gensim\n",
        "import pythainlp\n",
        "from pythainlp.tokenize import sent_tokenize, word_tokenize\n",
        "import pyLDAvis.gensim_models\n",
        "pyLDAvis.enable_notebook()\n",
        "import warnings\n",
        "warnings.filterwarnings(\"ignore\", category=DeprecationWarning) \n",
        "warnings.filterwarnings(\"ignore\", category=FutureWarning) \n",
        "\n",
        "# import re\n",
        "# import seaborn as sns\n",
        "# import matplotlib.pyplot as plt\n",
        "# import sefr_cut\n",
        "# sefr_cut.load_model(engine='tl-deepcut-ws1000')"
      ],
      "execution_count": 22,
      "outputs": []
    },
    {
      "cell_type": "code",
      "metadata": {
        "colab": {
          "base_uri": "https://localhost:8080/"
        },
        "id": "CvKtlXJqd93U",
        "outputId": "59bf2968-7b06-4c29-91e8-ec50882fe8b2"
      },
      "source": [
        "%cd '/content/drive/MyDrive/BADS 7105 CRM/Voice of Customer/'\n",
        "%ls"
      ],
      "execution_count": 23,
      "outputs": [
        {
          "output_type": "stream",
          "text": [
            "/content/drive/MyDrive/BADS 7105 CRM/Voice of Customer\n",
            "CustomerReviews.csv\n"
          ],
          "name": "stdout"
        }
      ]
    },
    {
      "cell_type": "code",
      "metadata": {
        "id": "5tA8nUbCeBzz"
      },
      "source": [
        "import matplotlib as mpl\n",
        "mpl.font_manager.fontManager.addfont('/content/drive/MyDrive/BADS 7105 CRM/font/Cordia New Bold.ttf')\n",
        "mpl.rc('font', family='Cordia New', size=12, weight=200)"
      ],
      "execution_count": 24,
      "outputs": []
    },
    {
      "cell_type": "markdown",
      "metadata": {
        "id": "INL2kJSgg91M"
      },
      "source": [
        "**Load Data**"
      ]
    },
    {
      "cell_type": "code",
      "metadata": {
        "colab": {
          "base_uri": "https://localhost:8080/",
          "height": 561
        },
        "id": "6NAna_7zeDY7",
        "outputId": "f3443eb0-8c4b-488c-ff40-e6c62a570034"
      },
      "source": [
        "df = pd.read_csv('CustomerReviews.csv')\n",
        "df.head()"
      ],
      "execution_count": 57,
      "outputs": [
        {
          "output_type": "execute_result",
          "data": {
            "text/html": [
              "<div>\n",
              "<style scoped>\n",
              "    .dataframe tbody tr th:only-of-type {\n",
              "        vertical-align: middle;\n",
              "    }\n",
              "\n",
              "    .dataframe tbody tr th {\n",
              "        vertical-align: top;\n",
              "    }\n",
              "\n",
              "    .dataframe thead th {\n",
              "        text-align: right;\n",
              "    }\n",
              "</style>\n",
              "<table border=\"1\" class=\"dataframe\">\n",
              "  <thead>\n",
              "    <tr style=\"text-align: right;\">\n",
              "      <th></th>\n",
              "      <th>Review ID</th>\n",
              "      <th>Restaurant_ID</th>\n",
              "      <th>Restaurant</th>\n",
              "      <th>User</th>\n",
              "      <th>Headline</th>\n",
              "      <th>Review</th>\n",
              "      <th>Rating</th>\n",
              "    </tr>\n",
              "  </thead>\n",
              "  <tbody>\n",
              "    <tr>\n",
              "      <th>0</th>\n",
              "      <td>1</td>\n",
              "      <td>352696Px-mo-mo-paradise-เดอะมอลล์-บางกะปิ</td>\n",
              "      <td>Mo-Mo-Paradise (โม โม พาราไดซ์) เดอะมอลล์ บางกะปิ</td>\n",
              "      <td>7b16469831074f7abc7824745ee75212</td>\n",
              "      <td>ที่สำคัญของร้านนี้คือบริการดีมากพนักงานน่ารักส...</td>\n",
              "      <td>ที่สำคัญของร้านนี้คือบริการดีมากพนักงานน่ารักส...</td>\n",
              "      <td>5.0</td>\n",
              "    </tr>\n",
              "    <tr>\n",
              "      <th>1</th>\n",
              "      <td>2</td>\n",
              "      <td>352696Px-mo-mo-paradise-เดอะมอลล์-บางกะปิ</td>\n",
              "      <td>Mo-Mo-Paradise (โม โม พาราไดซ์) เดอะมอลล์ บางกะปิ</td>\n",
              "      <td>pakkaramonpondej</td>\n",
              "      <td>รสชาติเหมือนทุกสาขา แต่สาขานี้ บริการดี ที่นั่งดี</td>\n",
              "      <td>นึกถึงชาบูญี่ปุ่นยังไงก็ต้อง คิดถึงโมโม่ พาราไ...</td>\n",
              "      <td>5.0</td>\n",
              "    </tr>\n",
              "    <tr>\n",
              "      <th>2</th>\n",
              "      <td>3</td>\n",
              "      <td>352696Px-mo-mo-paradise-เดอะมอลล์-บางกะปิ</td>\n",
              "      <td>Mo-Mo-Paradise (โม โม พาราไดซ์) เดอะมอลล์ บางกะปิ</td>\n",
              "      <td>saanowy</td>\n",
              "      <td>ชาบูพรีเมี่ยมสไตล์ญี่ปุ่น เนื้อดีมากกก</td>\n",
              "      <td>มาทานช่วงนี้ สามารถนั่งโต๊ะเดียวกัน หม้อเดียวก...</td>\n",
              "      <td>4.0</td>\n",
              "    </tr>\n",
              "    <tr>\n",
              "      <th>3</th>\n",
              "      <td>4</td>\n",
              "      <td>352696Px-mo-mo-paradise-เดอะมอลล์-บางกะปิ</td>\n",
              "      <td>Mo-Mo-Paradise (โม โม พาราไดซ์) เดอะมอลล์ บางกะปิ</td>\n",
              "      <td>ployynp</td>\n",
              "      <td>เนื้อดี ไอติมดี คุ้มค่าดี</td>\n",
              "      <td>ถ้านึกถึงชาบูที่มีเนื้อเน้นๆ ในราคาไม่โหดจนเกิ...</td>\n",
              "      <td>4.0</td>\n",
              "    </tr>\n",
              "    <tr>\n",
              "      <th>4</th>\n",
              "      <td>5</td>\n",
              "      <td>352696Px-mo-mo-paradise-เดอะมอลล์-บางกะปิ</td>\n",
              "      <td>Mo-Mo-Paradise (โม โม พาราไดซ์) เดอะมอลล์ บางกะปิ</td>\n",
              "      <td>665a902b335b434ab489f00f2fbb477e</td>\n",
              "      <td>อาหารมีคุณภาพ บริการดีค่ะ</td>\n",
              "      <td>เดินมาหน้าร้านแล้วได้กลิ่นชาบูหอมมาก ๆ  ประกอบ...</td>\n",
              "      <td>5.0</td>\n",
              "    </tr>\n",
              "  </tbody>\n",
              "</table>\n",
              "</div>"
            ],
            "text/plain": [
              "   Review ID  ... Rating\n",
              "0          1  ...    5.0\n",
              "1          2  ...    5.0\n",
              "2          3  ...    4.0\n",
              "3          4  ...    4.0\n",
              "4          5  ...    5.0\n",
              "\n",
              "[5 rows x 7 columns]"
            ]
          },
          "metadata": {
            "tags": []
          },
          "execution_count": 57
        }
      ]
    },
    {
      "cell_type": "markdown",
      "metadata": {
        "id": "3W7Lj7s_n1Y9"
      },
      "source": [
        "**Tokenize Words**"
      ]
    },
    {
      "cell_type": "code",
      "metadata": {
        "id": "8W4YJ30GoVdS"
      },
      "source": [
        "# Word Correction\n",
        "word_correction_dict = {\n",
        "    'โมโม่' : 'momo', 'มากก' : 'มาก', 'กกก' : 'ก', 'แวท' : 'vat', 'พิซเซอเรีย' : 'pizzeria', 'พิซซ่า' : 'pizza', \n",
        "    'เก้บ' : 'เก็บ', 'ชูชิ' : 'ซูชิ', 'ซึป' : 'ซุป', 'ชาบูชิ' : 'shabushi', 'อารามณ์' : 'อารมณ์', 'ส่งน' : 'ส่วน', 'สไลต์' : 'สไลด์', 'ประยุคก์' : 'ประยุกต์',\n",
        "    'ไอติม' : 'icecream', 'พาราไดส์' : 'paradise', 'พาราไดซ์' : 'paradise', 'อัพเดท' : 'update', 'นาราย' : 'narai ', 'พรีเมี่ยม' : 'พรีเมียม',\n",
        "    'บ๋วย' : 'บ๊วย', 'เฟรนไชส์' : 'แฟรนไชส์', 'บุพเฟ่' : 'บุฟเฟ่ต์', 'บุฟเฟ่' : 'บุฟเฟ่ต์', 'บุฟเฟ' : 'บุฟเฟ่ต์', 'บุฟเฟต' : 'บุฟเฟ่ต์', 'รสชาต' : 'รสชาติ', 'รสชาติิ' : 'รสชาติ'\n",
        "}\n",
        "\n",
        "# Cleansing\n",
        "def cleanse_text(text):\n",
        "\n",
        "    text = text.strip().lower()\n",
        "\n",
        "    for old,new in word_correction_dict.items():\n",
        "        text = text.replace(old, new)\n",
        "\n",
        "    # Remove empty spaces\n",
        "    text = re.sub(r'\\u200b', '', text)\n",
        "    text = re.sub(r'[\\r\\n]', '', text)\n",
        "\n",
        "    # Replace punctuations\n",
        "    text = re.sub(r'[ๆฯ!#$&%\\\"\\'()*+,-./:;<=>?@\\[\\]\\\\^_`{}|~]',' ', text)\n",
        "\n",
        "    # Replace numbers\n",
        "    text = re.sub(r'\\d',' ', text)\n",
        "    text = re.sub(r'[0-9]','',text)\n",
        "    text = re.sub(r'[๐-๙]','',text)\n",
        "\n",
        "    return text\n",
        "\n",
        "df['cleansed_text'] = df.apply(lambda x: cleanse_text(x['Headline'] + ' ' + x['Review']), axis=1)\n",
        "\n",
        "# Sentence and Word Tokenization\n",
        "df['tokens'] = df['cleansed_text'].apply(lambda x: [ w for st in sent_tokenize(x, engine='whitespace+newline') for w in sefr_cut.tokenize(st,k=100)])\n",
        "\n",
        "stopwords = list(pythainlp.corpus.thai_stopwords())\n",
        "removed = [' ', '  ', '\\n', 'ร้าน', 'ที่' '(', ')', 'นะคะ', 'เค้า', 'ผม', 'คน']\n",
        "screening = stopwords + removed\n",
        "\n",
        "def tokenize_with_space(sentence):\n",
        "  merged = ''\n",
        "  words = pythainlp.word_tokenize(str(sentence), engine='newmm')\n",
        "  for word in words:\n",
        "    if word not in screening:\n",
        "      merged = merged + ',' + word\n",
        "  return merged[1:]"
      ],
      "execution_count": 87,
      "outputs": []
    },
    {
      "cell_type": "code",
      "metadata": {
        "colab": {
          "base_uri": "https://localhost:8080/",
          "height": 717
        },
        "id": "LIESaLyKn88X",
        "outputId": "118a410c-9273-4f40-c100-7921f63ea724"
      },
      "source": [
        "df['review_tokenized'] = df['Review'].apply(lambda x: tokenize_with_space(x))\n",
        "df.head()"
      ],
      "execution_count": 88,
      "outputs": [
        {
          "output_type": "execute_result",
          "data": {
            "text/html": [
              "<div>\n",
              "<style scoped>\n",
              "    .dataframe tbody tr th:only-of-type {\n",
              "        vertical-align: middle;\n",
              "    }\n",
              "\n",
              "    .dataframe tbody tr th {\n",
              "        vertical-align: top;\n",
              "    }\n",
              "\n",
              "    .dataframe thead th {\n",
              "        text-align: right;\n",
              "    }\n",
              "</style>\n",
              "<table border=\"1\" class=\"dataframe\">\n",
              "  <thead>\n",
              "    <tr style=\"text-align: right;\">\n",
              "      <th></th>\n",
              "      <th>Review ID</th>\n",
              "      <th>Restaurant_ID</th>\n",
              "      <th>Restaurant</th>\n",
              "      <th>User</th>\n",
              "      <th>Headline</th>\n",
              "      <th>Review</th>\n",
              "      <th>Rating</th>\n",
              "      <th>cleansed_text</th>\n",
              "      <th>tokens</th>\n",
              "      <th>review_tokenized</th>\n",
              "    </tr>\n",
              "  </thead>\n",
              "  <tbody>\n",
              "    <tr>\n",
              "      <th>0</th>\n",
              "      <td>1</td>\n",
              "      <td>352696Px-mo-mo-paradise-เดอะมอลล์-บางกะปิ</td>\n",
              "      <td>Mo-Mo-Paradise (โม โม พาราไดซ์) เดอะมอลล์ บางกะปิ</td>\n",
              "      <td>7b16469831074f7abc7824745ee75212</td>\n",
              "      <td>ที่สำคัญของร้านนี้คือบริการดีมากพนักงานน่ารักส...</td>\n",
              "      <td>ที่สำคัญของร้านนี้คือบริการดีมากพนักงานน่ารักส...</td>\n",
              "      <td>5.0</td>\n",
              "      <td>ที่สำคัญของร้านนี้คือบริการดีมากพนักงานน่ารักส...</td>\n",
              "      <td>[[ที่, สำคัญ, ของ, ร้าน, นี้, คือ, บริการ, ดี,...</td>\n",
              "      <td>บริการ,ดีมาก,พนักงาน,น่ารัก,สะอาดสะอ้าน,ใส่ใจ,...</td>\n",
              "    </tr>\n",
              "    <tr>\n",
              "      <th>1</th>\n",
              "      <td>2</td>\n",
              "      <td>352696Px-mo-mo-paradise-เดอะมอลล์-บางกะปิ</td>\n",
              "      <td>Mo-Mo-Paradise (โม โม พาราไดซ์) เดอะมอลล์ บางกะปิ</td>\n",
              "      <td>pakkaramonpondej</td>\n",
              "      <td>รสชาติเหมือนทุกสาขา แต่สาขานี้ บริการดี ที่นั่งดี</td>\n",
              "      <td>นึกถึงชาบูญี่ปุ่นยังไงก็ต้อง คิดถึงโมโม่ พาราไ...</td>\n",
              "      <td>5.0</td>\n",
              "      <td>รสชาติเหมือนทุกสาขา แต่สาขานี้ บริการดี ที่นั่...</td>\n",
              "      <td>[[รสชาติ, เหมือน, ทุก, สาขา], [แต่, สาขา, นี้]...</td>\n",
              "      <td>นึกถึง,ชาบู,ญี่ปุ่น,คิดถึง,โม,โม่,พาราไดซ์,คุณ...</td>\n",
              "    </tr>\n",
              "    <tr>\n",
              "      <th>2</th>\n",
              "      <td>3</td>\n",
              "      <td>352696Px-mo-mo-paradise-เดอะมอลล์-บางกะปิ</td>\n",
              "      <td>Mo-Mo-Paradise (โม โม พาราไดซ์) เดอะมอลล์ บางกะปิ</td>\n",
              "      <td>saanowy</td>\n",
              "      <td>ชาบูพรีเมี่ยมสไตล์ญี่ปุ่น เนื้อดีมากกก</td>\n",
              "      <td>มาทานช่วงนี้ สามารถนั่งโต๊ะเดียวกัน หม้อเดียวก...</td>\n",
              "      <td>4.0</td>\n",
              "      <td>ชาบูพรีเมียมสไตล์ญี่ปุ่น เนื้อดีมากก มาทานช่วง...</td>\n",
              "      <td>[[ชาบูพรีเมียม, สไตล์, ญี่ปุ่น], [เนื้อ, ดี, ม...</td>\n",
              "      <td>ทาน,นั่ง,โต๊ะ,หม้อ,โต๊ะ,ยังมี,ฉาก,กั้น,น้ำ,ซุป...</td>\n",
              "    </tr>\n",
              "    <tr>\n",
              "      <th>3</th>\n",
              "      <td>4</td>\n",
              "      <td>352696Px-mo-mo-paradise-เดอะมอลล์-บางกะปิ</td>\n",
              "      <td>Mo-Mo-Paradise (โม โม พาราไดซ์) เดอะมอลล์ บางกะปิ</td>\n",
              "      <td>ployynp</td>\n",
              "      <td>เนื้อดี ไอติมดี คุ้มค่าดี</td>\n",
              "      <td>ถ้านึกถึงชาบูที่มีเนื้อเน้นๆ ในราคาไม่โหดจนเกิ...</td>\n",
              "      <td>4.0</td>\n",
              "      <td>เนื้อดี icecreamดี คุ้มค่าดี ถ้านึกถึงชาบูที่ม...</td>\n",
              "      <td>[[เนื้อ, ดี], [icecream, ดี], [คุ้ม, ค่า, ดี],...</td>\n",
              "      <td>นึกถึง,ชาบู,เนื้อ,ราคา,โหด,เกินไป,นึกถึง,โม,โม...</td>\n",
              "    </tr>\n",
              "    <tr>\n",
              "      <th>4</th>\n",
              "      <td>5</td>\n",
              "      <td>352696Px-mo-mo-paradise-เดอะมอลล์-บางกะปิ</td>\n",
              "      <td>Mo-Mo-Paradise (โม โม พาราไดซ์) เดอะมอลล์ บางกะปิ</td>\n",
              "      <td>665a902b335b434ab489f00f2fbb477e</td>\n",
              "      <td>อาหารมีคุณภาพ บริการดีค่ะ</td>\n",
              "      <td>เดินมาหน้าร้านแล้วได้กลิ่นชาบูหอมมาก ๆ  ประกอบ...</td>\n",
              "      <td>5.0</td>\n",
              "      <td>อาหารมีคุณภาพ บริการดีค่ะ เดินมาหน้าร้านแล้วได...</td>\n",
              "      <td>[[อาหาร, มี, คุณ, ภาพ], [บริการ, ดี, ค่ะ], [เด...</td>\n",
              "      <td>เดิน,หน้า,ได้กลิ่น,ชาบู,หอ,มมาก,โปร,บัตรเครดิต...</td>\n",
              "    </tr>\n",
              "  </tbody>\n",
              "</table>\n",
              "</div>"
            ],
            "text/plain": [
              "   Review ID  ...                                   review_tokenized\n",
              "0          1  ...  บริการ,ดีมาก,พนักงาน,น่ารัก,สะอาดสะอ้าน,ใส่ใจ,...\n",
              "1          2  ...  นึกถึง,ชาบู,ญี่ปุ่น,คิดถึง,โม,โม่,พาราไดซ์,คุณ...\n",
              "2          3  ...  ทาน,นั่ง,โต๊ะ,หม้อ,โต๊ะ,ยังมี,ฉาก,กั้น,น้ำ,ซุป...\n",
              "3          4  ...  นึกถึง,ชาบู,เนื้อ,ราคา,โหด,เกินไป,นึกถึง,โม,โม...\n",
              "4          5  ...  เดิน,หน้า,ได้กลิ่น,ชาบู,หอ,มมาก,โปร,บัตรเครดิต...\n",
              "\n",
              "[5 rows x 10 columns]"
            ]
          },
          "metadata": {
            "tags": []
          },
          "execution_count": 88
        }
      ]
    },
    {
      "cell_type": "code",
      "metadata": {
        "id": "uhnXnHStn682"
      },
      "source": [
        "documents = df['review_tokenized'].to_list()\n",
        "texts = [[text for text in doc.split(',')] for doc in documents]\n",
        "dictionary = gensim.corpora.Dictionary(texts)"
      ],
      "execution_count": 89,
      "outputs": []
    },
    {
      "cell_type": "code",
      "metadata": {
        "colab": {
          "base_uri": "https://localhost:8080/"
        },
        "id": "Hyz_TLDDoD6r",
        "outputId": "785e70e0-e660-4823-acde-2dc1a6a958ba"
      },
      "source": [
        "print(dictionary.token2id.keys())"
      ],
      "execution_count": 90,
      "outputs": [
        {
          "output_type": "stream",
          "text": [
            "dict_keys(['1', '4', '560', 'กิน', 'ข้างนอก', 'ความต้องการ', 'คอ', 'คุณภาพ', 'คุ้ม', 'จำกัด', 'ซุป', 'ดำ', 'ดี', 'ดีมาก', 'ถาด', 'ถาม', 'น่ารัก', 'น้ำ', 'น้ำจิ้ม', 'บริการ', 'บาท', 'ประทับใจ', 'พนักงาน', 'พอกับ', 'ภาพ', 'รสชาติ', 'ราคา', 'สรุป', 'สะอาดสะอ้าน', 'สัน', 'หลากหลาย', 'อร่อย', 'อันนี้', 'อาหาร', 'เคลม', 'เซ็ท', 'เต้าเจี้ยว', 'เนื้อ', 'เป็ด', 'เผ็ด', 'แบบนี้', 'แปลก', 'แฟน', 'โดยรวม', 'โมจิ', 'ใส่ใจ', 'ไม่ต้อง', 'ไอติม', '\\u200b', '           ', '21', '30', '9', 'CTW', 'Terminal', 'กา', 'การงด', 'คิดถึง', 'ชาบู', 'ญี่ปุ่น', 'ฐาน', 'ทะยอย', 'ทำงาน', 'ที่ทาง', 'นาที', 'นึกถึง', 'พนักงานบริการ', 'พระราม', 'พรีเมียม', 'พาราไดซ์', 'มาตรา', 'มีโอ', 'รายละเอียด', 'ลูกค้า', 'สมาทาน', 'สาขา', 'สู้', 'ออร์เดอร์', 'เครื่องดื่ม', 'เจอ', 'เป็นกันเอง', 'เหวี่ยง', 'แจ้ง', 'โม', 'โม่', 'โอเค', '', '++', '2', '555', '600', ':', '::', 'กก', 'กรุบ', 'กั้น', 'ของหวาน', 'คนละ', 'คาว', 'คุ', 'คุ้มค่า', 'จาน', 'จิ้ม', 'จืด', 'ฉาก', 'ชอบ', 'ชาเขียว', 'ชิ้น', 'ซอย', 'ซอส', 'ตก', 'ตะ', 'ตัก', 'ตามน้ำ', 'ต่างกัน', 'ถั่ว', 'ถ่ายรูป', 'ทาน', 'นั่ง', 'นุ่ม', 'บด', 'บาร์', 'บู', 'ผัก', 'ภาษา', 'มีชื่อ', 'ยังมี', 'รส', 'รี่', 'รู้สึก', 'ลอง', 'ลิ้น', 'ลืม', 'ววว', 'สด', 'สตอ', 'สั่ง', 'สามรส', 'ส่วนตัว', 'หนึบ', 'หม้อ', 'หวาน', 'อยากได้', 'เข้มข้น', 'เข้ากัน', 'เค็ม', 'เนื้อวัว', 'เนื้อสัตว์', 'เนื้อหมู', 'เบอ', 'เป็นผู้ใหญ่', 'เลือก', 'เสิร์ฟ', 'เหนียว', 'เห็ด', 'แดง', 'แตก', 'แตา', 'แนว', 'แย้', 'โควิด', 'โต๊ะ', 'โร', 'ใส', 'ไก่', 'ไข่', 'ไดฟูกุ', 'ไผ่', 'ไม้', 'ไหว', '(', '3', 'ข้าว', 'จ่าย', 'ถ้วย', 'ธรรมดา', 'ส', 'ออ', 'เกินไป', 'เลี่ยน', 'โปร', 'โหด', 'ไว', 'ไอศกรีม', 'ขนม', 'คุณภาพดี', 'ตัดสินใจ', 'ต่าง ๆ', 'ที่จะ', 'ที่นั่ง', 'บัตรเครดิต', 'มมาก', 'ลูกชิ้น', 'สบายดี', 'หน้า', 'หอ', 'เดิน', 'เด็ก', 'เส้น', 'เหมือนกับ', 'แคบ', 'ได้กลิ่น', 'คามี', 'ซึ', 'บุ', 'บ๋วย', 'พอน', 'ฟเฟ่', 'รา', 'สาย', 'หยิบ', 'โซน', 'โปรโมชั่น', '+', '/', '20', '4.0', '5', 'Menu', 'Number', 'กรรมวิธี', 'กะปิ', 'ก์', 'คะแนน', 'ชุด', 'ดังเดิม', 'บุฟเฟ่ต์', 'ประ', 'พารา', 'มอ', 'ยุค', 'ร้านอาหาร', 'ล', 'สุกี้', 'สไตล์', 'ส์', 'หมู', 'หลาก', 'หลายชนิด', 'เดอะ', 'เมนู', 'แบบฉบับ', 'แบ่ง', 'ได', 'ไทย', '–', '!!!!', '500', 'กาแฟ', 'งวด', 'ตอนที่', 'ตำ', 'ติด', 'ทั่วไป', 'น', 'บ๊วย', 'ยุ', 'ร้อน', 'ลุย', 'สุกี้ยากี้', 'อยู่แล้ว', 'ออสเตรเลีย', 'เป็นปกติ', 'เฟรนไชส์', 'เรื่อง', 'เหมาะสม', 'แนะนำ', 'โช', 'ไข่ไก่', 'ไอศครีม', '..', '399', 'กุ้ง', 'ของกิน', 'ขา', 'ชิ', 'ซูชิ', 'ซ่า', 'ตอน', 'ตอนนี้', 'นิดนึง', 'ปุระ', 'ปูอัด', 'ม', 'ละลานตา', 'สายพาน', 'หิว', 'ฮ่า', 'าน', 'เกี๊ยว', 'เท', 'เทียบ', 'เล่น', 'แพง', 'แล้วก็', 'ไม่งั้น', 'กลาย', 'กี่', 'ชั่วคราว', 'ชื่นใจ', 'ซะงั้น', 'ญี่', 'ดึก', 'ตบท้าย', 'ตัว', 'ทอด', 'ทานอาหาร', 'นพ', 'นึก', 'น้ะ', 'ปลา', 'ปุ', 'ผิดหวัง', 'วก', 'สมใจ', 'อย่า', 'อาหารเสริม', 'เติม', 'เป็นมา', 'เป็นหลัก', 'เย็น', '1.15', 'net', 'กลับมา', 'ของคาว', 'ชม.', 'ตรงนั้น', 'ยืน', 'ลายตา', 'สไลด์', 'อัพเดท', 'อิ่ม', 'เบ', 'เพลิน', 'ไลน์', '\"', '-', '/คน', '15', '359', 'G', 'Net', 'Shabushi', 'กด', 'กรอ', 'ขาดสารอาหาร', 'ขึ้นราคา', 'ข่าว', 'คนเดียว', 'ครึ่ง', 'คิว', 'งาน', 'จุ', 'ชั่วโมง', 'ชั้น', 'ชื่น', 'ดู', 'ตลับ', 'ตับ', 'ตั้งอยู่', 'ติง', 'ถนนใหญ่', 'ถูกใจ', 'ทำ', 'ทิ้ง', 'น้ำมัน', 'บดี', 'ปลาดิบ', 'ปอกเปลือก', 'ฝรั่ง', 'ฝั่ง', 'มอลล์', 'มื้อ', 'รอ', 'ระดับ', 'รายการ', 'ลด', 'ลา', 'ลูก', 'วันหยุด', 'วาง', 'วานิลา', 'สะอาด', 'สาเหตุ', 'สำหรับ', 'สไปรท์', 'หนา', 'หอม', 'หอย', 'หาไม่', 'ห่างหาย', 'ห้าง', 'อม', 'ออกมา', 'อาทิตย์', 'อีกครั้ง', 'เช็คบิล', 'เด่น', 'เด้ง', 'เบคอน', 'เปรี้ยวหวาน', 'เพื่อน', 'เลิก', 'เวลา', 'เสาร์', 'เหมือน', 'เหมือนกัน', 'แก้ว', 'แถม', 'แน่น', 'แป้ง', 'แย่', 'แออัด', 'โดน', 'โดยประมาณ', 'โฟลต', 'โอ', 'ใจดี', 'ใจมา', 'ใช้ได้', 'ใส่', 'ได้ยิน', 'ชอค', 'ต', 'นัด', 'นิ', 'มะนาว', 'มุ', 'ลงเอย', 'ว', 'วันก่อน', 'ห', 'หา', 'อยุ่', 'อาหารสด', 'เบอร์', 'แกงค์', 'แล', 'โก', 'กินที่', 'ขยัน', 'จอง', 'ชู', 'ณ์', 'บุฟเฟต์', 'ป', 'ประตู', 'พลาด', 'พอได้', 'พี่', 'รอบ', 'ร้อย', 'สาม', 'สุดท้าย', 'หลายครั้ง', 'หล่ะ', 'อาราม', 'เข้าหน้า', 'เต็ม', 'โชคดี', 'ขวัญใจ', 'ข้อดี', 'ต้องการ', 'ทั่วถึง', 'นํ้า', 'บ', 'ฟเฟ', 'มี่', 'ระบบ', 'รีวิว', 'สวัสดี', 'เก้', 'ใช้แล้ว', '^^', 'xx', 'กลยุทธ์', 'ขนาด', 'ข้น', 'ข้าวปั้น', 'ค่า', 'ชอป', 'ซุ้ม', 'ดีขึ้น', 'ตรงข้าม', 'ตรงนี้', 'ต้ม', 'ต้มยำ', 'ท่าน', 'นัล', 'บริเวณ', 'บัตรสมาชิก', 'ปรับปรุง', 'มันดี', 'มากขึ้น', 'ยอด', 'ลาน', 'สลัด', 'หมู่คณะ', 'ออกร้าน', 'อิอิ', 'เครือ', 'เคลื่อนตัว', 'เคาน์เตอร์', 'เบา', 'เป็นแนว', 'แมค', 'โชคชะตา', 'โด', 'โน้น', 'โออิชิ', '199', '39', '40', '49', 'HALL', 'MCC', 'ค่ายมวย', 'ด้านใน', 'ตอนแรก', 'ตัวเลือก', 'ติดกับ', 'ที่ไหนได้', 'นม', 'นา', 'น้ำดื่ม', 'พิซ', 'พิซซ่า', 'ฟี', 'ยู', 'รี', 'หลังจากที่', 'อลล์', 'อเรีย', 'เซ', 'แกงเขียวหวาน', 'แน่นอน', 'แวะ', '10', '300', '6', 'VAT', 'กำ', 'ค่าน้ำ', 'ช่อง', 'ซี', 'ซึป', 'ถูกหวย', 'ทอน', 'นึง', 'ฟรี', 'ฟู้ด', 'รับประกัน', 'ลอตเตอรี่', 'สัปดาห์', 'หวย', 'หัว', 'ฮัน', 'เงิน', 'แลก', 'โทส', 'ได้เวลา', 'Narai', 'mall', 'pizza', 'pizzeria', 'union', 'ของสด', 'ขึ้นใจ', 'ข้าวมันไก่', 'จำได้', 'ชื่อ', 'ตตี้', 'ตัดกำลัง', 'ตู้', 'นิว', 'บางส่วน', 'ปรุง', 'รู้จัก', 'ลี', 'สปา', 'สุก', 'เก', '😆', '🤣', '128', '255', '29', 'ครีม', 'จบ', 'จุก', 'ชาต', 'บรา', 'บุพ', 'ปิดท้าย', 'ย', 'วิป', 'สมราคา', 'สวย', 'เ', 'เซต', 'เด็ด', 'เป้ง', 'เฟ่', 'เรย', 'เริส', 'เเบบ', 'โชค', '%', '7', 'ทดแทน', 'ปรกติ', 'สดๆ ร้อนๆ', 'เงินสด', 'โดยเฉพาะ'])\n"
          ],
          "name": "stdout"
        }
      ]
    },
    {
      "cell_type": "code",
      "metadata": {
        "id": "te8F2STzoBex"
      },
      "source": [
        "gensim_corpus = [dictionary.doc2bow(text, allow_update=True) for text in texts]\n",
        "word_frequencies = [[(dictionary[id], frequence) for id, frequence in couple] for couple in gensim_corpus]"
      ],
      "execution_count": 91,
      "outputs": []
    },
    {
      "cell_type": "markdown",
      "metadata": {
        "id": "EV9MfYFozNb7"
      },
      "source": [
        "**Topic Modeling**"
      ]
    },
    {
      "cell_type": "code",
      "metadata": {
        "colab": {
          "base_uri": "https://localhost:8080/"
        },
        "id": "MupIco71hEs0",
        "outputId": "b13c96d5-ea0c-44fa-aebd-bb455e7fe63a"
      },
      "source": [
        "num_topics = 5\n",
        "chunksize = 100   # size of the doc looked at every pass\n",
        "passes = 20         # number of passes through documents\n",
        "iterations = 100    \n",
        "eval_every = 1     # Don't evaluate model perplexity, takes too much time.\n",
        "\n",
        "# Make a index to word dictionary.\n",
        "temp = dictionary[0]  # This is only to \"load\" the dictionary.\n",
        "id2word = dictionary.id2token\n",
        "\n",
        "%time model = gensim.models.LdaModel(corpus=gensim_corpus, id2word=id2word, chunksize=chunksize, \\\n",
        "                       alpha='auto', eta='auto', \\\n",
        "                       iterations=iterations, num_topics=num_topics, \\\n",
        "                       passes=passes, eval_every=eval_every)"
      ],
      "execution_count": 111,
      "outputs": [
        {
          "output_type": "stream",
          "text": [
            "CPU times: user 325 ms, sys: 0 ns, total: 325 ms\n",
            "Wall time: 326 ms\n"
          ],
          "name": "stdout"
        }
      ]
    },
    {
      "cell_type": "code",
      "metadata": {
        "colab": {
          "base_uri": "https://localhost:8080/",
          "height": 880
        },
        "id": "xtO5KXljisBp",
        "outputId": "9da621d9-79b2-4374-8d6b-13fa5b00362c"
      },
      "source": [
        "pyLDAvis.gensim_models.prepare(model, gensim_corpus, dictionary)"
      ],
      "execution_count": 112,
      "outputs": [
        {
          "output_type": "execute_result",
          "data": {
            "text/html": [
              "\n",
              "<link rel=\"stylesheet\" type=\"text/css\" href=\"https://cdn.jsdelivr.net/gh/bmabey/pyLDAvis@3.3.1/pyLDAvis/js/ldavis.v1.0.0.css\">\n",
              "\n",
              "\n",
              "<div id=\"ldavis_el1791404445733699361962985968\"></div>\n",
              "<script type=\"text/javascript\">\n",
              "\n",
              "var ldavis_el1791404445733699361962985968_data = {\"mdsDat\": {\"x\": [-0.010399548274401484, -0.058131700673886365, 0.0653982773064761, 0.005108430062980795, -0.0019754584211691116], \"y\": [0.06182562953166075, -0.037708737044173234, -0.02393947668929483, 0.002277797267636125, -0.002455213065828869], \"topics\": [1, 2, 3, 4, 5], \"cluster\": [1, 1, 1, 1, 1], \"Freq\": [40.02464338642002, 24.941656461890528, 20.419810234986834, 8.655333093876957, 5.958556822825665]}, \"tinfo\": {\"Term\": [\"-\", \"\\u0e23\\u0e32\\u0e04\\u0e32\", \"\\u0e1a\\u0e32\\u0e17\", \"\\u0e2a\\u0e32\\u0e02\\u0e32\", \"\\u0e2d\\u0e32\\u0e2b\\u0e32\\u0e23\", \"\\u0e19\\u0e49\\u0e33\", \"\", \"\\u0e14\\u0e35\", \"\\u0e01\\u0e34\\u0e19\", \"\\u0e0b\\u0e38\\u0e1b\", \"\\u0e2d\\u0e23\\u0e48\\u0e2d\\u0e22\", \"\\u0e0b\\u0e39\\u0e0a\\u0e34\", \"\\u0e2a\\u0e31\\u0e48\\u0e07\", \"\\u0e17\\u0e32\\u0e19\", \"\\u0e0a\\u0e32\\u0e1a\\u0e39\", \"\\u0e08\\u0e48\\u0e32\\u0e22\", \"\\u0e2a\\u0e14\", \"\\u0e04\\u0e38\\u0e49\\u0e21\", \"\\u0e02\\u0e2d\\u0e07\\u0e2b\\u0e27\\u0e32\\u0e19\", \"\\u0e01\\u0e38\\u0e49\\u0e07\", \"\\u0e23\\u0e2a\\u0e0a\\u0e32\\u0e15\\u0e34\", \"\\u0e1a\\u0e23\\u0e34\\u0e01\\u0e32\\u0e23\", \"\\u200b\", \"\\u0e1e\\u0e34\\u0e0b\\u0e0b\\u0e48\\u0e32\", \"\\u0e25\\u0e2d\\u0e07\", \"199\", \"\\u0e42\\u0e2d\\u0e40\\u0e04\", \"\\u0e14\\u0e39\", \"\\u0e40\\u0e19\\u0e37\\u0e49\\u0e2d\", \"\\u0e1e\\u0e19\\u0e31\\u0e01\\u0e07\\u0e32\\u0e19\", \"\\u200b\", \"\\u0e0a\\u0e21.\", \"\\u0e0a\\u0e38\\u0e14\", \"\\u0e42\\u0e1b\\u0e23\", \"\\u0e02\\u0e49\\u0e32\\u0e27\", \"\\u0e15\\u0e48\\u0e32\\u0e07 \\u0e46\", \"\\u0e40\\u0e01\\u0e34\\u0e19\\u0e44\\u0e1b\", \"\\u0e2d\\u0e31\\u0e19\\u0e19\\u0e35\\u0e49\", \"\\u0e1b\\u0e23\\u0e30\\u0e17\\u0e31\\u0e1a\\u0e43\\u0e08\", \"\\u0e40\\u0e1b\\u0e47\\u0e19\\u0e2b\\u0e25\\u0e31\\u0e01\", \"\\u0e2b\\u0e25\\u0e32\\u0e01\", \"\\u0e41\\u0e1a\\u0e48\\u0e07\", \"\\u0e40\\u0e0b\\u0e47\\u0e17\", \"\\u0e15\\u0e49\\u0e21\\u0e22\\u0e33\", \"\\u0e19\\u0e4d\\u0e49\\u0e32\", \"\\u0e2a\\u0e38\\u0e01\\u0e35\\u0e49\", \"\\u0e1a\\u0e38\\u0e1f\\u0e40\\u0e1f\\u0e48\\u0e15\\u0e4c\", \"\\u0e40\\u0e15\\u0e34\\u0e21\", \"\\u0e04\\u0e48\\u0e32\", \"\\u0e42\\u0e21\", \"3\", \"\\u0e0a\\u0e48\\u0e2d\\u0e07\", \"\\u0e17\\u0e2d\\u0e19\", \"\\u0e0b\\u0e35\", \"\\u0e42\\u0e17\\u0e2a\", \"\\u0e1f\\u0e39\\u0e49\\u0e14\", \"300\", \"\\u0e1f\\u0e23\\u0e35\", \"\\u0e40\\u0e07\\u0e34\\u0e19\", \"\\u0e0b\\u0e36\\u0e1b\", \"\\u0e2b\\u0e21\\u0e49\\u0e2d\", \"\\u0e17\\u0e32\\u0e19\", \"\\u0e40\\u0e25\\u0e37\\u0e2d\\u0e01\", \"4\", \"\\u0e1b\\u0e38\\u0e23\\u0e30\", \"\\u0e40\\u0e17\", \"\\u0e21\", \":\", \"\\u0e1a\\u0e23\\u0e34\\u0e01\\u0e32\\u0e23\", \"\\u0e0a\\u0e32\\u0e1a\\u0e39\", \"\\u0e2d\\u0e23\\u0e48\\u0e2d\\u0e22\", \"\\u0e0a\\u0e34\", \"\\u0e40\\u0e19\\u0e37\\u0e49\\u0e2d\", \"\\u0e1a\\u0e32\\u0e17\", \"\\u0e2d\\u0e32\\u0e2b\\u0e32\\u0e23\", \"\\u0e2b\\u0e19\\u0e49\\u0e32\", \"\\u0e19\\u0e49\\u0e33\", \"(\", \"\\u0e23\\u0e2a\", \"\\u0e40\\u0e21\\u0e19\\u0e39\", \"\\u0e23\\u0e2a\\u0e0a\\u0e32\\u0e15\\u0e34\", \"\\u0e23\\u0e32\\u0e04\\u0e32\", \"\\u0e0b\\u0e38\\u0e1b\", \"\\u0e01\\u0e34\\u0e19\", \"\\u0e14\\u0e35\", \"\\u0e01\\u0e38\\u0e49\\u0e07\", \"\\u0e2a\\u0e32\\u0e02\\u0e32\", \"\\u0e04\\u0e38\\u0e49\\u0e21\", \"\\u0e14\\u0e33\", \"\\u0e0a\\u0e2d\\u0e1a\", \"\\u0e0b\\u0e39\\u0e0a\\u0e34\", \"\\u0e44\\u0e01\\u0e48\", \"\\u0e40\\u0e19\\u0e37\\u0e49\\u0e2d\\u0e2b\\u0e21\\u0e39\", \"\\u0e40\\u0e2a\\u0e34\\u0e23\\u0e4c\\u0e1f\", \"\\u0e40\\u0e2b\\u0e47\\u0e14\", \"\\u0e2d\\u0e22\\u0e39\\u0e48\\u0e41\\u0e25\\u0e49\\u0e27\", \"\\u0e40\\u0e2b\\u0e21\\u0e32\\u0e30\\u0e2a\\u0e21\", \"\\u0e0a\\u0e37\\u0e48\\u0e2d\", \"\\u0e19\", \"\\u0e1a\\u0e32\\u0e07\\u0e2a\\u0e48\\u0e27\\u0e19\", \"\\u0e01\\u0e01\", \"\\u0e41\\u0e19\\u0e27\", \"\\u0e40\\u0e04\\u0e47\\u0e21\", \"\\u0e22\\u0e31\\u0e07\\u0e21\\u0e35\", \"::\", \"\\u0e44\\u0e14\\u0e1f\\u0e39\\u0e01\\u0e38\", \"\\u0e44\\u0e1c\\u0e48\", \"\\u0e44\\u0e21\\u0e49\", \"\\u0e08\\u0e38\\u0e01\", \"\\u0e08\\u0e1a\", \"\\u0e40\\u0e0b\\u0e15\", \"\\u0e1a\\u0e23\\u0e32\", \"\\u0e27\\u0e34\\u0e1b\", \"\\u0e40\\u0e40\\u0e1a\\u0e1a\", \"\\u0e0a\\u0e32\\u0e15\", \"128\", \"\\u0e1a\\u0e38\\u0e1e\", \"\\u0e22\", \"\\u0e42\\u0e0a\\u0e04\", \"\\u0e40\\u0e1f\\u0e48\", \"\\u0e1b\\u0e34\\u0e14\\u0e17\\u0e49\\u0e32\\u0e22\", \"\\u0e40\\u0e19\\u0e37\\u0e49\\u0e2d\\u0e27\\u0e31\\u0e27\", \"\", \"\\u0e1f\\u0e40\\u0e1f\\u0e48\", \"\\u0e04\\u0e38\\u0e49\\u0e21\\u0e04\\u0e48\\u0e32\", \"\\u0e14\\u0e35\\u0e21\\u0e32\\u0e01\", \"\\u0e19\\u0e49\\u0e33\", \"\\u0e02\\u0e2d\\u0e07\\u0e2b\\u0e27\\u0e32\\u0e19\", \"\\u0e25\\u0e2d\\u0e07\", \"\\u0e2a\\u0e31\\u0e48\\u0e07\", \"\\u0e0a\\u0e2d\\u0e1a\", \"\\u0e2d\\u0e23\\u0e48\\u0e2d\\u0e22\", \"\\u0e2b\\u0e27\\u0e32\\u0e19\", \"\\u0e0b\\u0e38\\u0e1b\", \"\\u0e19\\u0e49\\u0e33\\u0e08\\u0e34\\u0e49\\u0e21\", \"\\u0e0a\\u0e32\\u0e1a\\u0e39\", \":\", \"\\u0e23\\u0e2a\\u0e0a\\u0e32\\u0e15\\u0e34\", \"\\u0e14\\u0e35\", \"\\u0e44\\u0e2d\\u0e15\\u0e34\\u0e21\", \"\\u0e40\\u0e19\\u0e37\\u0e49\\u0e2d\", \"\\u0e23\\u0e32\\u0e04\\u0e32\", \"\\u0e40\\u0e25\\u0e37\\u0e2d\\u0e01\", \"\\u0e1a\\u0e38\", \"\\u0e1e\\u0e19\\u0e31\\u0e01\\u0e07\\u0e32\\u0e19\", \"\\u0e19\\u0e38\\u0e48\\u0e21\", \"\\u0e17\\u0e32\\u0e19\", \"\\u0e01\\u0e34\\u0e19\", \"\\u0e2d\\u0e32\\u0e2b\\u0e32\\u0e23\", \"\\u0e1c\\u0e31\\u0e01\", \"2\", \"\\u0e14\\u0e33\", \"\\u0e04\\u0e38\\u0e49\\u0e21\", \"\\u0e1a\\u0e32\\u0e17\", \"\\u0e43\\u0e0a\\u0e49\\u0e44\\u0e14\\u0e49\", \"\\u0e0a\\u0e31\\u0e48\\u0e27\\u0e42\\u0e21\\u0e07\", \"\\u0e27\\u0e32\\u0e19\\u0e34\\u0e25\\u0e32\", \"\\u0e43\\u0e08\\u0e14\\u0e35\", \"\\u0e40\\u0e0a\\u0e47\\u0e04\\u0e1a\\u0e34\\u0e25\", \"\\u0e2d\\u0e35\\u0e01\\u0e04\\u0e23\\u0e31\\u0e49\\u0e07\", \"\\u0e2b\\u0e2d\\u0e21\", \"\\u0e1b\\u0e2d\\u0e01\\u0e40\\u0e1b\\u0e25\\u0e37\\u0e2d\\u0e01\", \"\\u0e40\\u0e14\\u0e49\\u0e07\", \"\\u0e42\\u0e14\\u0e19\", \"\\u0e0a\\u0e37\\u0e48\\u0e19\", \"\\u0e40\\u0e25\\u0e34\\u0e01\", \"Shabushi\", \"\\u0e04\\u0e23\\u0e36\\u0e48\\u0e07\", \"\\u0e1a\\u0e38\\u0e1f\\u0e40\\u0e1f\\u0e15\\u0e4c\", \"-\", \"\\u0e2a\\u0e33\\u0e2b\\u0e23\\u0e31\\u0e1a\", \"\\u0e40\\u0e27\\u0e25\\u0e32\", \"\\u0e41\\u0e01\\u0e49\\u0e27\", \"\\u0e01\\u0e23\\u0e2d\", \"\\u0e02\\u0e36\\u0e49\\u0e19\\u0e23\\u0e32\\u0e04\\u0e32\", \"\\u0e16\\u0e39\\u0e01\\u0e43\\u0e08\", \"\\u0e21\\u0e37\\u0e49\\u0e2d\", \"\\u0e17\\u0e33\", \"\\u0e2b\\u0e32\\u0e44\\u0e21\\u0e48\", \"\\u0e2d\\u0e32\\u0e17\\u0e34\\u0e15\\u0e22\\u0e4c\", \"\\u0e1a\\u0e14\\u0e35\", \"/\\u0e04\\u0e19\", \"\\u0e1d\\u0e23\\u0e31\\u0e48\\u0e07\", \"\\u0e27\\u0e31\\u0e19\\u0e2b\\u0e22\\u0e38\\u0e14\", \"\\u0e23\\u0e2d\", \"\\u0e2a\\u0e14\", \"\\u0e04\\u0e34\\u0e27\", \"\\u0e15\\u0e31\\u0e27\", \"\\u0e01\\u0e25\\u0e31\\u0e1a\\u0e21\\u0e32\", \"\\u0e14\\u0e39\", \"\\u0e01\\u0e34\\u0e19\", \"\\u0e19\\u0e32\\u0e17\\u0e35\", \"\\u0e01\\u0e38\\u0e49\\u0e07\", \"\\u0e2b\\u0e49\\u0e32\\u0e07\", \"\\u0e15\\u0e34\\u0e14\", \"\\u0e42\\u0e2d\\u0e40\\u0e04\", \"\\u0e14\\u0e35\", \"1\", \"\\u0e2a\\u0e32\\u0e02\\u0e32\", \"\\u0e40\\u0e19\\u0e37\\u0e49\\u0e2d\", \"\\u0e2d\\u0e32\\u0e2b\\u0e32\\u0e23\", \"\\u0e19\\u0e38\\u0e48\\u0e21\", \"\\u0e23\\u0e32\\u0e04\\u0e32\", \"\\u0e23\\u0e2a\\u0e0a\\u0e32\\u0e15\\u0e34\", \"\\u0e19\\u0e49\\u0e33\", \"\\u0e1e\\u0e19\\u0e31\\u0e01\\u0e07\\u0e32\\u0e19\", \"\\u0e2d\\u0e23\\u0e48\\u0e2d\\u0e22\", \"\\u0e0a\\u0e32\\u0e1a\\u0e39\", \"\\u0e0a\\u0e31\\u0e49\\u0e19\", \"\\u0e21\\u0e2d\\u0e25\\u0e25\\u0e4c\", \"\\u0e17\\u0e32\\u0e19\", \"\\u0e1a\\u0e32\\u0e17\", \"\\u0e1c\\u0e31\\u0e01\", \"\\u0e01\\u0e30\\u0e1b\\u0e34\", \"\\u0e0a\\u0e34\", \"\\u0e40\\u0e25\\u0e37\\u0e2d\\u0e01\", \"\\u0e2b\\u0e34\\u0e27\", \"\\u0e25\\u0e30\\u0e25\\u0e32\\u0e19\\u0e15\\u0e32\", \"\\u0e02\\u0e2d\\u0e07\\u0e01\\u0e34\\u0e19\", \"\\u0e44\\u0e21\\u0e48\\u0e07\\u0e31\\u0e49\\u0e19\", \"\\u0e2e\\u0e48\\u0e32\", \"\\u0e40\\u0e01\\u0e35\\u0e4a\\u0e22\\u0e27\", \"..\", \"\\u0e02\\u0e32\", \"\\u0e1b\\u0e39\\u0e2d\\u0e31\\u0e14\", \"\\u0e0b\\u0e48\\u0e32\", \"\\u0e32\\u0e19\", \"\\u0e15\\u0e2d\\u0e19\\u0e41\\u0e23\\u0e01\", \"\\u0e41\\u0e27\\u0e30\", \"\\u0e41\\u0e01\\u0e07\\u0e40\\u0e02\\u0e35\\u0e22\\u0e27\\u0e2b\\u0e27\\u0e32\\u0e19\", \"\\u0e14\\u0e49\\u0e32\\u0e19\\u0e43\\u0e19\", \"\\u0e17\\u0e35\\u0e48\\u0e44\\u0e2b\\u0e19\\u0e44\\u0e14\\u0e49\", \"40\", \"\\u0e15\\u0e34\\u0e14\\u0e01\\u0e31\\u0e1a\", \"\\u0e1f\\u0e35\", \"\\u0e04\\u0e48\\u0e32\\u0e22\\u0e21\\u0e27\\u0e22\", \"\\u0e2d\\u0e25\\u0e25\\u0e4c\", \"\\u0e23\\u0e35\", \"\\u0e19\\u0e49\\u0e33\\u0e14\\u0e37\\u0e48\\u0e21\", \"39\", \"HALL\", \"\\u0e22\\u0e39\", \"\\u0e2b\\u0e25\\u0e31\\u0e07\\u0e08\\u0e32\\u0e01\\u0e17\\u0e35\\u0e48\", \"\\u0e15\\u0e31\\u0e27\\u0e40\\u0e25\\u0e37\\u0e2d\\u0e01\", \"\\u0e19\\u0e21\", \"49\", \"\\u0e1a\\u0e32\\u0e17\", \"\\u0e23\\u0e32\\u0e04\\u0e32\", \"-\", \"199\", \"\\u0e0b\\u0e38\\u0e1b\", \"\\u0e04\\u0e38\\u0e49\\u0e21\", \"\\u0e08\\u0e48\\u0e32\\u0e22\", \"\\u0e2d\\u0e32\\u0e2b\\u0e32\\u0e23\", \"\\u0e1e\\u0e34\\u0e0b\\u0e0b\\u0e48\\u0e32\", \"\\u0e19\\u0e49\\u0e33\", \"\\u0e04\\u0e19\\u0e25\\u0e30\", \"\\u0e0b\\u0e39\\u0e0a\\u0e34\", \"\\u0e2a\\u0e32\\u0e02\\u0e32\", \"\\u0e17\\u0e32\\u0e19\", \"\\u0e23\\u0e2a\\u0e0a\\u0e32\\u0e15\\u0e34\", \"\\u0e40\\u0e21\\u0e19\\u0e39\", \"\\u0e14\\u0e35\", \"\\u0e0a\\u0e32\\u0e1a\\u0e39\", \"\\u0e40\\u0e19\\u0e37\\u0e49\\u0e2d\", \"\\u0e2a\\u0e31\\u0e48\\u0e07\", \"\\u0e02\\u0e2d\\u0e07\\u0e2b\\u0e27\\u0e32\\u0e19\", \"\\u0e01\\u0e34\\u0e19\", \"\\u0e2d\\u0e23\\u0e48\\u0e2d\\u0e22\", \"\\u0e25\\u0e2d\\u0e07\", \"\\u0e01\\u0e38\\u0e49\\u0e07\", \"\\u0e2b\\u0e21\\u0e39\", \"\\u0e15\\u0e2d\\u0e19\", \"1\", \"\\u0e0a\\u0e34\", \"\\u0e2a\\u0e32\\u0e22\\u0e1e\\u0e32\\u0e19\", \"2\", \"\\u0e40\\u0e25\\u0e37\\u0e2d\\u0e01\", \"\\u0e2d\\u0e2d\\u0e23\\u0e4c\\u0e40\\u0e14\\u0e2d\\u0e23\\u0e4c\", \"\\u0e1e\\u0e32\\u0e23\\u0e32\\u0e44\\u0e14\\u0e0b\\u0e4c\", \"30\", \"\\u0e17\\u0e30\\u0e22\\u0e2d\\u0e22\", \"Terminal\", \"\\u0e40\\u0e1b\\u0e47\\u0e19\\u0e01\\u0e31\\u0e19\\u0e40\\u0e2d\\u0e07\", \"\\u0e40\\u0e04\\u0e23\\u0e37\\u0e48\\u0e2d\\u0e07\\u0e14\\u0e37\\u0e48\\u0e21\", \"\\u0e21\\u0e35\\u0e42\\u0e2d\", \"\\u0e01\\u0e32\\u0e23\\u0e07\\u0e14\", \"9\", \"\\u0e17\\u0e33\\u0e07\\u0e32\\u0e19\", \"\\u0e2a\\u0e39\\u0e49\", \"\\u0e2a\\u0e21\\u0e32\\u0e17\\u0e32\\u0e19\", \"21\", \"\\u0e1e\\u0e19\\u0e31\\u0e01\\u0e07\\u0e32\\u0e19\\u0e1a\\u0e23\\u0e34\\u0e01\\u0e32\\u0e23\", \"\\u0e17\\u0e35\\u0e48\\u0e17\\u0e32\\u0e07\", \"\\u0e1e\\u0e23\\u0e35\\u0e40\\u0e21\\u0e35\\u0e22\\u0e21\", \"\\u0e10\\u0e32\\u0e19\", \"\\u0e41\\u0e08\\u0e49\\u0e07\", \"\\u0e40\\u0e2b\\u0e27\\u0e35\\u0e48\\u0e22\\u0e07\", \"\\u0e1e\\u0e23\\u0e30\\u0e23\\u0e32\\u0e21\", \"\\u0e04\\u0e34\\u0e14\\u0e16\\u0e36\\u0e07\", \"\\u0e21\\u0e32\\u0e15\\u0e23\\u0e32\", \"\\u0e40\\u0e08\\u0e2d\", \"           \", \"\\u0e42\\u0e14\\u0e22\\u0e40\\u0e09\\u0e1e\\u0e32\\u0e30\", \"\\u0e40\\u0e07\\u0e34\\u0e19\\u0e2a\\u0e14\", \"\\u0e1b\\u0e23\\u0e01\\u0e15\\u0e34\", \"\\u0e17\\u0e14\\u0e41\\u0e17\\u0e19\", \"\\u0e2a\\u0e14\\u0e46 \\u0e23\\u0e49\\u0e2d\\u0e19\\u0e46\", \"\", \"\\u0e42\\u0e2d\\u0e40\\u0e04\", \"\\u0e2a\\u0e32\\u0e02\\u0e32\", \"\\u0e08\\u0e48\\u0e32\\u0e22\", \"\\u0e23\\u0e32\\u0e04\\u0e32\", \"\\u0e14\\u0e35\", \"\\u0e2d\\u0e32\\u0e2b\\u0e32\\u0e23\", \"\\u0e0b\\u0e39\\u0e0a\\u0e34\", \"\\u0e2a\\u0e31\\u0e48\\u0e07\", \"\\u0e2d\\u0e23\\u0e48\\u0e2d\\u0e22\", \"\\u0e19\\u0e49\\u0e33\", \"\\u0e1a\\u0e23\\u0e34\\u0e01\\u0e32\\u0e23\", \"\\u0e01\\u0e34\\u0e19\", \"\\u0e0a\\u0e32\\u0e1a\\u0e39\", \"\\u0e1a\\u0e32\\u0e17\", \"\\u0e02\\u0e2d\\u0e07\\u0e2b\\u0e27\\u0e32\\u0e19\", \"\\u0e1e\\u0e19\\u0e31\\u0e01\\u0e07\\u0e32\\u0e19\", \"\\u0e1e\\u0e34\\u0e0b\\u0e0b\\u0e48\\u0e32\", \"\\u0e25\\u0e2d\\u0e07\", \"\\u0e40\\u0e19\\u0e37\\u0e49\\u0e2d\", \"\\u0e17\\u0e32\\u0e19\", \"\\u0e04\\u0e38\\u0e13\\u0e20\\u0e32\\u0e1e\", \"\\u0e23\\u0e2a\\u0e0a\\u0e32\\u0e15\\u0e34\", \"199\", \"\\u0e14\\u0e39\", \"\\u0e0b\\u0e38\\u0e1b\", \"\\u0e15\\u0e2d\\u0e19\", \"7\", \"%\", \"\\u0e2b\\u0e19\\u0e49\\u0e32\", \"\\u0e0d\\u0e35\\u0e48\\u0e1b\\u0e38\\u0e48\\u0e19\", \"\\u0e04\\u0e38\\u0e49\\u0e21\", \"\\u0e40\\u0e25\\u0e37\\u0e2d\\u0e01\", \"\\u0e01\\u0e38\\u0e49\\u0e07\"], \"Freq\": [10.0, 17.0, 13.0, 12.0, 17.0, 25.0, 7.0, 19.0, 20.0, 15.0, 20.0, 7.0, 9.0, 22.0, 19.0, 4.0, 8.0, 9.0, 8.0, 11.0, 14.0, 7.0, 8.0, 4.0, 6.0, 3.0, 3.0, 5.0, 18.0, 7.0, 7.90509718965701, 2.112069217388798, 2.1322380308745577, 1.4625865073098412, 1.462596106121887, 1.4626166186517384, 1.462755341209387, 1.4655683191011166, 1.4701334089176488, 1.4810679022341755, 1.4849000635802498, 1.4850650842530926, 1.48712146537069, 1.48972103405762, 1.490078030971379, 1.4943221522919679, 4.996379957638841, 1.5005584873290807, 1.5108456525401064, 3.7316652027096353, 3.09232751652908, 0.8028465461258919, 0.8028520687300826, 0.8028525946923866, 0.8028525946923866, 0.8028543040698741, 0.802855158758618, 0.8028554217397699, 0.8028554217397699, 0.8028554874850579, 3.0380642486188654, 13.237281461944578, 9.85130761327202, 2.3784688613231952, 3.992619558911956, 3.992813113039784, 3.994589813702293, 6.845775448053932, 4.153541407520368, 8.819531043485476, 8.903530905151344, 4.160431250720053, 8.077691193713141, 6.475370177282112, 7.775016192661248, 3.352594177019077, 9.658207916874494, 3.1482052257310564, 3.1161538718760258, 3.477304572929914, 5.878053723407798, 6.603156926708347, 5.777348247046073, 7.154952921068703, 6.779133394340735, 4.54472981574888, 4.507912454477235, 4.031828207798195, 3.250804166386751, 3.3800554578481417, 3.199546510062062, 2.8545053055245013, 1.7689077349485314, 1.7832031995743711, 1.7904292658942051, 1.2143170595611301, 1.214711925229875, 1.2171193849130866, 1.2177559716282722, 1.2192369432192447, 1.2215601692632219, 1.2216954511098908, 1.2295009924264804, 1.2307315574012079, 1.237939351248718, 1.2382569481219396, 1.2385798710521168, 1.2394147509647215, 0.6556301957086127, 0.6556306873446394, 0.6556319983740437, 0.6556338010394748, 0.655635194008217, 0.655635931462257, 0.655636668916297, 0.6556370376433169, 0.655637406370337, 0.6556384306120592, 0.6556387993390792, 0.6556391680660991, 0.6556394138841125, 2.5428688636113175, 3.9809135826734354, 1.937620503672998, 1.9573934491505214, 2.6064136394503725, 8.894541991742091, 3.727340174902059, 2.9372233947672313, 3.7783631450207844, 3.2687591326167893, 6.751951545650578, 2.06025648846428, 5.220217223896132, 2.6666764170541275, 5.66205150432664, 4.032403934774838, 4.281694209481961, 5.02471946892458, 2.907130353575433, 4.542462546624817, 4.367580401280482, 3.9372582700502217, 2.0165529955104535, 2.4885237449817814, 2.329863949730438, 4.141124981224914, 3.7936310657073555, 3.2803463382504403, 2.3569073726488705, 2.301577179300585, 2.1314488265766913, 2.267097761478935, 2.2192043824272454, 1.563422074600441, 1.5881219956719055, 1.0796243098855056, 1.0796568456186237, 1.0801402528203732, 1.080243964662436, 1.080480972384304, 1.0804950600213243, 1.0805472513622847, 1.0809876577291297, 1.0810163696750568, 1.0999465312949426, 1.1019014928094284, 1.1020723557212875, 1.108875476890289, 5.942221645659294, 2.2478128978378655, 2.717566361787456, 0.5922966529212143, 0.5923040321596534, 0.5923495151020328, 0.5923641394109395, 0.5924721446280942, 0.592496630282915, 0.5925764602260294, 0.592601348384765, 0.5926098009669771, 0.5926154360217851, 0.5926249619477703, 0.5926264377954581, 2.7426928028407027, 4.413137448371694, 2.251591336254649, 1.7350526955930747, 1.7383997839810974, 2.474146752555653, 7.577106680327866, 1.2373881343392488, 4.27171957623645, 1.8256955038762777, 1.2505077494441834, 1.3393484135325766, 4.994724210042268, 2.0400072374969884, 3.321454255364887, 3.6401759070047772, 3.421410467566116, 2.103268106956028, 3.0181227434136697, 2.4815241126431915, 2.95544134542406, 1.7839155975135774, 2.4028171554513134, 2.342534412458339, 1.4343090154784783, 1.4327238208937791, 2.360370165933715, 2.0018800541616626, 1.6653347241638432, 1.518461984806414, 1.6813024569703432, 1.7132734770958222, 0.6319125638606329, 0.3415011844467179, 0.3415016962740191, 0.3415025777543712, 0.34150399949687466, 0.34150539280452796, 0.3415065301985307, 0.3415084922031854, 0.3415105679472404, 0.34151287117009593, 0.3415218565827175, 0.3476915366111232, 0.34771752606408557, 0.3479402846795201, 0.34797776181191004, 0.34813111095832805, 0.3482569920395801, 0.3482681100659568, 0.34827274494651794, 0.34831855348997787, 0.3485459469859736, 0.34856940573727985, 0.3485949686674912, 0.3486404359927503, 0.3487097317223666, 0.3487899464344091, 0.34879679923327556, 0.3489233058812291, 0.3489840142861248, 0.34914984633172275, 2.222805004915779, 2.2775673414439948, 1.5654058299813844, 0.8246197511308823, 1.9219440455805874, 1.4478397813256552, 0.8780148831981173, 1.9759113437008955, 0.9211052824703235, 2.240175513604264, 0.8638360158206915, 1.0962684515969716, 1.3845701926146239, 1.8953276610439147, 1.432605981010698, 0.9463568510734209, 1.5513490049804517, 1.35216936339827, 1.3022254828232172, 0.9040978868172099, 0.8766326082666002, 1.1779137778161, 1.1214826568070793, 0.7318814780728334, 0.8674603218103889, 0.6606644625071303, 0.5112706037336222, 0.6448521836023848, 0.7041261640515276, 0.6468840242488607, 0.6681404395476708, 0.7226164371356997, 0.2564391398196064, 0.25643921812077314, 0.2564393159972315, 0.2564398053795235, 0.2564401577347737, 0.25644164545694115, 0.25644238931802493, 0.25644262422152503, 0.2564435051096505, 0.2564435442602339, 0.2564435442602339, 0.25644379873902573, 0.25644383788960906, 0.25644393576606744, 0.2564439944919425, 0.2564440923684009, 0.256444268546026, 0.25644485580477633, 0.25644563881644344, 0.2564457366929018, 0.2564468524845274, 0.2564469895115692, 0.25644710696331924, 0.2564494168477372, 0.25645119819927986, 0.2621423423240234, 0.26300807917376046, 0.26379653277195403, 0.26399669012935834, 0.26531483154505825, 1.1578441285225718, 0.5806518153350924, 1.2398614686053815, 0.6570405151994855, 1.3066993445096513, 1.3650572823603169, 1.2825158725687122, 0.8205624010243164, 0.8775843643685638, 1.2412751961703434, 1.2802616602802774, 0.7264629560145426, 1.083886405830463, 1.015350099319071, 0.8667590714684734, 0.6569175823677497, 0.573373173781164, 0.48963305142838504, 0.5482098410400071, 0.777828599677941, 0.8230954437674082, 0.49978193969984486, 0.6756595930292939, 0.4174026916244981, 0.4723297464039835, 0.6430083980167576, 0.3824306500306561, 0.2656134134690179, 0.26602514057887455, 0.47047639693852417, 0.42087123755686623, 0.4870203372481651, 0.5426118557283577, 0.4513330144964207], \"Total\": [10.0, 17.0, 13.0, 12.0, 17.0, 25.0, 7.0, 19.0, 20.0, 15.0, 20.0, 7.0, 9.0, 22.0, 19.0, 4.0, 8.0, 9.0, 8.0, 11.0, 14.0, 7.0, 8.0, 4.0, 6.0, 3.0, 3.0, 5.0, 18.0, 7.0, 8.797395093423876, 2.6471502213953464, 2.713896183153688, 1.944647417886517, 1.9446792927207908, 1.9447472924724936, 1.945205499528579, 1.9545052326284362, 1.969607026334832, 2.005857728799899, 2.0186036238122194, 2.019153726979471, 2.026007230409289, 2.0345137662686223, 2.0358948427016785, 2.0501118441121435, 6.8634394535592795, 2.07072915514099, 2.1053303453513346, 5.310925640994456, 4.641498899787585, 1.2083149184654431, 1.208333232870501, 1.2083349122489477, 1.208335092414616, 1.208340530480515, 1.2083435326786813, 1.208344264295548, 1.208344264295548, 1.208344555973195, 4.762681457798724, 22.45719971391453, 16.76706765328212, 3.7922897765479884, 6.699292640299506, 6.699882566505352, 6.706521036547347, 12.64751129135118, 7.4130244777795475, 19.1916364229878, 20.421057459230656, 7.714872481813342, 18.340383729843897, 13.786018690255272, 17.73520021474741, 5.9625569265344085, 25.028628427925184, 5.549876367665754, 5.536288057650248, 6.706219617710374, 14.749537619572942, 17.573126757356146, 15.045737059064543, 20.787490850750487, 19.714983360648354, 11.289120594855282, 12.089294115029714, 9.818697980633857, 6.476141954034065, 7.9417256971541335, 7.629109948662943, 3.7604744302954045, 2.4835300744952518, 2.542053739422056, 2.5791443378317447, 1.795756931946861, 1.797355778030805, 1.8070962596018565, 1.8097543856681366, 1.815716816872449, 1.8258489427309368, 1.8264071769639505, 1.857913585763622, 1.8629096437143275, 1.89587284083474, 1.8972961962104458, 1.898752028509061, 1.9025406272163865, 1.0934732022321796, 1.0934752681417677, 1.0934804062421886, 1.093487825840465, 1.093493529699983, 1.0934966985940355, 1.0934992862652704, 1.093500858468724, 1.0935022498327616, 1.0935066723412725, 1.0935081293031979, 1.0935096142439442, 1.0935106130513121, 4.256647559968075, 7.569199472022858, 3.7885938934651766, 3.870430005496249, 5.562386208193755, 25.028628427925184, 8.836729707629983, 6.74147608873288, 9.415037347836908, 7.9417256971541335, 20.421057459230656, 4.583345387705232, 15.045737059064543, 6.438382622528212, 19.1916364229878, 12.64751129135118, 14.749537619572942, 19.714983360648354, 7.870817813307648, 18.340383729843897, 17.573126757356146, 16.76706765328212, 4.733446919513412, 7.138742953634415, 6.763548994172243, 22.45719971391453, 20.787490850750487, 17.73520021474741, 7.034460417033849, 6.796638685556009, 6.476141954034065, 9.818697980633857, 13.786018690255272, 2.185511521567629, 2.296598953029393, 1.6241518600175384, 1.6242977413626436, 1.6264667954261083, 1.626932570178827, 1.627995856770419, 1.6280592793136492, 1.6282931661451185, 1.6302698565240503, 1.6303994500498047, 1.715573525702621, 1.7243892392986921, 1.725169013096807, 1.7560342778334839, 10.018003077510357, 3.9113073681231847, 4.769639686880274, 1.0470292608143172, 1.047062500112433, 1.047266592634374, 1.0473325117137806, 1.0478172864442192, 1.0479271899721503, 1.0482855079597901, 1.0483971095172913, 1.0484350978906727, 1.0484605675508267, 1.0485034121439003, 1.0485096877193287, 4.882874520913376, 8.059033442636474, 4.288319600777868, 3.5798016441800424, 3.595209338726238, 5.485458129944091, 20.787490850750487, 2.5304872541556045, 11.289120594855282, 4.6103340792726275, 2.900654827568657, 3.1875685149116344, 19.714983360648354, 5.838268999428963, 12.089294115029714, 18.340383729843897, 17.73520021474741, 6.763548994172243, 17.573126757356146, 14.749537619572942, 25.028628427925184, 7.138742953634415, 20.421057459230656, 19.1916364229878, 4.105424830302681, 4.097217467415151, 22.45719971391453, 13.786018690255272, 7.034460417033849, 5.1072268908381, 7.714872481813342, 16.76706765328212, 1.3011822050275472, 0.8484287722757698, 0.8484325509619746, 0.8484393802445113, 0.8484506304224496, 0.8484615202892071, 0.8484702171899782, 0.8484854593651959, 0.8485017928377283, 0.8485196662014849, 0.8485895242223999, 0.8967634797041365, 0.896967623599517, 0.8987190704435015, 0.899014143782556, 0.900221061328063, 0.9012123496366922, 0.9013000592546861, 0.9013368931890882, 0.9016975013932448, 0.9034908022470466, 0.9036760433777077, 0.9038778849841285, 0.9042366703779419, 0.9047835942509506, 0.905417553033135, 0.9054719755249149, 0.9064724540660494, 0.9069526004820155, 0.9082666868717655, 13.786018690255272, 17.573126757356146, 10.018003077510357, 3.6132294057378536, 15.045737059064543, 9.818697980633857, 4.224615785086391, 17.73520021474741, 4.871725910962039, 25.028628427925184, 4.864722278336035, 7.629109948662943, 12.089294115029714, 22.45719971391453, 14.749537619572942, 6.706219617710374, 19.714983360648354, 19.1916364229878, 18.340383729843897, 9.415037347836908, 8.836729707629983, 20.787490850750487, 20.421057459230656, 6.74147608873288, 11.289120594855282, 5.43442227429224, 2.818891645176722, 5.838268999428963, 7.714872481813342, 6.018222895816015, 6.796638685556009, 16.76706765328212, 0.7820220301838304, 0.7820228677608168, 0.7820239683620152, 0.7820288337064429, 0.7820323362919883, 0.7820481185446349, 0.7820556048351843, 0.7820580765807632, 0.7820671935389578, 0.7820674349233339, 0.7820674349233339, 0.7820702555769805, 0.7820706728353737, 0.7820715553896052, 0.78207222790986, 0.7820732134379067, 0.7820752248047664, 0.7820810837007612, 0.7820893481783381, 0.782090223623857, 0.7821016910605743, 0.7821032597670873, 0.7821045148479253, 0.7821285028347562, 0.7821468981213422, 0.8415877873714865, 0.8507625086020115, 0.859179257251945, 0.861328547374591, 0.8756327764172038, 7.569199472022858, 3.1875685149116344, 12.089294115029714, 4.224615785086391, 17.573126757356146, 19.714983360648354, 17.73520021474741, 7.629109948662943, 9.415037347836908, 20.421057459230656, 25.028628427925184, 7.4130244777795475, 20.787490850750487, 19.1916364229878, 13.786018690255272, 8.836729707629983, 7.138742953634415, 4.871725910962039, 6.74147608873288, 18.340383729843897, 22.45719971391453, 5.520467100397207, 14.749537619572942, 3.6132294057378536, 5.485458129944091, 15.045737059064543, 2.818891645176722, 0.8789266159469171, 0.8835074117191231, 5.9625569265344085, 4.129512324561189, 9.818697980633857, 16.76706765328212, 11.289120594855282], \"Category\": [\"Default\", \"Default\", \"Default\", \"Default\", \"Default\", \"Default\", \"Default\", \"Default\", \"Default\", \"Default\", \"Default\", \"Default\", \"Default\", \"Default\", \"Default\", \"Default\", \"Default\", \"Default\", \"Default\", \"Default\", \"Default\", \"Default\", \"Default\", \"Default\", \"Default\", \"Default\", \"Default\", \"Default\", \"Default\", \"Default\", \"Topic1\", \"Topic1\", \"Topic1\", \"Topic1\", \"Topic1\", \"Topic1\", \"Topic1\", \"Topic1\", \"Topic1\", \"Topic1\", \"Topic1\", \"Topic1\", \"Topic1\", \"Topic1\", \"Topic1\", \"Topic1\", \"Topic1\", \"Topic1\", \"Topic1\", \"Topic1\", \"Topic1\", \"Topic1\", \"Topic1\", \"Topic1\", \"Topic1\", \"Topic1\", \"Topic1\", \"Topic1\", \"Topic1\", \"Topic1\", \"Topic1\", \"Topic1\", \"Topic1\", \"Topic1\", \"Topic1\", \"Topic1\", \"Topic1\", \"Topic1\", \"Topic1\", \"Topic1\", \"Topic1\", \"Topic1\", \"Topic1\", \"Topic1\", \"Topic1\", \"Topic1\", \"Topic1\", \"Topic1\", \"Topic1\", \"Topic1\", \"Topic1\", \"Topic1\", \"Topic1\", \"Topic1\", \"Topic1\", \"Topic1\", \"Topic1\", \"Topic1\", \"Topic1\", \"Topic1\", \"Topic1\", \"Topic2\", \"Topic2\", \"Topic2\", \"Topic2\", \"Topic2\", \"Topic2\", \"Topic2\", \"Topic2\", \"Topic2\", \"Topic2\", \"Topic2\", \"Topic2\", \"Topic2\", \"Topic2\", \"Topic2\", \"Topic2\", \"Topic2\", \"Topic2\", \"Topic2\", \"Topic2\", \"Topic2\", \"Topic2\", \"Topic2\", \"Topic2\", \"Topic2\", \"Topic2\", \"Topic2\", \"Topic2\", \"Topic2\", \"Topic2\", \"Topic2\", \"Topic2\", \"Topic2\", \"Topic2\", \"Topic2\", \"Topic2\", \"Topic2\", \"Topic2\", \"Topic2\", \"Topic2\", \"Topic2\", \"Topic2\", \"Topic2\", \"Topic2\", \"Topic2\", \"Topic2\", \"Topic2\", \"Topic2\", \"Topic2\", \"Topic2\", \"Topic2\", \"Topic2\", \"Topic2\", \"Topic2\", \"Topic2\", \"Topic2\", \"Topic2\", \"Topic2\", \"Topic2\", \"Topic2\", \"Topic2\", \"Topic2\", \"Topic2\", \"Topic3\", \"Topic3\", \"Topic3\", \"Topic3\", \"Topic3\", \"Topic3\", \"Topic3\", \"Topic3\", \"Topic3\", \"Topic3\", \"Topic3\", \"Topic3\", \"Topic3\", \"Topic3\", \"Topic3\", \"Topic3\", \"Topic3\", \"Topic3\", \"Topic3\", \"Topic3\", \"Topic3\", \"Topic3\", \"Topic3\", \"Topic3\", \"Topic3\", \"Topic3\", \"Topic3\", \"Topic3\", \"Topic3\", \"Topic3\", \"Topic3\", \"Topic3\", \"Topic3\", \"Topic3\", \"Topic3\", \"Topic3\", \"Topic3\", \"Topic3\", \"Topic3\", \"Topic3\", \"Topic3\", \"Topic3\", \"Topic3\", \"Topic3\", \"Topic3\", \"Topic3\", \"Topic3\", \"Topic3\", \"Topic3\", \"Topic3\", \"Topic3\", \"Topic3\", \"Topic3\", \"Topic3\", \"Topic3\", \"Topic3\", \"Topic3\", \"Topic3\", \"Topic3\", \"Topic3\", \"Topic3\", \"Topic3\", \"Topic4\", \"Topic4\", \"Topic4\", \"Topic4\", \"Topic4\", \"Topic4\", \"Topic4\", \"Topic4\", \"Topic4\", \"Topic4\", \"Topic4\", \"Topic4\", \"Topic4\", \"Topic4\", \"Topic4\", \"Topic4\", \"Topic4\", \"Topic4\", \"Topic4\", \"Topic4\", \"Topic4\", \"Topic4\", \"Topic4\", \"Topic4\", \"Topic4\", \"Topic4\", \"Topic4\", \"Topic4\", \"Topic4\", \"Topic4\", \"Topic4\", \"Topic4\", \"Topic4\", \"Topic4\", \"Topic4\", \"Topic4\", \"Topic4\", \"Topic4\", \"Topic4\", \"Topic4\", \"Topic4\", \"Topic4\", \"Topic4\", \"Topic4\", \"Topic4\", \"Topic4\", \"Topic4\", \"Topic4\", \"Topic4\", \"Topic4\", \"Topic4\", \"Topic4\", \"Topic4\", \"Topic4\", \"Topic4\", \"Topic4\", \"Topic4\", \"Topic4\", \"Topic4\", \"Topic4\", \"Topic4\", \"Topic4\", \"Topic5\", \"Topic5\", \"Topic5\", \"Topic5\", \"Topic5\", \"Topic5\", \"Topic5\", \"Topic5\", \"Topic5\", \"Topic5\", \"Topic5\", \"Topic5\", \"Topic5\", \"Topic5\", \"Topic5\", \"Topic5\", \"Topic5\", \"Topic5\", \"Topic5\", \"Topic5\", \"Topic5\", \"Topic5\", \"Topic5\", \"Topic5\", \"Topic5\", \"Topic5\", \"Topic5\", \"Topic5\", \"Topic5\", \"Topic5\", \"Topic5\", \"Topic5\", \"Topic5\", \"Topic5\", \"Topic5\", \"Topic5\", \"Topic5\", \"Topic5\", \"Topic5\", \"Topic5\", \"Topic5\", \"Topic5\", \"Topic5\", \"Topic5\", \"Topic5\", \"Topic5\", \"Topic5\", \"Topic5\", \"Topic5\", \"Topic5\", \"Topic5\", \"Topic5\", \"Topic5\", \"Topic5\", \"Topic5\", \"Topic5\", \"Topic5\", \"Topic5\", \"Topic5\", \"Topic5\", \"Topic5\", \"Topic5\", \"Topic5\", \"Topic5\"], \"logprob\": [30.0, 29.0, 28.0, 27.0, 26.0, 25.0, 24.0, 23.0, 22.0, 21.0, 20.0, 19.0, 18.0, 17.0, 16.0, 15.0, 14.0, 13.0, 12.0, 11.0, 10.0, 9.0, 8.0, 7.0, 6.0, 5.0, 4.0, 3.0, 2.0, 1.0, -4.2689, -5.5887, -5.5792, -5.9562, -5.9562, -5.9562, -5.9561, -5.9541, -5.951, -5.9436, -5.941, -5.9409, -5.9395, -5.9378, -5.9376, -5.9347, -4.7277, -5.9305, -5.9237, -5.0195, -5.2075, -6.556, -6.556, -6.556, -6.556, -6.556, -6.556, -6.556, -6.556, -6.556, -5.2252, -3.7533, -4.0488, -5.4699, -4.9519, -4.9519, -4.9514, -4.4127, -4.9124, -4.1594, -4.1499, -4.9108, -4.2473, -4.4684, -4.2855, -5.1266, -4.0686, -5.1895, -5.1998, -5.0901, -4.5652, -4.4488, -4.5824, -4.3686, -4.4225, -4.8224, -4.8305, -4.9422, -5.1575, -5.1185, -5.1734, -4.8145, -5.2931, -5.285, -5.281, -5.6692, -5.6689, -5.6669, -5.6664, -5.6652, -5.6633, -5.6632, -5.6568, -5.6558, -5.65, -5.6497, -5.6495, -5.6488, -6.2856, -6.2856, -6.2856, -6.2856, -6.2856, -6.2856, -6.2856, -6.2856, -6.2856, -6.2856, -6.2856, -6.2856, -6.2856, -4.9301, -4.4819, -5.202, -5.1918, -4.9054, -3.678, -4.5477, -4.786, -4.5341, -4.679, -3.9536, -5.1406, -4.2109, -4.8826, -4.1296, -4.4691, -4.4091, -4.2491, -4.7963, -4.35, -4.3892, -4.4929, -5.162, -4.9517, -5.0176, -4.4425, -4.5301, -4.6755, -5.0061, -5.0298, -5.1066, -5.0449, -5.0663, -5.2165, -5.2008, -5.5868, -5.5867, -5.5863, -5.5862, -5.586, -5.586, -5.5859, -5.5855, -5.5855, -5.5681, -5.5664, -5.5662, -5.56, -3.8813, -4.8534, -4.6637, -6.1871, -6.1871, -6.187, -6.187, -6.1868, -6.1868, -6.1867, -6.1866, -6.1866, -6.1866, -6.1866, -6.1866, -4.6544, -4.1788, -4.8518, -5.1124, -5.1104, -4.7575, -3.6383, -5.4504, -4.2114, -5.0614, -5.4398, -5.3712, -4.055, -4.9504, -4.463, -4.3714, -4.4333, -4.9199, -4.5588, -4.7545, -4.5797, -5.0846, -4.7867, -4.8122, -5.3027, -5.3038, -4.8046, -4.9693, -5.1534, -5.2457, -5.1438, -5.125, -5.2641, -5.8795, -5.8795, -5.8795, -5.8795, -5.8795, -5.8794, -5.8794, -5.8794, -5.8794, -5.8794, -5.8615, -5.8614, -5.8608, -5.8607, -5.8602, -5.8599, -5.8598, -5.8598, -5.8597, -5.859, -5.859, -5.8589, -5.8588, -5.8586, -5.8583, -5.8583, -5.858, -5.8578, -5.8573, -4.0063, -3.982, -4.3569, -4.9979, -4.1517, -4.435, -4.9352, -4.124, -4.8872, -3.9985, -4.9514, -4.7131, -4.4797, -4.1657, -4.4456, -4.8602, -4.3659, -4.5033, -4.541, -4.9059, -4.9367, -4.6413, -4.6904, -5.1172, -4.9472, -5.2196, -5.4759, -5.2438, -5.1559, -5.2406, -5.2083, -5.1299, -5.7926, -5.7926, -5.7926, -5.7926, -5.7926, -5.7926, -5.7926, -5.7926, -5.7926, -5.7926, -5.7926, -5.7926, -5.7926, -5.7926, -5.7926, -5.7926, -5.7926, -5.7926, -5.7926, -5.7926, -5.7925, -5.7925, -5.7925, -5.7925, -5.7925, -5.7706, -5.7673, -5.7643, -5.7635, -5.7586, -4.2852, -4.9753, -4.2167, -4.8517, -4.1642, -4.1205, -4.1829, -4.6295, -4.5623, -4.2156, -4.1846, -4.7513, -4.3512, -4.4165, -4.5747, -4.8519, -4.9879, -5.1458, -5.0328, -4.683, -4.6264, -5.1253, -4.8238, -5.3054, -5.1818, -4.8733, -5.3929, -5.7574, -5.7559, -5.1857, -5.2971, -5.1512, -5.0431, -5.2273], \"loglift\": [30.0, 29.0, 28.0, 27.0, 26.0, 25.0, 24.0, 23.0, 22.0, 21.0, 20.0, 19.0, 18.0, 17.0, 16.0, 15.0, 14.0, 13.0, 12.0, 11.0, 10.0, 9.0, 8.0, 7.0, 6.0, 5.0, 4.0, 3.0, 2.0, 1.0, 0.8087, 0.6899, 0.6745, 0.6308, 0.6308, 0.6308, 0.6306, 0.6278, 0.6232, 0.6124, 0.6086, 0.6085, 0.6065, 0.604, 0.6036, 0.5995, 0.5982, 0.5936, 0.5839, 0.5628, 0.5096, 0.5069, 0.5068, 0.5068, 0.5068, 0.5068, 0.5068, 0.5068, 0.5068, 0.5068, 0.4661, 0.3871, 0.3839, 0.4492, 0.3981, 0.3981, 0.3975, 0.3018, 0.3364, 0.1382, 0.0856, 0.2981, 0.0957, 0.16, 0.091, 0.3399, -0.0365, 0.3487, 0.341, 0.2589, -0.0043, -0.0631, -0.0415, -0.1509, -0.1519, 0.0058, -0.0708, 0.0256, 0.2265, 0.0614, 0.0467, 1.113, 1.0493, 1.0341, 1.0236, 0.9974, 0.9968, 0.9934, 0.9924, 0.9904, 0.9867, 0.9865, 0.9758, 0.9741, 0.9624, 0.9619, 0.9614, 0.9601, 0.8771, 0.8771, 0.8771, 0.8771, 0.8771, 0.8771, 0.8771, 0.8771, 0.8771, 0.8771, 0.8771, 0.8771, 0.8771, 0.8734, 0.7461, 0.7181, 0.7069, 0.6306, 0.354, 0.5254, 0.5578, 0.4756, 0.5009, 0.2819, 0.589, 0.3301, 0.5072, 0.1679, 0.2455, 0.1518, 0.0216, 0.3926, -0.007, -0.0035, -0.0603, 0.5354, 0.3348, 0.3229, -0.302, -0.3124, -0.299, 0.2952, 0.3058, 0.2773, -0.0772, -0.4379, 1.2537, 1.2198, 1.1803, 1.1802, 1.1793, 1.1792, 1.1787, 1.1787, 1.1786, 1.1778, 1.1777, 1.1442, 1.1408, 1.1405, 1.129, 1.0664, 1.0348, 1.0261, 1.019, 1.0189, 1.0188, 1.0188, 1.0185, 1.0184, 1.0182, 1.0182, 1.0181, 1.0181, 1.0181, 1.0181, 1.0119, 0.9865, 0.9444, 0.8644, 0.862, 0.7925, 0.5794, 0.8733, 0.6168, 0.6623, 0.7473, 0.7216, 0.2157, 0.5372, 0.2967, -0.0284, -0.0568, 0.4206, -0.1731, -0.1937, -0.5477, 0.2019, -0.5513, -0.5146, 0.537, 0.5379, -0.6641, -0.3409, 0.1479, 0.3757, 0.0651, -0.6923, 1.7247, 1.537, 1.537, 1.537, 1.5369, 1.5369, 1.5369, 1.5369, 1.5369, 1.5369, 1.5368, 1.4995, 1.4994, 1.4981, 1.4978, 1.4969, 1.4962, 1.4961, 1.4961, 1.4958, 1.4945, 1.4944, 1.4942, 1.4939, 1.4935, 1.4931, 1.493, 1.4923, 1.4919, 1.491, 0.6221, 0.4037, 0.5908, 0.9696, 0.3892, 0.5328, 0.876, 0.2525, 0.7814, 0.0335, 0.7186, 0.5069, 0.2801, -0.0252, 0.1153, 0.4888, -0.0953, -0.2058, -0.198, 0.1039, 0.1364, -0.4236, -0.4549, 0.2266, -0.119, 0.3397, 0.7398, 0.2438, 0.053, 0.2166, 0.1273, -0.6973, 1.7054, 1.7053, 1.7053, 1.7053, 1.7053, 1.7053, 1.7053, 1.7053, 1.7053, 1.7053, 1.7053, 1.7053, 1.7053, 1.7053, 1.7053, 1.7053, 1.7053, 1.7053, 1.7053, 1.7053, 1.7053, 1.7053, 1.7053, 1.7053, 1.7052, 1.6539, 1.6464, 1.6395, 1.6378, 1.6263, 0.9428, 1.1175, 0.543, 0.9594, 0.2215, 0.1502, 0.1936, 0.5906, 0.4475, 0.0199, -0.1526, 0.4975, -0.1335, -0.1189, 0.0537, 0.2212, 0.2986, 0.5228, 0.311, -0.34, -0.486, 0.4183, -0.2629, 0.662, 0.3682, -0.3324, 0.8228, 1.6237, 1.62, 0.2808, 0.5368, -0.1834, -0.6104, -0.399]}, \"token.table\": {\"Topic\": [1, 2, 3, 5, 1, 2, 3, 1, 2, 3, 4, 3, 1, 2, 3, 4, 2, 1, 2, 3, 4, 1, 2, 3, 4, 1, 1, 1, 1, 2, 3, 4, 2, 3, 2, 3, 1, 3, 1, 2, 3, 4, 1, 2, 3, 4, 5, 1, 2, 3, 4, 1, 2, 3, 4, 5, 3, 1, 1, 2, 3, 4, 3, 1, 3, 1, 2, 3, 1, 2, 3, 4, 1, 2, 1, 2, 2, 1, 2, 3, 4, 5, 1, 1, 2, 3, 3, 1, 2, 3, 4, 2, 1, 2, 3, 4, 5, 1, 2, 3, 4, 3, 2, 1, 1, 1, 1, 1, 2, 3, 4, 5, 1, 2, 3, 4, 5, 1, 2, 3, 1, 2, 3, 1, 2, 3, 4, 5, 1, 2, 3, 1, 2, 3, 1, 3, 4, 1, 3, 2, 3, 1, 1, 3, 1, 1, 2, 3, 4, 5, 3, 2, 3, 1, 2, 3, 1, 2, 3, 4, 5, 1, 2, 3, 1, 3, 2, 1, 2, 3, 5, 2, 1, 2, 3, 4, 5, 1, 2, 2, 3, 1, 3, 1, 3, 2, 1, 2, 3, 4, 1, 2, 3, 3, 1, 2, 3, 5, 1, 2, 3, 4, 1, 1, 1, 2, 1, 2, 3, 4, 1, 2, 3, 4, 3, 2, 2, 1, 2, 1, 2, 3, 4, 5, 1, 3, 1, 2, 3, 4, 5, 1, 2, 3, 4, 5, 3, 3, 2, 1, 2, 3, 1, 2, 3, 4, 5, 1, 2, 3, 4, 5, 1, 2, 3, 4, 1, 3, 1, 1, 2, 3, 1, 2, 3, 4, 1, 2, 1, 1, 2, 3, 3, 3, 4, 1, 3, 2, 1, 2, 3, 4, 5, 1, 3, 1, 2, 3, 4, 5, 3, 1, 2, 1, 3, 2, 1, 3, 1, 1, 2, 3, 4, 1, 2, 3, 4, 5, 1, 2, 2, 1, 2, 1, 2, 3, 4, 3, 1, 2, 3, 4, 5, 1, 3, 2, 2, 2, 2, 3, 2, 1, 2, 3, 1, 1, 1, 1, 3, 5, 3, 3, 2, 2, 2, 2, 1, 2, 3, 1], \"Freq\": [0.13211436740386912, 0.5284574696154765, 0.13211436740386912, 0.13211436740386912, 0.5405525819418897, 0.18018419398062993, 0.18018419398062993, 0.09982029275324568, 0.09982029275324568, 0.5989217565194741, 0.19964058550649136, 0.95377931316575, 0.3425672918112575, 0.17128364590562875, 0.3425672918112575, 0.17128364590562875, 0.9144940237178623, 0.2767607277888272, 0.2767607277888272, 0.2767607277888272, 0.2767607277888272, 0.44139465679932355, 0.29426310453288235, 0.14713155226644117, 0.14713155226644117, 0.6463429303273761, 0.8275792214348009, 0.527385858635661, 0.5534685709106146, 0.3162677548060655, 0.07906693870151638, 0.07906693870151638, 0.5274615356374358, 0.579915472220587, 0.5476904340751717, 0.955052826256905, 0.2781479201303739, 0.5562958402607479, 0.39160194813115073, 0.19580097406557537, 0.39160194813115073, 0.19580097406557537, 0.33674097803618663, 0.19242341602067806, 0.3848468320413561, 0.048105854005169514, 0.048105854005169514, 0.44290429515640195, 0.08858085903128039, 0.35432343612512157, 0.08858085903128039, 0.22632807228143695, 0.4526561445628739, 0.22632807228143695, 0.11316403614071847, 0.11316403614071847, 0.9548667044601546, 0.514223606814317, 0.41112316090613393, 0.20556158045306697, 0.20556158045306697, 0.20556158045306697, 0.5796533512997231, 0.23319157457821188, 0.46638314915642376, 0.3622881838850369, 0.18114409194251846, 0.18114409194251846, 0.40738599026973793, 0.20369299513486896, 0.20369299513486896, 0.10184649756743448, 0.2583692247579567, 0.5167384495159134, 0.9499696826277602, 0.9145154253917257, 0.9145171531946402, 0.236707916381454, 0.236707916381454, 0.236707916381454, 0.236707916381454, 0.236707916381454, 0.7555294685715926, 0.3777516517694675, 0.3777516517694675, 0.1259172172564892, 0.8708529616639614, 0.24358015097947194, 0.24358015097947194, 0.24358015097947194, 0.24358015097947194, 0.9144953385524309, 0.4689542778759488, 0.3126361852506325, 0.10421206175021085, 0.05210603087510542, 0.05210603087510542, 0.5184790817255116, 0.1296197704313779, 0.2592395408627558, 0.1296197704313779, 0.6133466249448578, 0.5533739526528167, 0.7369478657344573, 0.8275988194120764, 0.8275851255003501, 0.8275785205939086, 0.39878405268189937, 0.3323200439015828, 0.06646400878031655, 0.1329280175606331, 0.06646400878031655, 0.3932306678219747, 0.13107688927399155, 0.13107688927399155, 0.13107688927399155, 0.13107688927399155, 0.24215934507624026, 0.4843186901524805, 0.24215934507624026, 0.4632387648839699, 0.30882584325597995, 0.15441292162798997, 0.3550598989584841, 0.2536142135417744, 0.2536142135417744, 0.10144568541670974, 0.05072284270835487, 0.3595579172575019, 0.5393368758862529, 0.17977895862875096, 0.18230017918488645, 0.18230017918488645, 0.3646003583697729, 0.3547493575040583, 0.3547493575040583, 0.3547493575040583, 0.2793450865149963, 0.5586901730299926, 0.34474974081566434, 0.34474974081566434, 0.5142056265462799, 0.49151793248076125, 0.9548066051761068, 0.8275862757034438, 0.5788789415247161, 0.17811659739222033, 0.08905829869611016, 0.08905829869611016, 0.04452914934805508, 0.9542647710348807, 0.5525611695814809, 0.3951808088966996, 0.2957027444797522, 0.2957027444797522, 0.2957027444797522, 0.3995424690888256, 0.3595882221799431, 0.11986274072664768, 0.07990849381776512, 0.03995424690888256, 0.46595553198451656, 0.46595553198451656, 0.15531851066150554, 0.4911845047325614, 0.9538024833505494, 0.9145049230259062, 0.5395908258484715, 0.13489770646211788, 0.13489770646211788, 0.13489770646211788, 0.5507466752015264, 0.4352235503816004, 0.1450745167938668, 0.1450745167938668, 0.1450745167938668, 0.0725372583969334, 0.4225250718995272, 0.4225250718995272, 0.9144928601225452, 0.5694649658170426, 0.7284977209796865, 0.1456995441959373, 0.507715491785619, 0.6142282487536793, 0.9144858660398533, 0.5970779625207076, 0.1492694906301769, 0.1492694906301769, 0.1492694906301769, 0.2843146284762691, 0.2843146284762691, 0.2843146284762691, 0.9537403392472283, 0.2801613691639895, 0.2801613691639895, 0.2801613691639895, 0.14008068458199474, 0.4105321269203037, 0.20526606346015186, 0.20526606346015186, 0.20526606346015186, 0.8275787203599543, 0.8275812776075092, 0.26395016940846255, 0.5279003388169251, 0.5964344222886806, 0.14910860557217015, 0.14910860557217015, 0.14910860557217015, 0.24406807985002543, 0.24406807985002543, 0.24406807985002543, 0.24406807985002543, 0.9543648620204694, 0.9144891616060574, 0.5367946874794038, 0.5418793185543315, 0.361252879036221, 0.40679241307455466, 0.2711949420497031, 0.13559747102485156, 0.06779873551242578, 0.06779873551242578, 0.20479739868739102, 0.614392196062173, 0.39833548671523616, 0.2276202781229921, 0.17071520859224407, 0.11381013906149605, 0.056905069530748024, 0.29667093284549756, 0.44500639926824637, 0.14833546642274878, 0.14833546642274878, 0.14833546642274878, 0.9537346308884901, 0.6157059722169093, 0.9145001528032503, 0.2481687182756881, 0.12408435913784405, 0.4963374365513762, 0.3186392033473182, 0.4248522711297576, 0.1062130677824394, 0.1062130677824394, 0.1062130677824394, 0.41358907744529716, 0.16543563097811886, 0.2481534464671783, 0.08271781548905943, 0.08271781548905943, 0.498486023521272, 0.166162007840424, 0.332324015680848, 0.166162007840424, 0.2556689888782235, 0.511337977756447, 0.4877782657916779, 0.5031398503969802, 0.16771328346566006, 0.16771328346566006, 0.3680244005809197, 0.3680244005809197, 0.18401220029045984, 0.18401220029045984, 0.6298972598907713, 0.20996575329692374, 0.49539195719437834, 0.21818124435537584, 0.4363624887107517, 0.21818124435537584, 0.6142521775109289, 0.9539385905908734, 0.7685318751948572, 0.4338080420227464, 0.4338080420227464, 0.5568682387965809, 0.44072154529548374, 0.3427834241187096, 0.09793812117677417, 0.048969060588387084, 0.048969060588387084, 0.5116384358077113, 0.9538370441143486, 0.4510803319461673, 0.16915512447981274, 0.16915512447981274, 0.11277008298654183, 0.056385041493270914, 0.6146536238377005, 0.5140845017363719, 0.5382381654682769, 0.8275787203599543, 0.6148296435022002, 0.9145111282209074, 0.4935816540980372, 0.6141400214602859, 0.9658433576571852, 0.5970253896683436, 0.1492563474170859, 0.1492563474170859, 0.1492563474170859, 0.4361958897829501, 0.2726224311143438, 0.21809794489147505, 0.05452448622286876, 0.05452448622286876, 0.23492666139535878, 0.7047799841860763, 0.8053053275010074, 0.498539844397787, 0.9144867013276358, 0.4473459222953773, 0.14911530743179244, 0.14911530743179244, 0.14911530743179244, 0.5828954486753609, 0.5964072076754888, 0.23856288307019555, 0.11928144153509777, 0.05964072076754889, 0.05964072076754889, 0.20965944298699846, 0.6289783289609954, 0.7867654286705623, 0.556372874098197, 0.7754509783199555, 0.9144975026314675, 0.9550831456441431, 0.5475230346292808, 0.49525699140101537, 0.9144879431643705, 0.6133953811377777, 0.8275850021054177, 0.5142320354847774, 0.7531643766812391, 0.3137187468510687, 0.3137187468510687, 0.3137187468510687, 0.6156506744638378, 0.915117573283455, 0.7977716789751804, 0.5270658329455067, 0.5266617151609947, 0.5256129544329906, 0.38115480133814383, 0.38115480133814383, 0.12705160044604794, 0.9093600906909438], \"Term\": [\"\", \"\", \"\", \"\", \"(\", \"(\", \"(\", \"-\", \"-\", \"-\", \"-\", \"/\\u0e04\\u0e19\", \"1\", \"1\", \"1\", \"1\", \"128\", \"199\", \"199\", \"199\", \"199\", \"2\", \"2\", \"2\", \"2\", \"3\", \"300\", \"4\", \":\", \":\", \":\", \":\", \"::\", \"Shabushi\", \"\\u0e01\\u0e01\", \"\\u0e01\\u0e23\\u0e2d\", \"\\u0e01\\u0e25\\u0e31\\u0e1a\\u0e21\\u0e32\", \"\\u0e01\\u0e25\\u0e31\\u0e1a\\u0e21\\u0e32\", \"\\u0e01\\u0e30\\u0e1b\\u0e34\", \"\\u0e01\\u0e30\\u0e1b\\u0e34\", \"\\u0e01\\u0e30\\u0e1b\\u0e34\", \"\\u0e01\\u0e30\\u0e1b\\u0e34\", \"\\u0e01\\u0e34\\u0e19\", \"\\u0e01\\u0e34\\u0e19\", \"\\u0e01\\u0e34\\u0e19\", \"\\u0e01\\u0e34\\u0e19\", \"\\u0e01\\u0e34\\u0e19\", \"\\u0e01\\u0e38\\u0e49\\u0e07\", \"\\u0e01\\u0e38\\u0e49\\u0e07\", \"\\u0e01\\u0e38\\u0e49\\u0e07\", \"\\u0e01\\u0e38\\u0e49\\u0e07\", \"\\u0e02\\u0e2d\\u0e07\\u0e2b\\u0e27\\u0e32\\u0e19\", \"\\u0e02\\u0e2d\\u0e07\\u0e2b\\u0e27\\u0e32\\u0e19\", \"\\u0e02\\u0e2d\\u0e07\\u0e2b\\u0e27\\u0e32\\u0e19\", \"\\u0e02\\u0e2d\\u0e07\\u0e2b\\u0e27\\u0e32\\u0e19\", \"\\u0e02\\u0e2d\\u0e07\\u0e2b\\u0e27\\u0e32\\u0e19\", \"\\u0e02\\u0e36\\u0e49\\u0e19\\u0e23\\u0e32\\u0e04\\u0e32\", \"\\u0e02\\u0e49\\u0e32\\u0e27\", \"\\u0e04\\u0e19\\u0e25\\u0e30\", \"\\u0e04\\u0e19\\u0e25\\u0e30\", \"\\u0e04\\u0e19\\u0e25\\u0e30\", \"\\u0e04\\u0e19\\u0e25\\u0e30\", \"\\u0e04\\u0e23\\u0e36\\u0e48\\u0e07\", \"\\u0e04\\u0e34\\u0e27\", \"\\u0e04\\u0e34\\u0e27\", \"\\u0e04\\u0e38\\u0e13\\u0e20\\u0e32\\u0e1e\", \"\\u0e04\\u0e38\\u0e13\\u0e20\\u0e32\\u0e1e\", \"\\u0e04\\u0e38\\u0e13\\u0e20\\u0e32\\u0e1e\", \"\\u0e04\\u0e38\\u0e49\\u0e21\", \"\\u0e04\\u0e38\\u0e49\\u0e21\", \"\\u0e04\\u0e38\\u0e49\\u0e21\", \"\\u0e04\\u0e38\\u0e49\\u0e21\", \"\\u0e04\\u0e38\\u0e49\\u0e21\\u0e04\\u0e48\\u0e32\", \"\\u0e04\\u0e38\\u0e49\\u0e21\\u0e04\\u0e48\\u0e32\", \"\\u0e04\\u0e48\\u0e32\", \"\\u0e08\\u0e1a\", \"\\u0e08\\u0e38\\u0e01\", \"\\u0e08\\u0e48\\u0e32\\u0e22\", \"\\u0e08\\u0e48\\u0e32\\u0e22\", \"\\u0e08\\u0e48\\u0e32\\u0e22\", \"\\u0e08\\u0e48\\u0e32\\u0e22\", \"\\u0e08\\u0e48\\u0e32\\u0e22\", \"\\u0e0a\\u0e21.\", \"\\u0e0a\\u0e2d\\u0e1a\", \"\\u0e0a\\u0e2d\\u0e1a\", \"\\u0e0a\\u0e2d\\u0e1a\", \"\\u0e0a\\u0e31\\u0e48\\u0e27\\u0e42\\u0e21\\u0e07\", \"\\u0e0a\\u0e31\\u0e49\\u0e19\", \"\\u0e0a\\u0e31\\u0e49\\u0e19\", \"\\u0e0a\\u0e31\\u0e49\\u0e19\", \"\\u0e0a\\u0e31\\u0e49\\u0e19\", \"\\u0e0a\\u0e32\\u0e15\", \"\\u0e0a\\u0e32\\u0e1a\\u0e39\", \"\\u0e0a\\u0e32\\u0e1a\\u0e39\", \"\\u0e0a\\u0e32\\u0e1a\\u0e39\", \"\\u0e0a\\u0e32\\u0e1a\\u0e39\", \"\\u0e0a\\u0e32\\u0e1a\\u0e39\", \"\\u0e0a\\u0e34\", \"\\u0e0a\\u0e34\", \"\\u0e0a\\u0e34\", \"\\u0e0a\\u0e34\", \"\\u0e0a\\u0e37\\u0e48\\u0e19\", \"\\u0e0a\\u0e37\\u0e48\\u0e2d\", \"\\u0e0a\\u0e38\\u0e14\", \"\\u0e0a\\u0e48\\u0e2d\\u0e07\", \"\\u0e0b\\u0e35\", \"\\u0e0b\\u0e36\\u0e1b\", \"\\u0e0b\\u0e38\\u0e1b\", \"\\u0e0b\\u0e38\\u0e1b\", \"\\u0e0b\\u0e38\\u0e1b\", \"\\u0e0b\\u0e38\\u0e1b\", \"\\u0e0b\\u0e38\\u0e1b\", \"\\u0e0b\\u0e39\\u0e0a\\u0e34\", \"\\u0e0b\\u0e39\\u0e0a\\u0e34\", \"\\u0e0b\\u0e39\\u0e0a\\u0e34\", \"\\u0e0b\\u0e39\\u0e0a\\u0e34\", \"\\u0e0b\\u0e39\\u0e0a\\u0e34\", \"\\u0e0d\\u0e35\\u0e48\\u0e1b\\u0e38\\u0e48\\u0e19\", \"\\u0e0d\\u0e35\\u0e48\\u0e1b\\u0e38\\u0e48\\u0e19\", \"\\u0e0d\\u0e35\\u0e48\\u0e1b\\u0e38\\u0e48\\u0e19\", \"\\u0e14\\u0e33\", \"\\u0e14\\u0e33\", \"\\u0e14\\u0e33\", \"\\u0e14\\u0e35\", \"\\u0e14\\u0e35\", \"\\u0e14\\u0e35\", \"\\u0e14\\u0e35\", \"\\u0e14\\u0e35\", \"\\u0e14\\u0e35\\u0e21\\u0e32\\u0e01\", \"\\u0e14\\u0e35\\u0e21\\u0e32\\u0e01\", \"\\u0e14\\u0e35\\u0e21\\u0e32\\u0e01\", \"\\u0e14\\u0e39\", \"\\u0e14\\u0e39\", \"\\u0e14\\u0e39\", \"\\u0e15\\u0e2d\\u0e19\", \"\\u0e15\\u0e2d\\u0e19\", \"\\u0e15\\u0e2d\\u0e19\", \"\\u0e15\\u0e31\\u0e27\", \"\\u0e15\\u0e31\\u0e27\", \"\\u0e15\\u0e34\\u0e14\", \"\\u0e15\\u0e34\\u0e14\", \"\\u0e15\\u0e48\\u0e32\\u0e07 \\u0e46\", \"\\u0e15\\u0e49\\u0e21\\u0e22\\u0e33\", \"\\u0e16\\u0e39\\u0e01\\u0e43\\u0e08\", \"\\u0e17\\u0e2d\\u0e19\", \"\\u0e17\\u0e32\\u0e19\", \"\\u0e17\\u0e32\\u0e19\", \"\\u0e17\\u0e32\\u0e19\", \"\\u0e17\\u0e32\\u0e19\", \"\\u0e17\\u0e32\\u0e19\", \"\\u0e17\\u0e33\", \"\\u0e19\", \"\\u0e19\\u0e32\\u0e17\\u0e35\", \"\\u0e19\\u0e38\\u0e48\\u0e21\", \"\\u0e19\\u0e38\\u0e48\\u0e21\", \"\\u0e19\\u0e38\\u0e48\\u0e21\", \"\\u0e19\\u0e49\\u0e33\", \"\\u0e19\\u0e49\\u0e33\", \"\\u0e19\\u0e49\\u0e33\", \"\\u0e19\\u0e49\\u0e33\", \"\\u0e19\\u0e49\\u0e33\", \"\\u0e19\\u0e49\\u0e33\\u0e08\\u0e34\\u0e49\\u0e21\", \"\\u0e19\\u0e49\\u0e33\\u0e08\\u0e34\\u0e49\\u0e21\", \"\\u0e19\\u0e49\\u0e33\\u0e08\\u0e34\\u0e49\\u0e21\", \"\\u0e19\\u0e4d\\u0e49\\u0e32\", \"\\u0e1a\\u0e14\\u0e35\", \"\\u0e1a\\u0e23\\u0e32\", \"\\u0e1a\\u0e23\\u0e34\\u0e01\\u0e32\\u0e23\", \"\\u0e1a\\u0e23\\u0e34\\u0e01\\u0e32\\u0e23\", \"\\u0e1a\\u0e23\\u0e34\\u0e01\\u0e32\\u0e23\", \"\\u0e1a\\u0e23\\u0e34\\u0e01\\u0e32\\u0e23\", \"\\u0e1a\\u0e32\\u0e07\\u0e2a\\u0e48\\u0e27\\u0e19\", \"\\u0e1a\\u0e32\\u0e17\", \"\\u0e1a\\u0e32\\u0e17\", \"\\u0e1a\\u0e32\\u0e17\", \"\\u0e1a\\u0e32\\u0e17\", \"\\u0e1a\\u0e32\\u0e17\", \"\\u0e1a\\u0e38\", \"\\u0e1a\\u0e38\", \"\\u0e1a\\u0e38\\u0e1e\", \"\\u0e1a\\u0e38\\u0e1f\\u0e40\\u0e1f\\u0e15\\u0e4c\", \"\\u0e1a\\u0e38\\u0e1f\\u0e40\\u0e1f\\u0e48\\u0e15\\u0e4c\", \"\\u0e1a\\u0e38\\u0e1f\\u0e40\\u0e1f\\u0e48\\u0e15\\u0e4c\", \"\\u0e1b\\u0e23\\u0e30\\u0e17\\u0e31\\u0e1a\\u0e43\\u0e08\", \"\\u0e1b\\u0e2d\\u0e01\\u0e40\\u0e1b\\u0e25\\u0e37\\u0e2d\\u0e01\", \"\\u0e1b\\u0e34\\u0e14\\u0e17\\u0e49\\u0e32\\u0e22\", \"\\u0e1b\\u0e38\\u0e23\\u0e30\", \"\\u0e1b\\u0e38\\u0e23\\u0e30\", \"\\u0e1b\\u0e38\\u0e23\\u0e30\", \"\\u0e1b\\u0e38\\u0e23\\u0e30\", \"\\u0e1c\\u0e31\\u0e01\", \"\\u0e1c\\u0e31\\u0e01\", \"\\u0e1c\\u0e31\\u0e01\", \"\\u0e1d\\u0e23\\u0e31\\u0e48\\u0e07\", \"\\u0e1e\\u0e19\\u0e31\\u0e01\\u0e07\\u0e32\\u0e19\", \"\\u0e1e\\u0e19\\u0e31\\u0e01\\u0e07\\u0e32\\u0e19\", \"\\u0e1e\\u0e19\\u0e31\\u0e01\\u0e07\\u0e32\\u0e19\", \"\\u0e1e\\u0e19\\u0e31\\u0e01\\u0e07\\u0e32\\u0e19\", \"\\u0e1e\\u0e34\\u0e0b\\u0e0b\\u0e48\\u0e32\", \"\\u0e1e\\u0e34\\u0e0b\\u0e0b\\u0e48\\u0e32\", \"\\u0e1e\\u0e34\\u0e0b\\u0e0b\\u0e48\\u0e32\", \"\\u0e1e\\u0e34\\u0e0b\\u0e0b\\u0e48\\u0e32\", \"\\u0e1f\\u0e23\\u0e35\", \"\\u0e1f\\u0e39\\u0e49\\u0e14\", \"\\u0e1f\\u0e40\\u0e1f\\u0e48\", \"\\u0e1f\\u0e40\\u0e1f\\u0e48\", \"\\u0e21\", \"\\u0e21\", \"\\u0e21\", \"\\u0e21\", \"\\u0e21\\u0e2d\\u0e25\\u0e25\\u0e4c\", \"\\u0e21\\u0e2d\\u0e25\\u0e25\\u0e4c\", \"\\u0e21\\u0e2d\\u0e25\\u0e25\\u0e4c\", \"\\u0e21\\u0e2d\\u0e25\\u0e25\\u0e4c\", \"\\u0e21\\u0e37\\u0e49\\u0e2d\", \"\\u0e22\", \"\\u0e22\\u0e31\\u0e07\\u0e21\\u0e35\", \"\\u0e23\\u0e2a\", \"\\u0e23\\u0e2a\", \"\\u0e23\\u0e2a\\u0e0a\\u0e32\\u0e15\\u0e34\", \"\\u0e23\\u0e2a\\u0e0a\\u0e32\\u0e15\\u0e34\", \"\\u0e23\\u0e2a\\u0e0a\\u0e32\\u0e15\\u0e34\", \"\\u0e23\\u0e2a\\u0e0a\\u0e32\\u0e15\\u0e34\", \"\\u0e23\\u0e2a\\u0e0a\\u0e32\\u0e15\\u0e34\", \"\\u0e23\\u0e2d\", \"\\u0e23\\u0e2d\", \"\\u0e23\\u0e32\\u0e04\\u0e32\", \"\\u0e23\\u0e32\\u0e04\\u0e32\", \"\\u0e23\\u0e32\\u0e04\\u0e32\", \"\\u0e23\\u0e32\\u0e04\\u0e32\", \"\\u0e23\\u0e32\\u0e04\\u0e32\", \"\\u0e25\\u0e2d\\u0e07\", \"\\u0e25\\u0e2d\\u0e07\", \"\\u0e25\\u0e2d\\u0e07\", \"\\u0e25\\u0e2d\\u0e07\", \"\\u0e25\\u0e2d\\u0e07\", \"\\u0e27\\u0e31\\u0e19\\u0e2b\\u0e22\\u0e38\\u0e14\", \"\\u0e27\\u0e32\\u0e19\\u0e34\\u0e25\\u0e32\", \"\\u0e27\\u0e34\\u0e1b\", \"\\u0e2a\\u0e14\", \"\\u0e2a\\u0e14\", \"\\u0e2a\\u0e14\", \"\\u0e2a\\u0e31\\u0e48\\u0e07\", \"\\u0e2a\\u0e31\\u0e48\\u0e07\", \"\\u0e2a\\u0e31\\u0e48\\u0e07\", \"\\u0e2a\\u0e31\\u0e48\\u0e07\", \"\\u0e2a\\u0e31\\u0e48\\u0e07\", \"\\u0e2a\\u0e32\\u0e02\\u0e32\", \"\\u0e2a\\u0e32\\u0e02\\u0e32\", \"\\u0e2a\\u0e32\\u0e02\\u0e32\", \"\\u0e2a\\u0e32\\u0e02\\u0e32\", \"\\u0e2a\\u0e32\\u0e02\\u0e32\", \"\\u0e2a\\u0e32\\u0e22\\u0e1e\\u0e32\\u0e19\", \"\\u0e2a\\u0e32\\u0e22\\u0e1e\\u0e32\\u0e19\", \"\\u0e2a\\u0e32\\u0e22\\u0e1e\\u0e32\\u0e19\", \"\\u0e2a\\u0e32\\u0e22\\u0e1e\\u0e32\\u0e19\", \"\\u0e2a\\u0e33\\u0e2b\\u0e23\\u0e31\\u0e1a\", \"\\u0e2a\\u0e33\\u0e2b\\u0e23\\u0e31\\u0e1a\", \"\\u0e2a\\u0e38\\u0e01\\u0e35\\u0e49\", \"\\u0e2b\\u0e19\\u0e49\\u0e32\", \"\\u0e2b\\u0e19\\u0e49\\u0e32\", \"\\u0e2b\\u0e19\\u0e49\\u0e32\", \"\\u0e2b\\u0e21\\u0e39\", \"\\u0e2b\\u0e21\\u0e39\", \"\\u0e2b\\u0e21\\u0e39\", \"\\u0e2b\\u0e21\\u0e39\", \"\\u0e2b\\u0e21\\u0e49\\u0e2d\", \"\\u0e2b\\u0e21\\u0e49\\u0e2d\", \"\\u0e2b\\u0e25\\u0e32\\u0e01\", \"\\u0e2b\\u0e27\\u0e32\\u0e19\", \"\\u0e2b\\u0e27\\u0e32\\u0e19\", \"\\u0e2b\\u0e27\\u0e32\\u0e19\", \"\\u0e2b\\u0e2d\\u0e21\", \"\\u0e2b\\u0e32\\u0e44\\u0e21\\u0e48\", \"\\u0e2b\\u0e34\\u0e27\", \"\\u0e2b\\u0e49\\u0e32\\u0e07\", \"\\u0e2b\\u0e49\\u0e32\\u0e07\", \"\\u0e2d\\u0e22\\u0e39\\u0e48\\u0e41\\u0e25\\u0e49\\u0e27\", \"\\u0e2d\\u0e23\\u0e48\\u0e2d\\u0e22\", \"\\u0e2d\\u0e23\\u0e48\\u0e2d\\u0e22\", \"\\u0e2d\\u0e23\\u0e48\\u0e2d\\u0e22\", \"\\u0e2d\\u0e23\\u0e48\\u0e2d\\u0e22\", \"\\u0e2d\\u0e23\\u0e48\\u0e2d\\u0e22\", \"\\u0e2d\\u0e31\\u0e19\\u0e19\\u0e35\\u0e49\", \"\\u0e2d\\u0e32\\u0e17\\u0e34\\u0e15\\u0e22\\u0e4c\", \"\\u0e2d\\u0e32\\u0e2b\\u0e32\\u0e23\", \"\\u0e2d\\u0e32\\u0e2b\\u0e32\\u0e23\", \"\\u0e2d\\u0e32\\u0e2b\\u0e32\\u0e23\", \"\\u0e2d\\u0e32\\u0e2b\\u0e32\\u0e23\", \"\\u0e2d\\u0e32\\u0e2b\\u0e32\\u0e23\", \"\\u0e2d\\u0e35\\u0e01\\u0e04\\u0e23\\u0e31\\u0e49\\u0e07\", \"\\u0e40\\u0e01\\u0e34\\u0e19\\u0e44\\u0e1b\", \"\\u0e40\\u0e04\\u0e47\\u0e21\", \"\\u0e40\\u0e07\\u0e34\\u0e19\", \"\\u0e40\\u0e0a\\u0e47\\u0e04\\u0e1a\\u0e34\\u0e25\", \"\\u0e40\\u0e0b\\u0e15\", \"\\u0e40\\u0e0b\\u0e47\\u0e17\", \"\\u0e40\\u0e14\\u0e49\\u0e07\", \"\\u0e40\\u0e15\\u0e34\\u0e21\", \"\\u0e40\\u0e17\", \"\\u0e40\\u0e17\", \"\\u0e40\\u0e17\", \"\\u0e40\\u0e17\", \"\\u0e40\\u0e19\\u0e37\\u0e49\\u0e2d\", \"\\u0e40\\u0e19\\u0e37\\u0e49\\u0e2d\", \"\\u0e40\\u0e19\\u0e37\\u0e49\\u0e2d\", \"\\u0e40\\u0e19\\u0e37\\u0e49\\u0e2d\", \"\\u0e40\\u0e19\\u0e37\\u0e49\\u0e2d\", \"\\u0e40\\u0e19\\u0e37\\u0e49\\u0e2d\\u0e27\\u0e31\\u0e27\", \"\\u0e40\\u0e19\\u0e37\\u0e49\\u0e2d\\u0e27\\u0e31\\u0e27\", \"\\u0e40\\u0e19\\u0e37\\u0e49\\u0e2d\\u0e2b\\u0e21\\u0e39\", \"\\u0e40\\u0e1b\\u0e47\\u0e19\\u0e2b\\u0e25\\u0e31\\u0e01\", \"\\u0e40\\u0e1f\\u0e48\", \"\\u0e40\\u0e21\\u0e19\\u0e39\", \"\\u0e40\\u0e21\\u0e19\\u0e39\", \"\\u0e40\\u0e21\\u0e19\\u0e39\", \"\\u0e40\\u0e21\\u0e19\\u0e39\", \"\\u0e40\\u0e25\\u0e34\\u0e01\", \"\\u0e40\\u0e25\\u0e37\\u0e2d\\u0e01\", \"\\u0e40\\u0e25\\u0e37\\u0e2d\\u0e01\", \"\\u0e40\\u0e25\\u0e37\\u0e2d\\u0e01\", \"\\u0e40\\u0e25\\u0e37\\u0e2d\\u0e01\", \"\\u0e40\\u0e25\\u0e37\\u0e2d\\u0e01\", \"\\u0e40\\u0e27\\u0e25\\u0e32\", \"\\u0e40\\u0e27\\u0e25\\u0e32\", \"\\u0e40\\u0e2a\\u0e34\\u0e23\\u0e4c\\u0e1f\", \"\\u0e40\\u0e2b\\u0e21\\u0e32\\u0e30\\u0e2a\\u0e21\", \"\\u0e40\\u0e2b\\u0e47\\u0e14\", \"\\u0e40\\u0e40\\u0e1a\\u0e1a\", \"\\u0e41\\u0e01\\u0e49\\u0e27\", \"\\u0e41\\u0e19\\u0e27\", \"\\u0e41\\u0e1a\\u0e48\\u0e07\", \"\\u0e42\\u0e0a\\u0e04\", \"\\u0e42\\u0e14\\u0e19\", \"\\u0e42\\u0e17\\u0e2a\", \"\\u0e42\\u0e1b\\u0e23\", \"\\u0e42\\u0e21\", \"\\u0e42\\u0e2d\\u0e40\\u0e04\", \"\\u0e42\\u0e2d\\u0e40\\u0e04\", \"\\u0e42\\u0e2d\\u0e40\\u0e04\", \"\\u0e43\\u0e08\\u0e14\\u0e35\", \"\\u0e43\\u0e0a\\u0e49\\u0e44\\u0e14\\u0e49\", \"\\u0e44\\u0e01\\u0e48\", \"\\u0e44\\u0e14\\u0e1f\\u0e39\\u0e01\\u0e38\", \"\\u0e44\\u0e1c\\u0e48\", \"\\u0e44\\u0e21\\u0e49\", \"\\u0e44\\u0e2d\\u0e15\\u0e34\\u0e21\", \"\\u0e44\\u0e2d\\u0e15\\u0e34\\u0e21\", \"\\u0e44\\u0e2d\\u0e15\\u0e34\\u0e21\", \"\\u200b\"]}, \"R\": 30, \"lambda.step\": 0.01, \"plot.opts\": {\"xlab\": \"PC1\", \"ylab\": \"PC2\"}, \"topic.order\": [3, 1, 5, 2, 4]};\n",
              "\n",
              "function LDAvis_load_lib(url, callback){\n",
              "  var s = document.createElement('script');\n",
              "  s.src = url;\n",
              "  s.async = true;\n",
              "  s.onreadystatechange = s.onload = callback;\n",
              "  s.onerror = function(){console.warn(\"failed to load library \" + url);};\n",
              "  document.getElementsByTagName(\"head\")[0].appendChild(s);\n",
              "}\n",
              "\n",
              "if(typeof(LDAvis) !== \"undefined\"){\n",
              "   // already loaded: just create the visualization\n",
              "   !function(LDAvis){\n",
              "       new LDAvis(\"#\" + \"ldavis_el1791404445733699361962985968\", ldavis_el1791404445733699361962985968_data);\n",
              "   }(LDAvis);\n",
              "}else if(typeof define === \"function\" && define.amd){\n",
              "   // require.js is available: use it to load d3/LDAvis\n",
              "   require.config({paths: {d3: \"https://d3js.org/d3.v5\"}});\n",
              "   require([\"d3\"], function(d3){\n",
              "      window.d3 = d3;\n",
              "      LDAvis_load_lib(\"https://cdn.jsdelivr.net/gh/bmabey/pyLDAvis@3.3.1/pyLDAvis/js/ldavis.v3.0.0.js\", function(){\n",
              "        new LDAvis(\"#\" + \"ldavis_el1791404445733699361962985968\", ldavis_el1791404445733699361962985968_data);\n",
              "      });\n",
              "    });\n",
              "}else{\n",
              "    // require.js not available: dynamically load d3 & LDAvis\n",
              "    LDAvis_load_lib(\"https://d3js.org/d3.v5.js\", function(){\n",
              "         LDAvis_load_lib(\"https://cdn.jsdelivr.net/gh/bmabey/pyLDAvis@3.3.1/pyLDAvis/js/ldavis.v3.0.0.js\", function(){\n",
              "                 new LDAvis(\"#\" + \"ldavis_el1791404445733699361962985968\", ldavis_el1791404445733699361962985968_data);\n",
              "            })\n",
              "         });\n",
              "}\n",
              "</script>"
            ],
            "text/plain": [
              "PreparedData(topic_coordinates=              x         y  topics  cluster       Freq\n",
              "topic                                                \n",
              "2     -0.010400  0.061826       1        1  40.024643\n",
              "0     -0.058132 -0.037709       2        1  24.941656\n",
              "4      0.065398 -0.023939       3        1  20.419810\n",
              "1      0.005108  0.002278       4        1   8.655333\n",
              "3     -0.001975 -0.002455       5        1   5.958557, topic_info=        Term       Freq      Total Category  logprob  loglift\n",
              "336        -  10.000000  10.000000  Default  30.0000  30.0000\n",
              "26      ราคา  17.000000  17.000000  Default  29.0000  29.0000\n",
              "20       บาท  13.000000  13.000000  Default  28.0000  28.0000\n",
              "75      สาขา  12.000000  12.000000  Default  27.0000  27.0000\n",
              "33     อาหาร  17.000000  17.000000  Default  26.0000  26.0000\n",
              "..       ...        ...        ...      ...      ...      ...\n",
              "194     หน้า   0.470476   5.962557   Topic5  -5.1857   0.2808\n",
              "59   ญี่ปุ่น   0.420871   4.129512   Topic5  -5.2971   0.5368\n",
              "8       คุ้ม   0.487020   9.818698   Topic5  -5.1512  -0.1834\n",
              "151    เลือก   0.542612  16.767068   Topic5  -5.0431  -0.6104\n",
              "272     กุ้ง   0.451333  11.289121   Topic5  -5.2273  -0.3990\n",
              "\n",
              "[342 rows x 6 columns], token_table=      Topic      Freq   Term\n",
              "term                        \n",
              "86        1  0.132114       \n",
              "86        2  0.528457       \n",
              "86        3  0.132114       \n",
              "86        5  0.132114       \n",
              "170       1  0.540553      (\n",
              "...     ...       ...    ...\n",
              "168       2  0.525613    ไม้\n",
              "47        1  0.381155  ไอติม\n",
              "47        2  0.381155  ไอติม\n",
              "47        3  0.127052  ไอติม\n",
              "48        1  0.909360      ​\n",
              "\n",
              "[350 rows x 3 columns], R=30, lambda_step=0.01, plot_opts={'xlab': 'PC1', 'ylab': 'PC2'}, topic_order=[3, 1, 5, 2, 4])"
            ]
          },
          "metadata": {
            "tags": []
          },
          "execution_count": 112
        }
      ]
    },
    {
      "cell_type": "code",
      "metadata": {
        "colab": {
          "base_uri": "https://localhost:8080/"
        },
        "id": "Uc0kSNGEsaMT",
        "outputId": "5001e4f5-7192-4462-afbc-3d4ea0e064d0"
      },
      "source": [
        "model.show_topic(1)"
      ],
      "execution_count": 113,
      "outputs": [
        {
          "output_type": "execute_result",
          "data": {
            "text/plain": [
              "[('ราคา', 0.01864921),\n",
              " ('น้ำ', 0.018343037),\n",
              " ('บาท', 0.018200804),\n",
              " ('อาหาร', 0.016179185),\n",
              " ('ซุป', 0.01573729),\n",
              " ('ทาน', 0.015519349),\n",
              " ('-', 0.012817878),\n",
              " ('ดี', 0.012702778),\n",
              " ('คุ้ม', 0.011855222),\n",
              " ('รสชาติ', 0.011730485)]"
            ]
          },
          "metadata": {
            "tags": []
          },
          "execution_count": 113
        }
      ]
    },
    {
      "cell_type": "code",
      "metadata": {
        "id": "LdWByRsuseii"
      },
      "source": [
        "df['topics'] = df['review_tokenized'].apply(lambda x: model.get_document_topics(dictionary.doc2bow(x.split(',')))[0][0])\n",
        "df['score'] = df['review_tokenized'].apply(lambda x: model.get_document_topics(dictionary.doc2bow(x.split(',')))[0][1])"
      ],
      "execution_count": 114,
      "outputs": []
    },
    {
      "cell_type": "code",
      "metadata": {
        "colab": {
          "base_uri": "https://localhost:8080/",
          "height": 700
        },
        "id": "LFOPBHpUsgSV",
        "outputId": "8cf66265-7de6-4ef9-a67f-38d03e7c3b3f"
      },
      "source": [
        "df[['Restaurant', 'cleansed_text', 'topics', 'score']]"
      ],
      "execution_count": 115,
      "outputs": [
        {
          "output_type": "execute_result",
          "data": {
            "text/html": [
              "<div>\n",
              "<style scoped>\n",
              "    .dataframe tbody tr th:only-of-type {\n",
              "        vertical-align: middle;\n",
              "    }\n",
              "\n",
              "    .dataframe tbody tr th {\n",
              "        vertical-align: top;\n",
              "    }\n",
              "\n",
              "    .dataframe thead th {\n",
              "        text-align: right;\n",
              "    }\n",
              "</style>\n",
              "<table border=\"1\" class=\"dataframe\">\n",
              "  <thead>\n",
              "    <tr style=\"text-align: right;\">\n",
              "      <th></th>\n",
              "      <th>Restaurant</th>\n",
              "      <th>cleansed_text</th>\n",
              "      <th>topics</th>\n",
              "      <th>score</th>\n",
              "    </tr>\n",
              "  </thead>\n",
              "  <tbody>\n",
              "    <tr>\n",
              "      <th>0</th>\n",
              "      <td>Mo-Mo-Paradise (โม โม พาราไดซ์) เดอะมอลล์ บางกะปิ</td>\n",
              "      <td>ที่สำคัญของร้านนี้คือบริการดีมากพนักงานน่ารักส...</td>\n",
              "      <td>2</td>\n",
              "      <td>0.998795</td>\n",
              "    </tr>\n",
              "    <tr>\n",
              "      <th>1</th>\n",
              "      <td>Mo-Mo-Paradise (โม โม พาราไดซ์) เดอะมอลล์ บางกะปิ</td>\n",
              "      <td>รสชาติเหมือนทุกสาขา แต่สาขานี้ บริการดี ที่นั่...</td>\n",
              "      <td>3</td>\n",
              "      <td>0.997200</td>\n",
              "    </tr>\n",
              "    <tr>\n",
              "      <th>2</th>\n",
              "      <td>Mo-Mo-Paradise (โม โม พาราไดซ์) เดอะมอลล์ บางกะปิ</td>\n",
              "      <td>ชาบูพรีเมียมสไตล์ญี่ปุ่น เนื้อดีมากก มาทานช่วง...</td>\n",
              "      <td>0</td>\n",
              "      <td>0.999274</td>\n",
              "    </tr>\n",
              "    <tr>\n",
              "      <th>3</th>\n",
              "      <td>Mo-Mo-Paradise (โม โม พาราไดซ์) เดอะมอลล์ บางกะปิ</td>\n",
              "      <td>เนื้อดี icecreamดี คุ้มค่าดี ถ้านึกถึงชาบูที่ม...</td>\n",
              "      <td>2</td>\n",
              "      <td>0.997348</td>\n",
              "    </tr>\n",
              "    <tr>\n",
              "      <th>4</th>\n",
              "      <td>Mo-Mo-Paradise (โม โม พาราไดซ์) เดอะมอลล์ บางกะปิ</td>\n",
              "      <td>อาหารมีคุณภาพ บริการดีค่ะ เดินมาหน้าร้านแล้วได...</td>\n",
              "      <td>2</td>\n",
              "      <td>0.997745</td>\n",
              "    </tr>\n",
              "    <tr>\n",
              "      <th>5</th>\n",
              "      <td>Mo-Mo-Paradise (โม โม พาราไดซ์) เดอะมอลล์ บางกะปิ</td>\n",
              "      <td>กินให้อิ่ม ที่ momo ร้านบุฟเฟ่ต์่ต์ ชาบูแนวญี่...</td>\n",
              "      <td>0</td>\n",
              "      <td>0.996097</td>\n",
              "    </tr>\n",
              "    <tr>\n",
              "      <th>6</th>\n",
              "      <td>Mo-Mo-Paradise (โม โม พาราไดซ์) เดอะมอลล์ บางกะปิ</td>\n",
              "      <td>ชาบู   สุกกี้สไลด์ญี่ปุ่นที่แท้ทรู  number    ...</td>\n",
              "      <td>2</td>\n",
              "      <td>0.998745</td>\n",
              "    </tr>\n",
              "    <tr>\n",
              "      <th>7</th>\n",
              "      <td>Mo-Mo-Paradise (โม โม พาราไดซ์) เดอะมอลล์ บางกะปิ</td>\n",
              "      <td>ร้านชาบูแฟรนไชส์ ที่ราคาเหมาะสมกับคุณภาพ ถือว่...</td>\n",
              "      <td>0</td>\n",
              "      <td>0.997743</td>\n",
              "    </tr>\n",
              "    <tr>\n",
              "      <th>8</th>\n",
              "      <td>Shabushi (ชาบูชิ) เดอะมอลล์บางกะปิ ชั้น G</td>\n",
              "      <td>อร่อยคุ้ม ของทานเล่นเยอะมาก มา านที่ขาบูชิต้อง...</td>\n",
              "      <td>1</td>\n",
              "      <td>0.996417</td>\n",
              "    </tr>\n",
              "    <tr>\n",
              "      <th>9</th>\n",
              "      <td>Shabushi (ชาบูชิ) เดอะมอลล์บางกะปิ ชั้น G</td>\n",
              "      <td>ทานอีก ชอบกุ้งทอดเทมปุระ ใครชอบกุ้งทอดเทมปุระ ...</td>\n",
              "      <td>2</td>\n",
              "      <td>0.998358</td>\n",
              "    </tr>\n",
              "    <tr>\n",
              "      <th>10</th>\n",
              "      <td>Shabushi (ชาบูชิ) เดอะมอลล์บางกะปิ ชั้น G</td>\n",
              "      <td>บุฟเฟ่ต์่ต์ต์คุ้ม ในห้าง กลับมาupdateราคาshabu...</td>\n",
              "      <td>2</td>\n",
              "      <td>0.997687</td>\n",
              "    </tr>\n",
              "    <tr>\n",
              "      <th>11</th>\n",
              "      <td>Shabushi (ชาบูชิ) เดอะมอลล์บางกะปิ ชั้น G</td>\n",
              "      <td>เปลี่ยนจากกุ้งขาดสารอาหารเป็นกุ้งปอกเปลือกแล้ว...</td>\n",
              "      <td>4</td>\n",
              "      <td>0.999432</td>\n",
              "    </tr>\n",
              "    <tr>\n",
              "      <th>12</th>\n",
              "      <td>Shabushi (ชาบูชิ) เดอะมอลล์บางกะปิ ชั้น G</td>\n",
              "      <td>อิ่ม อร่อย ฝุดฝุด เมื่อหลายวันก่อนนัดหาข้าวทาน...</td>\n",
              "      <td>2</td>\n",
              "      <td>0.998158</td>\n",
              "    </tr>\n",
              "    <tr>\n",
              "      <th>13</th>\n",
              "      <td>Shabushi (ชาบูชิ) เดอะมอลล์บางกะปิ ชั้น G</td>\n",
              "      <td>จัดให้เต็มคราบกับชั่วโมงครึ่ง shabushi บอกตรง ...</td>\n",
              "      <td>4</td>\n",
              "      <td>0.997844</td>\n",
              "    </tr>\n",
              "    <tr>\n",
              "      <th>14</th>\n",
              "      <td>Shabushi (ชาบูชิ) เดอะมอลล์บางกะปิ ชั้น G</td>\n",
              "      <td>ชาบู shabushi สวัสดีครับวันนี้จะขอมารีวิวร้านs...</td>\n",
              "      <td>2</td>\n",
              "      <td>0.997424</td>\n",
              "    </tr>\n",
              "    <tr>\n",
              "      <th>15</th>\n",
              "      <td>Shabushi (ชาบูชิ) เดอะมอลล์บางกะปิ ชั้น G</td>\n",
              "      <td>บุฟเฟ่ต์ต์น้ำเดือด สายพานร่อน shabushi สาขาเดอ...</td>\n",
              "      <td>2</td>\n",
              "      <td>0.999068</td>\n",
              "    </tr>\n",
              "    <tr>\n",
              "      <th>16</th>\n",
              "      <td>ข้าน้อยขอชาบู</td>\n",
              "      <td>บุฟเฟ่ต์่ต์ต์ชาบูและpizzaไม่อั้นในราคา     บาท...</td>\n",
              "      <td>1</td>\n",
              "      <td>0.998496</td>\n",
              "    </tr>\n",
              "    <tr>\n",
              "      <th>17</th>\n",
              "      <td>ข้าน้อยขอชาบู</td>\n",
              "      <td>ร้านบุฟเฟ่ต์่ต์ต์ ราคามิตรภาพ อยู่ชั้น  ติดโรง...</td>\n",
              "      <td>2</td>\n",
              "      <td>0.998690</td>\n",
              "    </tr>\n",
              "    <tr>\n",
              "      <th>18</th>\n",
              "      <td>ข้าน้อยขอชาบู</td>\n",
              "      <td>ของหลากหลาย ปน  งง  นิดหน่อย เคยรู้จักร้านนี้จ...</td>\n",
              "      <td>0</td>\n",
              "      <td>0.997653</td>\n",
              "    </tr>\n",
              "    <tr>\n",
              "      <th>19</th>\n",
              "      <td>ข้าน้อยขอชาบู</td>\n",
              "      <td>อร่อยมากค่ะ คุ้มค่าสมราคา บุฟเฟ่ต์่ต์หมูผักต่า...</td>\n",
              "      <td>0</td>\n",
              "      <td>0.997976</td>\n",
              "    </tr>\n",
              "    <tr>\n",
              "      <th>20</th>\n",
              "      <td>ข้าน้อยขอชาบู</td>\n",
              "      <td>แม้จะแปลกบ้าง แต่ก็ถือว่าอยู่ในเกณฑ์ที่ดี มีอา...</td>\n",
              "      <td>3</td>\n",
              "      <td>0.996446</td>\n",
              "    </tr>\n",
              "  </tbody>\n",
              "</table>\n",
              "</div>"
            ],
            "text/plain": [
              "                                           Restaurant  ...     score\n",
              "0   Mo-Mo-Paradise (โม โม พาราไดซ์) เดอะมอลล์ บางกะปิ  ...  0.998795\n",
              "1   Mo-Mo-Paradise (โม โม พาราไดซ์) เดอะมอลล์ บางกะปิ  ...  0.997200\n",
              "2   Mo-Mo-Paradise (โม โม พาราไดซ์) เดอะมอลล์ บางกะปิ  ...  0.999274\n",
              "3   Mo-Mo-Paradise (โม โม พาราไดซ์) เดอะมอลล์ บางกะปิ  ...  0.997348\n",
              "4   Mo-Mo-Paradise (โม โม พาราไดซ์) เดอะมอลล์ บางกะปิ  ...  0.997745\n",
              "5   Mo-Mo-Paradise (โม โม พาราไดซ์) เดอะมอลล์ บางกะปิ  ...  0.996097\n",
              "6   Mo-Mo-Paradise (โม โม พาราไดซ์) เดอะมอลล์ บางกะปิ  ...  0.998745\n",
              "7   Mo-Mo-Paradise (โม โม พาราไดซ์) เดอะมอลล์ บางกะปิ  ...  0.997743\n",
              "8           Shabushi (ชาบูชิ) เดอะมอลล์บางกะปิ ชั้น G  ...  0.996417\n",
              "9           Shabushi (ชาบูชิ) เดอะมอลล์บางกะปิ ชั้น G  ...  0.998358\n",
              "10          Shabushi (ชาบูชิ) เดอะมอลล์บางกะปิ ชั้น G  ...  0.997687\n",
              "11          Shabushi (ชาบูชิ) เดอะมอลล์บางกะปิ ชั้น G  ...  0.999432\n",
              "12          Shabushi (ชาบูชิ) เดอะมอลล์บางกะปิ ชั้น G  ...  0.998158\n",
              "13          Shabushi (ชาบูชิ) เดอะมอลล์บางกะปิ ชั้น G  ...  0.997844\n",
              "14          Shabushi (ชาบูชิ) เดอะมอลล์บางกะปิ ชั้น G  ...  0.997424\n",
              "15          Shabushi (ชาบูชิ) เดอะมอลล์บางกะปิ ชั้น G  ...  0.999068\n",
              "16                                      ข้าน้อยขอชาบู  ...  0.998496\n",
              "17                                      ข้าน้อยขอชาบู  ...  0.998690\n",
              "18                                      ข้าน้อยขอชาบู  ...  0.997653\n",
              "19                                      ข้าน้อยขอชาบู  ...  0.997976\n",
              "20                                      ข้าน้อยขอชาบู  ...  0.996446\n",
              "\n",
              "[21 rows x 4 columns]"
            ]
          },
          "metadata": {
            "tags": []
          },
          "execution_count": 115
        }
      ]
    },
    {
      "cell_type": "code",
      "metadata": {
        "colab": {
          "base_uri": "https://localhost:8080/",
          "height": 173
        },
        "id": "ig-lwAKy14iQ",
        "outputId": "3811a572-347e-439e-db65-0d60b13f9a9b"
      },
      "source": [
        "pd.crosstab(df['Restaurant'], df['topics'])"
      ],
      "execution_count": 119,
      "outputs": [
        {
          "output_type": "execute_result",
          "data": {
            "text/html": [
              "<div>\n",
              "<style scoped>\n",
              "    .dataframe tbody tr th:only-of-type {\n",
              "        vertical-align: middle;\n",
              "    }\n",
              "\n",
              "    .dataframe tbody tr th {\n",
              "        vertical-align: top;\n",
              "    }\n",
              "\n",
              "    .dataframe thead th {\n",
              "        text-align: right;\n",
              "    }\n",
              "</style>\n",
              "<table border=\"1\" class=\"dataframe\">\n",
              "  <thead>\n",
              "    <tr style=\"text-align: right;\">\n",
              "      <th>topics</th>\n",
              "      <th>0</th>\n",
              "      <th>1</th>\n",
              "      <th>2</th>\n",
              "      <th>3</th>\n",
              "      <th>4</th>\n",
              "    </tr>\n",
              "    <tr>\n",
              "      <th>Restaurant</th>\n",
              "      <th></th>\n",
              "      <th></th>\n",
              "      <th></th>\n",
              "      <th></th>\n",
              "      <th></th>\n",
              "    </tr>\n",
              "  </thead>\n",
              "  <tbody>\n",
              "    <tr>\n",
              "      <th>Mo-Mo-Paradise (โม โม พาราไดซ์) เดอะมอลล์ บางกะปิ</th>\n",
              "      <td>3</td>\n",
              "      <td>0</td>\n",
              "      <td>4</td>\n",
              "      <td>1</td>\n",
              "      <td>0</td>\n",
              "    </tr>\n",
              "    <tr>\n",
              "      <th>Shabushi (ชาบูชิ) เดอะมอลล์บางกะปิ ชั้น G</th>\n",
              "      <td>0</td>\n",
              "      <td>1</td>\n",
              "      <td>5</td>\n",
              "      <td>0</td>\n",
              "      <td>2</td>\n",
              "    </tr>\n",
              "    <tr>\n",
              "      <th>ข้าน้อยขอชาบู</th>\n",
              "      <td>2</td>\n",
              "      <td>1</td>\n",
              "      <td>1</td>\n",
              "      <td>1</td>\n",
              "      <td>0</td>\n",
              "    </tr>\n",
              "  </tbody>\n",
              "</table>\n",
              "</div>"
            ],
            "text/plain": [
              "topics                                             0  1  2  3  4\n",
              "Restaurant                                                      \n",
              "Mo-Mo-Paradise (โม โม พาราไดซ์) เดอะมอลล์ บางกะปิ  3  0  4  1  0\n",
              "Shabushi (ชาบูชิ) เดอะมอลล์บางกะปิ ชั้น G          0  1  5  0  2\n",
              "ข้าน้อยขอชาบู                                      2  1  1  1  0"
            ]
          },
          "metadata": {
            "tags": []
          },
          "execution_count": 119
        }
      ]
    },
    {
      "cell_type": "code",
      "metadata": {
        "colab": {
          "base_uri": "https://localhost:8080/",
          "height": 235
        },
        "id": "pnpL-k3J2BAT",
        "outputId": "8117701c-579c-42e8-c170-3c2a8721285e"
      },
      "source": [
        "df.groupby('topics')['Rating'].describe()"
      ],
      "execution_count": 120,
      "outputs": [
        {
          "output_type": "execute_result",
          "data": {
            "text/html": [
              "<div>\n",
              "<style scoped>\n",
              "    .dataframe tbody tr th:only-of-type {\n",
              "        vertical-align: middle;\n",
              "    }\n",
              "\n",
              "    .dataframe tbody tr th {\n",
              "        vertical-align: top;\n",
              "    }\n",
              "\n",
              "    .dataframe thead th {\n",
              "        text-align: right;\n",
              "    }\n",
              "</style>\n",
              "<table border=\"1\" class=\"dataframe\">\n",
              "  <thead>\n",
              "    <tr style=\"text-align: right;\">\n",
              "      <th></th>\n",
              "      <th>count</th>\n",
              "      <th>mean</th>\n",
              "      <th>std</th>\n",
              "      <th>min</th>\n",
              "      <th>25%</th>\n",
              "      <th>50%</th>\n",
              "      <th>75%</th>\n",
              "      <th>max</th>\n",
              "    </tr>\n",
              "    <tr>\n",
              "      <th>topics</th>\n",
              "      <th></th>\n",
              "      <th></th>\n",
              "      <th></th>\n",
              "      <th></th>\n",
              "      <th></th>\n",
              "      <th></th>\n",
              "      <th></th>\n",
              "      <th></th>\n",
              "    </tr>\n",
              "  </thead>\n",
              "  <tbody>\n",
              "    <tr>\n",
              "      <th>0</th>\n",
              "      <td>5.0</td>\n",
              "      <td>4.0</td>\n",
              "      <td>0.707107</td>\n",
              "      <td>3.0</td>\n",
              "      <td>4.0</td>\n",
              "      <td>4.0</td>\n",
              "      <td>4.0</td>\n",
              "      <td>5.0</td>\n",
              "    </tr>\n",
              "    <tr>\n",
              "      <th>1</th>\n",
              "      <td>2.0</td>\n",
              "      <td>4.0</td>\n",
              "      <td>0.000000</td>\n",
              "      <td>4.0</td>\n",
              "      <td>4.0</td>\n",
              "      <td>4.0</td>\n",
              "      <td>4.0</td>\n",
              "      <td>4.0</td>\n",
              "    </tr>\n",
              "    <tr>\n",
              "      <th>2</th>\n",
              "      <td>10.0</td>\n",
              "      <td>4.0</td>\n",
              "      <td>0.666667</td>\n",
              "      <td>3.0</td>\n",
              "      <td>4.0</td>\n",
              "      <td>4.0</td>\n",
              "      <td>4.0</td>\n",
              "      <td>5.0</td>\n",
              "    </tr>\n",
              "    <tr>\n",
              "      <th>3</th>\n",
              "      <td>1.0</td>\n",
              "      <td>5.0</td>\n",
              "      <td>NaN</td>\n",
              "      <td>5.0</td>\n",
              "      <td>5.0</td>\n",
              "      <td>5.0</td>\n",
              "      <td>5.0</td>\n",
              "      <td>5.0</td>\n",
              "    </tr>\n",
              "    <tr>\n",
              "      <th>4</th>\n",
              "      <td>2.0</td>\n",
              "      <td>3.0</td>\n",
              "      <td>0.000000</td>\n",
              "      <td>3.0</td>\n",
              "      <td>3.0</td>\n",
              "      <td>3.0</td>\n",
              "      <td>3.0</td>\n",
              "      <td>3.0</td>\n",
              "    </tr>\n",
              "  </tbody>\n",
              "</table>\n",
              "</div>"
            ],
            "text/plain": [
              "        count  mean       std  min  25%  50%  75%  max\n",
              "topics                                                \n",
              "0         5.0   4.0  0.707107  3.0  4.0  4.0  4.0  5.0\n",
              "1         2.0   4.0  0.000000  4.0  4.0  4.0  4.0  4.0\n",
              "2        10.0   4.0  0.666667  3.0  4.0  4.0  4.0  5.0\n",
              "3         1.0   5.0       NaN  5.0  5.0  5.0  5.0  5.0\n",
              "4         2.0   3.0  0.000000  3.0  3.0  3.0  3.0  3.0"
            ]
          },
          "metadata": {
            "tags": []
          },
          "execution_count": 120
        }
      ]
    }
  ]
}